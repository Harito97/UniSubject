{
 "cells": [
  {
   "cell_type": "markdown",
   "metadata": {},
   "source": [
    "# Tiến trình chung"
   ]
  },
  {
   "cell_type": "markdown",
   "metadata": {},
   "source": [
    "## Nội dung các buổi Seminar"
   ]
  },
  {
   "cell_type": "markdown",
   "metadata": {},
   "source": [
    "- Week 1. 26/01/2024 (Nghỉ do chưa sắp xếp được diễn giả)   \n",
    "  \n",
    "- Nghỉ Tết: 02/02/2024 - 18/02/2024  \n",
    "  \n",
    "- Week 2. 23/02/2024 (Buổi đầu giới thiệu môn học)  \n",
    "  \n",
    "- Week 3. 01/03/2024  \n",
    "    Chủ đề: **Real World Natural Language Processing Applications**  \n",
    "    Diễn giả: Bùi Song Kiệt  \n",
    "    - Vị trí hiện tại: Chuyên viên xử lý ngôn ngữ tại Nhóm biểu diễn ngôn ngữ, Khối Công nghệ trợ lý ảo, Công ty Vinbigdata  \n",
    "    - Cựu Học viên Chương trình đào tạo kỹ sư AI Vingroup - Khóa 1  \n",
    "    - Cử nhân Đại học Bang Oregon, Khoa Kĩ thuật điện và Khoa học máy tính - Bằng xuất sắc (GPA: 3.83/4)  \n",
    "    - Giải nhì cuộc thi VLSP 2022 (Vietnamese Language and Speech Processing 2022)  \n",
    "  \n",
    "- Week 4. 08/03/2024  \n",
    "    Chủ đề: **BÀN VỀ HỆ THỐNG DỮ LIỆU & DWH TRONG XU THẾ CLOUD**  \n",
    "    Diễn giả: Anh Trần Xuân Lộc, phó giám đốc trung tâm ngân hàng, công ty Financial Software Solutions - FSS JSC  \n",
    "  \n",
    "- Week 5. 15/03/2024 (Các nhóm trình bày ý tưởng để duyệt đề tài)  \n",
    "  \n",
    "- Week 6. 22/03/2024  \n",
    "    Chủ đề: **Quy trình xử lý dữ liệu**  \n",
    "    Diễn giả: anh Mai Văn Hà - Trưởng nhóm quản lý dự án Data Vizualization thuộc tập đoàn CSG.  \n",
    "    Kinh nghiệm trên 15 năm về quản lý dự án, 10 năm làm việc trong lĩnh vực dữ liệu, quản lý và ảo hóa dữ liệu.  \n",
    "- Week 7. 29/03/2024 (Dự định anh Hà sẽ thuyết trinh buổi 2 tuy nhiên do anh bận nên các nhóm tiếp tục trình bày ý tưởng duyệt đề tài)  \n",
    "  \n",
    "- Week 8. 05/04/2024 (Thuyết trình duyệt ý tưởng đề tài)  \n",
    "  \n",
    "- Week 9. 12/04/2024  \n",
    "    Chủ đề: **Vai trò của Khoa học dữ liệu trong thời đại 4.0**  \n",
    "    Diễn giả: anh Đỗ Xuân Sơn (Trưởng nhóm AI và Công nghệ dữ liệu, Trung tâm khoa học dữ liệu VNPAY)  "
   ]
  },
  {
   "cell_type": "markdown",
   "metadata": {},
   "source": [
    "## Nội dung các buổi Thuyết trình Project"
   ]
  },
  {
   "cell_type": "markdown",
   "metadata": {},
   "source": [
    "- Week 10. 19/04/2024 (Bắt đầu thuyết trình)  \n",
    "    - Kiểm soát mức độ an toàn của mật khẩu  \n",
    "    - Áp dụng deep learning cho phân loại ung thư tuyến giáp dựa trên ảnh vi thể  \n",
    "    - Tìm đường đi tối ưu cho xe dựa trên học tăng cường  \n",
    "- Week 11. 26/04/2024 (Thuyết trình project buổi 2)  \n",
    "    - Nhận diện hành vi realtime để chơi game  \n",
    "    - Nhận diện cảm xúc qua giọng nói  \n",
    "    - Khuyến nghị cây trồng  \n",
    "    - ChatBot quản lý chi tiêu cá nhân  "
   ]
  },
  {
   "cell_type": "markdown",
   "metadata": {},
   "source": [
    "# Cụ thể nội dung"
   ]
  },
  {
   "cell_type": "markdown",
   "metadata": {},
   "source": [
    "## Week 1 26/01/2024 (Nghỉ do chưa sắp xếp được diễn giả)"
   ]
  },
  {
   "cell_type": "markdown",
   "metadata": {},
   "source": [
    "## Nghỉ Tết"
   ]
  },
  {
   "cell_type": "markdown",
   "metadata": {},
   "source": [
    "## Week 2 01/03/2024 (Giới thiệu môn học)  "
   ]
  },
  {
   "cell_type": "markdown",
   "metadata": {},
   "source": [
    "Thuyết trình Project lấy điểm GK & CK  \n",
    "Điểm TX có được nhờ tương tác với anh / chị từ doanh nghiệp & tương tác các câ hỏi / câu trả lời từ các báo cáo Project của các bạn  \n",
    "Lựa chọn đề tài  "
   ]
  },
  {
   "cell_type": "markdown",
   "metadata": {},
   "source": [
    "## Week 3 01/03/2024  "
   ]
  },
  {
   "cell_type": "markdown",
   "metadata": {},
   "source": [
    "### Dialog chung (truyền thống) cho các tác vụ xử lý ngôn ngữ tự nhiên  \n",
    "Speech $\\to$ Text $\\to$ Hiểu ngôn ngữ tự nhiên (Bài toán Intent Detect, Relation Extract, Phân tích quan điểm, Phân loại văn bản, ...) $\\to$ Global Dialog Manager $\\to$ Xử ly $\\to$ Text $\\to$ Speech  \n",
    "  \n",
    "Train Data $\\to$ Text Process $\\to$ Text Embedding (văn bản sang vector số) $\\to$ Classifier (SVM, Linear, ...)  \n",
    "  \n",
    "**Một số bài toán con được triển khai ra**  \n",
    "1. Bài toán Intent Detect.  \n",
    "Phân loại mục đích người dùng (Hỏi thật, Hỏi vui, Nói đùa, Ý đồ tấn công, ...)  \n",
    "2. Bài toán Sentiment Analysis.  \n",
    "Phân tích quan điểm, cảm xúc từng người với từng bối cảnh nhất định  \n",
    "3. Bài toán Question Answering.  \n",
    "Cách 1. Xây dựng 1 cây chứa quan hệ các kiến thức  \n",
    "    Kiến thức 1 quan hệ với Kiến thức 2  \n",
    "Cách 2. Sử dụng Document Retrieved  \n",
    "    Truy xuất theo nguồn. Câu hỏi được gán nhãn với câu trả lời. Xác định câu hỏi đầu vào tương đồng với câu hỏi nào đã có câu trả lời trước đó (sử dụng ML).  \n",
    "4. Bài toán Information Extraction  \n",
    "Trích rút ra thông tin (ý chính) từ 1 đoạn văn bản đầu vào  \n",
    "  \n",
    "### Cách xử lý hiện đại  \n",
    "**Vấn đề đặt ra liệu có thể thay thế toàn bộ các bài toán con riêng lẻ này thành 1 quy trình thống nhất**  \n",
    "$\\to$ chuyển thành End to End Conversation  \n",
    "(công nghệ lõi của quy trình này là: LLMs, Agent/Planner, Function Calling - hàm tiện ích có thêm, Document Retrieval)  \n",
    "  \n",
    "**Training LLM**  \n"
   ]
  },
  {
   "cell_type": "markdown",
   "metadata": {},
   "source": [
    "## Week 4"
   ]
  },
  {
   "cell_type": "markdown",
   "metadata": {},
   "source": [
    "## Week 5"
   ]
  },
  {
   "cell_type": "markdown",
   "metadata": {},
   "source": [
    "## Week 6"
   ]
  },
  {
   "cell_type": "markdown",
   "metadata": {},
   "source": [
    "## Week 7"
   ]
  },
  {
   "cell_type": "markdown",
   "metadata": {},
   "source": [
    "## Week 8"
   ]
  },
  {
   "cell_type": "markdown",
   "metadata": {},
   "source": [
    "## Week 9"
   ]
  },
  {
   "cell_type": "markdown",
   "metadata": {},
   "source": [
    "## Week 10"
   ]
  },
  {
   "cell_type": "markdown",
   "metadata": {},
   "source": [
    "## Week 11"
   ]
  }
 ],
 "metadata": {
  "language_info": {
   "name": "python"
  }
 },
 "nbformat": 4,
 "nbformat_minor": 2
}
