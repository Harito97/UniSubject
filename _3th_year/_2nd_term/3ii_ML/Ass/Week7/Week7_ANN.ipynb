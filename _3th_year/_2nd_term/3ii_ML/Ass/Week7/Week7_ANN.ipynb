{
 "cells": [
  {
   "cell_type": "markdown",
   "metadata": {},
   "source": [
    "# Ví dụ 1.  \n",
    "Phân loại dữ liệu tự tạo"
   ]
  },
  {
   "cell_type": "markdown",
   "metadata": {},
   "source": [
    "## Tạo dữ liệu  \n",
    "3 class, 2D sao cho không thể dùng phân loại tuyến tính  "
   ]
  },
  {
   "cell_type": "code",
   "execution_count": 1,
   "metadata": {},
   "outputs": [],
   "source": [
    "# import the necessary libraries\n",
    "from __future__ import division, print_function, unicode_literals\n",
    "import math\n",
    "import numpy as np\n",
    "import matplotlib.pyplot as plt\n",
    "\n",
    "N = 200  # number of points per class\n",
    "d = 2  # dimensionality\n",
    "C = 3  # number of classes\n",
    "X = np.zeros((d, N * C))  # data matrix (each row = single example)\n",
    "y = np.zeros(N * C, dtype=\"uint8\")  # class labels\n",
    "\n",
    "for j in range(C):\n",
    "    ix = range(N * j, N * (j + 1))\n",
    "    r = np.linspace(0.0, 1, N)  # radius\n",
    "    t = np.linspace(j * 4, (j + 1) * 4, N) + np.random.randn(N) * 0.2  # theta: + 1 đại lượng random để đảm vảo phân bố ngẫu nhiên của điểm dữ liệu\n",
    "    X[:, ix] = np.c_[r * np.sin(t), r * np.cos(t)].T\n",
    "    y[ix] = j"
   ]
  },
  {
   "cell_type": "markdown",
   "metadata": {},
   "source": [
    "## Trực quan hóa dữ liệu"
   ]
  },
  {
   "cell_type": "code",
   "execution_count": 2,
   "metadata": {},
   "outputs": [
    {
     "data": {
      "image/png": "[encoded data removed]",
      "text/plain": [
       "<Figure size 640x480 with 1 Axes>"
      ]
     },
     "metadata": {},
     "output_type": "display_data"
    }
   ],
   "source": [
    "# lets visualize the data:\n",
    "plt.plot(X[0, :N], X[1, :N], \"bs\", markersize=7)\n",
    "plt.plot(X[0, N : 2 * N], X[1, N : 2 * N], \"ro\", markersize=7)\n",
    "plt.plot(X[0, 2 * N :], X[1, 2 * N :], \"g^\", markersize=7)\n",
    "\n",
    "plt.xlim([-1.5, 1.5])\n",
    "plt.ylim([-1.5, 1.5])\n",
    "cur_axes = plt.gca()\n",
    "cur_axes.axes.get_xaxis().set_ticks([])\n",
    "cur_axes.axes.get_yaxis().set_ticks([])\n",
    "\n",
    "# plt.savefig(\"example1_points.png\", bbox_inches=\"tight\", dpi=600)\n",
    "plt.show()"
   ]
  },
  {
   "cell_type": "markdown",
   "metadata": {},
   "source": [
    "## Code mô hình ANN không sử dụng thư viện  "
   ]
  },
  {
   "cell_type": "markdown",
   "metadata": {},
   "source": [
    "### Xây dựng softmax, cost, one-hot coding  "
   ]
  },
  {
   "cell_type": "code",
   "execution_count": 3,
   "metadata": {},
   "outputs": [],
   "source": [
    "# output layer to value in [0, 1]\n",
    "def softmax(V):\n",
    "    e_V = np.exp(V - np.max(V, axis=0, keepdims=True))\n",
    "    Z = e_V / e_V.sum(axis=0)\n",
    "    return Z\n",
    "\n",
    "\n",
    "# cost or loss function\n",
    "def cost(Y, Yhat):\n",
    "    return -np.sum(Y * np.log(Yhat)) / Y.shape[1]\n",
    "\n",
    "\n",
    "# make one-hot coding\n",
    "from scipy import sparse\n",
    "def convert_labels(y, C=3):\n",
    "    Y = sparse.coo_matrix(\n",
    "        (np.ones_like(y), (y, np.arange(len(y)))), shape=(C, len(y))\n",
    "    ).toarray()\n",
    "    return Y"
   ]
  },
  {
   "cell_type": "markdown",
   "metadata": {},
   "source": [
    "### Xây dựng kiến trúc mạng  \n",
    "Bổ sung 01 tầng hidden với số units của tầng này là 100 (có thể thay đổi cho phù hợp với đặc điểm của dữ liệu).  \n",
    "Layer output là 1 vector 3 thành phần cho 3 nhãn đầu ra.  \n",
    "Như vậy các tầng trong ANN này là:  \n",
    " - Tầng input: d0 = 2\n",
    " - Tầng hidden: d1 = 100\n",
    " - Tầng output: d2 = 3 "
   ]
  },
  {
   "cell_type": "code",
   "execution_count": 11,
   "metadata": {},
   "outputs": [],
   "source": [
    "def build_ANN(X, y):\n",
    "    d0 = 2 \n",
    "    d1 = h = 100 # size of hidden layer \n",
    "    d2 = C = 3 \n",
    "    # initialize parameters randomly \n",
    "    W1 = 0.01*np.random.randn(d0, d1) \n",
    "    b1 = np.zeros((d1, 1)) \n",
    "    W2 = 0.01*np.random.randn(d1, d2) \n",
    "    b2 = np.zeros((d2, 1)) \n",
    "    # set data\n",
    "    Y = convert_labels(y, C) \n",
    "    N = X.shape[1] \n",
    "    eta = 1 # learning rate\n",
    "    # bước lặp tìm cực trị theo Gradient Descent \n",
    "    for i in range(10000): \n",
    "        ## Feedforward \n",
    "        Z1 = np.dot(W1.T, X) + b1 \n",
    "        A1 = np.maximum(Z1, 0) \n",
    "        Z2 = np.dot(W2.T, A1) + b2 \n",
    "        Yhat = softmax(Z2) \n",
    "    \n",
    "        # print loss after each 1000 iterations \n",
    "        if i %1000 == 0: \n",
    "            # compute the loss: average cross-entropy loss \n",
    "            loss = cost(Y, Yhat) \n",
    "            print(\"iter %d, loss: %f\" %(i, loss)) \n",
    "    \n",
    "        # backpropagation \n",
    "        E2 = (Yhat - Y )/N \n",
    "        dW2 = np.dot(A1, E2.T) \n",
    "        db2 = np.sum(E2, axis = 1, keepdims = True) \n",
    "        E1 = np.dot(W2, E2) \n",
    "        E1[Z1 <= 0] = 0 # gradient of ReLU \n",
    "        dW1 = np.dot(X, E1.T) \n",
    "        db1 = np.sum(E1, axis = 1, keepdims = True)\n",
    "\n",
    "        # Gradient Descent update \n",
    "        W1 += -eta*dW1 \n",
    "        b1 += -eta*db1 \n",
    "        W2 += -eta*dW2 \n",
    "        b2 += -eta*db2\n",
    "\n",
    "    # return ANN\n",
    "    return (W1, W2, b1, b2, d0, d1, d2)\n",
    "\n",
    "def run_ANN(model, X):\n",
    "    # W1, W2, b1, b2 is ANN\n",
    "    # X is input & y is output\n",
    "    # this function return predicted class \n",
    "    W1, W2, b1, b2 = model[0], model[1], model[2], model[3]\n",
    "    Z1 = np.dot(W1.T, X) + b1 \n",
    "    A1 = np.maximum(Z1, 0) \n",
    "    Z2 = np.dot(W2.T, A1) + b2 \n",
    "    predicted_class = np.argmax(Z2, axis=0)\n",
    "    return predicted_class"
   ]
  },
  {
   "cell_type": "markdown",
   "metadata": {},
   "source": [
    "### Thực hiện chạy hàm xây dựng ANN và xác định Accuracy  "
   ]
  },
  {
   "cell_type": "code",
   "execution_count": 12,
   "metadata": {},
   "outputs": [
    {
     "name": "stdout",
     "output_type": "stream",
     "text": [
      "iter 0, loss: 1.098630\n",
      "iter 1000, loss: 0.139456\n",
      "iter 2000, loss: 0.045205\n",
      "iter 3000, loss: 0.030869\n",
      "iter 4000, loss: 0.025280\n",
      "iter 5000, loss: 0.022114\n",
      "iter 6000, loss: 0.020025\n",
      "iter 7000, loss: 0.018516\n",
      "iter 8000, loss: 0.017357\n",
      "iter 9000, loss: 0.016437\n",
      "training accuracy: 99.67 %\n"
     ]
    }
   ],
   "source": [
    "model = build_ANN(X, y)\n",
    "predicted_class = run_ANN(model=model, X=X)\n",
    "acc = 100*np.mean(predicted_class == y) \n",
    "print('training accuracy: %.2f %%' % (acc)) "
   ]
  },
  {
   "cell_type": "markdown",
   "metadata": {},
   "source": [
    "### Trực quan hóa mô hình train được  "
   ]
  },
  {
   "cell_type": "code",
   "execution_count": 17,
   "metadata": {},
   "outputs": [],
   "source": [
    "def visualize_ANN(model=model):\n",
    "    W1, W2, b1, b2, d1 = model[0], model[1], model[2], model[3], model[5]\n",
    "    # Visualize results\n",
    "    xm = np.arange(-1.5, 1.5, 0.025)\n",
    "    xlen = len(xm)\n",
    "    ym = np.arange(-1.5, 1.5, 0.025)\n",
    "    ylen = len(ym)\n",
    "    xx, yy = np.meshgrid(xm, ym)\n",
    "\n",
    "    # xx, yy = np.meshgrid(np.arange(x_min, x_max, h), np.arange(y_min, y_max, h))\n",
    "    # xx.ravel(), yy.ravel()\n",
    "\n",
    "    print(np.ones((1, xx.size)).shape)\n",
    "    xx1 = xx.ravel().reshape(1, xx.size)\n",
    "    yy1 = yy.ravel().reshape(1, yy.size)\n",
    "\n",
    "    # print(xx.shape, yy.shape)\n",
    "    # XX = np.concatenate((np.ones((1, xx.size)), xx1, yy1), axis = 0)\n",
    "\n",
    "    X0 = np.vstack((xx1, yy1))\n",
    "\n",
    "    # print(X.shape)\n",
    "\n",
    "    Z1 = np.dot(W1.T, X0) + b1\n",
    "    A1 = np.maximum(Z1, 0)\n",
    "    Z2 = np.dot(W2.T, A1) + b2\n",
    "    # predicted class\n",
    "    Z = np.argmax(Z2, axis=0)\n",
    "\n",
    "    Z = Z.reshape(xx.shape)\n",
    "    CS = plt.contourf(xx, yy, Z, 200, cmap=\"jet\", alpha=0.1)\n",
    "\n",
    "    # Plot also the training points\n",
    "    # plt.scatter(X[:, 1], X[:, 2], c=Y, edgecolors='k', cmap=plt.cm.Paired)\n",
    "    # plt.xlabel('Sepal length')\n",
    "    # plt.ylabel('Sepal width')\n",
    "\n",
    "    # X = X.T\n",
    "    N = 200\n",
    "    print(N)\n",
    "\n",
    "    plt.plot(X[0, :N], X[1, :N], \"bs\", markersize=7)\n",
    "    plt.plot(X[0, N : 2 * N], X[1, N : 2 * N], \"ro\", markersize=7)\n",
    "    plt.plot(X[0, 2 * N :], X[1, 2 * N :], \"g^\", markersize=7)\n",
    "    # plt.axis('off')\n",
    "    plt.xlim([-1.5, 1.5])\n",
    "    plt.ylim([-1.5, 1.5])\n",
    "    cur_axes = plt.gca()\n",
    "    cur_axes.axes.get_xaxis().set_ticks([])\n",
    "    cur_axes.axes.get_yaxis().set_ticks([])\n",
    "\n",
    "    plt.xlim(-1.5, 1.5)\n",
    "    plt.ylim(-1.5, 1.5)\n",
    "    plt.xticks(())\n",
    "    plt.yticks(())\n",
    "    plt.title(\"#hidden units = %d, accuracy = %.2f %%\" % (d1, acc))\n",
    "    # plt.axis('equal')\n",
    "    # display(X[1:, :], original_label)\n",
    "    fn = \"ex_res\" + str(d1) + \".png\"\n",
    "    # plt.savefig(fn, bbox_inches='tight', dpi = 600)\n",
    "    plt.show()"
   ]
  },
  {
   "cell_type": "code",
   "execution_count": 18,
   "metadata": {},
   "outputs": [
    {
     "name": "stdout",
     "output_type": "stream",
     "text": [
      "(1, 14400)\n",
      "200\n"
     ]
    },
    {
     "data": {
      "image/png": "[encoded data removed]",
      "text/plain": [
       "<Figure size 640x480 with 1 Axes>"
      ]
     },
     "metadata": {},
     "output_type": "display_data"
    }
   ],
   "source": [
    "visualize_ANN(model=model)"
   ]
  },
  {
   "cell_type": "markdown",
   "metadata": {},
   "source": [
    "# Bài tập ứng dụng 1.  \n",
    "Sử dụng ANN cho bài toán phân loại dữ liệu hoa Iris"
   ]
  },
  {
   "cell_type": "markdown",
   "metadata": {},
   "source": [
    "## Đọc vào dữ liệu hoa Iris  "
   ]
  },
  {
   "cell_type": "code",
   "execution_count": 1,
   "metadata": {},
   "outputs": [],
   "source": [
    "import pandas as pd \n",
    "from sklearn.datasets import load_iris\n",
    "from sklearn.model_selection import train_test_split\n",
    "\n",
    "# Load the Iris dataset\n",
    "iris = load_iris()\n",
    "X = pd.DataFrame(iris.data, columns=iris.feature_names)\n",
    "y = pd.Series(iris.target)\n",
    "\n",
    "# Split the dataset into training and testing sets\n",
    "X_train, X_test, y_train, y_test = train_test_split(X, y, test_size=0.2, stratify=y, random_state=42)"
   ]
  },
  {
   "cell_type": "markdown",
   "metadata": {},
   "source": [
    "## Huấn luyện ANN cho bài toán phân loại hoa Iris"
   ]
  },
  {
   "cell_type": "code",
   "execution_count": 7,
   "metadata": {},
   "outputs": [
    {
     "name": "stdout",
     "output_type": "stream",
     "text": [
      "Epoch 1 - Accuracy: 0.35185185074806213 Validation Accuracy: 0.3333333432674408\n",
      "Epoch 100 - Accuracy: 0.8518518805503845 Validation Accuracy: 0.75\n"
     ]
    }
   ],
   "source": [
    "from sklearn.preprocessing import StandardScaler\n",
    "from tensorflow.keras.models import Sequential\n",
    "from tensorflow.keras.layers import Dense\n",
    "\n",
    "# Standardize features by removing the mean and scaling to unit variance\n",
    "scaler = StandardScaler()\n",
    "X_train_scaled = scaler.fit_transform(X_train)\n",
    "X_test_scaled = scaler.transform(X_test)\n",
    "\n",
    "# Build the ANN model\n",
    "model = Sequential()\n",
    "model.add(Dense(4, activation='relu'))  # input has 4 dimension\n",
    "model.add(Dense(4, activation='relu'))  # 8 neutrons may be good\n",
    "# model.add(Dense(8, activation='relu'))  # 8 neutrons may be good\n",
    "# after 2 times try then 4 neutrons in only 1 hidden class give better accuracy\n",
    "model.add(Dense(3, activation='softmax'))   # output has 3 classes\n",
    "\n",
    "# Compile the model\n",
    "model.compile(optimizer='adam', loss='sparse_categorical_crossentropy', metrics=['accuracy'])\n",
    "\n",
    "# Train model\n",
    "history = model.fit(X_train_scaled, y_train, epochs=100, batch_size=32, validation_split=0.1, verbose=0)\n",
    "# verbose = 0 to remove cell output as too many output lines\n",
    "epoch_1_accuracy = history.history['accuracy'][0]\n",
    "epoch_1_val_accuracy = history.history['val_accuracy'][0]\n",
    "epoch_100_accuracy = history.history['accuracy'][-1]\n",
    "epoch_100_val_accuracy = history.history['val_accuracy'][-1]\n",
    "\n",
    "print(\"Epoch 1 - Accuracy:\", epoch_1_accuracy, \"Validation Accuracy:\", epoch_1_val_accuracy)\n",
    "print(\"Epoch 100 - Accuracy:\", epoch_100_accuracy, \"Validation Accuracy:\", epoch_100_val_accuracy)\n"
   ]
  },
  {
   "cell_type": "markdown",
   "metadata": {},
   "source": [
    "## Thử nghiệm và xác định Accuracy"
   ]
  },
  {
   "cell_type": "code",
   "execution_count": 8,
   "metadata": {},
   "outputs": [
    {
     "name": "stdout",
     "output_type": "stream",
     "text": [
      "Test accuracy: 0.800000011920929\n",
      "Test loss: 0.5758970379829407\n"
     ]
    }
   ],
   "source": [
    "# Evaluate the model on the test set\n",
    "test_loss, test_acc = model.evaluate(X_test_scaled, y_test, verbose=0)\n",
    "print('Test accuracy:', test_acc)\n",
    "print('Test loss:', test_loss)"
   ]
  },
  {
   "cell_type": "markdown",
   "metadata": {},
   "source": [
    "# Ví dụ 2.  \n",
    "Sử dụng Multinomial Logistic Regression và ANN để phân loại dữ liệu chữ số viết tay  "
   ]
  },
  {
   "cell_type": "markdown",
   "metadata": {},
   "source": [
    "## Đọc dữ liệu chữ viết tay"
   ]
  },
  {
   "cell_type": "markdown",
   "metadata": {},
   "source": [
    "Xác định đường dẫn đến dữ liệu"
   ]
  },
  {
   "cell_type": "code",
   "execution_count": 14,
   "metadata": {},
   "outputs": [],
   "source": [
    "import os\n",
    "import numpy as np\n",
    "# set names to the paths because they're too long\n",
    "data_path = 'data/number_writing'\n",
    "# train path\n",
    "train_images_path = os.path.join(data_path, 'train-images-idx3-ubyte.gz')\n",
    "train_labels_path = os.path.join(data_path, 'train-labels-idx1-ubyte.gz')\n",
    "# test path\n",
    "test_images_path = os.path.join(data_path, 't10k-images-idx3-ubyte.gz')\n",
    "test_labels_path = os.path.join(data_path, 't10k-labels-idx1-ubyte.gz')"
   ]
  },
  {
   "cell_type": "markdown",
   "metadata": {},
   "source": [
    "Hàm đọc dữ liệu từ tệp nén gzip và chuyển thành ma trận số (ảnh)"
   ]
  },
  {
   "cell_type": "code",
   "execution_count": 15,
   "metadata": {},
   "outputs": [],
   "source": [
    "def get_mnist_data(images_path, labels_path, num_images, shuffle=False, _is=True, image_size=28):\n",
    "    \"\"\"\n",
    "    This shuffle param is active when .gz is downloaded at:\n",
    "    - 'http://yann.lecun.com/exdb/mnist/'\n",
    "    - This function return random num_images in 60000 or 10000\n",
    "    \"\"\"\n",
    "    # read data\n",
    "    import gzip\n",
    "    # to decompress gz (zip) file\n",
    "    # open file training to read training data\n",
    "    f_images = gzip.open(images_path,'r')\n",
    "    # skip 16 first bytes because these are not data, only header infor\n",
    "    f_images.read(16)\n",
    "    # general: read num_images data samples if this parameter is set;\n",
    "    # if not, read all (60000 training or 10000 test)\n",
    "    real_num = num_images if not shuffle else (60000 if _is else 10000)\n",
    "    # read all data to buf_images (28x28xreal_num)\n",
    "    buf_images = f_images.read(image_size * image_size * real_num)\n",
    "    # images\n",
    "    images = np.frombuffer(buf_images, dtype=np.uint8).astype(np.float32)\n",
    "    images = images.reshape(real_num, image_size, image_size,)\n",
    "    # Read labels\n",
    "    f_labels = gzip.open(labels_path,'r')\n",
    "    f_labels.read(8)\n",
    "    labels = np.zeros((real_num)).astype(np.int64)\n",
    "    # rearrange to correspond the images and labels\n",
    "    for i in range(0, real_num):\n",
    "        buf_labels = f_labels.read(1)\n",
    "        labels[i] = np.frombuffer(buf_labels, dtype=np.uint8).astype(np.int64)\n",
    "    # shuffle to get random images data\n",
    "    if shuffle is True:\n",
    "        rand_id = np.random.randint(real_num, size=num_images)\n",
    "        images = images[rand_id, :]\n",
    "        labels = labels[rand_id,]\n",
    "    # change images data to type of vector 28x28 dimentional\n",
    "    images = images.reshape(num_images, image_size * image_size)\n",
    "    return images, labels"
   ]
  },
  {
   "cell_type": "markdown",
   "metadata": {},
   "source": [
    "Sử dụng hàm xây dựng bên trên tạo bộ train 5000 ảnh và bộ test 10000 ảnh"
   ]
  },
  {
   "cell_type": "code",
   "execution_count": 16,
   "metadata": {},
   "outputs": [
    {
     "name": "stderr",
     "output_type": "stream",
     "text": [
      "/tmp/ipykernel_7263/1956505741.py:29: DeprecationWarning: Conversion of an array with ndim > 0 to a scalar is deprecated, and will error in future. Ensure you extract a single element from your array before performing this operation. (Deprecated NumPy 1.25.)\n",
      "  labels[i] = np.frombuffer(buf_labels, dtype=np.uint8).astype(np.int64)\n"
     ]
    },
    {
     "name": "stdout",
     "output_type": "stream",
     "text": [
      "(5000, 784) (5000,)\n",
      "(10000, 784) (10000,)\n"
     ]
    }
   ],
   "source": [
    "train_images, train_labels = get_mnist_data(train_images_path, train_labels_path, 5000, shuffle=True)\n",
    "test_images, test_labels = get_mnist_data(test_images_path, test_labels_path, 10000, _is=False, shuffle=True)\n",
    "print(train_images.shape, train_labels.shape)\n",
    "print(test_images.shape, test_labels.shape)"
   ]
  },
  {
   "cell_type": "markdown",
   "metadata": {},
   "source": [
    "## Xây dựng và huấn luyện mô hình"
   ]
  },
  {
   "cell_type": "markdown",
   "metadata": {},
   "source": [
    "### Sử dụng Multinomial Logistic Regression"
   ]
  },
  {
   "cell_type": "code",
   "execution_count": 19,
   "metadata": {},
   "outputs": [
    {
     "data": {
      "text/html": [
       "<style>#sk-container-id-1 {color: black;background-color: white;}#sk-container-id-1 pre{padding: 0;}#sk-container-id-1 div.sk-toggleable {background-color: white;}#sk-container-id-1 label.sk-toggleable__label {cursor: pointer;display: block;width: 100%;margin-bottom: 0;padding: 0.3em;box-sizing: border-box;text-align: center;}#sk-container-id-1 label.sk-toggleable__label-arrow:before {content: \"▸\";float: left;margin-right: 0.25em;color: #696969;}#sk-container-id-1 label.sk-toggleable__label-arrow:hover:before {color: black;}#sk-container-id-1 div.sk-estimator:hover label.sk-toggleable__label-arrow:before {color: black;}#sk-container-id-1 div.sk-toggleable__content {max-height: 0;max-width: 0;overflow: hidden;text-align: left;background-color: #f0f8ff;}#sk-container-id-1 div.sk-toggleable__content pre {margin: 0.2em;color: black;border-radius: 0.25em;background-color: #f0f8ff;}#sk-container-id-1 input.sk-toggleable__control:checked~div.sk-toggleable__content {max-height: 200px;max-width: 100%;overflow: auto;}#sk-container-id-1 input.sk-toggleable__control:checked~label.sk-toggleable__label-arrow:before {content: \"▾\";}#sk-container-id-1 div.sk-estimator input.sk-toggleable__control:checked~label.sk-toggleable__label {background-color: #d4ebff;}#sk-container-id-1 div.sk-label input.sk-toggleable__control:checked~label.sk-toggleable__label {background-color: #d4ebff;}#sk-container-id-1 input.sk-hidden--visually {border: 0;clip: rect(1px 1px 1px 1px);clip: rect(1px, 1px, 1px, 1px);height: 1px;margin: -1px;overflow: hidden;padding: 0;position: absolute;width: 1px;}#sk-container-id-1 div.sk-estimator {font-family: monospace;background-color: #f0f8ff;border: 1px dotted black;border-radius: 0.25em;box-sizing: border-box;margin-bottom: 0.5em;}#sk-container-id-1 div.sk-estimator:hover {background-color: #d4ebff;}#sk-container-id-1 div.sk-parallel-item::after {content: \"\";width: 100%;border-bottom: 1px solid gray;flex-grow: 1;}#sk-container-id-1 div.sk-label:hover label.sk-toggleable__label {background-color: #d4ebff;}#sk-container-id-1 div.sk-serial::before {content: \"\";position: absolute;border-left: 1px solid gray;box-sizing: border-box;top: 0;bottom: 0;left: 50%;z-index: 0;}#sk-container-id-1 div.sk-serial {display: flex;flex-direction: column;align-items: center;background-color: white;padding-right: 0.2em;padding-left: 0.2em;position: relative;}#sk-container-id-1 div.sk-item {position: relative;z-index: 1;}#sk-container-id-1 div.sk-parallel {display: flex;align-items: stretch;justify-content: center;background-color: white;position: relative;}#sk-container-id-1 div.sk-item::before, #sk-container-id-1 div.sk-parallel-item::before {content: \"\";position: absolute;border-left: 1px solid gray;box-sizing: border-box;top: 0;bottom: 0;left: 50%;z-index: -1;}#sk-container-id-1 div.sk-parallel-item {display: flex;flex-direction: column;z-index: 1;position: relative;background-color: white;}#sk-container-id-1 div.sk-parallel-item:first-child::after {align-self: flex-end;width: 50%;}#sk-container-id-1 div.sk-parallel-item:last-child::after {align-self: flex-start;width: 50%;}#sk-container-id-1 div.sk-parallel-item:only-child::after {width: 0;}#sk-container-id-1 div.sk-dashed-wrapped {border: 1px dashed gray;margin: 0 0.4em 0.5em 0.4em;box-sizing: border-box;padding-bottom: 0.4em;background-color: white;}#sk-container-id-1 div.sk-label label {font-family: monospace;font-weight: bold;display: inline-block;line-height: 1.2em;}#sk-container-id-1 div.sk-label-container {text-align: center;}#sk-container-id-1 div.sk-container {/* jupyter's `normalize.less` sets `[hidden] { display: none; }` but bootstrap.min.css set `[hidden] { display: none !important; }` so we also need the `!important` here to be able to override the default hidden behavior on the sphinx rendered scikit-learn.org. See: https://github.com/scikit-learn/scikit-learn/issues/21755 */display: inline-block !important;position: relative;}#sk-container-id-1 div.sk-text-repr-fallback {display: none;}</style><div id=\"sk-container-id-1\" class=\"sk-top-container\"><div class=\"sk-text-repr-fallback\"><pre>LogisticRegression(max_iter=10000, multi_class=&#x27;multinomial&#x27;)</pre><b>In a Jupyter environment, please rerun this cell to show the HTML representation or trust the notebook. <br />On GitHub, the HTML representation is unable to render, please try loading this page with nbviewer.org.</b></div><div class=\"sk-container\" hidden><div class=\"sk-item\"><div class=\"sk-estimator sk-toggleable\"><input class=\"sk-toggleable__control sk-hidden--visually\" id=\"sk-estimator-id-1\" type=\"checkbox\" checked><label for=\"sk-estimator-id-1\" class=\"sk-toggleable__label sk-toggleable__label-arrow\">LogisticRegression</label><div class=\"sk-toggleable__content\"><pre>LogisticRegression(max_iter=10000, multi_class=&#x27;multinomial&#x27;)</pre></div></div></div></div></div>"
      ],
      "text/plain": [
       "LogisticRegression(max_iter=10000, multi_class='multinomial')"
      ]
     },
     "execution_count": 19,
     "metadata": {},
     "output_type": "execute_result"
    }
   ],
   "source": [
    "from sklearn.linear_model import LogisticRegression\n",
    "from sklearn.metrics import accuracy_score\n",
    "\n",
    "# Khởi tạo mô hình Logistic Regression\n",
    "mlr_model = LogisticRegression(multi_class='multinomial', max_iter=10000)\n",
    "\n",
    "# Huấn luyện mô hình trên dữ liệu huấn luyện\n",
    "mlr_model.fit(train_images, train_labels)\n"
   ]
  },
  {
   "cell_type": "markdown",
   "metadata": {},
   "source": [
    "### Sử dụng ANN"
   ]
  },
  {
   "cell_type": "code",
   "execution_count": 22,
   "metadata": {},
   "outputs": [
    {
     "name": "stdout",
     "output_type": "stream",
     "text": [
      "Epoch 1 - Accuracy: 0.6481481194496155 Validation Accuracy: 0.6666666865348816\n",
      "Epoch 100 - Accuracy: 1.0 Validation Accuracy: 1.0\n"
     ]
    }
   ],
   "source": [
    "from sklearn.preprocessing import StandardScaler\n",
    "from tensorflow.keras.models import Sequential\n",
    "from tensorflow.keras.layers import Dense\n",
    "\n",
    "# Standardize features by removing the mean and scaling to unit variance\n",
    "scaler = StandardScaler()\n",
    "train_images_scaled = scaler.fit_transform(train_images)\n",
    "test_images_scaled = scaler.transform(test_images)\n",
    "\n",
    "# Build the ANN model\n",
    "ann_model = Sequential()\n",
    "ann_model.add(Dense(784, activation='relu'))  # input has 784 dimension\n",
    "ann_model.add(Dense(784, activation='relu'))  # maybe 784 is good\n",
    "ann_model.add(Dense(10, activation='softmax'))   # output has 10 classes\n",
    "\n",
    "# Compile the model\n",
    "ann_model.compile(optimizer='adam', loss='sparse_categorical_crossentropy', metrics=['accuracy'])\n",
    "\n",
    "# Train model\n",
    "history = ann_model.fit(X_train_scaled, y_train, epochs=100, batch_size=32, validation_split=0.1, verbose=0)\n",
    "# verbose = 0 to remove cell output as too many output lines\n",
    "epoch_1_accuracy = history.history['accuracy'][0]\n",
    "epoch_1_val_accuracy = history.history['val_accuracy'][0]\n",
    "epoch_100_accuracy = history.history['accuracy'][-1]\n",
    "epoch_100_val_accuracy = history.history['val_accuracy'][-1]\n",
    "\n",
    "print(\"Epoch 1 - Accuracy:\", epoch_1_accuracy, \"Validation Accuracy:\", epoch_1_val_accuracy)\n",
    "print(\"Epoch 100 - Accuracy:\", epoch_100_accuracy, \"Validation Accuracy:\", epoch_100_val_accuracy)"
   ]
  },
  {
   "cell_type": "markdown",
   "metadata": {},
   "source": [
    "## Thử nghiệm và xác định accuracy"
   ]
  },
  {
   "cell_type": "code",
   "execution_count": 20,
   "metadata": {},
   "outputs": [
    {
     "name": "stdout",
     "output_type": "stream",
     "text": [
      "Accuracy on test set for multinomial logistic regression: 0.8762\n"
     ]
    }
   ],
   "source": [
    "# Dự đoán nhãn cho dữ liệu test\n",
    "mlr_y_pred = mlr_model.predict(test_images)\n",
    "\n",
    "# Tính toán độ chính xác trên tập test\n",
    "mlr_accuracy = accuracy_score(test_labels, mlr_y_pred)\n",
    "print(\"Accuracy on test set for multinomial logistic regression:\", mlr_accuracy)"
   ]
  },
  {
   "cell_type": "code",
   "execution_count": 23,
   "metadata": {},
   "outputs": [
    {
     "name": "stdout",
     "output_type": "stream",
     "text": [
      "Test accuracy of ANN: 0.9333333373069763\n",
      "Test loss of ANN: 0.21252845227718353\n"
     ]
    }
   ],
   "source": [
    "# Evaluate the model on the test set\n",
    "ann_test_loss, ann_test_acc = ann_model.evaluate(X_test_scaled, y_test, verbose=0)\n",
    "print('Test accuracy of ANN:', ann_test_acc)\n",
    "print('Test loss of ANN:', ann_test_loss)"
   ]
  },
  {
   "cell_type": "markdown",
   "metadata": {},
   "source": [
    "# Ví dụ 3.  \n",
    "(Bài tập nộp ngay trên lớp)  \n",
    "Sử dụng Multinomial Logistic Regression, Naive Bayes, ANN để phân loại dữ liệu khuôn mặt  "
   ]
  },
  {
   "cell_type": "markdown",
   "metadata": {},
   "source": [
    "## Thông tin về bộ dữ liệu  "
   ]
  },
  {
   "cell_type": "markdown",
   "metadata": {},
   "source": [
    "Bộ dữ liệu gồm 165 ảnh của 15 người. Mỗi người chụp ở 11 trạng thái khác nhau lưu dưới dạng tệp .png.  \n",
    "  \n",
    "Tên ảnh được ghép bởi:  \n",
    " - prefix 'subject', chỉ số của người tương ứng ghi theo kiểu 01, 02 ... đến 15 và dấu chấm “.” .  \n",
    " - Tiếp theo là  các trạng thái, gồm 11 trạng thái ['centerlight', 'glasses', 'happy', 'leftlight',  'noglasses', 'normal', 'rightlight', 'sad', 'sleepy', 'surprised', 'wink']  \n",
    " - Cuối cùng là phần mở rộng trong tên tệp, .png."
   ]
  },
  {
   "cell_type": "markdown",
   "metadata": {},
   "source": [
    "## Đọc dữ liệu và tiền xử lý  \n",
    "Đọc ảnh -> Lấy ma trận điểm ảnh -> Duỗi thẳng thành vector với số chiều D = height * width"
   ]
  },
  {
   "cell_type": "code",
   "execution_count": 26,
   "metadata": {},
   "outputs": [
    {
     "name": "stdout",
     "output_type": "stream",
     "text": [
      "(77760, 165)\n"
     ]
    }
   ],
   "source": [
    "import matplotlib.pyplot as plt\n",
    "import numpy as np\n",
    "import cv2\n",
    "\n",
    "\n",
    "def read_data(path, prefix=\"subject\", surfix=\".png\"):\n",
    "    ids = range(1, 16)  # 15 people\n",
    "    states = [\n",
    "        \"centerlight\",\n",
    "        \"glasses\",\n",
    "        \"happy\",\n",
    "        \"leftlight\",\n",
    "        \"noglasses\",\n",
    "        \"normal\",\n",
    "        \"rightlight\",\n",
    "        \"sad\",\n",
    "        \"sleepy\",\n",
    "        \"surprised\",\n",
    "        \"wink\",\n",
    "    ]\n",
    "\n",
    "    # open one picture to get the image's size\n",
    "    fn = prefix + \"01.\" + states[0] + surfix\n",
    "    im = cv2.imread(path + fn, 0)\n",
    "\n",
    "    h = im.shape[0]  # hight\n",
    "    w = im.shape[1]  # width\n",
    "\n",
    "    D = h * w\n",
    "    N = len(states) * 15\n",
    "\n",
    "    X = np.zeros((D, N))\n",
    "\n",
    "    # collect all data\n",
    "    count = 0\n",
    "\n",
    "    # there are 15 people\n",
    "    for person_id in range(1, 16):\n",
    "        for state in states:\n",
    "            # get name of each image file\n",
    "            fn = path + prefix + str(person_id).zfill(2) + \".\" + state + surfix\n",
    "\n",
    "            # open the file and read as grey image\n",
    "            tmp = cv2.imread(fn, cv2.IMREAD_GRAYSCALE)\n",
    "\n",
    "            # then add image to dataset X\n",
    "            X[:, count] = tmp.reshape(D)\n",
    "            count += 1\n",
    "\n",
    "    return X, (D, h, w)\n",
    "\n",
    "\n",
    "# Sử dụng hàm read_data() để đọc dữ liệu\n",
    "path = \"data/face_data/\"\n",
    "result = read_data(path)\n",
    "X, info_data = result[0], result[1]\n",
    "print(X.shape)"
   ]
  },
  {
   "cell_type": "markdown",
   "metadata": {},
   "source": [
    "## Thực hiện giảm số chiều PCA  \n",
    "Giảm số chiều dữ liệu từ 77760 xuống còn 125. Nên giảm xuống còn dưới 165 do chỉ có 165 bản ghi.  "
   ]
  },
  {
   "cell_type": "code",
   "execution_count": 21,
   "metadata": {},
   "outputs": [],
   "source": [
    "def do_pca_temp(info_data=info_data, prefix=\"subject\", surfix=\".png\"):\n",
    "    D, h, w = info_data[0], info_data[1], info_data[2]\n",
    "    \n",
    "    # Doing PCA, note that each row is a datapoint\n",
    "    from sklearn.decomposition import PCA\n",
    "    \n",
    "    # remain dim. k = 125 - change it!\n",
    "    pca = PCA(n_components=125)\n",
    "    \n",
    "    # then apply to data X\n",
    "    pca.fit(X.T)\n",
    "    \n",
    "    # then build projection matrix\n",
    "    U = pca.components_.T\n",
    "    \n",
    "    \n",
    "    # then reshape new dataset (reduced dim.) to be new images and save\n",
    "    # path to save reduced dim. images\n",
    "    path_save = (\n",
    "        \"data/visualize/\"\n",
    "    )\n",
    "    for i in range(U.shape[1]):\n",
    "        plt.axis(\"off\")\n",
    "        f1 = plt.imshow(U[:, i].reshape(h, w), interpolation=\"nearest\")\n",
    "        f1.axes.get_xaxis().set_visible(False)\n",
    "        f1.axes.get_yaxis().set_visible(False)\n",
    "    \n",
    "        plt.gray()\n",
    "        fn = path_save + \"eigenface\" + str(i).zfill(2) + \".png\"\n",
    "        plt.savefig(fn, bbox_inches=\"tight\", pad_inches=0)\n",
    "    \n",
    "    # test results by showing some images\n",
    "    # See reconstruction of first 6 persons\n",
    "    for person_id in range(1, 7):\n",
    "        for state in [\"centerlight\"]:\n",
    "            fn = path + prefix + str(person_id).zfill(2) + \".\" + state + surfix\n",
    "            im = cv2.imread(fn, 0)\n",
    "            plt.axis(\"off\")\n",
    "    \n",
    "            f1 = plt.imshow(im, interpolation=\"nearest\")\n",
    "            f1.axes.get_xaxis().set_visible(False)\n",
    "            f1.axes.get_yaxis().set_visible(False)\n",
    "            plt.gray()\n",
    "            fn = \"ori\" + str(person_id).zfill(2) + \".png\"\n",
    "            plt.savefig(fn, bbox_inches=\"tight\", pad_inches=0)\n",
    "            plt.show()\n",
    "    \n",
    "            # reshape and subtract mean, don't forget\n",
    "            x = im.reshape(D, 1) - pca.mean_.reshape(D, 1)\n",
    "    \n",
    "            # encode\n",
    "            z = U.T.dot(x)\n",
    "    \n",
    "            # decode\n",
    "            x_tilde = U.dot(z) + pca.mean_.reshape(D, 1)\n",
    "    \n",
    "            # reshape to orginal dim\n",
    "            im_tilde = x_tilde.reshape(h, w)\n",
    "            plt.axis(\"off\")\n",
    "    \n",
    "            f1 = plt.imshow(im_tilde, interpolation=\"nearest\")\n",
    "            f1.axes.get_xaxis().set_visible(False)\n",
    "            f1.axes.get_yaxis().set_visible(False)\n",
    "            plt.gray()\n",
    "            # fn = 'res' + str(person_id).zfill(2) + '.png'\n",
    "            # plt.savefig(fn, bbox_inches='tight', pad_inches=0)\n",
    "            plt.show()"
   ]
  },
  {
   "cell_type": "code",
   "execution_count": null,
   "metadata": {},
   "outputs": [],
   "source": [
    "do_pca_temp(info_data)"
   ]
  },
  {
   "cell_type": "markdown",
   "metadata": {},
   "source": [
    "Viết lại hàm do_pca do quên không return giá trị X đã giảm chiều. Code ở trên vẫn giữ như là 1 cách lưu lại ảnh X đã giảm chiều để nhìn.  "
   ]
  },
  {
   "cell_type": "code",
   "execution_count": 7,
   "metadata": {},
   "outputs": [],
   "source": [
    "def do_pca(data=X):    \n",
    "    # Doing PCA, note that each row is a datapoint\n",
    "    from sklearn.decomposition import PCA\n",
    "    \n",
    "    # Khởi tạo mô hình PCA với số thành phần chính mong muốn\n",
    "    pca = PCA(n_components=125) # 125 or bất kỳ số nào nhỏ hơn 165 - số lượng bản ghi\n",
    "    \n",
    "    # Huấn luyện mô hình PCA trên dữ liệu\n",
    "    pca.fit(data.T)\n",
    "    \n",
    "    # Áp dụng phép biến đổi PCA để giảm số chiều của dữ liệu\n",
    "    data_reduced = pca.transform(data.T)\n",
    "    \n",
    "    return data_reduced"
   ]
  },
  {
   "cell_type": "code",
   "execution_count": 27,
   "metadata": {},
   "outputs": [],
   "source": [
    "X = do_pca(X)"
   ]
  },
  {
   "cell_type": "code",
   "execution_count": 46,
   "metadata": {},
   "outputs": [
    {
     "data": {
      "text/plain": [
       "(165, 125)"
      ]
     },
     "execution_count": 46,
     "metadata": {},
     "output_type": "execute_result"
    }
   ],
   "source": [
    "X.shape"
   ]
  },
  {
   "cell_type": "markdown",
   "metadata": {},
   "source": [
    "## Sử dụng mô hình phân loại  \n",
    "Sử dụng các phương pháp phân loại nhiều lớp:  \n",
    " - Multinomial Logistic Regression  \n",
    " - Naive Bayes phù hợp  \n",
    " - ANN (đã có code)  \n",
    "dể phân loại, tỷ lệ train:test là 0.7:0.3."
   ]
  },
  {
   "cell_type": "markdown",
   "metadata": {},
   "source": [
    "### Phân chia train:test theo 7:3"
   ]
  },
  {
   "cell_type": "code",
   "execution_count": 28,
   "metadata": {},
   "outputs": [],
   "source": [
    "from sklearn.model_selection import train_test_split\n",
    "\n",
    "states = [\n",
    "    \"centerlight\",\n",
    "    \"glasses\",\n",
    "    \"happy\",\n",
    "    \"leftlight\",\n",
    "    \"noglasses\",\n",
    "    \"normal\",\n",
    "    \"rightlight\",\n",
    "    \"sad\",\n",
    "    \"sleepy\",\n",
    "    \"surprised\",\n",
    "    \"wink\",\n",
    "]\n",
    "\n",
    "y = np.repeat(np.arange(0, len(states)), 15)    # do cách đọc data là với mỗi người trong 15 người có 11 cảm xúc -> các cảm xúc từ 0 đến 10 lặp lại 15 lần chính là nhãn  \n",
    "X_train, X_test, y_train, y_test = train_test_split(\n",
    "    X,\n",
    "    y,\n",
    "    test_size=0.3,\n",
    "    random_state=42,\n",
    ")"
   ]
  },
  {
   "cell_type": "code",
   "execution_count": 58,
   "metadata": {},
   "outputs": [
    {
     "name": "stdout",
     "output_type": "stream",
     "text": [
      "(115, 125) (115,)\n"
     ]
    }
   ],
   "source": [
    "print(X_train.shape, y_train.shape)"
   ]
  },
  {
   "cell_type": "code",
   "execution_count": 59,
   "metadata": {},
   "outputs": [
    {
     "name": "stdout",
     "output_type": "stream",
     "text": [
      "(50, 125) (50,)\n"
     ]
    }
   ],
   "source": [
    "print(X_test.shape, y_test.shape)"
   ]
  },
  {
   "cell_type": "code",
   "execution_count": 60,
   "metadata": {},
   "outputs": [
    {
     "data": {
      "text/plain": [
       "array([ 9,  7,  8,  3,  6,  1, 10,  3,  6,  9,  1,  5,  1,  4,  1,  2,  8,\n",
       "        7, 10,  1,  5,  1,  0,  0,  2, 10,  6,  3,  8, 10,  9,  5,  4,  5,\n",
       "        0,  6,  3,  2,  4, 10,  1,  9,  7,  6,  8,  2,  5,  1,  8,  4])"
      ]
     },
     "execution_count": 60,
     "metadata": {},
     "output_type": "execute_result"
    }
   ],
   "source": [
    "y_test"
   ]
  },
  {
   "cell_type": "markdown",
   "metadata": {},
   "source": [
    "### Thực hiện sử dụng Multinomial Logistic Regression  "
   ]
  },
  {
   "cell_type": "code",
   "execution_count": 29,
   "metadata": {},
   "outputs": [],
   "source": [
    "from sklearn.linear_model import LogisticRegression\n",
    "\n",
    "# Multinomial Logistic Regression\n",
    "logistic_regression_model = LogisticRegression(\n",
    "    max_iter=10000, multi_class=\"multinomial\"\n",
    ")\n",
    "logistic_regression_model.fit(X_train, y_train)\n",
    "logistic_regression_predictions = logistic_regression_model.predict(X_test)"
   ]
  },
  {
   "cell_type": "code",
   "execution_count": 30,
   "metadata": {},
   "outputs": [
    {
     "name": "stdout",
     "output_type": "stream",
     "text": [
      "Multinomial Logistic Regression Accuracy: 0.68\n"
     ]
    }
   ],
   "source": [
    "from sklearn.metrics import accuracy_score\n",
    "\n",
    "logistic_regression_accuracy = accuracy_score(\n",
    "    y_test, logistic_regression_predictions\n",
    ")\n",
    "print(\"Multinomial Logistic Regression Accuracy:\", logistic_regression_accuracy)"
   ]
  },
  {
   "cell_type": "code",
   "execution_count": 63,
   "metadata": {},
   "outputs": [
    {
     "name": "stdout",
     "output_type": "stream",
     "text": [
      "Confusion Matrix:\n",
      "[[2 1 0 0 0 0 0 0 0 0 0]\n",
      " [1 7 0 0 0 0 0 0 0 0 0]\n",
      " [0 0 3 0 0 0 1 0 0 0 0]\n",
      " [0 0 0 2 2 0 0 0 0 0 0]\n",
      " [0 0 0 1 1 0 2 0 0 0 0]\n",
      " [0 0 0 0 1 4 0 0 0 0 0]\n",
      " [0 0 0 0 0 1 3 1 0 0 0]\n",
      " [0 0 0 0 0 0 1 2 0 0 0]\n",
      " [0 0 0 0 0 0 0 0 2 3 0]\n",
      " [0 0 0 0 0 0 0 0 0 4 0]\n",
      " [0 0 0 0 0 0 0 0 0 1 4]]\n"
     ]
    }
   ],
   "source": [
    "from sklearn.metrics import confusion_matrix\n",
    "\n",
    "# Tính ma trận nhầm lẫn\n",
    "conf_matrix = confusion_matrix(y_test, logistic_regression_predictions)\n",
    "\n",
    "# In ra ma trận nhầm lẫn\n",
    "print(\"Confusion Matrix:\")\n",
    "print(conf_matrix)"
   ]
  },
  {
   "cell_type": "markdown",
   "metadata": {},
   "source": [
    "### Thực hiện sử dụng Naive Bayes"
   ]
  },
  {
   "cell_type": "code",
   "execution_count": 64,
   "metadata": {},
   "outputs": [],
   "source": [
    "from sklearn.naive_bayes import GaussianNB\n",
    "\n",
    "# Naive Bayes Classifier\n",
    "naive_bayes_model = GaussianNB()\n",
    "naive_bayes_model.fit(X_train, y_train)\n",
    "naive_bayes_predictions = naive_bayes_model.predict(X_test)"
   ]
  },
  {
   "cell_type": "code",
   "execution_count": 65,
   "metadata": {},
   "outputs": [
    {
     "name": "stdout",
     "output_type": "stream",
     "text": [
      "Naive Bayes Accuracy: 0.56\n"
     ]
    }
   ],
   "source": [
    "from sklearn.metrics import accuracy_score\n",
    "naive_bayes_accuracy = accuracy_score(y_test, naive_bayes_predictions)\n",
    "print(\"Naive Bayes Accuracy:\", naive_bayes_accuracy)"
   ]
  },
  {
   "cell_type": "code",
   "execution_count": 66,
   "metadata": {},
   "outputs": [
    {
     "name": "stdout",
     "output_type": "stream",
     "text": [
      "Confusion Matrix:\n",
      "[[2 1 0 0 0 0 0 0 0 0 0]\n",
      " [0 2 1 0 0 0 1 0 2 0 2]\n",
      " [0 0 2 0 0 2 0 0 0 0 0]\n",
      " [0 0 0 2 2 0 0 0 0 0 0]\n",
      " [0 0 0 1 0 2 0 0 0 0 1]\n",
      " [0 0 0 0 0 5 0 0 0 0 0]\n",
      " [0 0 0 0 0 1 3 1 0 0 0]\n",
      " [0 0 0 0 0 1 0 2 0 0 0]\n",
      " [0 0 0 0 0 1 0 0 2 2 0]\n",
      " [0 0 0 0 0 1 0 0 0 3 0]\n",
      " [0 0 0 0 0 0 0 0 0 0 5]]\n"
     ]
    }
   ],
   "source": [
    "from sklearn.metrics import confusion_matrix\n",
    "\n",
    "# Tính ma trận nhầm lẫn\n",
    "conf_matrix = confusion_matrix(y_test, naive_bayes_predictions)\n",
    "\n",
    "# In ra ma trận nhầm lẫn\n",
    "print(\"Confusion Matrix:\")\n",
    "print(conf_matrix)"
   ]
  },
  {
   "cell_type": "markdown",
   "metadata": {},
   "source": [
    "### Thực hiện sử dụng ANN  "
   ]
  },
  {
   "cell_type": "markdown",
   "metadata": {},
   "source": [
    "#### Các hàm xây dựng  "
   ]
  },
  {
   "cell_type": "code",
   "execution_count": 67,
   "metadata": {},
   "outputs": [],
   "source": [
    "# output layer to value in [0, 1]\n",
    "def softmax(V):\n",
    "    e_V = np.exp(V - np.max(V, axis=0, keepdims=True))\n",
    "    Z = e_V / e_V.sum(axis=0)\n",
    "    return Z\n",
    "\n",
    "\n",
    "# cost or loss function\n",
    "def cost(Y, Yhat):\n",
    "    return -np.sum(Y * np.log(Yhat)) / Y.shape[1]\n",
    "\n",
    "\n",
    "# make one-hot coding\n",
    "from scipy import sparse\n",
    "def convert_labels(y, C):\n",
    "    Y = sparse.coo_matrix(\n",
    "        (np.ones_like(y), (y, np.arange(len(y)))), shape=(C, len(y))\n",
    "    ).toarray()\n",
    "    return Y"
   ]
  },
  {
   "cell_type": "code",
   "execution_count": 70,
   "metadata": {},
   "outputs": [],
   "source": [
    "def build_ANN(X, y):\n",
    "    d0 = 125    # số chiều của input\n",
    "    d1 = h = 125 # size of hidden layer \n",
    "    d2 = C = 11 # số class output\n",
    "    # initialize parameters randomly \n",
    "    W1 = 0.01*np.random.randn(d0, d1) \n",
    "    b1 = np.zeros((d1, 1)) \n",
    "    W2 = 0.01*np.random.randn(d1, d2) \n",
    "    b2 = np.zeros((d2, 1)) \n",
    "    # set data\n",
    "    Y = convert_labels(y, C) \n",
    "    N = X.shape[1] \n",
    "    eta = 1 # learning rate\n",
    "    # bước lặp tìm cực trị theo Gradient Descent \n",
    "    for i in range(10000): \n",
    "        ## Feedforward \n",
    "        Z1 = np.dot(W1.T, X) + b1 \n",
    "        A1 = np.maximum(Z1, 0) \n",
    "        Z2 = np.dot(W2.T, A1) + b2 \n",
    "        Yhat = softmax(Z2) \n",
    "    \n",
    "        # print loss after each 1000 iterations \n",
    "        if i %1000 == 0: \n",
    "            # compute the loss: average cross-entropy loss \n",
    "            loss = cost(Y, Yhat) \n",
    "            print(\"iter %d, loss: %f\" %(i, loss)) \n",
    "    \n",
    "        # backpropagation \n",
    "        E2 = (Yhat - Y )/N \n",
    "        dW2 = np.dot(A1, E2.T) \n",
    "        db2 = np.sum(E2, axis = 1, keepdims = True) \n",
    "        E1 = np.dot(W2, E2) \n",
    "        E1[Z1 <= 0] = 0 # gradient of ReLU \n",
    "        dW1 = np.dot(X, E1.T) \n",
    "        db1 = np.sum(E1, axis = 1, keepdims = True)\n",
    "\n",
    "        # Gradient Descent update \n",
    "        W1 += -eta*dW1 \n",
    "        b1 += -eta*db1 \n",
    "        W2 += -eta*dW2 \n",
    "        b2 += -eta*db2\n",
    "\n",
    "    # return ANN\n",
    "    return (W1, W2, b1, b2, d0, d1, d2)\n",
    "\n",
    "def run_ANN(model, X):\n",
    "    # W1, W2, b1, b2 is ANN\n",
    "    # X is input & y is output\n",
    "    # this function return predicted class \n",
    "    W1, W2, b1, b2 = model[0], model[1], model[2], model[3]\n",
    "    Z1 = np.dot(W1.T, X) + b1 \n",
    "    A1 = np.maximum(Z1, 0) \n",
    "    Z2 = np.dot(W2.T, A1) + b2 \n",
    "    predicted_class = np.argmax(Z2, axis=0)\n",
    "    return predicted_class"
   ]
  },
  {
   "cell_type": "markdown",
   "metadata": {},
   "source": [
    "#### Xây dựng model"
   ]
  },
  {
   "cell_type": "code",
   "execution_count": 79,
   "metadata": {},
   "outputs": [
    {
     "name": "stdout",
     "output_type": "stream",
     "text": [
      "iter 0, loss: 24.271762\n"
     ]
    },
    {
     "name": "stderr",
     "output_type": "stream",
     "text": [
      "/tmp/ipykernel_9904/2521560992.py:3: RuntimeWarning: invalid value encountered in subtract\n",
      "  e_V = np.exp(V - np.max(V, axis=0, keepdims=True))\n"
     ]
    },
    {
     "name": "stdout",
     "output_type": "stream",
     "text": [
      "iter 1000, loss: nan\n",
      "iter 2000, loss: nan\n",
      "iter 3000, loss: nan\n",
      "iter 4000, loss: nan\n",
      "iter 5000, loss: nan\n",
      "iter 6000, loss: nan\n",
      "iter 7000, loss: nan\n",
      "iter 8000, loss: nan\n",
      "iter 9000, loss: nan\n",
      "test accuracy: 6.00 %\n"
     ]
    }
   ],
   "source": [
    "ANN_model = build_ANN(X_train.T, y_train)\n",
    "predicted_class = run_ANN(ANN_model, X_test.T)\n",
    "acc = 100*np.mean(predicted_class == y_test) \n",
    "print('test accuracy: %.2f %%' % (acc)) "
   ]
  },
  {
   "cell_type": "markdown",
   "metadata": {},
   "source": [
    "#### Sử dụng thư viện để xem kết quả có sự khác biệt gì không "
   ]
  },
  {
   "cell_type": "code",
   "execution_count": 78,
   "metadata": {},
   "outputs": [
    {
     "name": "stdout",
     "output_type": "stream",
     "text": [
      "Epoch 1 - Accuracy: 0.12621359527111053 Validation Accuracy: 0.1666666716337204\n",
      "Epoch 100 - Accuracy: 1.0 Validation Accuracy: 0.3333333432674408\n"
     ]
    }
   ],
   "source": [
    "# Dùng thư viện xem có ổn không hơn  \n",
    "from sklearn.preprocessing import StandardScaler\n",
    "from tensorflow.keras.models import Sequential\n",
    "from tensorflow.keras.layers import Dense\n",
    "\n",
    "# Standardize features by removing the mean and scaling to unit variance\n",
    "scaler = StandardScaler()\n",
    "train_scaled = scaler.fit_transform(X_train)\n",
    "test_scaled = scaler.transform(X_test)\n",
    "\n",
    "# Build the ANN model\n",
    "ann_model = Sequential()\n",
    "ann_model.add(Dense(125, activation='relu'))  # input has 125 dimension\n",
    "ann_model.add(Dense(125, activation='relu'))  # maybe 235 is good\n",
    "ann_model.add(Dense(11, activation='softmax'))   # output has 11 classes\n",
    "\n",
    "# Compile the model\n",
    "ann_model.compile(optimizer='adam', loss='sparse_categorical_crossentropy', metrics=['accuracy'])\n",
    "\n",
    "# Train model\n",
    "history = ann_model.fit(train_scaled, y_train, epochs=100, batch_size=32, validation_split=0.1, verbose=0)\n",
    "# verbose = 0 to remove cell output as too many output lines\n",
    "epoch_1_accuracy = history.history['accuracy'][0]\n",
    "epoch_1_val_accuracy = history.history['val_accuracy'][0]\n",
    "epoch_100_accuracy = history.history['accuracy'][-1]\n",
    "epoch_100_val_accuracy = history.history['val_accuracy'][-1]\n",
    "\n",
    "print(\"Epoch 1 - Accuracy:\", epoch_1_accuracy, \"Validation Accuracy:\", epoch_1_val_accuracy)\n",
    "print(\"Epoch 100 - Accuracy:\", epoch_100_accuracy, \"Validation Accuracy:\", epoch_100_val_accuracy)"
   ]
  },
  {
   "cell_type": "code",
   "execution_count": 81,
   "metadata": {},
   "outputs": [
    {
     "name": "stdout",
     "output_type": "stream",
     "text": [
      "Test accuracy of ANN: 0.3199999928474426\n",
      "Test loss of ANN: 2.771956443786621\n"
     ]
    }
   ],
   "source": [
    "# Evaluate the model on the test set\n",
    "ann_test_loss, ann_test_acc = ann_model.evaluate(test_scaled, y_test, verbose=0)\n",
    "print('Test accuracy of ANN:', ann_test_acc)\n",
    "print('Test loss of ANN:', ann_test_loss)"
   ]
  },
  {
   "cell_type": "markdown",
   "metadata": {},
   "source": [
    "Đã có tăng từ 6% lên 32%"
   ]
  },
  {
   "cell_type": "markdown",
   "metadata": {},
   "source": [
    "## Test với 5 ảnh bất kỳ"
   ]
  },
  {
   "cell_type": "markdown",
   "metadata": {},
   "source": [
    "### Sử dụng toàn bộ 165 ảnh (không giảm số chiều) để train model"
   ]
  },
  {
   "cell_type": "code",
   "execution_count": 2,
   "metadata": {},
   "outputs": [
    {
     "name": "stdout",
     "output_type": "stream",
     "text": [
      "(77760, 165)\n"
     ]
    }
   ],
   "source": [
    "path = \"data/face_data/\"\n",
    "result = read_data(path)\n",
    "X, info_data = result[0], result[1]\n",
    "print(X.shape)"
   ]
  },
  {
   "cell_type": "code",
   "execution_count": 4,
   "metadata": {},
   "outputs": [
    {
     "name": "stdout",
     "output_type": "stream",
     "text": [
      "(165,)\n"
     ]
    }
   ],
   "source": [
    "states = [\n",
    "    \"centerlight\",\n",
    "    \"glasses\",\n",
    "    \"happy\",\n",
    "    \"leftlight\",\n",
    "    \"noglasses\",\n",
    "    \"normal\",\n",
    "    \"rightlight\",\n",
    "    \"sad\",\n",
    "    \"sleepy\",\n",
    "    \"surprised\",\n",
    "    \"wink\",\n",
    "]\n",
    "\n",
    "y = np.repeat(np.arange(0, len(states)), 15)    # do cách đọc data là với mỗi người trong 15 người có 11 cảm xúc -> các cảm xúc từ 0 đến 10 lặp lại 15 lần chính là nhãn  \n",
    "print(y.shape)"
   ]
  },
  {
   "cell_type": "code",
   "execution_count": 10,
   "metadata": {},
   "outputs": [],
   "source": [
    "X = do_pca(X)"
   ]
  },
  {
   "cell_type": "code",
   "execution_count": 13,
   "metadata": {},
   "outputs": [
    {
     "data": {
      "text/plain": [
       "(165, 125)"
      ]
     },
     "execution_count": 13,
     "metadata": {},
     "output_type": "execute_result"
    }
   ],
   "source": [
    "X.shape"
   ]
  },
  {
   "cell_type": "code",
   "execution_count": 12,
   "metadata": {},
   "outputs": [
    {
     "name": "stdout",
     "output_type": "stream",
     "text": [
      "Epoch 1 - Accuracy: 0.07432432472705841 Validation Accuracy: 0.05882352963089943\n",
      "Epoch 100 - Accuracy: 0.9864864945411682 Validation Accuracy: 0.05882352963089943\n"
     ]
    }
   ],
   "source": [
    "# Dùng thư viện xem có ổn không hơn  \n",
    "from sklearn.preprocessing import StandardScaler\n",
    "from tensorflow.keras.models import Sequential\n",
    "from tensorflow.keras.layers import Dense\n",
    "\n",
    "# Standardize features by removing the mean and scaling to unit variance\n",
    "scaler = StandardScaler()\n",
    "X = scaler.fit_transform(X)\n",
    "\n",
    "# Build the ANN model\n",
    "ann_model = Sequential()\n",
    "ann_model.add(Dense(125, activation='relu'))  # input has 125 dimension\n",
    "ann_model.add(Dense(125, activation='relu'))  # maybe 125 is good\n",
    "ann_model.add(Dense(11, activation='softmax'))   # output has 11 classes\n",
    "\n",
    "# Compile the model\n",
    "ann_model.compile(optimizer='adam', loss='sparse_categorical_crossentropy', metrics=['accuracy'])\n",
    "\n",
    "# Train model\n",
    "history = ann_model.fit(X, y, epochs=100, batch_size=32, validation_split=0.1, verbose=0)\n",
    "# verbose = 0 to remove cell output as too many output lines\n",
    "epoch_1_accuracy = history.history['accuracy'][0]\n",
    "epoch_1_val_accuracy = history.history['val_accuracy'][0]\n",
    "epoch_100_accuracy = history.history['accuracy'][-1]\n",
    "epoch_100_val_accuracy = history.history['val_accuracy'][-1]\n",
    "\n",
    "print(\"Epoch 1 - Accuracy:\", epoch_1_accuracy, \"Validation Accuracy:\", epoch_1_val_accuracy)\n",
    "print(\"Epoch 100 - Accuracy:\", epoch_100_accuracy, \"Validation Accuracy:\", epoch_100_val_accuracy)"
   ]
  },
  {
   "cell_type": "markdown",
   "metadata": {},
   "source": [
    "Sử dụng toàn bộ 165 ảnh thì accuracy trên validation cũng chỉ là 6% giống như cũ - có vẻ nhiều data hơn còn làm mô hình train xong bị tệ đi "
   ]
  },
  {
   "cell_type": "markdown",
   "metadata": {},
   "source": [
    "### Test thử kết quả"
   ]
  },
  {
   "cell_type": "code",
   "execution_count": 18,
   "metadata": {},
   "outputs": [],
   "source": [
    "import cv2\n",
    "import numpy as np\n",
    "\n",
    "five_image_test = []\n",
    "\n",
    "# Đọc 5 ảnh và chuyển về kích thước (320, 243) và định dạng ảnh xám\n",
    "for i in range(1, 6):\n",
    "    image = cv2.imread(f'data/face_test/test{i}.jpg', cv2.IMREAD_GRAYSCALE)\n",
    "    if image is not None:\n",
    "        # Resize ảnh về kích thước (320, 243)\n",
    "        resized_image = cv2.resize(image, (243, 320)).reshape(243 * 320)\n",
    "        \n",
    "        # Chuyển đổi sang dạng màu thuộc [0, 1]\n",
    "        normalized_image = resized_image.astype(np.float32) / 255.0\n",
    "        \n",
    "        # Thêm ảnh đã xử lý vào danh sách\n",
    "        five_image_test.append(normalized_image)\n",
    "    else:\n",
    "        print(f\"Không thể đọc ảnh data/face_test/test{i}.jpg\")"
   ]
  },
  {
   "cell_type": "code",
   "execution_count": 19,
   "metadata": {},
   "outputs": [
    {
     "data": {
      "text/plain": [
       "(5, 77760)"
      ]
     },
     "execution_count": 19,
     "metadata": {},
     "output_type": "execute_result"
    }
   ],
   "source": [
    "five_image_test = np.array(five_image_test)\n",
    "five_image_test.shape"
   ]
  },
  {
   "cell_type": "code",
   "execution_count": 21,
   "metadata": {},
   "outputs": [
    {
     "name": "stdout",
     "output_type": "stream",
     "text": [
      "(77760, 165)\n"
     ]
    }
   ],
   "source": [
    "path = \"data/face_data/\"\n",
    "result = read_data(path)\n",
    "X_temp = result[0]\n",
    "print(X_temp.shape)"
   ]
  },
  {
   "cell_type": "code",
   "execution_count": 23,
   "metadata": {},
   "outputs": [
    {
     "data": {
      "text/plain": [
       "(170, 77760)"
      ]
     },
     "execution_count": 23,
     "metadata": {},
     "output_type": "execute_result"
    }
   ],
   "source": [
    "temp = np.vstack((five_image_test, X_temp.T))\n",
    "temp.shape"
   ]
  },
  {
   "cell_type": "code",
   "execution_count": 24,
   "metadata": {},
   "outputs": [],
   "source": [
    "five_image_test = do_pca(temp.T)[:5]"
   ]
  },
  {
   "cell_type": "code",
   "execution_count": 31,
   "metadata": {},
   "outputs": [],
   "source": [
    "logistic_regression_predictions = logistic_regression_model.predict(five_image_test)"
   ]
  },
  {
   "cell_type": "code",
   "execution_count": 32,
   "metadata": {},
   "outputs": [
    {
     "data": {
      "text/plain": [
       "array([4, 4, 4, 4, 4])"
      ]
     },
     "execution_count": 32,
     "metadata": {},
     "output_type": "execute_result"
    }
   ],
   "source": [
    "logistic_regression_predictions"
   ]
  },
  {
   "cell_type": "markdown",
   "metadata": {},
   "source": [
    "Như vậy cả 5 ảnh đều cho 1 đầu ra là 4"
   ]
  },
  {
   "cell_type": "code",
   "execution_count": 33,
   "metadata": {},
   "outputs": [
    {
     "name": "stdout",
     "output_type": "stream",
     "text": [
      "1/1 [==============================] - 0s 154ms/step\n"
     ]
    },
    {
     "data": {
      "text/plain": [
       "array([[0., 0., 0., 1., 0., 0., 0., 0., 0., 0., 0.],\n",
       "       [0., 0., 0., 1., 0., 0., 0., 0., 0., 0., 0.],\n",
       "       [0., 0., 0., 1., 0., 0., 0., 0., 0., 0., 0.],\n",
       "       [0., 0., 0., 1., 0., 0., 0., 0., 0., 0., 0.],\n",
       "       [0., 0., 0., 1., 0., 0., 0., 0., 0., 0., 0.]], dtype=float32)"
      ]
     },
     "execution_count": 33,
     "metadata": {},
     "output_type": "execute_result"
    }
   ],
   "source": [
    "ann_predictions = ann_model.predict(five_image_test)\n",
    "ann_predictions"
   ]
  },
  {
   "cell_type": "markdown",
   "metadata": {},
   "source": [
    "Ngạc nhiên thay dùng ANN cho ra class là 3 - khác so với dùng logistic_regression "
   ]
  },
  {
   "cell_type": "markdown",
   "metadata": {},
   "source": [
    "# Ví dụ 4.  \n",
    "Sử dụng Multinomial Logistic Regression, Naive Bayes, ANN để phân loại dữ liệu 7 loại đậu"
   ]
  },
  {
   "cell_type": "markdown",
   "metadata": {},
   "source": [
    "## Đọc dữ liệu "
   ]
  },
  {
   "cell_type": "code",
   "execution_count": 3,
   "metadata": {},
   "outputs": [],
   "source": [
    "import pandas as pd\n",
    "from sklearn.model_selection import train_test_split\n",
    "\n",
    "# Đọc file CSV\n",
    "df = pd.read_csv('/mnt/DataK/Univer/UniSubject/_3th_year/_2nd_term/3ii_ML/Lec_Ass/Week7/data/Dry_Bean_Dataset.csv')\n",
    "\n",
    "# Chia dữ liệu thành features (X) và target (y)\n",
    "bean_X = df.drop('Class', axis=1)\n",
    "bean_y = df['Class']"
   ]
  },
  {
   "cell_type": "code",
   "execution_count": 18,
   "metadata": {},
   "outputs": [
    {
     "data": {
      "text/plain": [
       "(13611, 16)"
      ]
     },
     "execution_count": 18,
     "metadata": {},
     "output_type": "execute_result"
    }
   ],
   "source": [
    "bean_X.shape"
   ]
  },
  {
   "cell_type": "code",
   "execution_count": 19,
   "metadata": {},
   "outputs": [
    {
     "data": {
      "text/plain": [
       "(13611,)"
      ]
     },
     "execution_count": 19,
     "metadata": {},
     "output_type": "execute_result"
    }
   ],
   "source": [
    "bean_y.shape"
   ]
  },
  {
   "cell_type": "code",
   "execution_count": 20,
   "metadata": {},
   "outputs": [
    {
     "data": {
      "text/plain": [
       "7"
      ]
     },
     "execution_count": 20,
     "metadata": {},
     "output_type": "execute_result"
    }
   ],
   "source": [
    "len(set(bean_y))"
   ]
  },
  {
   "cell_type": "markdown",
   "metadata": {},
   "source": [
    "## Thực hiện giảm số chiều về 2 or 3 để trực quan hóa"
   ]
  },
  {
   "cell_type": "code",
   "execution_count": 10,
   "metadata": {},
   "outputs": [
    {
     "data": {
      "image/png": "[encoded data removed]",
      "text/plain": [
       "<Figure size 1000x500 with 2 Axes>"
      ]
     },
     "metadata": {},
     "output_type": "display_data"
    }
   ],
   "source": [
    "import matplotlib.pyplot as plt\n",
    "from sklearn.decomposition import PCA\n",
    "\n",
    "# Giảm chiều về 2D \n",
    "pca_2d = PCA(n_components=2)\n",
    "X_pca_2d = pca_2d.fit_transform(bean_X)\n",
    "\n",
    "# Giảm chiều về 3D \n",
    "pca_3d = PCA(n_components=3)\n",
    "X_pca_3d = pca_3d.fit_transform(bean_X)\n",
    "\n",
    "# Map các nhãn lớp thành các giá trị số\n",
    "class_mapping = {'CALI': 0, 'DERMASON': 1, 'BOMBAY': 2, 'BARBUNYA': 3, 'HOROZ': 4, 'SIRA': 5, 'SEKER': 6}\n",
    "bean_y_classes = bean_y.map(class_mapping)\n",
    "\n",
    "# Vẽ biểu đồ 2D\n",
    "plt.figure(figsize=(10, 5))\n",
    "plt.subplot(1, 2, 1)\n",
    "plt.scatter(X_pca_2d[:, 0], X_pca_2d[:, 1], c=bean_y_classes, cmap='viridis', alpha=0.5)\n",
    "plt.title('PCA 2D')\n",
    "# Vẽ biểu đồ 3D\n",
    "ax = plt.subplot(1, 2, 2, projection='3d')\n",
    "ax.scatter(X_pca_3d[:, 0], X_pca_3d[:, 1], X_pca_3d[:, 2], c=bean_y_classes, cmap='viridis', alpha=0.5)\n",
    "ax.set_title('PCA 3D')\n",
    "plt.show()"
   ]
  },
  {
   "cell_type": "markdown",
   "metadata": {},
   "source": [
    "## Thực hiện MLR, Naive Bayes, ANN trên dữ liệu gốc "
   ]
  },
  {
   "cell_type": "markdown",
   "metadata": {},
   "source": [
    "### Phân chia bộ dữ liệu theo tỷ lệ 7:3"
   ]
  },
  {
   "cell_type": "code",
   "execution_count": 24,
   "metadata": {},
   "outputs": [
    {
     "name": "stdout",
     "output_type": "stream",
     "text": [
      "Số lượng mẫu trong tập huấn luyện: 9527\n",
      "Số lượng mẫu trong tập kiểm tra: 4084\n"
     ]
    }
   ],
   "source": [
    "# Map các nhãn lớp thành các giá trị số\n",
    "class_mapping = {'CALI': 0, 'DERMASON': 1, 'BOMBAY': 2, 'BARBUNYA': 3, 'HOROZ': 4, 'SIRA': 5, 'SEKER': 6}\n",
    "bean_y = bean_y.map(class_mapping)\n",
    "\n",
    "# Chia dữ liệu thành tập huấn luyện và tập kiểm tra theo tỷ lệ 7:3\n",
    "bean_X_train, bean_X_test, bean_y_train, bean_y_test = train_test_split(bean_X, bean_y, test_size=0.3, random_state=42)\n",
    "\n",
    "# In số lượng mẫu trong từng tập\n",
    "print(\"Số lượng mẫu trong tập huấn luyện:\", len(bean_X_train))\n",
    "print(\"Số lượng mẫu trong tập kiểm tra:\", len(bean_X_test))"
   ]
  },
  {
   "cell_type": "markdown",
   "metadata": {},
   "source": [
    "### Thực hiện Multinomial Logistic Regression"
   ]
  },
  {
   "cell_type": "code",
   "execution_count": 25,
   "metadata": {},
   "outputs": [
    {
     "data": {
      "text/html": [
       "<style>#sk-container-id-3 {color: black;background-color: white;}#sk-container-id-3 pre{padding: 0;}#sk-container-id-3 div.sk-toggleable {background-color: white;}#sk-container-id-3 label.sk-toggleable__label {cursor: pointer;display: block;width: 100%;margin-bottom: 0;padding: 0.3em;box-sizing: border-box;text-align: center;}#sk-container-id-3 label.sk-toggleable__label-arrow:before {content: \"▸\";float: left;margin-right: 0.25em;color: #696969;}#sk-container-id-3 label.sk-toggleable__label-arrow:hover:before {color: black;}#sk-container-id-3 div.sk-estimator:hover label.sk-toggleable__label-arrow:before {color: black;}#sk-container-id-3 div.sk-toggleable__content {max-height: 0;max-width: 0;overflow: hidden;text-align: left;background-color: #f0f8ff;}#sk-container-id-3 div.sk-toggleable__content pre {margin: 0.2em;color: black;border-radius: 0.25em;background-color: #f0f8ff;}#sk-container-id-3 input.sk-toggleable__control:checked~div.sk-toggleable__content {max-height: 200px;max-width: 100%;overflow: auto;}#sk-container-id-3 input.sk-toggleable__control:checked~label.sk-toggleable__label-arrow:before {content: \"▾\";}#sk-container-id-3 div.sk-estimator input.sk-toggleable__control:checked~label.sk-toggleable__label {background-color: #d4ebff;}#sk-container-id-3 div.sk-label input.sk-toggleable__control:checked~label.sk-toggleable__label {background-color: #d4ebff;}#sk-container-id-3 input.sk-hidden--visually {border: 0;clip: rect(1px 1px 1px 1px);clip: rect(1px, 1px, 1px, 1px);height: 1px;margin: -1px;overflow: hidden;padding: 0;position: absolute;width: 1px;}#sk-container-id-3 div.sk-estimator {font-family: monospace;background-color: #f0f8ff;border: 1px dotted black;border-radius: 0.25em;box-sizing: border-box;margin-bottom: 0.5em;}#sk-container-id-3 div.sk-estimator:hover {background-color: #d4ebff;}#sk-container-id-3 div.sk-parallel-item::after {content: \"\";width: 100%;border-bottom: 1px solid gray;flex-grow: 1;}#sk-container-id-3 div.sk-label:hover label.sk-toggleable__label {background-color: #d4ebff;}#sk-container-id-3 div.sk-serial::before {content: \"\";position: absolute;border-left: 1px solid gray;box-sizing: border-box;top: 0;bottom: 0;left: 50%;z-index: 0;}#sk-container-id-3 div.sk-serial {display: flex;flex-direction: column;align-items: center;background-color: white;padding-right: 0.2em;padding-left: 0.2em;position: relative;}#sk-container-id-3 div.sk-item {position: relative;z-index: 1;}#sk-container-id-3 div.sk-parallel {display: flex;align-items: stretch;justify-content: center;background-color: white;position: relative;}#sk-container-id-3 div.sk-item::before, #sk-container-id-3 div.sk-parallel-item::before {content: \"\";position: absolute;border-left: 1px solid gray;box-sizing: border-box;top: 0;bottom: 0;left: 50%;z-index: -1;}#sk-container-id-3 div.sk-parallel-item {display: flex;flex-direction: column;z-index: 1;position: relative;background-color: white;}#sk-container-id-3 div.sk-parallel-item:first-child::after {align-self: flex-end;width: 50%;}#sk-container-id-3 div.sk-parallel-item:last-child::after {align-self: flex-start;width: 50%;}#sk-container-id-3 div.sk-parallel-item:only-child::after {width: 0;}#sk-container-id-3 div.sk-dashed-wrapped {border: 1px dashed gray;margin: 0 0.4em 0.5em 0.4em;box-sizing: border-box;padding-bottom: 0.4em;background-color: white;}#sk-container-id-3 div.sk-label label {font-family: monospace;font-weight: bold;display: inline-block;line-height: 1.2em;}#sk-container-id-3 div.sk-label-container {text-align: center;}#sk-container-id-3 div.sk-container {/* jupyter's `normalize.less` sets `[hidden] { display: none; }` but bootstrap.min.css set `[hidden] { display: none !important; }` so we also need the `!important` here to be able to override the default hidden behavior on the sphinx rendered scikit-learn.org. See: https://github.com/scikit-learn/scikit-learn/issues/21755 */display: inline-block !important;position: relative;}#sk-container-id-3 div.sk-text-repr-fallback {display: none;}</style><div id=\"sk-container-id-3\" class=\"sk-top-container\"><div class=\"sk-text-repr-fallback\"><pre>LogisticRegression(max_iter=10000, multi_class=&#x27;multinomial&#x27;)</pre><b>In a Jupyter environment, please rerun this cell to show the HTML representation or trust the notebook. <br />On GitHub, the HTML representation is unable to render, please try loading this page with nbviewer.org.</b></div><div class=\"sk-container\" hidden><div class=\"sk-item\"><div class=\"sk-estimator sk-toggleable\"><input class=\"sk-toggleable__control sk-hidden--visually\" id=\"sk-estimator-id-3\" type=\"checkbox\" checked><label for=\"sk-estimator-id-3\" class=\"sk-toggleable__label sk-toggleable__label-arrow\">LogisticRegression</label><div class=\"sk-toggleable__content\"><pre>LogisticRegression(max_iter=10000, multi_class=&#x27;multinomial&#x27;)</pre></div></div></div></div></div>"
      ],
      "text/plain": [
       "LogisticRegression(max_iter=10000, multi_class='multinomial')"
      ]
     },
     "execution_count": 25,
     "metadata": {},
     "output_type": "execute_result"
    }
   ],
   "source": [
    "from sklearn.linear_model import LogisticRegression\n",
    "from sklearn.metrics import accuracy_score\n",
    "\n",
    "# Khởi tạo mô hình Logistic Regression\n",
    "mlr_model = LogisticRegression(multi_class='multinomial', max_iter=10000)\n",
    "\n",
    "# Huấn luyện mô hình trên dữ liệu huấn luyện\n",
    "mlr_model.fit(bean_X_train, bean_y_train)"
   ]
  },
  {
   "cell_type": "code",
   "execution_count": 26,
   "metadata": {},
   "outputs": [
    {
     "name": "stdout",
     "output_type": "stream",
     "text": [
      "Accuracy on test set for multinomial logistic regression: 0.9113614103819785\n"
     ]
    }
   ],
   "source": [
    "# Dự đoán nhãn cho dữ liệu test\n",
    "mlr_y_pred = mlr_model.predict(bean_X_test)\n",
    "\n",
    "# Tính toán độ chính xác trên tập test\n",
    "mlr_accuracy = accuracy_score(bean_y_test, mlr_y_pred)\n",
    "print(\"Accuracy on test set for multinomial logistic regression:\", mlr_accuracy)"
   ]
  },
  {
   "cell_type": "markdown",
   "metadata": {},
   "source": [
    "### Thực hiện Naive Bayes"
   ]
  },
  {
   "cell_type": "code",
   "execution_count": 27,
   "metadata": {},
   "outputs": [
    {
     "data": {
      "text/html": [
       "<style>#sk-container-id-4 {color: black;background-color: white;}#sk-container-id-4 pre{padding: 0;}#sk-container-id-4 div.sk-toggleable {background-color: white;}#sk-container-id-4 label.sk-toggleable__label {cursor: pointer;display: block;width: 100%;margin-bottom: 0;padding: 0.3em;box-sizing: border-box;text-align: center;}#sk-container-id-4 label.sk-toggleable__label-arrow:before {content: \"▸\";float: left;margin-right: 0.25em;color: #696969;}#sk-container-id-4 label.sk-toggleable__label-arrow:hover:before {color: black;}#sk-container-id-4 div.sk-estimator:hover label.sk-toggleable__label-arrow:before {color: black;}#sk-container-id-4 div.sk-toggleable__content {max-height: 0;max-width: 0;overflow: hidden;text-align: left;background-color: #f0f8ff;}#sk-container-id-4 div.sk-toggleable__content pre {margin: 0.2em;color: black;border-radius: 0.25em;background-color: #f0f8ff;}#sk-container-id-4 input.sk-toggleable__control:checked~div.sk-toggleable__content {max-height: 200px;max-width: 100%;overflow: auto;}#sk-container-id-4 input.sk-toggleable__control:checked~label.sk-toggleable__label-arrow:before {content: \"▾\";}#sk-container-id-4 div.sk-estimator input.sk-toggleable__control:checked~label.sk-toggleable__label {background-color: #d4ebff;}#sk-container-id-4 div.sk-label input.sk-toggleable__control:checked~label.sk-toggleable__label {background-color: #d4ebff;}#sk-container-id-4 input.sk-hidden--visually {border: 0;clip: rect(1px 1px 1px 1px);clip: rect(1px, 1px, 1px, 1px);height: 1px;margin: -1px;overflow: hidden;padding: 0;position: absolute;width: 1px;}#sk-container-id-4 div.sk-estimator {font-family: monospace;background-color: #f0f8ff;border: 1px dotted black;border-radius: 0.25em;box-sizing: border-box;margin-bottom: 0.5em;}#sk-container-id-4 div.sk-estimator:hover {background-color: #d4ebff;}#sk-container-id-4 div.sk-parallel-item::after {content: \"\";width: 100%;border-bottom: 1px solid gray;flex-grow: 1;}#sk-container-id-4 div.sk-label:hover label.sk-toggleable__label {background-color: #d4ebff;}#sk-container-id-4 div.sk-serial::before {content: \"\";position: absolute;border-left: 1px solid gray;box-sizing: border-box;top: 0;bottom: 0;left: 50%;z-index: 0;}#sk-container-id-4 div.sk-serial {display: flex;flex-direction: column;align-items: center;background-color: white;padding-right: 0.2em;padding-left: 0.2em;position: relative;}#sk-container-id-4 div.sk-item {position: relative;z-index: 1;}#sk-container-id-4 div.sk-parallel {display: flex;align-items: stretch;justify-content: center;background-color: white;position: relative;}#sk-container-id-4 div.sk-item::before, #sk-container-id-4 div.sk-parallel-item::before {content: \"\";position: absolute;border-left: 1px solid gray;box-sizing: border-box;top: 0;bottom: 0;left: 50%;z-index: -1;}#sk-container-id-4 div.sk-parallel-item {display: flex;flex-direction: column;z-index: 1;position: relative;background-color: white;}#sk-container-id-4 div.sk-parallel-item:first-child::after {align-self: flex-end;width: 50%;}#sk-container-id-4 div.sk-parallel-item:last-child::after {align-self: flex-start;width: 50%;}#sk-container-id-4 div.sk-parallel-item:only-child::after {width: 0;}#sk-container-id-4 div.sk-dashed-wrapped {border: 1px dashed gray;margin: 0 0.4em 0.5em 0.4em;box-sizing: border-box;padding-bottom: 0.4em;background-color: white;}#sk-container-id-4 div.sk-label label {font-family: monospace;font-weight: bold;display: inline-block;line-height: 1.2em;}#sk-container-id-4 div.sk-label-container {text-align: center;}#sk-container-id-4 div.sk-container {/* jupyter's `normalize.less` sets `[hidden] { display: none; }` but bootstrap.min.css set `[hidden] { display: none !important; }` so we also need the `!important` here to be able to override the default hidden behavior on the sphinx rendered scikit-learn.org. See: https://github.com/scikit-learn/scikit-learn/issues/21755 */display: inline-block !important;position: relative;}#sk-container-id-4 div.sk-text-repr-fallback {display: none;}</style><div id=\"sk-container-id-4\" class=\"sk-top-container\"><div class=\"sk-text-repr-fallback\"><pre>GaussianNB()</pre><b>In a Jupyter environment, please rerun this cell to show the HTML representation or trust the notebook. <br />On GitHub, the HTML representation is unable to render, please try loading this page with nbviewer.org.</b></div><div class=\"sk-container\" hidden><div class=\"sk-item\"><div class=\"sk-estimator sk-toggleable\"><input class=\"sk-toggleable__control sk-hidden--visually\" id=\"sk-estimator-id-4\" type=\"checkbox\" checked><label for=\"sk-estimator-id-4\" class=\"sk-toggleable__label sk-toggleable__label-arrow\">GaussianNB</label><div class=\"sk-toggleable__content\"><pre>GaussianNB()</pre></div></div></div></div></div>"
      ],
      "text/plain": [
       "GaussianNB()"
      ]
     },
     "execution_count": 27,
     "metadata": {},
     "output_type": "execute_result"
    }
   ],
   "source": [
    "from sklearn.naive_bayes import GaussianNB\n",
    "from sklearn.metrics import accuracy_score\n",
    "\n",
    "# Khởi tạo mô hình Logistic Regression\n",
    "nb_model = GaussianNB()\n",
    "\n",
    "# Huấn luyện mô hình trên dữ liệu huấn luyện\n",
    "nb_model.fit(bean_X_train, bean_y_train)"
   ]
  },
  {
   "cell_type": "code",
   "execution_count": 28,
   "metadata": {},
   "outputs": [
    {
     "name": "stdout",
     "output_type": "stream",
     "text": [
      "Accuracy on test set for Naive Bayes: 0.7627326150832517\n"
     ]
    }
   ],
   "source": [
    "# Make predictions\n",
    "nb_y_pred = nb_model.predict(bean_X_test)\n",
    "\n",
    "# Calculate accuracy\n",
    "accuracy = accuracy_score(bean_y_test, nb_y_pred)\n",
    "print(\"Accuracy on test set for Naive Bayes:\", accuracy)"
   ]
  },
  {
   "cell_type": "markdown",
   "metadata": {},
   "source": [
    "### Thực hiện ANN"
   ]
  },
  {
   "cell_type": "code",
   "execution_count": 29,
   "metadata": {},
   "outputs": [
    {
     "name": "stdout",
     "output_type": "stream",
     "text": [
      "Epoch 1 - Accuracy: 0.6198973655700684 Validation Accuracy: 0.8363063931465149\n",
      "Epoch 100 - Accuracy: 0.9328201413154602 Validation Accuracy: 0.9380902647972107\n"
     ]
    }
   ],
   "source": [
    "from sklearn.preprocessing import StandardScaler\n",
    "from tensorflow.keras.models import Sequential\n",
    "from tensorflow.keras.layers import Dense\n",
    "\n",
    "# Standardize features by removing the mean and scaling to unit variance\n",
    "scaler = StandardScaler()\n",
    "train_bean_scaled = scaler.fit_transform(bean_X_train)\n",
    "test_bean_scaled = scaler.transform(bean_X_test)\n",
    "\n",
    "# Build the ANN model\n",
    "ann_model = Sequential()\n",
    "ann_model.add(Dense(16, activation='relu'))  # input has 16 dimension\n",
    "ann_model.add(Dense(16, activation='relu'))  # maybe 16 is good\n",
    "ann_model.add(Dense(7, activation='softmax'))   # output has 7 classes\n",
    "\n",
    "# Compile the model\n",
    "ann_model.compile(optimizer='adam', loss='sparse_categorical_crossentropy', metrics=['accuracy'])\n",
    "\n",
    "# Train model\n",
    "history = ann_model.fit(train_bean_scaled, bean_y_train, epochs=100, batch_size=32, validation_split=0.1, verbose=0)\n",
    "# verbose = 0 to remove cell output as too many output lines\n",
    "epoch_1_accuracy = history.history['accuracy'][0]\n",
    "epoch_1_val_accuracy = history.history['val_accuracy'][0]\n",
    "epoch_100_accuracy = history.history['accuracy'][-1]\n",
    "epoch_100_val_accuracy = history.history['val_accuracy'][-1]\n",
    "\n",
    "print(\"Epoch 1 - Accuracy:\", epoch_1_accuracy, \"Validation Accuracy:\", epoch_1_val_accuracy)\n",
    "print(\"Epoch 100 - Accuracy:\", epoch_100_accuracy, \"Validation Accuracy:\", epoch_100_val_accuracy)"
   ]
  },
  {
   "cell_type": "code",
   "execution_count": 31,
   "metadata": {},
   "outputs": [
    {
     "name": "stdout",
     "output_type": "stream",
     "text": [
      "Test accuracy of ANN: 0.9314397573471069\n",
      "Test loss of ANN: 0.19208857417106628\n"
     ]
    }
   ],
   "source": [
    "# Evaluate the model on the test set\n",
    "ann_test_loss, ann_test_acc = ann_model.evaluate(test_bean_scaled, bean_y_test, verbose=0)\n",
    "print('Test accuracy of ANN:', ann_test_acc)\n",
    "print('Test loss of ANN:', ann_test_loss)"
   ]
  },
  {
   "cell_type": "markdown",
   "metadata": {},
   "source": [
    "## Thực hiện MLR, Naive Bayes, ANN trên dữ liệu đã giảm chiều về 4"
   ]
  },
  {
   "cell_type": "markdown",
   "metadata": {},
   "source": [
    "### Thực hiện giảm chiều bean_X_train, bean_X_test về 4"
   ]
  },
  {
   "cell_type": "code",
   "execution_count": 32,
   "metadata": {},
   "outputs": [],
   "source": [
    "import matplotlib.pyplot as plt\n",
    "from sklearn.decomposition import PCA\n",
    "\n",
    "# Giảm chiều về 2D \n",
    "pca_4d = PCA(n_components=4)\n",
    "bean_X_train = pca_4d.fit_transform(bean_X_train)\n",
    "bean_X_test = pca_4d.fit_transform(bean_X_test)"
   ]
  },
  {
   "cell_type": "markdown",
   "metadata": {},
   "source": [
    "### Thực hiện Multinomial Logistic Regression"
   ]
  },
  {
   "cell_type": "code",
   "execution_count": 33,
   "metadata": {},
   "outputs": [
    {
     "name": "stderr",
     "output_type": "stream",
     "text": [
      "/home/harito/venv/py/lib/python3.11/site-packages/sklearn/linear_model/_logistic.py:444: ConvergenceWarning: lbfgs failed to converge (status=1):\n",
      "STOP: TOTAL NO. of ITERATIONS REACHED LIMIT.\n",
      "\n",
      "Increase the number of iterations (max_iter) or scale the data as shown in:\n",
      "    https://scikit-learn.org/stable/modules/preprocessing.html\n",
      "Please also refer to the documentation for alternative solver options:\n",
      "    https://scikit-learn.org/stable/modules/linear_model.html#logistic-regression\n",
      "  n_iter_i = _check_optimize_result(\n"
     ]
    },
    {
     "data": {
      "text/html": [
       "<style>#sk-container-id-5 {color: black;background-color: white;}#sk-container-id-5 pre{padding: 0;}#sk-container-id-5 div.sk-toggleable {background-color: white;}#sk-container-id-5 label.sk-toggleable__label {cursor: pointer;display: block;width: 100%;margin-bottom: 0;padding: 0.3em;box-sizing: border-box;text-align: center;}#sk-container-id-5 label.sk-toggleable__label-arrow:before {content: \"▸\";float: left;margin-right: 0.25em;color: #696969;}#sk-container-id-5 label.sk-toggleable__label-arrow:hover:before {color: black;}#sk-container-id-5 div.sk-estimator:hover label.sk-toggleable__label-arrow:before {color: black;}#sk-container-id-5 div.sk-toggleable__content {max-height: 0;max-width: 0;overflow: hidden;text-align: left;background-color: #f0f8ff;}#sk-container-id-5 div.sk-toggleable__content pre {margin: 0.2em;color: black;border-radius: 0.25em;background-color: #f0f8ff;}#sk-container-id-5 input.sk-toggleable__control:checked~div.sk-toggleable__content {max-height: 200px;max-width: 100%;overflow: auto;}#sk-container-id-5 input.sk-toggleable__control:checked~label.sk-toggleable__label-arrow:before {content: \"▾\";}#sk-container-id-5 div.sk-estimator input.sk-toggleable__control:checked~label.sk-toggleable__label {background-color: #d4ebff;}#sk-container-id-5 div.sk-label input.sk-toggleable__control:checked~label.sk-toggleable__label {background-color: #d4ebff;}#sk-container-id-5 input.sk-hidden--visually {border: 0;clip: rect(1px 1px 1px 1px);clip: rect(1px, 1px, 1px, 1px);height: 1px;margin: -1px;overflow: hidden;padding: 0;position: absolute;width: 1px;}#sk-container-id-5 div.sk-estimator {font-family: monospace;background-color: #f0f8ff;border: 1px dotted black;border-radius: 0.25em;box-sizing: border-box;margin-bottom: 0.5em;}#sk-container-id-5 div.sk-estimator:hover {background-color: #d4ebff;}#sk-container-id-5 div.sk-parallel-item::after {content: \"\";width: 100%;border-bottom: 1px solid gray;flex-grow: 1;}#sk-container-id-5 div.sk-label:hover label.sk-toggleable__label {background-color: #d4ebff;}#sk-container-id-5 div.sk-serial::before {content: \"\";position: absolute;border-left: 1px solid gray;box-sizing: border-box;top: 0;bottom: 0;left: 50%;z-index: 0;}#sk-container-id-5 div.sk-serial {display: flex;flex-direction: column;align-items: center;background-color: white;padding-right: 0.2em;padding-left: 0.2em;position: relative;}#sk-container-id-5 div.sk-item {position: relative;z-index: 1;}#sk-container-id-5 div.sk-parallel {display: flex;align-items: stretch;justify-content: center;background-color: white;position: relative;}#sk-container-id-5 div.sk-item::before, #sk-container-id-5 div.sk-parallel-item::before {content: \"\";position: absolute;border-left: 1px solid gray;box-sizing: border-box;top: 0;bottom: 0;left: 50%;z-index: -1;}#sk-container-id-5 div.sk-parallel-item {display: flex;flex-direction: column;z-index: 1;position: relative;background-color: white;}#sk-container-id-5 div.sk-parallel-item:first-child::after {align-self: flex-end;width: 50%;}#sk-container-id-5 div.sk-parallel-item:last-child::after {align-self: flex-start;width: 50%;}#sk-container-id-5 div.sk-parallel-item:only-child::after {width: 0;}#sk-container-id-5 div.sk-dashed-wrapped {border: 1px dashed gray;margin: 0 0.4em 0.5em 0.4em;box-sizing: border-box;padding-bottom: 0.4em;background-color: white;}#sk-container-id-5 div.sk-label label {font-family: monospace;font-weight: bold;display: inline-block;line-height: 1.2em;}#sk-container-id-5 div.sk-label-container {text-align: center;}#sk-container-id-5 div.sk-container {/* jupyter's `normalize.less` sets `[hidden] { display: none; }` but bootstrap.min.css set `[hidden] { display: none !important; }` so we also need the `!important` here to be able to override the default hidden behavior on the sphinx rendered scikit-learn.org. See: https://github.com/scikit-learn/scikit-learn/issues/21755 */display: inline-block !important;position: relative;}#sk-container-id-5 div.sk-text-repr-fallback {display: none;}</style><div id=\"sk-container-id-5\" class=\"sk-top-container\"><div class=\"sk-text-repr-fallback\"><pre>LogisticRegression(max_iter=10000, multi_class=&#x27;multinomial&#x27;)</pre><b>In a Jupyter environment, please rerun this cell to show the HTML representation or trust the notebook. <br />On GitHub, the HTML representation is unable to render, please try loading this page with nbviewer.org.</b></div><div class=\"sk-container\" hidden><div class=\"sk-item\"><div class=\"sk-estimator sk-toggleable\"><input class=\"sk-toggleable__control sk-hidden--visually\" id=\"sk-estimator-id-5\" type=\"checkbox\" checked><label for=\"sk-estimator-id-5\" class=\"sk-toggleable__label sk-toggleable__label-arrow\">LogisticRegression</label><div class=\"sk-toggleable__content\"><pre>LogisticRegression(max_iter=10000, multi_class=&#x27;multinomial&#x27;)</pre></div></div></div></div></div>"
      ],
      "text/plain": [
       "LogisticRegression(max_iter=10000, multi_class='multinomial')"
      ]
     },
     "execution_count": 33,
     "metadata": {},
     "output_type": "execute_result"
    }
   ],
   "source": [
    "from sklearn.linear_model import LogisticRegression\n",
    "from sklearn.metrics import accuracy_score\n",
    "\n",
    "# Khởi tạo mô hình Logistic Regression\n",
    "mlr_model = LogisticRegression(multi_class='multinomial', max_iter=10000)\n",
    "\n",
    "# Huấn luyện mô hình trên dữ liệu huấn luyện\n",
    "mlr_model.fit(bean_X_train, bean_y_train)"
   ]
  },
  {
   "cell_type": "code",
   "execution_count": 34,
   "metadata": {},
   "outputs": [
    {
     "name": "stdout",
     "output_type": "stream",
     "text": [
      "Accuracy on test set for multinomial logistic regression: 0.44833496571988246\n"
     ]
    }
   ],
   "source": [
    "# Dự đoán nhãn cho dữ liệu test\n",
    "mlr_y_pred = mlr_model.predict(bean_X_test)\n",
    "\n",
    "# Tính toán độ chính xác trên tập test\n",
    "mlr_accuracy = accuracy_score(bean_y_test, mlr_y_pred)\n",
    "print(\"Accuracy on test set for multinomial logistic regression:\", mlr_accuracy)"
   ]
  },
  {
   "cell_type": "markdown",
   "metadata": {},
   "source": [
    "### Thực hiện Naive Bayes"
   ]
  },
  {
   "cell_type": "code",
   "execution_count": 35,
   "metadata": {},
   "outputs": [
    {
     "data": {
      "text/html": [
       "<style>#sk-container-id-6 {color: black;background-color: white;}#sk-container-id-6 pre{padding: 0;}#sk-container-id-6 div.sk-toggleable {background-color: white;}#sk-container-id-6 label.sk-toggleable__label {cursor: pointer;display: block;width: 100%;margin-bottom: 0;padding: 0.3em;box-sizing: border-box;text-align: center;}#sk-container-id-6 label.sk-toggleable__label-arrow:before {content: \"▸\";float: left;margin-right: 0.25em;color: #696969;}#sk-container-id-6 label.sk-toggleable__label-arrow:hover:before {color: black;}#sk-container-id-6 div.sk-estimator:hover label.sk-toggleable__label-arrow:before {color: black;}#sk-container-id-6 div.sk-toggleable__content {max-height: 0;max-width: 0;overflow: hidden;text-align: left;background-color: #f0f8ff;}#sk-container-id-6 div.sk-toggleable__content pre {margin: 0.2em;color: black;border-radius: 0.25em;background-color: #f0f8ff;}#sk-container-id-6 input.sk-toggleable__control:checked~div.sk-toggleable__content {max-height: 200px;max-width: 100%;overflow: auto;}#sk-container-id-6 input.sk-toggleable__control:checked~label.sk-toggleable__label-arrow:before {content: \"▾\";}#sk-container-id-6 div.sk-estimator input.sk-toggleable__control:checked~label.sk-toggleable__label {background-color: #d4ebff;}#sk-container-id-6 div.sk-label input.sk-toggleable__control:checked~label.sk-toggleable__label {background-color: #d4ebff;}#sk-container-id-6 input.sk-hidden--visually {border: 0;clip: rect(1px 1px 1px 1px);clip: rect(1px, 1px, 1px, 1px);height: 1px;margin: -1px;overflow: hidden;padding: 0;position: absolute;width: 1px;}#sk-container-id-6 div.sk-estimator {font-family: monospace;background-color: #f0f8ff;border: 1px dotted black;border-radius: 0.25em;box-sizing: border-box;margin-bottom: 0.5em;}#sk-container-id-6 div.sk-estimator:hover {background-color: #d4ebff;}#sk-container-id-6 div.sk-parallel-item::after {content: \"\";width: 100%;border-bottom: 1px solid gray;flex-grow: 1;}#sk-container-id-6 div.sk-label:hover label.sk-toggleable__label {background-color: #d4ebff;}#sk-container-id-6 div.sk-serial::before {content: \"\";position: absolute;border-left: 1px solid gray;box-sizing: border-box;top: 0;bottom: 0;left: 50%;z-index: 0;}#sk-container-id-6 div.sk-serial {display: flex;flex-direction: column;align-items: center;background-color: white;padding-right: 0.2em;padding-left: 0.2em;position: relative;}#sk-container-id-6 div.sk-item {position: relative;z-index: 1;}#sk-container-id-6 div.sk-parallel {display: flex;align-items: stretch;justify-content: center;background-color: white;position: relative;}#sk-container-id-6 div.sk-item::before, #sk-container-id-6 div.sk-parallel-item::before {content: \"\";position: absolute;border-left: 1px solid gray;box-sizing: border-box;top: 0;bottom: 0;left: 50%;z-index: -1;}#sk-container-id-6 div.sk-parallel-item {display: flex;flex-direction: column;z-index: 1;position: relative;background-color: white;}#sk-container-id-6 div.sk-parallel-item:first-child::after {align-self: flex-end;width: 50%;}#sk-container-id-6 div.sk-parallel-item:last-child::after {align-self: flex-start;width: 50%;}#sk-container-id-6 div.sk-parallel-item:only-child::after {width: 0;}#sk-container-id-6 div.sk-dashed-wrapped {border: 1px dashed gray;margin: 0 0.4em 0.5em 0.4em;box-sizing: border-box;padding-bottom: 0.4em;background-color: white;}#sk-container-id-6 div.sk-label label {font-family: monospace;font-weight: bold;display: inline-block;line-height: 1.2em;}#sk-container-id-6 div.sk-label-container {text-align: center;}#sk-container-id-6 div.sk-container {/* jupyter's `normalize.less` sets `[hidden] { display: none; }` but bootstrap.min.css set `[hidden] { display: none !important; }` so we also need the `!important` here to be able to override the default hidden behavior on the sphinx rendered scikit-learn.org. See: https://github.com/scikit-learn/scikit-learn/issues/21755 */display: inline-block !important;position: relative;}#sk-container-id-6 div.sk-text-repr-fallback {display: none;}</style><div id=\"sk-container-id-6\" class=\"sk-top-container\"><div class=\"sk-text-repr-fallback\"><pre>GaussianNB()</pre><b>In a Jupyter environment, please rerun this cell to show the HTML representation or trust the notebook. <br />On GitHub, the HTML representation is unable to render, please try loading this page with nbviewer.org.</b></div><div class=\"sk-container\" hidden><div class=\"sk-item\"><div class=\"sk-estimator sk-toggleable\"><input class=\"sk-toggleable__control sk-hidden--visually\" id=\"sk-estimator-id-6\" type=\"checkbox\" checked><label for=\"sk-estimator-id-6\" class=\"sk-toggleable__label sk-toggleable__label-arrow\">GaussianNB</label><div class=\"sk-toggleable__content\"><pre>GaussianNB()</pre></div></div></div></div></div>"
      ],
      "text/plain": [
       "GaussianNB()"
      ]
     },
     "execution_count": 35,
     "metadata": {},
     "output_type": "execute_result"
    }
   ],
   "source": [
    "from sklearn.naive_bayes import GaussianNB\n",
    "from sklearn.metrics import accuracy_score\n",
    "\n",
    "# Khởi tạo mô hình Logistic Regression\n",
    "nb_model = GaussianNB()\n",
    "\n",
    "# Huấn luyện mô hình trên dữ liệu huấn luyện\n",
    "nb_model.fit(bean_X_train, bean_y_train)"
   ]
  },
  {
   "cell_type": "code",
   "execution_count": 36,
   "metadata": {},
   "outputs": [
    {
     "name": "stdout",
     "output_type": "stream",
     "text": [
      "Accuracy on test set for Naive Bayes: 0.4821253672869736\n"
     ]
    }
   ],
   "source": [
    "# Make predictions\n",
    "nb_y_pred = nb_model.predict(bean_X_test)\n",
    "\n",
    "# Calculate accuracy\n",
    "accuracy = accuracy_score(bean_y_test, nb_y_pred)\n",
    "print(\"Accuracy on test set for Naive Bayes:\", accuracy)"
   ]
  },
  {
   "cell_type": "markdown",
   "metadata": {},
   "source": [
    "### Thực hiện ANN"
   ]
  },
  {
   "cell_type": "code",
   "execution_count": 37,
   "metadata": {},
   "outputs": [
    {
     "name": "stdout",
     "output_type": "stream",
     "text": [
      "Epoch 1 - Accuracy: 0.29577794671058655 Validation Accuracy: 0.44491079449653625\n",
      "Epoch 100 - Accuracy: 0.9124096035957336 Validation Accuracy: 0.9076600074768066\n"
     ]
    }
   ],
   "source": [
    "from sklearn.preprocessing import StandardScaler\n",
    "from tensorflow.keras.models import Sequential\n",
    "from tensorflow.keras.layers import Dense\n",
    "\n",
    "# Standardize features by removing the mean and scaling to unit variance\n",
    "scaler = StandardScaler()\n",
    "train_bean_scaled = scaler.fit_transform(bean_X_train)\n",
    "test_bean_scaled = scaler.transform(bean_X_test)\n",
    "\n",
    "# Build the ANN model\n",
    "ann_model = Sequential()\n",
    "ann_model.add(Dense(4, activation='relu'))  # input has 4 dimension\n",
    "ann_model.add(Dense(4, activation='relu'))  # maybe 4 is good\n",
    "ann_model.add(Dense(7, activation='softmax'))   # output has 7 classes\n",
    "\n",
    "# Compile the model\n",
    "ann_model.compile(optimizer='adam', loss='sparse_categorical_crossentropy', metrics=['accuracy'])\n",
    "\n",
    "# Train model\n",
    "history = ann_model.fit(train_bean_scaled, bean_y_train, epochs=100, batch_size=32, validation_split=0.1, verbose=0)\n",
    "# verbose = 0 to remove cell output as too many output lines\n",
    "epoch_1_accuracy = history.history['accuracy'][0]\n",
    "epoch_1_val_accuracy = history.history['val_accuracy'][0]\n",
    "epoch_100_accuracy = history.history['accuracy'][-1]\n",
    "epoch_100_val_accuracy = history.history['val_accuracy'][-1]\n",
    "\n",
    "print(\"Epoch 1 - Accuracy:\", epoch_1_accuracy, \"Validation Accuracy:\", epoch_1_val_accuracy)\n",
    "print(\"Epoch 100 - Accuracy:\", epoch_100_accuracy, \"Validation Accuracy:\", epoch_100_val_accuracy)"
   ]
  },
  {
   "cell_type": "code",
   "execution_count": 38,
   "metadata": {},
   "outputs": [
    {
     "name": "stdout",
     "output_type": "stream",
     "text": [
      "Test accuracy of ANN: 0.5002448558807373\n",
      "Test loss of ANN: 3.219850778579712\n"
     ]
    }
   ],
   "source": [
    "# Evaluate the model on the test set\n",
    "ann_test_loss, ann_test_acc = ann_model.evaluate(test_bean_scaled, bean_y_test, verbose=0)\n",
    "print('Test accuracy of ANN:', ann_test_acc)\n",
    "print('Test loss of ANN:', ann_test_loss)"
   ]
  },
  {
   "cell_type": "markdown",
   "metadata": {},
   "source": [
    "## Tổng kết nhận xét "
   ]
  },
  {
   "cell_type": "markdown",
   "metadata": {},
   "source": [
    "Với Multinomial Logistic Regression ta có:  \n",
    " - 0.9113614103819785 khi giữ nguyên số chiều  \n",
    " - 0.44833496571988246 khi giảm số chiều về 4  \n",
    "Như vậy biến thiên là: 0.463026444662096  \n",
    "  \n",
    "Với Naive Bayes ta có:  \n",
    " - 0.7627326150832517 khi giữ nguyên số chiều  \n",
    " - 0.4821253672869736 khi giảm số chiều về 4  \n",
    "Như vậy biến thiên là: 0.28060724779627816  \n",
    "  \n",
    "Với ANN ta có:  \n",
    " - 0.9314397573471069 khi giữ nguyên số chiều  \n",
    " - 0.5002448558807373 khi giảm số chiều về 4  \n",
    "Như vậy biến thiên là: 0.43119490146636963  \n",
    "  \n",
    "Và như vậy ta thấy mức độ bị ảnh hưởng khi giảm số chiều về 4 lần lượt là: Multinomial Logistic Regression > ANN > Naive Bayes"
   ]
  }
 ],
 "metadata": {
  "authors": [
   {
    "name": "Pham Ngoc Hai"
   }
  ],
  "kernelspec": {
   "display_name": "py",
   "language": "python",
   "name": "python3"
  },
  "language_info": {
   "codemirror_mode": {
    "name": "ipython",
    "version": 3
   },
   "file_extension": ".py",
   "mimetype": "text/x-python",
   "name": "python",
   "nbconvert_exporter": "python",
   "pygments_lexer": "ipython3",
   "version": "3.11.8"
  }
 },
 "nbformat": 4,
 "nbformat_minor": 2
}
