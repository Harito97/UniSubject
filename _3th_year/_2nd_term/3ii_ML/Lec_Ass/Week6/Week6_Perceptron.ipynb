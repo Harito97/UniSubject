{
  "cells": [
    {
      "cell_type": "markdown",
      "metadata": {},
      "source": [
        "# Ví dụ 1.  \n",
        "Ví dụ về xây dựng mô hình Perceptron "
      ]
    },
    {
      "cell_type": "markdown",
      "metadata": {},
      "source": [
        "Khởi tạo dữ liệu 2D"
      ]
    },
    {
      "cell_type": "code",
      "execution_count": 1,
      "metadata": {},
      "outputs": [],
      "source": [
        "import numpy as np\n",
        "import matplotlib.pyplot as plt\n",
        "\n",
        "np.random.seed(2)\n",
        "\n",
        "means = [[2, 2], [4, 2]]\n",
        "cov = [[0.3, 0.2], [0.2, 0.3]]\n",
        "N = 30\n",
        "X0 = np.random.multivariate_normal(means[0], cov, N).T\n",
        "X1 = np.random.multivariate_normal(means[1], cov, N).T\n",
        "\n",
        "\n",
        "X = np.concatenate((X0, X1), axis=1)\n",
        "y = np.concatenate((np.ones((1, N)), -1 * np.ones((1, N))), axis=1)\n",
        "# Xbar\n",
        "X = np.concatenate((np.ones((1, 2 * N)), X), axis=0)"
      ]
    },
    {
      "cell_type": "markdown",
      "metadata": {},
      "source": [
        "Hiển thị kết quả"
      ]
    },
    {
      "cell_type": "code",
      "execution_count": 2,
      "metadata": {},
      "outputs": [
        {
          "data": {
            "image/png": "[encoded data removed]",
            "text/plain": [
              "<Figure size 500x500 with 1 Axes>"
            ]
          },
          "metadata": {},
          "output_type": "display_data"
        }
      ],
      "source": [
        "fig, ax = plt.subplots(figsize=(5, 5))   \n",
        " \n",
        "ani = plt.cla() \n",
        "#plot points \n",
        "ani = plt.plot(X0[0, :], X0[1, :], 'b^', markersize = 8, alpha = .8) \n",
        "ani = plt.plot(X1[0, :], X1[1, :], 'ro', markersize = 8, alpha = .8) \n",
        "ani = plt.axis([0 , 6, -2, 4]) \n",
        "plt.show() "
      ]
    },
    {
      "cell_type": "markdown",
      "metadata": {},
      "source": [
        "## Tự xây dựng hàm"
      ]
    },
    {
      "cell_type": "markdown",
      "metadata": {},
      "source": [
        "Xây dựng hàm $y = h_{w}(x) = w_0 + w^{T} * x$"
      ]
    },
    {
      "cell_type": "code",
      "execution_count": 3,
      "metadata": {},
      "outputs": [],
      "source": [
        "# Define h_w(x):= W^T.x + w_0 = \\bar{W}^T . \\bar{x} \n",
        "def h(w, x):     \n",
        "    return np.sign(np.dot(w.T, x))"
      ]
    },
    {
      "cell_type": "markdown",
      "metadata": {},
      "source": [
        "Xây dựng hàm kiểm tra điều kiện dừng"
      ]
    },
    {
      "cell_type": "code",
      "execution_count": 4,
      "metadata": {},
      "outputs": [],
      "source": [
        "#Stop condition \n",
        "def has_converged(X, y, w): \n",
        "    return np.array_equal(h(w, X), y) #True if h(w, X) == y else False "
      ]
    },
    {
      "cell_type": "markdown",
      "metadata": {},
      "source": [
        "Xây dựng hàm perceptron tìm bộ hệ số W theo phương pháp Gradient Descent"
      ]
    },
    {
      "cell_type": "code",
      "execution_count": 5,
      "metadata": {},
      "outputs": [],
      "source": [
        "def perceptron(X, y, w_init):\n",
        "    w = [w_init]\n",
        "    N = X.shape[1]\n",
        "    mis_points = []  # set of miss position points\n",
        "    while True:\n",
        "        # mix data\n",
        "        mix_id = np.random.permutation(N)\n",
        "        for i in range(N):\n",
        "            xi = X[:, mix_id[i]].reshape(3, 1)\n",
        "            yi = y[0, mix_id[i]]\n",
        "            if h(w[-1], xi)[0] != yi:\n",
        "                mis_points.append(mix_id[i])\n",
        "                w_new = w[-1] + yi * xi\n",
        "\n",
        "                w.append(w_new)\n",
        "\n",
        "        if has_converged(X, y, w[-1]):\n",
        "            break\n",
        "    return (w, mis_points)"
      ]
    },
    {
      "cell_type": "markdown",
      "metadata": {},
      "source": [
        "Gọi hàm và in ra trọng số W ở vòng lặp cuối"
      ]
    },
    {
      "cell_type": "code",
      "execution_count": 6,
      "metadata": {},
      "outputs": [
        {
          "name": "stdout",
          "output_type": "stream",
          "text": [
            "[[ 13.97858527]\n",
            " [-15.02901929]\n",
            " [ 14.38743059]]\n"
          ]
        }
      ],
      "source": [
        "d = X.shape[0]\n",
        "w_init = np.random.randn(d, 1)\n",
        "(w, m) = perceptron(X, y, w_init)\n",
        "print(w[-1])"
      ]
    },
    {
      "cell_type": "markdown",
      "metadata": {},
      "source": [
        "Xây dựng hàm vẽ đường phân chia quan sát kết quả"
      ]
    },
    {
      "cell_type": "code",
      "execution_count": 7,
      "metadata": {},
      "outputs": [],
      "source": [
        "def draw_line(w):\n",
        "    w0, w1, w2 = w[0], w[1], w[2]\n",
        "    if w2 != 0:\n",
        "        x11, x12 = -100, 100\n",
        "        return plt.plot([x11, x12], [-(w1 * x11 + w0) / w2, -(w1 * x12 + w0) / w2], \"k\")\n",
        "    else:\n",
        "        x10 = -w0 / w1\n",
        "        return plt.plot([x10, x10], [-100, 100], \"k\")"
      ]
    },
    {
      "cell_type": "markdown",
      "metadata": {},
      "source": [
        "Sử dụng hình ảnh động GIF để theo dõi kết quả tìm W qua các bước lặp. Tên ảnh kết quả là pla_vis.gif "
      ]
    },
    {
      "cell_type": "code",
      "execution_count": 8,
      "metadata": {},
      "outputs": [
        {
          "data": {
            "image/png": "[encoded data removed]",
            "text/plain": [
              "<Figure size 500x500 with 1 Axes>"
            ]
          },
          "metadata": {},
          "output_type": "display_data"
        }
      ],
      "source": [
        "## Visualization\n",
        "import matplotlib.animation as animation\n",
        "from matplotlib.animation import FuncAnimation\n",
        "\n",
        "\n",
        "def viz_alg_1d_2(w):\n",
        "    it = len(w)\n",
        "    fig, ax = plt.subplots(figsize=(5, 5))\n",
        "\n",
        "    def update(i):\n",
        "        ani = plt.cla()\n",
        "        # points\n",
        "        ani = plt.plot(X0[0, :], X0[1, :], \"b^\", markersize=8, alpha=0.8)\n",
        "        ani = plt.plot(X1[0, :], X1[1, :], \"ro\", markersize=8, alpha=0.8)\n",
        "        ani = plt.axis([0, 6, -2, 4])\n",
        "        i2 = i if i < it else it - 1\n",
        "        ani = draw_line(w[i2])\n",
        "        if i < it - 1:\n",
        "            # draw one  misclassified point\n",
        "            circle = plt.Circle((X[1, m[i]], X[2, m[i]]), 0.15, color=\"k\", fill=False)\n",
        "            ax.add_artist(circle)\n",
        "        # hide axis\n",
        "        cur_axes = plt.gca()\n",
        "        cur_axes.axes.get_xaxis().set_ticks([])\n",
        "        cur_axes.axes.get_yaxis().set_ticks([])\n",
        "\n",
        "        label = \"PLA: iter %d/%d\" % (i2, it - 1)\n",
        "        ax.set_xlabel(label)\n",
        "        return ani, ax\n",
        "\n",
        "    anim = FuncAnimation(fig, update, frames=np.arange(0, it + 2), interval=1000)\n",
        "    # save\n",
        "    anim.save(\"W6_pla_vis.gif\", dpi=100, writer=\"imagemagick\")\n",
        "    plt.show()\n",
        "\n",
        "\n",
        "viz_alg_1d_2(w)"
      ]
    },
    {
      "cell_type": "markdown",
      "metadata": {},
      "source": [
        "## Sử dụng thư viện"
      ]
    },
    {
      "cell_type": "markdown",
      "metadata": {},
      "source": [
        "Init: Perceptron() trong thư viện\n",
        "Fit: .fit(X_train, y_train)\n",
        "Predict: .predict(X_validation)\n",
        "Hệ số: .coef_"
      ]
    },
    {
      "cell_type": "markdown",
      "metadata": {},
      "source": [
        "# Ví dụ 2  \n",
        "Phương pháp Perceptron cho dữ liệu sóng thủy âm Sonar"
      ]
    },
    {
      "cell_type": "markdown",
      "metadata": {},
      "source": [
        "Tệp dữ liệu có 60 cột ứng với 60 thuộc tính (trường) không có tiêu đề, là tham số của các mẫu sóng âm phản hồi; cột thứ 61 là đầu \n",
        "ra phân loại (y), với ký tự “R” nghĩa là Rock; ký tự “M” nghĩa là Mine (vật thể kim loại hình trụ). Toàn \n",
        "bộ tệp có 208 bản ghi.  \n",
        "  \n",
        "Thông tin thêm về dữ liệu có thể tìm hiểu tại link \n",
        "https://archive.ics.uci.edu/ml/datasets/Connectionist+Bench+(Sonar,+Mines+vs.+Rocks) hoặc có thể lấy \n",
        "trong tệp Sonar.all-data.csv đính kèm. "
      ]
    },
    {
      "cell_type": "markdown",
      "metadata": {},
      "source": [
        "Trong ví dụ này chúng ta sử dụng thư viện matplotlib và seaborn để thực hiện việc hiển thị trực quan cấu \n",
        "trúc dữ liệu (tham khảo lại bài thực hành phần PCA). "
      ]
    },
    {
      "cell_type": "markdown",
      "metadata": {},
      "source": [
        "## Đọc data"
      ]
    },
    {
      "cell_type": "code",
      "execution_count": 52,
      "metadata": {},
      "outputs": [],
      "source": [
        "import numpy as np # linear algebra \n",
        "import pandas as pd # data processing, CSV file I/O (e.g. pd.read_csv) \n",
        "from matplotlib import pyplot \n",
        "import matplotlib.pyplot as plt \n",
        "import seaborn as sns"
      ]
    },
    {
      "cell_type": "code",
      "execution_count": 53,
      "metadata": {},
      "outputs": [
        {
          "data": {
            "text/html": [
              "<div>\n",
              "<style scoped>\n",
              "    .dataframe tbody tr th:only-of-type {\n",
              "        vertical-align: middle;\n",
              "    }\n",
              "\n",
              "    .dataframe tbody tr th {\n",
              "        vertical-align: top;\n",
              "    }\n",
              "\n",
              "    .dataframe thead th {\n",
              "        text-align: right;\n",
              "    }\n",
              "</style>\n",
              "<table border=\"1\" class=\"dataframe\">\n",
              "  <thead>\n",
              "    <tr style=\"text-align: right;\">\n",
              "      <th></th>\n",
              "      <th>0</th>\n",
              "      <th>1</th>\n",
              "      <th>2</th>\n",
              "      <th>3</th>\n",
              "      <th>4</th>\n",
              "      <th>5</th>\n",
              "      <th>6</th>\n",
              "      <th>7</th>\n",
              "      <th>8</th>\n",
              "      <th>9</th>\n",
              "      <th>...</th>\n",
              "      <th>51</th>\n",
              "      <th>52</th>\n",
              "      <th>53</th>\n",
              "      <th>54</th>\n",
              "      <th>55</th>\n",
              "      <th>56</th>\n",
              "      <th>57</th>\n",
              "      <th>58</th>\n",
              "      <th>59</th>\n",
              "      <th>60</th>\n",
              "    </tr>\n",
              "  </thead>\n",
              "  <tbody>\n",
              "    <tr>\n",
              "      <th>0</th>\n",
              "      <td>0.0200</td>\n",
              "      <td>0.0371</td>\n",
              "      <td>0.0428</td>\n",
              "      <td>0.0207</td>\n",
              "      <td>0.0954</td>\n",
              "      <td>0.0986</td>\n",
              "      <td>0.1539</td>\n",
              "      <td>0.1601</td>\n",
              "      <td>0.3109</td>\n",
              "      <td>0.2111</td>\n",
              "      <td>...</td>\n",
              "      <td>0.0027</td>\n",
              "      <td>0.0065</td>\n",
              "      <td>0.0159</td>\n",
              "      <td>0.0072</td>\n",
              "      <td>0.0167</td>\n",
              "      <td>0.0180</td>\n",
              "      <td>0.0084</td>\n",
              "      <td>0.0090</td>\n",
              "      <td>0.0032</td>\n",
              "      <td>R</td>\n",
              "    </tr>\n",
              "    <tr>\n",
              "      <th>1</th>\n",
              "      <td>0.0453</td>\n",
              "      <td>0.0523</td>\n",
              "      <td>0.0843</td>\n",
              "      <td>0.0689</td>\n",
              "      <td>0.1183</td>\n",
              "      <td>0.2583</td>\n",
              "      <td>0.2156</td>\n",
              "      <td>0.3481</td>\n",
              "      <td>0.3337</td>\n",
              "      <td>0.2872</td>\n",
              "      <td>...</td>\n",
              "      <td>0.0084</td>\n",
              "      <td>0.0089</td>\n",
              "      <td>0.0048</td>\n",
              "      <td>0.0094</td>\n",
              "      <td>0.0191</td>\n",
              "      <td>0.0140</td>\n",
              "      <td>0.0049</td>\n",
              "      <td>0.0052</td>\n",
              "      <td>0.0044</td>\n",
              "      <td>R</td>\n",
              "    </tr>\n",
              "    <tr>\n",
              "      <th>2</th>\n",
              "      <td>0.0262</td>\n",
              "      <td>0.0582</td>\n",
              "      <td>0.1099</td>\n",
              "      <td>0.1083</td>\n",
              "      <td>0.0974</td>\n",
              "      <td>0.2280</td>\n",
              "      <td>0.2431</td>\n",
              "      <td>0.3771</td>\n",
              "      <td>0.5598</td>\n",
              "      <td>0.6194</td>\n",
              "      <td>...</td>\n",
              "      <td>0.0232</td>\n",
              "      <td>0.0166</td>\n",
              "      <td>0.0095</td>\n",
              "      <td>0.0180</td>\n",
              "      <td>0.0244</td>\n",
              "      <td>0.0316</td>\n",
              "      <td>0.0164</td>\n",
              "      <td>0.0095</td>\n",
              "      <td>0.0078</td>\n",
              "      <td>R</td>\n",
              "    </tr>\n",
              "    <tr>\n",
              "      <th>3</th>\n",
              "      <td>0.0100</td>\n",
              "      <td>0.0171</td>\n",
              "      <td>0.0623</td>\n",
              "      <td>0.0205</td>\n",
              "      <td>0.0205</td>\n",
              "      <td>0.0368</td>\n",
              "      <td>0.1098</td>\n",
              "      <td>0.1276</td>\n",
              "      <td>0.0598</td>\n",
              "      <td>0.1264</td>\n",
              "      <td>...</td>\n",
              "      <td>0.0121</td>\n",
              "      <td>0.0036</td>\n",
              "      <td>0.0150</td>\n",
              "      <td>0.0085</td>\n",
              "      <td>0.0073</td>\n",
              "      <td>0.0050</td>\n",
              "      <td>0.0044</td>\n",
              "      <td>0.0040</td>\n",
              "      <td>0.0117</td>\n",
              "      <td>R</td>\n",
              "    </tr>\n",
              "    <tr>\n",
              "      <th>4</th>\n",
              "      <td>0.0762</td>\n",
              "      <td>0.0666</td>\n",
              "      <td>0.0481</td>\n",
              "      <td>0.0394</td>\n",
              "      <td>0.0590</td>\n",
              "      <td>0.0649</td>\n",
              "      <td>0.1209</td>\n",
              "      <td>0.2467</td>\n",
              "      <td>0.3564</td>\n",
              "      <td>0.4459</td>\n",
              "      <td>...</td>\n",
              "      <td>0.0031</td>\n",
              "      <td>0.0054</td>\n",
              "      <td>0.0105</td>\n",
              "      <td>0.0110</td>\n",
              "      <td>0.0015</td>\n",
              "      <td>0.0072</td>\n",
              "      <td>0.0048</td>\n",
              "      <td>0.0107</td>\n",
              "      <td>0.0094</td>\n",
              "      <td>R</td>\n",
              "    </tr>\n",
              "  </tbody>\n",
              "</table>\n",
              "<p>5 rows × 61 columns</p>\n",
              "</div>"
            ],
            "text/plain": [
              "       0       1       2       3       4       5       6       7       8   \\\n",
              "0  0.0200  0.0371  0.0428  0.0207  0.0954  0.0986  0.1539  0.1601  0.3109   \n",
              "1  0.0453  0.0523  0.0843  0.0689  0.1183  0.2583  0.2156  0.3481  0.3337   \n",
              "2  0.0262  0.0582  0.1099  0.1083  0.0974  0.2280  0.2431  0.3771  0.5598   \n",
              "3  0.0100  0.0171  0.0623  0.0205  0.0205  0.0368  0.1098  0.1276  0.0598   \n",
              "4  0.0762  0.0666  0.0481  0.0394  0.0590  0.0649  0.1209  0.2467  0.3564   \n",
              "\n",
              "       9   ...      51      52      53      54      55      56      57  \\\n",
              "0  0.2111  ...  0.0027  0.0065  0.0159  0.0072  0.0167  0.0180  0.0084   \n",
              "1  0.2872  ...  0.0084  0.0089  0.0048  0.0094  0.0191  0.0140  0.0049   \n",
              "2  0.6194  ...  0.0232  0.0166  0.0095  0.0180  0.0244  0.0316  0.0164   \n",
              "3  0.1264  ...  0.0121  0.0036  0.0150  0.0085  0.0073  0.0050  0.0044   \n",
              "4  0.4459  ...  0.0031  0.0054  0.0105  0.0110  0.0015  0.0072  0.0048   \n",
              "\n",
              "       58      59  60  \n",
              "0  0.0090  0.0032   R  \n",
              "1  0.0052  0.0044   R  \n",
              "2  0.0095  0.0078   R  \n",
              "3  0.0040  0.0117   R  \n",
              "4  0.0107  0.0094   R  \n",
              "\n",
              "[5 rows x 61 columns]"
            ]
          },
          "execution_count": 53,
          "metadata": {},
          "output_type": "execute_result"
        }
      ],
      "source": [
        "main_df = pd.read_csv('data/sonar.all-data.csv',header=None) \n",
        "main_df[:5]"
      ]
    },
    {
      "cell_type": "markdown",
      "metadata": {},
      "source": [
        "Kiểm tra độ cân bằng dữ liệu"
      ]
    },
    {
      "cell_type": "code",
      "execution_count": 54,
      "metadata": {},
      "outputs": [
        {
          "data": {
            "text/plain": [
              "<Axes: ylabel='60'>"
            ]
          },
          "execution_count": 54,
          "metadata": {},
          "output_type": "execute_result"
        },
        {
          "data": {
            "image/png": "[encoded data removed]",
            "text/plain": [
              "<Figure size 640x480 with 1 Axes>"
            ]
          },
          "metadata": {},
          "output_type": "display_data"
        }
      ],
      "source": [
        "main_df[60].value_counts().plot(kind='barh') "
      ]
    },
    {
      "cell_type": "markdown",
      "metadata": {},
      "source": [
        "Mã hóa nhãn của dữ liệu"
      ]
    },
    {
      "cell_type": "code",
      "execution_count": 55,
      "metadata": {},
      "outputs": [
        {
          "name": "stdout",
          "output_type": "stream",
          "text": [
            "[-1, -1, -1, -1, -1, -1, -1, -1, -1, -1]\n"
          ]
        }
      ],
      "source": [
        "y_df = main_df[60] \n",
        "targes_label = {'M': 1,'R': -1} \n",
        "targes_df = [targes_label[item] for item in y_df] \n",
        "print(targes_df[:10])"
      ]
    },
    {
      "cell_type": "markdown",
      "metadata": {},
      "source": [
        "Loại bỏ cột nhãn khỏi X và đồng thời thêm cột dữ liệu $x_0 = 1$ vào bên trái"
      ]
    },
    {
      "cell_type": "code",
      "execution_count": 56,
      "metadata": {},
      "outputs": [],
      "source": [
        "inputs_df = main_df.drop(60, axis=1)\n",
        "x0 = np.ones(( inputs_df.shape[0], 1)) \n",
        "X = np.concatenate((x0, inputs_df), axis = 1)"
      ]
    },
    {
      "cell_type": "markdown",
      "metadata": {},
      "source": [
        "Phân chia train/test"
      ]
    },
    {
      "cell_type": "code",
      "execution_count": 57,
      "metadata": {},
      "outputs": [],
      "source": [
        "from sklearn.model_selection import train_test_split\n",
        "\n",
        "X_train, X_test, y_train, y_test = train_test_split(\n",
        "    X, targes_df, test_size=0.30, random_state=42\n",
        ")"
      ]
    },
    {
      "cell_type": "code",
      "execution_count": 59,
      "metadata": {},
      "outputs": [
        {
          "data": {
            "text/plain": [
              "61"
            ]
          },
          "execution_count": 59,
          "metadata": {},
          "output_type": "execute_result"
        }
      ],
      "source": [
        "len(X_train[1])"
      ]
    },
    {
      "cell_type": "markdown",
      "metadata": {},
      "source": [
        "## sử dụng các hàm đã có ở Ví dụ 1, sau đó huấn luyện mô hình bằng tập dữ liệu X_train, y_train.  \n",
        "Chú ý chúng ta cần bỏ qua các phần lệnh phục vụ việc hiển thị kết quả dạng hình vẽ."
      ]
    },
    {
      "cell_type": "markdown",
      "metadata": {},
      "source": [
        "Define lại hàm điều kiện dừng và Perceptron cho phù hợp với dữ liệu mới  "
      ]
    },
    {
      "cell_type": "code",
      "execution_count": 60,
      "metadata": {},
      "outputs": [],
      "source": [
        "# Define h_w(x):= W^T.x + w_0 = \\bar{W}^T . \\bar{x} \n",
        "def h(w, x):     \n",
        "    return np.sign(np.dot(w.T, x))"
      ]
    },
    {
      "cell_type": "code",
      "execution_count": 61,
      "metadata": {},
      "outputs": [],
      "source": [
        "#Stop condition \n",
        "def has_converged(X, y, w, iter, iter_max): \n",
        "    return np.array_equal(h(w, X), y) or iter >= iter_max #True if h(w, X) == y else False "
      ]
    },
    {
      "cell_type": "code",
      "execution_count": 62,
      "metadata": {},
      "outputs": [],
      "source": [
        "def perceptron(X, y, w_init):\n",
        "    w = [w_init]\n",
        "    N = X.shape[1]\n",
        "    mis_points = []  # set of miss position points\n",
        "    iter = 0\n",
        "    while True:\n",
        "        # mix data\n",
        "        mix_id = np.random.permutation(N)\n",
        "        for i in range(N):\n",
        "            xi = X[:, mix_id[i]].reshape(X.shape[0], 1)\n",
        "            yi = y[mix_id[i]]\n",
        "            if h(w[-1], xi)[0] != yi:\n",
        "                mis_points.append(mix_id[i])\n",
        "                w_new = w[-1] + yi * xi\n",
        "\n",
        "                w.append(w_new)\n",
        "        iter += 1\n",
        "        if has_converged(X, y, w[-1], iter=iter, iter_max=100):\n",
        "            break\n",
        "    return (w, mis_points)"
      ]
    },
    {
      "cell_type": "code",
      "execution_count": 63,
      "metadata": {},
      "outputs": [
        {
          "data": {
            "text/plain": [
              "(145, 61)"
            ]
          },
          "execution_count": 63,
          "metadata": {},
          "output_type": "execute_result"
        }
      ],
      "source": [
        "X_train.shape"
      ]
    },
    {
      "cell_type": "code",
      "execution_count": 66,
      "metadata": {},
      "outputs": [
        {
          "name": "stdout",
          "output_type": "stream",
          "text": [
            "[[-19.51549353]\n",
            " [  8.4783404 ]\n",
            " [  3.0473796 ]\n",
            " [ -1.76819725]\n",
            " [ 25.45793226]\n",
            " [ 18.11251942]\n",
            " [ -3.44987826]\n",
            " [-12.91432069]\n",
            " [-13.76814864]\n",
            " [ 12.82660517]\n",
            " [ -3.88746975]\n",
            " [ 26.96751641]\n",
            " [ 16.70276886]\n",
            " [ -4.54944513]\n",
            " [ -5.19036106]\n",
            " [  2.65021512]\n",
            " [ -8.65523539]\n",
            " [  3.0253903 ]\n",
            " [ -0.22136196]\n",
            " [  3.86076562]\n",
            " [  0.89510557]\n",
            " [  2.28829872]\n",
            " [  6.65804216]\n",
            " [ -1.10040095]\n",
            " [ 14.39158376]\n",
            " [ -6.61639862]\n",
            " [ -0.26164739]\n",
            " [  0.8694338 ]\n",
            " [  3.89260088]\n",
            " [ -4.68572594]\n",
            " [ 15.58137744]\n",
            " [-29.59818276]\n",
            " [  9.25271541]\n",
            " [ 11.67148951]\n",
            " [ -8.89930037]\n",
            " [ -1.07480891]\n",
            " [ -5.56609902]\n",
            " [-13.49367682]\n",
            " [  1.32799013]\n",
            " [ 11.16426092]\n",
            " [-16.53016749]\n",
            " [ -3.269497  ]\n",
            " [ -0.52447604]\n",
            " [ 16.74295764]\n",
            " [  4.57334569]\n",
            " [  8.49222394]\n",
            " [ 15.44394012]\n",
            " [  1.63027713]\n",
            " [ 14.5270577 ]\n",
            " [ 17.02975427]\n",
            " [ -2.04464964]\n",
            " [  5.67281596]\n",
            " [  3.44000187]\n",
            " [  1.77655422]\n",
            " [  6.04957496]\n",
            " [  1.8102306 ]\n",
            " [ -2.192323  ]\n",
            " [ -1.27174869]\n",
            " [  2.59713359]\n",
            " [  3.05637299]\n",
            " [  1.61307937]]\n"
          ]
        }
      ],
      "source": [
        "d = X_train.shape[1]\n",
        "w_init = np.random.randn(d, 1)\n",
        "(w, m) = perceptron(X_train.T, y_train, w_init)\n",
        "print(w[-1])"
      ]
    },
    {
      "cell_type": "code",
      "execution_count": 67,
      "metadata": {},
      "outputs": [
        {
          "data": {
            "text/plain": [
              "(61, 1)"
            ]
          },
          "execution_count": 67,
          "metadata": {},
          "output_type": "execute_result"
        }
      ],
      "source": [
        "w[-1].shape"
      ]
    },
    {
      "cell_type": "markdown",
      "metadata": {},
      "source": [
        "## Chạy với dữ liệu test đã có và tính độ chính xác "
      ]
    },
    {
      "cell_type": "code",
      "execution_count": 71,
      "metadata": {},
      "outputs": [
        {
          "name": "stdout",
          "output_type": "stream",
          "text": [
            "[[ 1. -1. -1. -1. -1.  1.  1. -1. -1.  1.  1. -1.  1.  1.  1.  1.  1.  1.\n",
            "   1. -1.  1.  1. -1.  1. -1. -1. -1. -1.  1.  1.  1. -1. -1.  1.  1.  1.\n",
            "   1. -1. -1.  1. -1. -1. -1.  1. -1.  1.  1.  1. -1. -1. -1.  1. -1.  1.\n",
            "   1.  1.  1. -1. -1.  1. -1.  1.  1.]]\n"
          ]
        }
      ],
      "source": [
        "# Áp dụng hàm dự đoán cho dữ liệu test\n",
        "predictions = h(w[-1], X_test.T)\n",
        "\n",
        "# In kết quả dự đoán\n",
        "print(predictions[:5])\n"
      ]
    },
    {
      "cell_type": "code",
      "execution_count": 72,
      "metadata": {},
      "outputs": [
        {
          "data": {
            "text/plain": [
              "(1, 63)"
            ]
          },
          "execution_count": 72,
          "metadata": {},
          "output_type": "execute_result"
        }
      ],
      "source": [
        "predictions.shape"
      ]
    },
    {
      "cell_type": "code",
      "execution_count": 73,
      "metadata": {},
      "outputs": [
        {
          "data": {
            "text/plain": [
              "63"
            ]
          },
          "execution_count": 73,
          "metadata": {},
          "output_type": "execute_result"
        }
      ],
      "source": [
        "len(y_test)"
      ]
    },
    {
      "cell_type": "code",
      "execution_count": 79,
      "metadata": {},
      "outputs": [
        {
          "name": "stdout",
          "output_type": "stream",
          "text": [
            "Accuracy: 0.8095238095238095\n",
            "Precision: 0.8285714285714286\n",
            "Recall: 0.8285714285714286\n"
          ]
        }
      ],
      "source": [
        "from sklearn.metrics import accuracy_score, precision_score, recall_score\n",
        "\n",
        "# Tính accuracy\n",
        "accuracy = accuracy_score(y_test, predictions.T)\n",
        "\n",
        "# Tính precision với phương pháp trung bình macro\n",
        "precision = precision_score(y_test, predictions.T)\n",
        "\n",
        "# Tính recall\n",
        "recall = recall_score(y_test, predictions.T)\n",
        "\n",
        "# In kết quả\n",
        "print(\"Accuracy:\", accuracy)\n",
        "print(\"Precision:\", precision)\n",
        "print(\"Recall:\", recall)\n"
      ]
    },
    {
      "cell_type": "markdown",
      "metadata": {},
      "source": [
        "# Ví dụ 3  \n",
        "Dữ liệu phân loại bệnh nhân ung thư vú của Đại học Wisconsin–Madison, Hoa Kỳ"
      ]
    },
    {
      "cell_type": "markdown",
      "metadata": {},
      "source": [
        "Dữ  liệu  có  569  bản  ghi  (mẫu),  với  30  thuộc  tính.  Bệnh nhân được  chia  làm  hai  loại:  u  lành  tính  (B  – \n",
        "Begnin) có 357 mẫu và u ác tính (M – Malignant) có 212 mẫu."
      ]
    },
    {
      "cell_type": "code",
      "execution_count": 80,
      "metadata": {},
      "outputs": [
        {
          "name": "stdout",
          "output_type": "stream",
          "text": [
            "[1.245e+01 1.570e+01 8.257e+01 4.771e+02 1.278e-01 1.700e-01 1.578e-01\n",
            " 8.089e-02 2.087e-01 7.613e-02 3.345e-01 8.902e-01 2.217e+00 2.719e+01\n",
            " 7.510e-03 3.345e-02 3.672e-02 1.137e-02 2.165e-02 5.082e-03 1.547e+01\n",
            " 2.375e+01 1.034e+02 7.416e+02 1.791e-01 5.249e-01 5.355e-01 1.741e-01\n",
            " 3.985e-01 1.244e-01]\n",
            "(569, 30)\n",
            "[0 0 0 0 0 0 0 0 0 0 0 0 0 0 0 0 0 0 0 1 1 1 0 0 0 0 0 0 0 0 0 0 0 0 0 0 0\n",
            " 1 0 0 0 0 0 0 0 0 1 0 1 1 1 1 1 0 0 1 0 0 1 1 1 1 0 1 0 0 1 1 1 1 0 1 0 0\n",
            " 1 0 1 0 0 1 1 1 0 0 1 0 0 0 1 1 1 0 1 1 0 0 1 1 1 0 0 1 1 1 1 0 1 1 0 1 1\n",
            " 1 1 1 1 1 1 0 0 0 1 0 0 1 1 1 0 0 1 0 1 0 0 1 0 0 1 1 0 1 1 0 1 1 1 1 0 1\n",
            " 1 1 1 1 1 1 1 1 0 1 1 1 1 0 0 1 0 1 1 0 0 1 1 0 0 1 1 1 1 0 1 1 0 0 0 1 0\n",
            " 1 0 1 1 1 0 1 1 0 0 1 0 0 0 0 1 0 0 0 1 0 1 0 1 1 0 1 0 0 0 0 1 1 0 0 1 1\n",
            " 1 0 1 1 1 1 1 0 0 1 1 0 1 1 0 0 1 0 1 1 1 1 0 1 1 1 1 1 0 1 0 0 0 0 0 0 0\n",
            " 0 0 0 0 0 0 0 1 1 1 1 1 1 0 1 0 1 1 0 1 1 0 1 0 0 1 1 1 1 1 1 1 1 1 1 1 1\n",
            " 1 0 1 1 0 1 0 1 1 1 1 1 1 1 1 1 1 1 1 1 1 0 1 1 1 0 1 0 1 1 1 1 0 0 0 1 1\n",
            " 1 1 0 1 0 1 0 1 1 1 0 1 1 1 1 1 1 1 0 0 0 1 1 1 1 1 1 1 1 1 1 1 0 0 1 0 0\n",
            " 0 1 0 0 1 1 1 1 1 0 1 1 1 1 1 0 1 1 1 0 1 1 0 0 1 1 1 1 1 1 0 1 1 1 1 1 1\n",
            " 1 0 1 1 1 1 1 0 1 1 0 1 1 1 1 1 1 1 1 1 1 1 1 0 1 0 0 1 0 1 1 1 1 1 0 1 1\n",
            " 0 1 0 1 1 0 1 0 1 1 1 1 1 1 1 1 0 0 1 1 1 1 1 1 0 1 1 1 1 1 1 1 1 1 1 0 1\n",
            " 1 1 1 1 1 1 0 1 0 1 1 0 1 1 1 1 1 0 0 1 0 1 0 1 1 1 1 1 0 1 1 0 1 0 1 0 0\n",
            " 1 1 1 0 1 1 1 1 1 1 1 1 1 1 1 0 1 0 0 1 1 1 1 1 1 1 1 1 1 1 1 1 1 1 1 1 1\n",
            " 1 1 1 1 1 1 1 0 0 0 0 0 0 1]\n"
          ]
        }
      ],
      "source": [
        "from sklearn import datasets\n",
        "\n",
        "cancer_data = datasets.load_breast_cancer()\n",
        "\n",
        "# show to test record 5th\n",
        "print(cancer_data.data[5])\n",
        "\n",
        "print(cancer_data.data.shape)\n",
        "# target set\n",
        "print(cancer_data.target)\n",
        "\n",
        "from sklearn.model_selection import train_test_split\n",
        "\n",
        "cancer_data = datasets.load_breast_cancer()\n",
        "\n",
        "vd3_X_train, vd3_X_test, vd3_y_train, vd3_y_test = train_test_split(\n",
        "    cancer_data.data, cancer_data.target, test_size=0.3, random_state=109\n",
        ")"
      ]
    },
    {
      "cell_type": "markdown",
      "metadata": {},
      "source": [
        "## Thực hiện Perceptron trên ví dụ này"
      ]
    },
    {
      "cell_type": "code",
      "execution_count": 83,
      "metadata": {},
      "outputs": [
        {
          "name": "stdout",
          "output_type": "stream",
          "text": [
            "[[ 1.57905605e+01]\n",
            " [ 1.51490884e+01]\n",
            " [ 1.05376181e+02]\n",
            " [ 8.00938952e+02]\n",
            " [-1.22079878e+00]\n",
            " [-9.97615811e-01]\n",
            " [-1.24810688e+00]\n",
            " [ 7.06633984e-01]\n",
            " [ 1.16739864e+00]\n",
            " [-7.61736587e-01]\n",
            " [-1.22471320e-01]\n",
            " [ 3.36128381e-01]\n",
            " [ 1.94807524e+00]\n",
            " [ 2.22785671e+01]\n",
            " [ 7.42231797e-01]\n",
            " [-1.57349009e+00]\n",
            " [-1.69175932e+00]\n",
            " [-7.98730110e-01]\n",
            " [ 6.25430209e-01]\n",
            " [-6.26529399e-01]\n",
            " [ 1.69513654e+01]\n",
            " [ 1.98633902e+01]\n",
            " [ 1.17060646e+02]\n",
            " [ 9.46838032e+02]\n",
            " [ 8.77563035e-01]\n",
            " [-3.82537583e-01]\n",
            " [ 8.19984653e-01]\n",
            " [ 8.81527185e-01]\n",
            " [ 3.27472316e-01]\n",
            " [ 1.73724840e+00]]\n"
          ]
        }
      ],
      "source": [
        "d = vd3_X_train.shape[1]\n",
        "w_init = np.random.randn(d, 1)\n",
        "(w, m) = perceptron(vd3_X_train.T, vd3_y_train, w_init)\n",
        "print(w[-1])"
      ]
    },
    {
      "cell_type": "code",
      "execution_count": 84,
      "metadata": {},
      "outputs": [
        {
          "data": {
            "text/plain": [
              "(30, 1)"
            ]
          },
          "execution_count": 84,
          "metadata": {},
          "output_type": "execute_result"
        }
      ],
      "source": [
        "w[-1].shape"
      ]
    },
    {
      "cell_type": "code",
      "execution_count": 88,
      "metadata": {},
      "outputs": [
        {
          "name": "stdout",
          "output_type": "stream",
          "text": [
            "[[1. 1. 1. 1. 1. 1. 1. 1. 1. 1. 1. 1. 1. 1. 1. 1. 1. 1. 1. 1. 1. 1. 1. 1.\n",
            "  1. 1. 1. 1. 1. 1. 1. 1. 1. 1. 1. 1. 1. 1. 1. 1. 1. 1. 1. 1. 1. 1. 1. 1.\n",
            "  1. 1. 1. 1. 1. 1. 1. 1. 1. 1. 1. 1. 1. 1. 1. 1. 1. 1. 1. 1. 1. 1. 1. 1.\n",
            "  1. 1. 1. 1. 1. 1. 1. 1. 1. 1. 1. 1. 1. 1. 1. 1. 1. 1. 1. 1. 1. 1. 1. 1.\n",
            "  1. 1. 1. 1. 1. 1. 1. 1. 1. 1. 1. 1. 1. 1. 1. 1. 1. 1. 1. 1. 1. 1. 1. 1.\n",
            "  1. 1. 1. 1. 1. 1. 1. 1. 1. 1. 1. 1. 1. 1. 1. 1. 1. 1. 1. 1. 1. 1. 1. 1.\n",
            "  1. 1. 1. 1. 1. 1. 1. 1. 1. 1. 1. 1. 1. 1. 1. 1. 1. 1. 1. 1. 1. 1. 1. 1.\n",
            "  1. 1. 1.]]\n"
          ]
        }
      ],
      "source": [
        "# Áp dụng hàm dự đoán cho dữ liệu test\n",
        "predictions = h(w[-1], vd3_X_test.T)\n",
        "\n",
        "# In kết quả dự đoán\n",
        "print(predictions[:5])"
      ]
    },
    {
      "cell_type": "code",
      "execution_count": 90,
      "metadata": {},
      "outputs": [
        {
          "data": {
            "text/plain": [
              "(171, 30)"
            ]
          },
          "execution_count": 90,
          "metadata": {},
          "output_type": "execute_result"
        }
      ],
      "source": [
        "vd3_X_test.shape"
      ]
    },
    {
      "cell_type": "code",
      "execution_count": 86,
      "metadata": {},
      "outputs": [
        {
          "data": {
            "text/plain": [
              "(1, 171)"
            ]
          },
          "execution_count": 86,
          "metadata": {},
          "output_type": "execute_result"
        }
      ],
      "source": [
        "predictions.shape"
      ]
    },
    {
      "cell_type": "code",
      "execution_count": 89,
      "metadata": {},
      "outputs": [
        {
          "data": {
            "text/plain": [
              "array([1, 1, 0, 0, 1, 0, 1, 1, 1, 0, 0, 0, 1, 0, 1, 1, 0, 0, 1, 0, 1, 1,\n",
              "       0, 0, 1, 1, 0, 1, 1, 1, 1, 0, 1, 1, 1, 1, 1, 0, 1, 1, 0, 1, 0, 1,\n",
              "       1, 1, 0, 1, 0, 0, 1, 1, 0, 1, 1, 0, 1, 1, 1, 0, 0, 1, 0, 1, 0, 0,\n",
              "       1, 1, 1, 1, 0, 1, 1, 1, 0, 1, 0, 1, 1, 1, 1, 1, 1, 1, 0, 1, 1, 1,\n",
              "       1, 1, 0, 0, 1, 0, 1, 1, 1, 1, 1, 0, 0, 1, 1, 0, 1, 1, 0, 1, 0, 1,\n",
              "       1, 0, 1, 1, 0, 0, 0, 1, 0, 1, 1, 1, 1, 1, 0, 1, 0, 1, 0, 1, 0, 0,\n",
              "       0, 0, 0, 1, 1, 0, 1, 1, 1, 0, 1, 1, 0, 0, 1, 0, 0, 0, 1, 1, 1, 1,\n",
              "       1, 0, 0, 1, 0, 1, 1, 1, 1, 1, 1, 1, 1, 0, 1, 1, 1])"
            ]
          },
          "execution_count": 89,
          "metadata": {},
          "output_type": "execute_result"
        }
      ],
      "source": [
        "vd3_y_test"
      ]
    },
    {
      "cell_type": "markdown",
      "metadata": {},
      "source": [
        "Tính các chỉ số độ chính xác"
      ]
    },
    {
      "cell_type": "code",
      "execution_count": 91,
      "metadata": {},
      "outputs": [
        {
          "name": "stdout",
          "output_type": "stream",
          "text": [
            "Accuracy: 0.631578947368421\n",
            "Precision: 0.631578947368421\n",
            "Recall: 1.0\n"
          ]
        }
      ],
      "source": [
        "from sklearn.metrics import accuracy_score, precision_score, recall_score\n",
        "\n",
        "# Tính accuracy\n",
        "accuracy = accuracy_score(vd3_y_test, predictions.T)\n",
        "\n",
        "# Tính precision với phương pháp trung bình macro\n",
        "precision = precision_score(vd3_y_test, predictions.T)\n",
        "\n",
        "# Tính recall\n",
        "recall = recall_score(vd3_y_test, predictions.T)\n",
        "\n",
        "# In kết quả\n",
        "print(\"Accuracy:\", accuracy)\n",
        "print(\"Precision:\", precision)\n",
        "print(\"Recall:\", recall)"
      ]
    },
    {
      "cell_type": "markdown",
      "metadata": {},
      "source": [
        "## Thực hiện giảm số chiều và trực quan hóa dữ liệu"
      ]
    },
    {
      "cell_type": "code",
      "execution_count": 95,
      "metadata": {},
      "outputs": [
        {
          "data": {
            "image/png": "[encoded data removed]",
            "text/plain": [
              "<Figure size 1000x600 with 1 Axes>"
            ]
          },
          "metadata": {},
          "output_type": "display_data"
        }
      ],
      "source": [
        "from sklearn.decomposition import PCA\n",
        "from sklearn.preprocessing import StandardScaler\n",
        "\n",
        "# Chuẩn hóa dữ liệu\n",
        "scaler = StandardScaler()\n",
        "X_scaled = scaler.fit_transform(cancer_data.data)\n",
        "\n",
        "# Giảm số chiều xuống còn 2 chiều\n",
        "pca = PCA(n_components=2)\n",
        "X_pca = pca.fit_transform(X_scaled)\n",
        "\n",
        "# Tạo DataFrame mới từ dữ liệu giảm chiều\n",
        "pca_df = pd.DataFrame(data=X_pca, columns=['PC1', 'PC2'])\n",
        "pca_df['class'] = cancer_data.target\n",
        "\n",
        "# Vẽ biểu đồ scatter plot\n",
        "plt.figure(figsize=(10, 6))\n",
        "plt.scatter(pca_df[pca_df['class'] == 0]['PC1'], pca_df[pca_df['class'] == 0]['PC2'], label='No Cancer', alpha=0.5)\n",
        "plt.scatter(pca_df[pca_df['class'] == 1]['PC1'], pca_df[pca_df['class'] == 1]['PC2'], label='Cancer', alpha=0.5)\n",
        "plt.title('PCA Scatter Plot of Parkinson Disease Dataset')\n",
        "plt.xlabel('Principal Component 1')\n",
        "plt.ylabel('Principal Component 2')\n",
        "plt.legend()\n",
        "plt.show()"
      ]
    },
    {
      "cell_type": "markdown",
      "metadata": {},
      "source": [
        "## Thực hiện lại bằng hồi quy Logistic và so sánh với trường hợp sử dụng Perceptron"
      ]
    },
    {
      "cell_type": "code",
      "execution_count": 96,
      "metadata": {},
      "outputs": [
        {
          "name": "stderr",
          "output_type": "stream",
          "text": [
            "/home/harito/venv/py/lib/python3.11/site-packages/sklearn/linear_model/_logistic.py:444: ConvergenceWarning: lbfgs failed to converge (status=1):\n",
            "STOP: TOTAL NO. of ITERATIONS REACHED LIMIT.\n",
            "\n",
            "Increase the number of iterations (max_iter) or scale the data as shown in:\n",
            "    https://scikit-learn.org/stable/modules/preprocessing.html\n",
            "Please also refer to the documentation for alternative solver options:\n",
            "    https://scikit-learn.org/stable/modules/linear_model.html#logistic-regression\n",
            "  n_iter_i = _check_optimize_result(\n"
          ]
        },
        {
          "data": {
            "text/html": [
              "<style>#sk-container-id-1 {color: black;background-color: white;}#sk-container-id-1 pre{padding: 0;}#sk-container-id-1 div.sk-toggleable {background-color: white;}#sk-container-id-1 label.sk-toggleable__label {cursor: pointer;display: block;width: 100%;margin-bottom: 0;padding: 0.3em;box-sizing: border-box;text-align: center;}#sk-container-id-1 label.sk-toggleable__label-arrow:before {content: \"▸\";float: left;margin-right: 0.25em;color: #696969;}#sk-container-id-1 label.sk-toggleable__label-arrow:hover:before {color: black;}#sk-container-id-1 div.sk-estimator:hover label.sk-toggleable__label-arrow:before {color: black;}#sk-container-id-1 div.sk-toggleable__content {max-height: 0;max-width: 0;overflow: hidden;text-align: left;background-color: #f0f8ff;}#sk-container-id-1 div.sk-toggleable__content pre {margin: 0.2em;color: black;border-radius: 0.25em;background-color: #f0f8ff;}#sk-container-id-1 input.sk-toggleable__control:checked~div.sk-toggleable__content {max-height: 200px;max-width: 100%;overflow: auto;}#sk-container-id-1 input.sk-toggleable__control:checked~label.sk-toggleable__label-arrow:before {content: \"▾\";}#sk-container-id-1 div.sk-estimator input.sk-toggleable__control:checked~label.sk-toggleable__label {background-color: #d4ebff;}#sk-container-id-1 div.sk-label input.sk-toggleable__control:checked~label.sk-toggleable__label {background-color: #d4ebff;}#sk-container-id-1 input.sk-hidden--visually {border: 0;clip: rect(1px 1px 1px 1px);clip: rect(1px, 1px, 1px, 1px);height: 1px;margin: -1px;overflow: hidden;padding: 0;position: absolute;width: 1px;}#sk-container-id-1 div.sk-estimator {font-family: monospace;background-color: #f0f8ff;border: 1px dotted black;border-radius: 0.25em;box-sizing: border-box;margin-bottom: 0.5em;}#sk-container-id-1 div.sk-estimator:hover {background-color: #d4ebff;}#sk-container-id-1 div.sk-parallel-item::after {content: \"\";width: 100%;border-bottom: 1px solid gray;flex-grow: 1;}#sk-container-id-1 div.sk-label:hover label.sk-toggleable__label {background-color: #d4ebff;}#sk-container-id-1 div.sk-serial::before {content: \"\";position: absolute;border-left: 1px solid gray;box-sizing: border-box;top: 0;bottom: 0;left: 50%;z-index: 0;}#sk-container-id-1 div.sk-serial {display: flex;flex-direction: column;align-items: center;background-color: white;padding-right: 0.2em;padding-left: 0.2em;position: relative;}#sk-container-id-1 div.sk-item {position: relative;z-index: 1;}#sk-container-id-1 div.sk-parallel {display: flex;align-items: stretch;justify-content: center;background-color: white;position: relative;}#sk-container-id-1 div.sk-item::before, #sk-container-id-1 div.sk-parallel-item::before {content: \"\";position: absolute;border-left: 1px solid gray;box-sizing: border-box;top: 0;bottom: 0;left: 50%;z-index: -1;}#sk-container-id-1 div.sk-parallel-item {display: flex;flex-direction: column;z-index: 1;position: relative;background-color: white;}#sk-container-id-1 div.sk-parallel-item:first-child::after {align-self: flex-end;width: 50%;}#sk-container-id-1 div.sk-parallel-item:last-child::after {align-self: flex-start;width: 50%;}#sk-container-id-1 div.sk-parallel-item:only-child::after {width: 0;}#sk-container-id-1 div.sk-dashed-wrapped {border: 1px dashed gray;margin: 0 0.4em 0.5em 0.4em;box-sizing: border-box;padding-bottom: 0.4em;background-color: white;}#sk-container-id-1 div.sk-label label {font-family: monospace;font-weight: bold;display: inline-block;line-height: 1.2em;}#sk-container-id-1 div.sk-label-container {text-align: center;}#sk-container-id-1 div.sk-container {/* jupyter's `normalize.less` sets `[hidden] { display: none; }` but bootstrap.min.css set `[hidden] { display: none !important; }` so we also need the `!important` here to be able to override the default hidden behavior on the sphinx rendered scikit-learn.org. See: https://github.com/scikit-learn/scikit-learn/issues/21755 */display: inline-block !important;position: relative;}#sk-container-id-1 div.sk-text-repr-fallback {display: none;}</style><div id=\"sk-container-id-1\" class=\"sk-top-container\"><div class=\"sk-text-repr-fallback\"><pre>LogisticRegression()</pre><b>In a Jupyter environment, please rerun this cell to show the HTML representation or trust the notebook. <br />On GitHub, the HTML representation is unable to render, please try loading this page with nbviewer.org.</b></div><div class=\"sk-container\" hidden><div class=\"sk-item\"><div class=\"sk-estimator sk-toggleable\"><input class=\"sk-toggleable__control sk-hidden--visually\" id=\"sk-estimator-id-1\" type=\"checkbox\" checked><label for=\"sk-estimator-id-1\" class=\"sk-toggleable__label sk-toggleable__label-arrow\">LogisticRegression</label><div class=\"sk-toggleable__content\"><pre>LogisticRegression()</pre></div></div></div></div></div>"
            ],
            "text/plain": [
              "LogisticRegression()"
            ]
          },
          "execution_count": 96,
          "metadata": {},
          "output_type": "execute_result"
        }
      ],
      "source": [
        "from sklearn.linear_model import LogisticRegression\n",
        "\n",
        "# Khởi tạo mô hình hồi quy logistic\n",
        "vd3_logreg_model = LogisticRegression()\n",
        "\n",
        "# Huấn luyện mô hình trên tập train\n",
        "vd3_logreg_model.fit(vd3_X_train, vd3_y_train)"
      ]
    },
    {
      "cell_type": "code",
      "execution_count": 97,
      "metadata": {},
      "outputs": [
        {
          "name": "stdout",
          "output_type": "stream",
          "text": [
            "[1 1 0 0 1]\n"
          ]
        }
      ],
      "source": [
        "# Dự đoán trên tập validation\n",
        "vd3_y_pred = vd3_logreg_model.predict(vd3_X_test)\n",
        "print(vd3_y_pred[:5])"
      ]
    },
    {
      "cell_type": "code",
      "execution_count": 98,
      "metadata": {},
      "outputs": [
        {
          "name": "stdout",
          "output_type": "stream",
          "text": [
            "Accuracy: 0.9532163742690059\n",
            "Precision: 0.9629629629629629\n",
            "Recall: 0.9629629629629629\n"
          ]
        }
      ],
      "source": [
        "from sklearn.metrics import accuracy_score, precision_score, recall_score\n",
        "\n",
        "# Tính toán accuracy\n",
        "vd3_accuracy = accuracy_score(vd3_y_test, vd3_y_pred)\n",
        "\n",
        "# Tính toán precision\n",
        "vd3_precision = precision_score(vd3_y_test, vd3_y_pred)\n",
        "\n",
        "# Tính toán recall\n",
        "vd3_recall = recall_score(vd3_y_test, vd3_y_pred)\n",
        "\n",
        "print(\"Accuracy:\", vd3_accuracy)\n",
        "print(\"Precision:\", vd3_precision)\n",
        "print(\"Recall:\", vd3_recall)"
      ]
    },
    {
      "cell_type": "markdown",
      "metadata": {},
      "source": [
        "Kết luận so sánh: Sử dụng Logistic Regression cho các chỉ số độ chính xác tốt hơn so với dùng Perceptron "
      ]
    },
    {
      "cell_type": "markdown",
      "metadata": {},
      "source": [
        "# Ví dụ 4 (Bài tập tự thực hành - Nộp trong buổi thực hành)  \n",
        "*So sánh* thực hiện phương pháp *Perceptron* và *Hồi quy Logistic* trên tập dữ liệu nguy cơ mắc bệnh tim mạch vành (CHD) trong 10 năm tới  "
      ]
    },
    {
      "cell_type": "markdown",
      "metadata": {},
      "source": [
        "## Xử lý sơ bộ data như trong bài Hồi quy Logistic. "
      ]
    },
    {
      "cell_type": "markdown",
      "metadata": {},
      "source": [
        "Đọc dữ liệu"
      ]
    },
    {
      "cell_type": "code",
      "execution_count": 9,
      "metadata": {},
      "outputs": [
        {
          "data": {
            "text/plain": [
              "male                 0\n",
              "age                  0\n",
              "education          105\n",
              "currentSmoker        0\n",
              "cigsPerDay          29\n",
              "BPMeds              53\n",
              "prevalentStroke      0\n",
              "prevalentHyp         0\n",
              "diabetes             0\n",
              "totChol             50\n",
              "sysBP                0\n",
              "diaBP                0\n",
              "BMI                 19\n",
              "heartRate            1\n",
              "glucose            388\n",
              "TenYearCHD           0\n",
              "dtype: int64"
            ]
          },
          "execution_count": 9,
          "metadata": {},
          "output_type": "execute_result"
        }
      ],
      "source": [
        "import pandas as pd  \n",
        "df = pd.read_csv(\"data/framingham.csv\") \n",
        "df.head() \n",
        "df.isnull().sum()"
      ]
    },
    {
      "cell_type": "markdown",
      "metadata": {},
      "source": [
        "Loại bỏ dữ liệu N/A trong dữ liệu"
      ]
    },
    {
      "cell_type": "code",
      "execution_count": 10,
      "metadata": {},
      "outputs": [],
      "source": [
        "df = df.dropna(how=\"any\", axis=0)"
      ]
    },
    {
      "cell_type": "markdown",
      "metadata": {},
      "source": [
        "Nhìn qua về dữ liệu"
      ]
    },
    {
      "cell_type": "code",
      "execution_count": 11,
      "metadata": {},
      "outputs": [
        {
          "name": "stdout",
          "output_type": "stream",
          "text": [
            "   male  age  education  currentSmoker  cigsPerDay  BPMeds  prevalentStroke  \\\n",
            "0     1   39        4.0              0         0.0     0.0                0   \n",
            "1     0   46        2.0              0         0.0     0.0                0   \n",
            "2     1   48        1.0              1        20.0     0.0                0   \n",
            "\n",
            "   prevalentHyp  diabetes  totChol  sysBP  diaBP    BMI  heartRate  glucose  \\\n",
            "0             0         0    195.0  106.0   70.0  26.97       80.0     77.0   \n",
            "1             0         0    250.0  121.0   81.0  28.73       95.0     76.0   \n",
            "2             0         0    245.0  127.5   80.0  25.34       75.0     70.0   \n",
            "\n",
            "   TenYearCHD  \n",
            "0           0  \n",
            "1           0  \n",
            "2           0  \n"
          ]
        }
      ],
      "source": [
        "print(df[:3])"
      ]
    },
    {
      "cell_type": "markdown",
      "metadata": {},
      "source": [
        "Phân chia Train:Validation = 7:3"
      ]
    },
    {
      "cell_type": "code",
      "execution_count": 23,
      "metadata": {},
      "outputs": [
        {
          "name": "stdout",
          "output_type": "stream",
          "text": [
            "Số lượng bản ghi trong tập train: 2559\n",
            "Số lượng bản ghi trong tập validation: 1097\n"
          ]
        }
      ],
      "source": [
        "from sklearn.model_selection import train_test_split\n",
        "\n",
        "# Chia dataframe thành features (X) và target variable (y)\n",
        "vd4_X = df.drop(\"TenYearCHD\", axis=1)\n",
        "vd4_y = df[\"TenYearCHD\"]\n",
        "\n",
        "# Thêm cột toàn giá trị 1 vào DataFrame vd4_X\n",
        "vd4_X['intercept'] = 1\n",
        "\n",
        "# Chia dữ liệu thành tập train và tập validation theo tỷ lệ 7:3\n",
        "vd4_X_train, vd4_X_valid, vd4_y_train, vd4_y_valid = train_test_split(\n",
        "    vd4_X, vd4_y, test_size=0.3, random_state=42\n",
        ")\n",
        "\n",
        "# Xem số lượng bản ghi trong mỗi tập\n",
        "print(\"Số lượng bản ghi trong tập train:\", len(vd4_X_train))\n",
        "print(\"Số lượng bản ghi trong tập validation:\", len(vd4_X_valid))"
      ]
    },
    {
      "cell_type": "markdown",
      "metadata": {},
      "source": [
        "## Thực hiện phân loại bằng phương pháp Perceptron.  \n",
        "Tính các độ đo Accuracy, Precision và Recall để đánh giá kết quả."
      ]
    },
    {
      "cell_type": "code",
      "execution_count": 24,
      "metadata": {},
      "outputs": [
        {
          "data": {
            "text/html": [
              "<style>#sk-container-id-3 {color: black;background-color: white;}#sk-container-id-3 pre{padding: 0;}#sk-container-id-3 div.sk-toggleable {background-color: white;}#sk-container-id-3 label.sk-toggleable__label {cursor: pointer;display: block;width: 100%;margin-bottom: 0;padding: 0.3em;box-sizing: border-box;text-align: center;}#sk-container-id-3 label.sk-toggleable__label-arrow:before {content: \"▸\";float: left;margin-right: 0.25em;color: #696969;}#sk-container-id-3 label.sk-toggleable__label-arrow:hover:before {color: black;}#sk-container-id-3 div.sk-estimator:hover label.sk-toggleable__label-arrow:before {color: black;}#sk-container-id-3 div.sk-toggleable__content {max-height: 0;max-width: 0;overflow: hidden;text-align: left;background-color: #f0f8ff;}#sk-container-id-3 div.sk-toggleable__content pre {margin: 0.2em;color: black;border-radius: 0.25em;background-color: #f0f8ff;}#sk-container-id-3 input.sk-toggleable__control:checked~div.sk-toggleable__content {max-height: 200px;max-width: 100%;overflow: auto;}#sk-container-id-3 input.sk-toggleable__control:checked~label.sk-toggleable__label-arrow:before {content: \"▾\";}#sk-container-id-3 div.sk-estimator input.sk-toggleable__control:checked~label.sk-toggleable__label {background-color: #d4ebff;}#sk-container-id-3 div.sk-label input.sk-toggleable__control:checked~label.sk-toggleable__label {background-color: #d4ebff;}#sk-container-id-3 input.sk-hidden--visually {border: 0;clip: rect(1px 1px 1px 1px);clip: rect(1px, 1px, 1px, 1px);height: 1px;margin: -1px;overflow: hidden;padding: 0;position: absolute;width: 1px;}#sk-container-id-3 div.sk-estimator {font-family: monospace;background-color: #f0f8ff;border: 1px dotted black;border-radius: 0.25em;box-sizing: border-box;margin-bottom: 0.5em;}#sk-container-id-3 div.sk-estimator:hover {background-color: #d4ebff;}#sk-container-id-3 div.sk-parallel-item::after {content: \"\";width: 100%;border-bottom: 1px solid gray;flex-grow: 1;}#sk-container-id-3 div.sk-label:hover label.sk-toggleable__label {background-color: #d4ebff;}#sk-container-id-3 div.sk-serial::before {content: \"\";position: absolute;border-left: 1px solid gray;box-sizing: border-box;top: 0;bottom: 0;left: 50%;z-index: 0;}#sk-container-id-3 div.sk-serial {display: flex;flex-direction: column;align-items: center;background-color: white;padding-right: 0.2em;padding-left: 0.2em;position: relative;}#sk-container-id-3 div.sk-item {position: relative;z-index: 1;}#sk-container-id-3 div.sk-parallel {display: flex;align-items: stretch;justify-content: center;background-color: white;position: relative;}#sk-container-id-3 div.sk-item::before, #sk-container-id-3 div.sk-parallel-item::before {content: \"\";position: absolute;border-left: 1px solid gray;box-sizing: border-box;top: 0;bottom: 0;left: 50%;z-index: -1;}#sk-container-id-3 div.sk-parallel-item {display: flex;flex-direction: column;z-index: 1;position: relative;background-color: white;}#sk-container-id-3 div.sk-parallel-item:first-child::after {align-self: flex-end;width: 50%;}#sk-container-id-3 div.sk-parallel-item:last-child::after {align-self: flex-start;width: 50%;}#sk-container-id-3 div.sk-parallel-item:only-child::after {width: 0;}#sk-container-id-3 div.sk-dashed-wrapped {border: 1px dashed gray;margin: 0 0.4em 0.5em 0.4em;box-sizing: border-box;padding-bottom: 0.4em;background-color: white;}#sk-container-id-3 div.sk-label label {font-family: monospace;font-weight: bold;display: inline-block;line-height: 1.2em;}#sk-container-id-3 div.sk-label-container {text-align: center;}#sk-container-id-3 div.sk-container {/* jupyter's `normalize.less` sets `[hidden] { display: none; }` but bootstrap.min.css set `[hidden] { display: none !important; }` so we also need the `!important` here to be able to override the default hidden behavior on the sphinx rendered scikit-learn.org. See: https://github.com/scikit-learn/scikit-learn/issues/21755 */display: inline-block !important;position: relative;}#sk-container-id-3 div.sk-text-repr-fallback {display: none;}</style><div id=\"sk-container-id-3\" class=\"sk-top-container\"><div class=\"sk-text-repr-fallback\"><pre>Perceptron()</pre><b>In a Jupyter environment, please rerun this cell to show the HTML representation or trust the notebook. <br />On GitHub, the HTML representation is unable to render, please try loading this page with nbviewer.org.</b></div><div class=\"sk-container\" hidden><div class=\"sk-item\"><div class=\"sk-estimator sk-toggleable\"><input class=\"sk-toggleable__control sk-hidden--visually\" id=\"sk-estimator-id-3\" type=\"checkbox\" checked><label for=\"sk-estimator-id-3\" class=\"sk-toggleable__label sk-toggleable__label-arrow\">Perceptron</label><div class=\"sk-toggleable__content\"><pre>Perceptron()</pre></div></div></div></div></div>"
            ],
            "text/plain": [
              "Perceptron()"
            ]
          },
          "execution_count": 24,
          "metadata": {},
          "output_type": "execute_result"
        }
      ],
      "source": [
        "from sklearn.linear_model import Perceptron\n",
        "\n",
        "# Khởi tạo mô hình hồi quy logistic\n",
        "vd4_perceptron_model = Perceptron()\n",
        "# Huấn luyện mô hình trên tập train\n",
        "vd4_perceptron_model.fit(vd4_X_train, vd4_y_train)"
      ]
    },
    {
      "cell_type": "code",
      "execution_count": 25,
      "metadata": {},
      "outputs": [
        {
          "name": "stdout",
          "output_type": "stream",
          "text": [
            "[1 1 1 1 1]\n"
          ]
        }
      ],
      "source": [
        "# Dự đoán trên tập validation\n",
        "vd4_y_pred_valid_perceptron = vd4_perceptron_model.predict(vd4_X_valid)\n",
        "print(vd4_y_pred_valid_perceptron[:5])"
      ]
    },
    {
      "cell_type": "code",
      "execution_count": 26,
      "metadata": {},
      "outputs": [
        {
          "name": "stdout",
          "output_type": "stream",
          "text": [
            "Accuracy: 0.17502278942570648\n",
            "Precision: 0.15873015873015872\n",
            "Recall: 0.9770114942528736\n"
          ]
        }
      ],
      "source": [
        "from sklearn.metrics import accuracy_score, precision_score, recall_score\n",
        "\n",
        "# Tính toán accuracy\n",
        "vd4_accuracy_perceptron = accuracy_score(vd4_y_valid, vd4_y_pred_valid_perceptron)\n",
        "\n",
        "# Tính toán precision\n",
        "vd4_precision_perceptron = precision_score(vd4_y_valid, vd4_y_pred_valid_perceptron)\n",
        "\n",
        "# Tính toán recall\n",
        "vd4_recall_perceptron = recall_score(vd4_y_valid, vd4_y_pred_valid_perceptron)\n",
        "\n",
        "print(\"Accuracy:\", vd4_accuracy_perceptron)\n",
        "print(\"Precision:\", vd4_precision_perceptron)\n",
        "print(\"Recall:\", vd4_recall_perceptron)"
      ]
    },
    {
      "cell_type": "markdown",
      "metadata": {},
      "source": [
        "## Thực hiện phân loại bằng phương pháp Hồi quy Logistic trên cùng bộ dữ liệu training:validation đã có ở ý trên.  \n",
        "Tính các độ đo Accuracy, Precision và Recall và so sánh kết quả. "
      ]
    },
    {
      "cell_type": "code",
      "execution_count": 27,
      "metadata": {},
      "outputs": [
        {
          "name": "stderr",
          "output_type": "stream",
          "text": [
            "/home/harito/venv/py/lib/python3.11/site-packages/sklearn/linear_model/_logistic.py:444: ConvergenceWarning: lbfgs failed to converge (status=1):\n",
            "STOP: TOTAL NO. of ITERATIONS REACHED LIMIT.\n",
            "\n",
            "Increase the number of iterations (max_iter) or scale the data as shown in:\n",
            "    https://scikit-learn.org/stable/modules/preprocessing.html\n",
            "Please also refer to the documentation for alternative solver options:\n",
            "    https://scikit-learn.org/stable/modules/linear_model.html#logistic-regression\n",
            "  n_iter_i = _check_optimize_result(\n"
          ]
        },
        {
          "data": {
            "text/html": [
              "<style>#sk-container-id-4 {color: black;background-color: white;}#sk-container-id-4 pre{padding: 0;}#sk-container-id-4 div.sk-toggleable {background-color: white;}#sk-container-id-4 label.sk-toggleable__label {cursor: pointer;display: block;width: 100%;margin-bottom: 0;padding: 0.3em;box-sizing: border-box;text-align: center;}#sk-container-id-4 label.sk-toggleable__label-arrow:before {content: \"▸\";float: left;margin-right: 0.25em;color: #696969;}#sk-container-id-4 label.sk-toggleable__label-arrow:hover:before {color: black;}#sk-container-id-4 div.sk-estimator:hover label.sk-toggleable__label-arrow:before {color: black;}#sk-container-id-4 div.sk-toggleable__content {max-height: 0;max-width: 0;overflow: hidden;text-align: left;background-color: #f0f8ff;}#sk-container-id-4 div.sk-toggleable__content pre {margin: 0.2em;color: black;border-radius: 0.25em;background-color: #f0f8ff;}#sk-container-id-4 input.sk-toggleable__control:checked~div.sk-toggleable__content {max-height: 200px;max-width: 100%;overflow: auto;}#sk-container-id-4 input.sk-toggleable__control:checked~label.sk-toggleable__label-arrow:before {content: \"▾\";}#sk-container-id-4 div.sk-estimator input.sk-toggleable__control:checked~label.sk-toggleable__label {background-color: #d4ebff;}#sk-container-id-4 div.sk-label input.sk-toggleable__control:checked~label.sk-toggleable__label {background-color: #d4ebff;}#sk-container-id-4 input.sk-hidden--visually {border: 0;clip: rect(1px 1px 1px 1px);clip: rect(1px, 1px, 1px, 1px);height: 1px;margin: -1px;overflow: hidden;padding: 0;position: absolute;width: 1px;}#sk-container-id-4 div.sk-estimator {font-family: monospace;background-color: #f0f8ff;border: 1px dotted black;border-radius: 0.25em;box-sizing: border-box;margin-bottom: 0.5em;}#sk-container-id-4 div.sk-estimator:hover {background-color: #d4ebff;}#sk-container-id-4 div.sk-parallel-item::after {content: \"\";width: 100%;border-bottom: 1px solid gray;flex-grow: 1;}#sk-container-id-4 div.sk-label:hover label.sk-toggleable__label {background-color: #d4ebff;}#sk-container-id-4 div.sk-serial::before {content: \"\";position: absolute;border-left: 1px solid gray;box-sizing: border-box;top: 0;bottom: 0;left: 50%;z-index: 0;}#sk-container-id-4 div.sk-serial {display: flex;flex-direction: column;align-items: center;background-color: white;padding-right: 0.2em;padding-left: 0.2em;position: relative;}#sk-container-id-4 div.sk-item {position: relative;z-index: 1;}#sk-container-id-4 div.sk-parallel {display: flex;align-items: stretch;justify-content: center;background-color: white;position: relative;}#sk-container-id-4 div.sk-item::before, #sk-container-id-4 div.sk-parallel-item::before {content: \"\";position: absolute;border-left: 1px solid gray;box-sizing: border-box;top: 0;bottom: 0;left: 50%;z-index: -1;}#sk-container-id-4 div.sk-parallel-item {display: flex;flex-direction: column;z-index: 1;position: relative;background-color: white;}#sk-container-id-4 div.sk-parallel-item:first-child::after {align-self: flex-end;width: 50%;}#sk-container-id-4 div.sk-parallel-item:last-child::after {align-self: flex-start;width: 50%;}#sk-container-id-4 div.sk-parallel-item:only-child::after {width: 0;}#sk-container-id-4 div.sk-dashed-wrapped {border: 1px dashed gray;margin: 0 0.4em 0.5em 0.4em;box-sizing: border-box;padding-bottom: 0.4em;background-color: white;}#sk-container-id-4 div.sk-label label {font-family: monospace;font-weight: bold;display: inline-block;line-height: 1.2em;}#sk-container-id-4 div.sk-label-container {text-align: center;}#sk-container-id-4 div.sk-container {/* jupyter's `normalize.less` sets `[hidden] { display: none; }` but bootstrap.min.css set `[hidden] { display: none !important; }` so we also need the `!important` here to be able to override the default hidden behavior on the sphinx rendered scikit-learn.org. See: https://github.com/scikit-learn/scikit-learn/issues/21755 */display: inline-block !important;position: relative;}#sk-container-id-4 div.sk-text-repr-fallback {display: none;}</style><div id=\"sk-container-id-4\" class=\"sk-top-container\"><div class=\"sk-text-repr-fallback\"><pre>LogisticRegression()</pre><b>In a Jupyter environment, please rerun this cell to show the HTML representation or trust the notebook. <br />On GitHub, the HTML representation is unable to render, please try loading this page with nbviewer.org.</b></div><div class=\"sk-container\" hidden><div class=\"sk-item\"><div class=\"sk-estimator sk-toggleable\"><input class=\"sk-toggleable__control sk-hidden--visually\" id=\"sk-estimator-id-4\" type=\"checkbox\" checked><label for=\"sk-estimator-id-4\" class=\"sk-toggleable__label sk-toggleable__label-arrow\">LogisticRegression</label><div class=\"sk-toggleable__content\"><pre>LogisticRegression()</pre></div></div></div></div></div>"
            ],
            "text/plain": [
              "LogisticRegression()"
            ]
          },
          "execution_count": 27,
          "metadata": {},
          "output_type": "execute_result"
        }
      ],
      "source": [
        "from sklearn.linear_model import LogisticRegression\n",
        "\n",
        "# Khởi tạo mô hình hồi quy logistic\n",
        "vd4_logreg_model = LogisticRegression()\n",
        "# Huấn luyện mô hình trên tập train\n",
        "vd4_logreg_model.fit(vd4_X_train, vd4_y_train)"
      ]
    },
    {
      "cell_type": "code",
      "execution_count": 28,
      "metadata": {},
      "outputs": [
        {
          "name": "stdout",
          "output_type": "stream",
          "text": [
            "[0 0 0 0 0]\n"
          ]
        }
      ],
      "source": [
        "# Dự đoán trên tập validation\n",
        "vd4_y_pred_valid_logreg = vd4_logreg_model.predict(vd4_X_valid)\n",
        "print(vd4_y_pred_valid_logreg[:5])"
      ]
    },
    {
      "cell_type": "code",
      "execution_count": 29,
      "metadata": {},
      "outputs": [
        {
          "name": "stdout",
          "output_type": "stream",
          "text": [
            "Accuracy: 0.8441203281677302\n",
            "Precision: 0.7142857142857143\n",
            "Recall: 0.028735632183908046\n"
          ]
        }
      ],
      "source": [
        "from sklearn.metrics import accuracy_score, precision_score, recall_score\n",
        "\n",
        "# Tính toán accuracy\n",
        "vd4_accuracy_logreg = accuracy_score(vd4_y_valid, vd4_y_pred_valid_logreg)\n",
        "\n",
        "# Tính toán precision\n",
        "vd4_precision_logreg = precision_score(vd4_y_valid, vd4_y_pred_valid_logreg)\n",
        "\n",
        "# Tính toán recall\n",
        "vd4_recall_logreg = recall_score(vd4_y_valid, vd4_y_pred_valid_logreg)\n",
        "\n",
        "print(\"Accuracy:\", vd4_accuracy_logreg)\n",
        "print(\"Precision:\", vd4_precision_logreg)\n",
        "print(\"Recall:\", vd4_recall_logreg)"
      ]
    },
    {
      "cell_type": "markdown",
      "metadata": {},
      "source": [
        "## Hãy giải thích về kết quả thu được của các mô hình cũng như nhận xét trên độ chính xác của mỗi mô hình. "
      ]
    },
    {
      "cell_type": "markdown",
      "metadata": {},
      "source": [
        "Phương pháp Perceptron:  \n",
        "  \n",
        " - Accuracy: 0.247 - Tỷ lệ dự đoán chính xác trên tổng số mẫu.\n",
        " - Precision: 0.163 - Tỉ lệ số điểm dự đoán dương thực tế chính xác so với tổng số điểm dự đoán dương.\n",
        " - Recall: 0.908 - Tỉ lệ số điểm dự đoán dương thực tế chính xác so với tổng số điểm thực tế dương.\n",
        "  \n",
        "Với Perceptron, chúng ta thấy rằng độ chính xác (accuracy) thấp, chỉ khoảng 24.7%, trong khi độ chính xác của precision (độ chính xác của các dự đoán dương) thấp (chỉ khoảng 16.3%), và recall (tỉ lệ các điểm dương thực tế được dự đoán đúng) cao (khoảng 90.8%). Kết quả này cho thấy mô hình có xu hướng dự đoán sai nhiều mẫu âm tính và dự đoán đúng nhiều mẫu dương tính.\n",
        "\n",
        "Phương pháp Logistic Regression:\n",
        "\n",
        " - Accuracy: 0.841 - Tỷ lệ dự đoán chính xác trên tổng số mẫu.\n",
        " - Precision: 0.5 - Tỉ lệ số điểm dự đoán dương thực tế chính xác so với tổng số điểm dự đoán dương.\n",
        " - Recall: 0.034 - Tỉ lệ số điểm dự đoán dương thực tế chính xác so với tổng số điểm thực tế dương.\n",
        "\n",
        "Với Logistic Regression, chúng ta thấy rằng độ chính xác (accuracy) cao, đạt khoảng 84.1%, nhưng precision (độ chính xác của các dự đoán dương) thấp (chỉ khoảng 50%), và recall (tỉ lệ các điểm dương thực tế được dự đoán đúng) thấp (khoảng 3.4%). Kết quả này cho thấy mô hình có xu hướng dự đoán đúng nhiều mẫu âm tính, nhưng lại dự đoán sai nhiều mẫu dương tính.\n",
        "\n",
        "Tóm lại, dựa trên các chỉ số đánh giá, mô hình Logistic Regression có độ chính xác cao hơn so với Perceptron. Tuy nhiên, cả hai mô hình đều có thể cần được cải thiện, đặc biệt là trong việc dự đoán các mẫu dương tính."
      ]
    }
  ],
  "metadata": {
    "authors": [
      {
        "name": "Phạm Ngọc Hải"
      }
    ],
    "kernelspec": {
      "display_name": "py",
      "language": "python",
      "name": "python3"
    },
    "language_info": {
      "codemirror_mode": {
        "name": "ipython",
        "version": 3
      },
      "file_extension": ".py",
      "mimetype": "text/x-python",
      "name": "python",
      "nbconvert_exporter": "python",
      "pygments_lexer": "ipython3",
      "version": "3.11.8"
    }
  },
  "nbformat": 4,
  "nbformat_minor": 2
}
