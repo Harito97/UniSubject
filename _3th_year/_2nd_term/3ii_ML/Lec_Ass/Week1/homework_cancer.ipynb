{
 "cells": [
  {
   "cell_type": "markdown",
   "metadata": {},
   "source": [
    "# Mô tả bài toán và dữ liệu "
   ]
  },
  {
   "cell_type": "markdown",
   "metadata": {},
   "source": [
    "Để dự đoán một bệnh nhân có khả năng ung thư hay không, người ta thu thập các mẫu sinh thiết, xét nghiệm bằng việc lấy một lát cắt của mẫu để soi dưới kính hiển vi, quét và ghi lại mẫu dưới dạng các khung ảnh số của các nhân tế bào.  \n",
    "\n",
    "Từ đó, người ta tiến hành đo kích thước, hình dạng, kết cấu của chúng và tính toán 10 đặc tính của nhân. Cụ thể trong tệp dữ liệu các trường sẽ là:  \n",
    "1. Mã số mẫu  \n",
    "2. Loại: 2 cho lành tính, 4 cho ác tính   \n",
    "3. Độ dày hạch (Clump Thickness)  \n",
    "4. Sự đồng nhất của kích thước tế bào (Uniformity of Cell Size)  \n",
    "5. Tính đồng nhất của hình dạng tế bào (Uniformity of Cell Shape)  \n",
    "6. Độ kết dính lề - biên (Marginal Adhesion)  \n",
    "7. Kích thước tế bào biểu mô đơn (Single Epithelial Cell Size)  \n",
    "8. Phần nhân ngoài (Bare Nuclei)  \n",
    "9. Chất nhiễm sắc thể (Bland Chromatin)  \n",
    "10. Nhân trong thường (Normal Nucleoli)  \n",
    "11. Vỏ (Mitoses)  \n"
   ]
  },
  {
   "cell_type": "markdown",
   "metadata": {},
   "source": [
    "# Xử lý dữ liệu "
   ]
  },
  {
   "cell_type": "markdown",
   "metadata": {},
   "source": [
    "Chọn 80 mẫu lành tính (Trường phân loại là 2) và 40 mẫu ác tính (Trường phân loại là 4) làm dữ liệu Test, chúng ta sẽ không sử dụng trường phân loại.  \n",
    "\n",
    "Phần còn lại sẽ là dữ liệu training."
   ]
  },
  {
   "cell_type": "code",
   "execution_count": 1,
   "metadata": {},
   "outputs": [],
   "source": [
    "# các hàm viết để phục vụ việc xử lý dữ liệu \n",
    "import random\n",
    "import pandas as pd\n",
    "\n",
    "def read_data(data:str='data/cancer/datacum'):\n",
    "    '''\n",
    "    Function to read data from source file data\n",
    "    '''\n",
    "    with open(data) as f:\n",
    "        content = f.readlines()\n",
    "\n",
    "    X_data, y_label = [], []\n",
    "\n",
    "    for line in content:\n",
    "        line = line.strip()\n",
    "\n",
    "        if line == '' or line.startswith('#'):\n",
    "            continue\n",
    "        \n",
    "        parts = line.split(',')\n",
    "        label = False if parts[1] == '2' else True    # 2 is benign, 4 is malignant -> 2 is False, 4 is True\n",
    "        data_input = []\n",
    "        for index in range(11):\n",
    "            if index == 1:\n",
    "                continue\n",
    "            data_input.append(int(parts[index]))\n",
    "        X_data.append(data_input)\n",
    "        y_label.append(label)\n",
    "\n",
    "    return X_data, y_label\n",
    "\n",
    "def __get_random_samples__(X_data:list, y_label:list, target_label:bool, num_samples:int):\n",
    "    '''\n",
    "    Function to get random samples\n",
    "    '''\n",
    "    indices = [i for i, label in enumerate(y_label) if label == target_label]\n",
    "    selected_indices = random.sample(indices, num_samples)\n",
    "    \n",
    "    selected_X_data = [X_data[i] for i in selected_indices]\n",
    "    selected_y_label = [y_label[i] for i in selected_indices]\n",
    "    \n",
    "    return selected_X_data, selected_y_label, selected_indices\n",
    "\n",
    "def split_train_test_dataset(X_data:list, y_label:list):\n",
    "    '''\n",
    "    Function to split dataset to train set and test set \n",
    "    '''\n",
    "    column_names = ['Sample code number', 'Clump Thickness', 'Uniformity of Cell Size', 'Uniformity of Cell Shape', 'Marginal Adhesion', 'Single Epithelial Cell Size', 'Bare Nuclei', 'Bland Chromatin', 'Normal Nucleoli', 'Mitoses']\n",
    "    \n",
    "    ## Make test set \n",
    "    # Lấy ngẫu nhiên 80 mẫu có label 2\n",
    "    X_data_label_2, y_label_2, indices_2 = __get_random_samples__(X_data, y_label, target_label=False, num_samples=80)\n",
    "\n",
    "    # Lấy ngẫu nhiên 40 mẫu có label 4\n",
    "    X_data_label_4, y_label_4, indices_4 = __get_random_samples__(X_data, y_label, target_label=True, num_samples=40)\n",
    "\n",
    "    # Kết hợp dữ liệu\n",
    "    test_X_data = X_data_label_2 + X_data_label_4\n",
    "    test_y_label = y_label_2 + y_label_4\n",
    "    test_X_data = pd.DataFrame(test_X_data, columns=column_names)\n",
    "    test_y_label = pd.DataFrame(test_y_label, columns=['Class'])\n",
    "    test_data = (test_X_data, test_y_label)\n",
    "\n",
    "    ##################################################################################################################\n",
    "    \n",
    "    ## Make train set\n",
    "    train_set_indices = set(range(len(X_data))) - set(indices_2) - set(indices_4)\n",
    "\n",
    "    # Lấy mẫu từ phần còn lại của bộ dữ liệu\n",
    "    train_X_data = [X_data[i] for i in train_set_indices]\n",
    "    train_y_label = [y_label[i] for i in train_set_indices]\n",
    "    train_X_data = pd.DataFrame(train_X_data, columns=column_names)\n",
    "    train_y_label = pd.DataFrame(train_y_label, columns=['Class'])\n",
    "    train_data = (train_X_data, train_y_label)\n",
    "\n",
    "    return train_data, test_data"
   ]
  },
  {
   "cell_type": "code",
   "execution_count": 2,
   "metadata": {},
   "outputs": [],
   "source": [
    "# read data\n",
    "filename = 'data/cancer/datacum'\n",
    "\n",
    "X_data, y_label = read_data(filename)"
   ]
  },
  {
   "cell_type": "code",
   "execution_count": 3,
   "metadata": {},
   "outputs": [
    {
     "name": "stdout",
     "output_type": "stream",
     "text": [
      "699 699\n",
      "[[1000025, 5, 1, 1, 1, 2, 1, 3, 1, 1], [1002945, 5, 4, 4, 5, 7, 10, 3, 2, 1], [1015425, 3, 1, 1, 1, 2, 2, 3, 1, 1], [1016277, 6, 8, 8, 1, 3, 4, 3, 7, 1], [1017023, 4, 1, 1, 3, 2, 1, 3, 1, 1]]\n",
      "[False, False, False, False, False]\n"
     ]
    }
   ],
   "source": [
    "# some view on data\n",
    "print(len(X_data), len(y_label)) \n",
    "print(X_data[:5])\n",
    "print(y_label[:5])"
   ]
  },
  {
   "cell_type": "code",
   "execution_count": 4,
   "metadata": {},
   "outputs": [],
   "source": [
    "# take train and test set\n",
    "train_data, test_data = split_train_test_dataset(X_data, y_label)"
   ]
  },
  {
   "cell_type": "code",
   "execution_count": 5,
   "metadata": {},
   "outputs": [
    {
     "name": "stdout",
     "output_type": "stream",
     "text": [
      "579 579 (     Sample code number  Clump Thickness  Uniformity of Cell Size  \\\n",
      "0               1000025                5                        1   \n",
      "1               1002945                5                        4   \n",
      "2               1015425                3                        1   \n",
      "3               1016277                6                        8   \n",
      "4               1017023                4                        1   \n",
      "..                  ...              ...                      ...   \n",
      "574              763235                3                        1   \n",
      "575              776715                3                        1   \n",
      "576              888820                5                       10   \n",
      "577              897471                4                        8   \n",
      "578              897471                4                        8   \n",
      "\n",
      "     Uniformity of Cell Shape  Marginal Adhesion  Single Epithelial Cell Size  \\\n",
      "0                           1                  1                            2   \n",
      "1                           4                  5                            7   \n",
      "2                           1                  1                            2   \n",
      "3                           8                  1                            3   \n",
      "4                           1                  3                            2   \n",
      "..                        ...                ...                          ...   \n",
      "574                         1                  1                            2   \n",
      "575                         1                  1                            3   \n",
      "576                        10                  3                            7   \n",
      "577                         6                  4                            3   \n",
      "578                         8                  5                            4   \n",
      "\n",
      "     Bare Nuclei  Bland Chromatin  Normal Nucleoli  Mitoses  \n",
      "0              1                3                1        1  \n",
      "1             10                3                2        1  \n",
      "2              2                3                1        1  \n",
      "3              4                3                7        1  \n",
      "4              1                3                1        1  \n",
      "..           ...              ...              ...      ...  \n",
      "574            1                2                1        2  \n",
      "575            2                1                1        1  \n",
      "576            3                8               10        2  \n",
      "577            4               10                6        1  \n",
      "578            5               10                4        1  \n",
      "\n",
      "[579 rows x 10 columns],      Class\n",
      "0    False\n",
      "1    False\n",
      "2    False\n",
      "3    False\n",
      "4    False\n",
      "..     ...\n",
      "574  False\n",
      "575  False\n",
      "576   True\n",
      "577   True\n",
      "578   True\n",
      "\n",
      "[579 rows x 1 columns])\n",
      "120 120 (     Sample code number  Clump Thickness  Uniformity of Cell Size  \\\n",
      "0               1280258                4                        1   \n",
      "1               1288608                3                        1   \n",
      "2               1272166                5                        1   \n",
      "3               1033078                2                        1   \n",
      "4               1238915                5                        1   \n",
      "..                  ...              ...                      ...   \n",
      "115             1258549                9                       10   \n",
      "116             1076352                3                        6   \n",
      "117             1227210               10                        5   \n",
      "118             1294562               10                        8   \n",
      "119             1176881                7                        5   \n",
      "\n",
      "     Uniformity of Cell Shape  Marginal Adhesion  Single Epithelial Cell Size  \\\n",
      "0                           1                  1                            2   \n",
      "1                           1                  1                            2   \n",
      "2                           1                  1                            2   \n",
      "3                           1                  1                            2   \n",
      "4                           2                  1                            2   \n",
      "..                        ...                ...                          ...   \n",
      "115                        10                 10                           10   \n",
      "116                         4                 10                            3   \n",
      "117                         5                  6                            3   \n",
      "118                        10                  1                            3   \n",
      "119                         3                  7                            4   \n",
      "\n",
      "     Bare Nuclei  Bland Chromatin  Normal Nucleoli  Mitoses  \n",
      "0              1                1                2        1  \n",
      "1              1                2                1        1  \n",
      "2              1                1                1        1  \n",
      "3              1                1                1        5  \n",
      "4              1                3                1        1  \n",
      "..           ...              ...              ...      ...  \n",
      "115           10               10               10        1  \n",
      "116            3                3                4        1  \n",
      "117           10                7                9        2  \n",
      "118           10                5                1        1  \n",
      "119           10                7                5        5  \n",
      "\n",
      "[120 rows x 10 columns],      Class\n",
      "0    False\n",
      "1    False\n",
      "2    False\n",
      "3    False\n",
      "4    False\n",
      "..     ...\n",
      "115   True\n",
      "116   True\n",
      "117   True\n",
      "118   True\n",
      "119   True\n",
      "\n",
      "[120 rows x 1 columns])\n"
     ]
    }
   ],
   "source": [
    "# some view on train and test dataset\n",
    "print(len(train_data[0]), len(train_data[1]), train_data)\n",
    "print(len(test_data[0]), len(test_data[1]), test_data)"
   ]
  },
  {
   "cell_type": "markdown",
   "metadata": {},
   "source": [
    "# Xây dựng mô hình phân loại Naive Bayes cho dữ liệu liên tục "
   ]
  },
  {
   "cell_type": "code",
   "execution_count": 6,
   "metadata": {},
   "outputs": [
    {
     "name": "stderr",
     "output_type": "stream",
     "text": [
      "/home/harito/venv/py/lib/python3.11/site-packages/sklearn/utils/validation.py:1111: DataConversionWarning: A column-vector y was passed when a 1d array was expected. Please change the shape of y to (n_samples, ), for example using ravel().\n",
      "  y = column_or_1d(y, warn=True)\n"
     ]
    },
    {
     "data": {
      "text/html": [
       "<style>#sk-container-id-1 {color: black;background-color: white;}#sk-container-id-1 pre{padding: 0;}#sk-container-id-1 div.sk-toggleable {background-color: white;}#sk-container-id-1 label.sk-toggleable__label {cursor: pointer;display: block;width: 100%;margin-bottom: 0;padding: 0.3em;box-sizing: border-box;text-align: center;}#sk-container-id-1 label.sk-toggleable__label-arrow:before {content: \"▸\";float: left;margin-right: 0.25em;color: #696969;}#sk-container-id-1 label.sk-toggleable__label-arrow:hover:before {color: black;}#sk-container-id-1 div.sk-estimator:hover label.sk-toggleable__label-arrow:before {color: black;}#sk-container-id-1 div.sk-toggleable__content {max-height: 0;max-width: 0;overflow: hidden;text-align: left;background-color: #f0f8ff;}#sk-container-id-1 div.sk-toggleable__content pre {margin: 0.2em;color: black;border-radius: 0.25em;background-color: #f0f8ff;}#sk-container-id-1 input.sk-toggleable__control:checked~div.sk-toggleable__content {max-height: 200px;max-width: 100%;overflow: auto;}#sk-container-id-1 input.sk-toggleable__control:checked~label.sk-toggleable__label-arrow:before {content: \"▾\";}#sk-container-id-1 div.sk-estimator input.sk-toggleable__control:checked~label.sk-toggleable__label {background-color: #d4ebff;}#sk-container-id-1 div.sk-label input.sk-toggleable__control:checked~label.sk-toggleable__label {background-color: #d4ebff;}#sk-container-id-1 input.sk-hidden--visually {border: 0;clip: rect(1px 1px 1px 1px);clip: rect(1px, 1px, 1px, 1px);height: 1px;margin: -1px;overflow: hidden;padding: 0;position: absolute;width: 1px;}#sk-container-id-1 div.sk-estimator {font-family: monospace;background-color: #f0f8ff;border: 1px dotted black;border-radius: 0.25em;box-sizing: border-box;margin-bottom: 0.5em;}#sk-container-id-1 div.sk-estimator:hover {background-color: #d4ebff;}#sk-container-id-1 div.sk-parallel-item::after {content: \"\";width: 100%;border-bottom: 1px solid gray;flex-grow: 1;}#sk-container-id-1 div.sk-label:hover label.sk-toggleable__label {background-color: #d4ebff;}#sk-container-id-1 div.sk-serial::before {content: \"\";position: absolute;border-left: 1px solid gray;box-sizing: border-box;top: 0;bottom: 0;left: 50%;z-index: 0;}#sk-container-id-1 div.sk-serial {display: flex;flex-direction: column;align-items: center;background-color: white;padding-right: 0.2em;padding-left: 0.2em;position: relative;}#sk-container-id-1 div.sk-item {position: relative;z-index: 1;}#sk-container-id-1 div.sk-parallel {display: flex;align-items: stretch;justify-content: center;background-color: white;position: relative;}#sk-container-id-1 div.sk-item::before, #sk-container-id-1 div.sk-parallel-item::before {content: \"\";position: absolute;border-left: 1px solid gray;box-sizing: border-box;top: 0;bottom: 0;left: 50%;z-index: -1;}#sk-container-id-1 div.sk-parallel-item {display: flex;flex-direction: column;z-index: 1;position: relative;background-color: white;}#sk-container-id-1 div.sk-parallel-item:first-child::after {align-self: flex-end;width: 50%;}#sk-container-id-1 div.sk-parallel-item:last-child::after {align-self: flex-start;width: 50%;}#sk-container-id-1 div.sk-parallel-item:only-child::after {width: 0;}#sk-container-id-1 div.sk-dashed-wrapped {border: 1px dashed gray;margin: 0 0.4em 0.5em 0.4em;box-sizing: border-box;padding-bottom: 0.4em;background-color: white;}#sk-container-id-1 div.sk-label label {font-family: monospace;font-weight: bold;display: inline-block;line-height: 1.2em;}#sk-container-id-1 div.sk-label-container {text-align: center;}#sk-container-id-1 div.sk-container {/* jupyter's `normalize.less` sets `[hidden] { display: none; }` but bootstrap.min.css set `[hidden] { display: none !important; }` so we also need the `!important` here to be able to override the default hidden behavior on the sphinx rendered scikit-learn.org. See: https://github.com/scikit-learn/scikit-learn/issues/21755 */display: inline-block !important;position: relative;}#sk-container-id-1 div.sk-text-repr-fallback {display: none;}</style><div id=\"sk-container-id-1\" class=\"sk-top-container\"><div class=\"sk-text-repr-fallback\"><pre>GaussianNB()</pre><b>In a Jupyter environment, please rerun this cell to show the HTML representation or trust the notebook. <br />On GitHub, the HTML representation is unable to render, please try loading this page with nbviewer.org.</b></div><div class=\"sk-container\" hidden><div class=\"sk-item\"><div class=\"sk-estimator sk-toggleable\"><input class=\"sk-toggleable__control sk-hidden--visually\" id=\"sk-estimator-id-1\" type=\"checkbox\" checked><label for=\"sk-estimator-id-1\" class=\"sk-toggleable__label sk-toggleable__label-arrow\">GaussianNB</label><div class=\"sk-toggleable__content\"><pre>GaussianNB()</pre></div></div></div></div></div>"
      ],
      "text/plain": [
       "GaussianNB()"
      ]
     },
     "execution_count": 6,
     "metadata": {},
     "output_type": "execute_result"
    }
   ],
   "source": [
    "from sklearn.naive_bayes import GaussianNB\n",
    "\n",
    "# Tạo mô hình Naive Bayes\n",
    "model = GaussianNB()\n",
    "\n",
    "# Huấn luyện mô hình trên tập training\n",
    "model.fit(train_data[0], train_data[1])"
   ]
  },
  {
   "cell_type": "markdown",
   "metadata": {},
   "source": [
    "# Thực hiện kiểm chứng qua các chỉ số Accuracy, Precision, Recall  "
   ]
  },
  {
   "cell_type": "code",
   "execution_count": 7,
   "metadata": {},
   "outputs": [
    {
     "name": "stdout",
     "output_type": "stream",
     "text": [
      "Đánh giá mô hình sử dụng thư viện\n",
      "Accuracy: 0.925\n",
      "Classification Report:\n",
      "              precision    recall  f1-score   support\n",
      "\n",
      "       False       0.92      0.97      0.95        80\n",
      "        True       0.94      0.82      0.88        40\n",
      "\n",
      "    accuracy                           0.93       120\n",
      "   macro avg       0.93      0.90      0.91       120\n",
      "weighted avg       0.93      0.93      0.92       120\n",
      "\n",
      "Đánh giá mô hình thông qua tính thủ công\n",
      "Confusion matrix:\n",
      "[[78  2]\n",
      " [ 7 33]]\n",
      "Accuracy:  0.925\n",
      "Recall dự đoán False: 0.975\n",
      "Recall dự đoán True: 0.825\n",
      "Precision dự đoán False: 0.9176470588235294\n",
      "Precision dự đoán True: 0.9428571428571428\n"
     ]
    }
   ],
   "source": [
    "from sklearn.metrics import accuracy_score, confusion_matrix, classification_report\n",
    "\n",
    "# Dự đoán trên tập test\n",
    "y_pred = model.predict(test_data[0])\n",
    "\n",
    "# Đánh giá mô hình sử dụng thư viện \n",
    "print('Đánh giá mô hình sử dụng thư viện')\n",
    "accuracy = accuracy_score(test_data[1], y_pred)\n",
    "report = classification_report(test_data[1], y_pred)\n",
    "\n",
    "print(f\"Accuracy: {accuracy}\")\n",
    "print(\"Classification Report:\")\n",
    "print(report)\n",
    "# Accuracy: 0.925\n",
    "#              precision    recall  \n",
    "#       False       0.92      0.97      \n",
    "#        True       0.94      0.82      \n",
    "\n",
    "# Đánh giá mô hình thông qua tính thủ công \n",
    "print('Đánh giá mô hình thông qua tính thủ công')\n",
    "conf_matrix = confusion_matrix(test_data[1], y_pred)\n",
    "print('Confusion matrix:')\n",
    "print(conf_matrix)\n",
    "print('Accuracy: ', (conf_matrix[0][0] + conf_matrix[1][1]) / 120)\n",
    "print('Recall dự đoán False:', (conf_matrix[0][0]) / (conf_matrix[0][0] + conf_matrix[0][1]))\n",
    "print('Recall dự đoán True:', (conf_matrix[1][1]) / (conf_matrix[1][0] + conf_matrix[1][1]))\n",
    "print('Precision dự đoán False:', (conf_matrix[0][0]) / (conf_matrix[0][0] + conf_matrix[1][0]))\n",
    "print('Precision dự đoán True:', (conf_matrix[1][1]) / (conf_matrix[0][1] + conf_matrix[1][1]))"
   ]
  }
 ],
 "metadata": {
  "kernelspec": {
   "display_name": "py",
   "language": "python",
   "name": "python3"
  },
  "language_info": {
   "codemirror_mode": {
    "name": "ipython",
    "version": 3
   },
   "file_extension": ".py",
   "mimetype": "text/x-python",
   "name": "python",
   "nbconvert_exporter": "python",
   "pygments_lexer": "ipython3",
   "version": "3.11.6"
  }
 },
 "nbformat": 4,
 "nbformat_minor": 2
}
