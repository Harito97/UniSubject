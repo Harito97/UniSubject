{
 "cells": [
  {
   "cell_type": "markdown",
   "metadata": {},
   "source": [
    "# Intro"
   ]
  },
  {
   "cell_type": "markdown",
   "metadata": {},
   "source": [
    "# Monte Carlo for Estimation "
   ]
  },
  {
   "cell_type": "markdown",
   "metadata": {},
   "source": [
    "## Ước lượng Monte Carlo và Độ lệch chuẩn"
   ]
  },
  {
   "cell_type": "markdown",
   "metadata": {},
   "source": [
    "### Eg 7.1:"
   ]
  },
  {
   "cell_type": "code",
   "execution_count": 1,
   "metadata": {
    "vscode": {
     "languageId": "r"
    }
   },
   "outputs": [],
   "source": [
    "m <- 1000\n",
    "g <- numeric(m)\n",
    "for (i in 1:m) {\n",
    "x <- rnorm(2)\n",
    "g[i] <- abs(x[1] - x[2])\n",
    "}\n",
    "est <- mean(g)"
   ]
  },
  {
   "cell_type": "code",
   "execution_count": 2,
   "metadata": {
    "vscode": {
     "languageId": "r"
    }
   },
   "outputs": [
    {
     "data": {
      "text/html": [
       "1.11939908380376"
      ],
      "text/latex": [
       "1.11939908380376"
      ],
      "text/markdown": [
       "1.11939908380376"
      ],
      "text/plain": [
       "[1] 1.119399"
      ]
     },
     "metadata": {},
     "output_type": "display_data"
    }
   ],
   "source": [
    "est"
   ]
  },
  {
   "cell_type": "markdown",
   "metadata": {},
   "source": [
    "### Ước lượng độ lệch chuẩn (sd) của kỳ vọng (mean)"
   ]
  },
  {
   "cell_type": "markdown",
   "metadata": {},
   "source": [
    "## Ước lượng MSE (mean square error)"
   ]
  },
  {
   "cell_type": "code",
   "execution_count": 3,
   "metadata": {
    "vscode": {
     "languageId": "r"
    }
   },
   "outputs": [
    {
     "data": {
      "text/html": [
       "0.0505121653094361"
      ],
      "text/latex": [
       "0.0505121653094361"
      ],
      "text/markdown": [
       "0.0505121653094361"
      ],
      "text/plain": [
       "[1] 0.05051217"
      ]
     },
     "metadata": {},
     "output_type": "display_data"
    }
   ],
   "source": [
    "n <- 20\n",
    "m <- 1000\n",
    "tmean <- numeric(m)\n",
    "for (i in 1:m) {\n",
    "    x <- sort(rnorm(n))\n",
    "    tmean[i] <- sum(x[2:(n - 1)]) / (n - 2)\n",
    "}\n",
    "mse <- mean(tmean^2)\n",
    "mse"
   ]
  },
  {
   "cell_type": "code",
   "execution_count": 4,
   "metadata": {
    "vscode": {
     "languageId": "r"
    }
   },
   "outputs": [
    {
     "data": {
      "text/html": [
       "0.00710713162654468"
      ],
      "text/latex": [
       "0.00710713162654468"
      ],
      "text/markdown": [
       "0.00710713162654468"
      ],
      "text/plain": [
       "[1] 0.007107132"
      ]
     },
     "metadata": {},
     "output_type": "display_data"
    }
   ],
   "source": [
    "sqrt(sum((tmean - mean(tmean))^2)) / m  # se"
   ]
  },
  {
   "cell_type": "markdown",
   "metadata": {},
   "source": [
    "## Ước lượng Khoảng tin cậy (Estimating a Confidence Level)"
   ]
  },
  {
   "cell_type": "markdown",
   "metadata": {},
   "source": [
    "# Monte Carlo Methods for Hypothesis Tests"
   ]
  },
  {
   "cell_type": "code",
   "execution_count": null,
   "metadata": {
    "vscode": {
     "languageId": "r"
    }
   },
   "outputs": [],
   "source": []
  }
 ],
 "metadata": {
  "kernelspec": {
   "display_name": "R",
   "language": "R",
   "name": "ir"
  },
  "language_info": {
   "codemirror_mode": "r",
   "file_extension": ".r",
   "mimetype": "text/x-r-source",
   "name": "R",
   "pygments_lexer": "r",
   "version": "4.3.3"
  }
 },
 "nbformat": 4,
 "nbformat_minor": 2
}
