{
 "cells": [
  {
   "cell_type": "markdown",
   "metadata": {},
   "source": [
    "# Intro"
   ]
  },
  {
   "cell_type": "markdown",
   "metadata": {},
   "source": [
    "## Create sample with sample()"
   ]
  },
  {
   "cell_type": "code",
   "execution_count": 7,
   "metadata": {
    "vscode": {
     "languageId": "r"
    }
   },
   "outputs": [
    {
     "data": {
      "text/plain": [
       "x\n",
       " 0  1  2 \n",
       "39 62 99 "
      ]
     },
     "metadata": {},
     "output_type": "display_data"
    }
   ],
   "source": [
    "# Dùng sample() để tạo mẫu  \n",
    "# x = sample(num_start:num_end, size=number_sample, replace=TRUE) # replace = True là lấy ra có hoàn lại \n",
    "x = sample(0:2, size=200, replace=TRUE, prob=c(.2, .3, .5))\n",
    "table(x)"
   ]
  },
  {
   "cell_type": "code",
   "execution_count": 8,
   "metadata": {
    "vscode": {
     "languageId": "r"
    }
   },
   "outputs": [
    {
     "data": {
      "text/html": [
       "<style>\n",
       ".list-inline {list-style: none; margin:0; padding: 0}\n",
       ".list-inline>li {display: inline-block}\n",
       ".list-inline>li:not(:last-child)::after {content: \"\\00b7\"; padding: 0 .5ex}\n",
       "</style>\n",
       "<ol class=list-inline><li>'u'</li><li>'c'</li><li>'d'</li><li>'f'</li><li>'z'</li><li>'a'</li><li>'t'</li><li>'s'</li><li>'k'</li><li>'b'</li><li>'n'</li><li>'h'</li><li>'e'</li><li>'x'</li><li>'q'</li><li>'m'</li><li>'l'</li><li>'y'</li><li>'v'</li><li>'p'</li><li>'o'</li><li>'j'</li><li>'g'</li><li>'r'</li><li>'i'</li><li>'w'</li></ol>\n"
      ],
      "text/latex": [
       "\\begin{enumerate*}\n",
       "\\item 'u'\n",
       "\\item 'c'\n",
       "\\item 'd'\n",
       "\\item 'f'\n",
       "\\item 'z'\n",
       "\\item 'a'\n",
       "\\item 't'\n",
       "\\item 's'\n",
       "\\item 'k'\n",
       "\\item 'b'\n",
       "\\item 'n'\n",
       "\\item 'h'\n",
       "\\item 'e'\n",
       "\\item 'x'\n",
       "\\item 'q'\n",
       "\\item 'm'\n",
       "\\item 'l'\n",
       "\\item 'y'\n",
       "\\item 'v'\n",
       "\\item 'p'\n",
       "\\item 'o'\n",
       "\\item 'j'\n",
       "\\item 'g'\n",
       "\\item 'r'\n",
       "\\item 'i'\n",
       "\\item 'w'\n",
       "\\end{enumerate*}\n"
      ],
      "text/markdown": [
       "1. 'u'\n",
       "2. 'c'\n",
       "3. 'd'\n",
       "4. 'f'\n",
       "5. 'z'\n",
       "6. 'a'\n",
       "7. 't'\n",
       "8. 's'\n",
       "9. 'k'\n",
       "10. 'b'\n",
       "11. 'n'\n",
       "12. 'h'\n",
       "13. 'e'\n",
       "14. 'x'\n",
       "15. 'q'\n",
       "16. 'm'\n",
       "17. 'l'\n",
       "18. 'y'\n",
       "19. 'v'\n",
       "20. 'p'\n",
       "21. 'o'\n",
       "22. 'j'\n",
       "23. 'g'\n",
       "24. 'r'\n",
       "25. 'i'\n",
       "26. 'w'\n",
       "\n",
       "\n"
      ],
      "text/plain": [
       " [1] \"u\" \"c\" \"d\" \"f\" \"z\" \"a\" \"t\" \"s\" \"k\" \"b\" \"n\" \"h\" \"e\" \"x\" \"q\" \"m\" \"l\" \"y\" \"v\"\n",
       "[20] \"p\" \"o\" \"j\" \"g\" \"r\" \"i\" \"w\""
      ]
     },
     "metadata": {},
     "output_type": "display_data"
    }
   ],
   "source": [
    "x = sample(letters)\n",
    "x"
   ]
  },
  {
   "cell_type": "markdown",
   "metadata": {},
   "source": [
    "## Random Generators of Common Probability Distributions in R"
   ]
  },
  {
   "cell_type": "code",
   "execution_count": null,
   "metadata": {
    "vscode": {
     "languageId": "r"
    }
   },
   "outputs": [],
   "source": [
    "# The probability mass function (pmf) or density (pdf), \n",
    "# cumulative distribution function (cdf), \n",
    "# quantile function, \n",
    "# and random generator of many commonly used probability distributions are available. \n",
    "# For example, four functions are documented in the help topic Binomial:\n",
    "dbinom(x, size, prob, log = FALSE)\n",
    "pbinom(q, size, prob, lower.tail = TRUE, log.p = FALSE)\n",
    "qbinom(p, size, prob, lower.tail = TRUE, log.p = FALSE)\n",
    "rbinom(n, size, prob)"
   ]
  },
  {
   "cell_type": "markdown",
   "metadata": {},
   "source": [
    "# Phương pháp sinh dữ liệu 1: The Inverse Transform Method"
   ]
  },
  {
   "cell_type": "markdown",
   "metadata": {},
   "source": [
    "Lý thuyết 1: (Probability Integral Transformation). If X is a continuous random variable with cdf FX (x), then U = FX (X) ∼ Uniform(0, 1)."
   ]
  },
  {
   "cell_type": "code",
   "execution_count": null,
   "metadata": {
    "vscode": {
     "languageId": "r"
    }
   },
   "outputs": [],
   "source": []
  }
 ],
 "metadata": {
  "kernelspec": {
   "display_name": "R",
   "language": "R",
   "name": "ir"
  },
  "language_info": {
   "codemirror_mode": "r",
   "file_extension": ".r",
   "mimetype": "text/x-r-source",
   "name": "R",
   "pygments_lexer": "r",
   "version": "4.3.2"
  }
 },
 "nbformat": 4,
 "nbformat_minor": 2
}
