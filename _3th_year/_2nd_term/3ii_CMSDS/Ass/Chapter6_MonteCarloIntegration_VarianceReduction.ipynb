{
 "cells": [
  {
   "cell_type": "markdown",
   "metadata": {},
   "source": [
    "# Intro"
   ]
  },
  {
   "cell_type": "markdown",
   "metadata": {},
   "source": [
    "# Tích phân Monte Carlo"
   ]
  },
  {
   "cell_type": "markdown",
   "metadata": {},
   "source": [
    "## Ước lượng Monte Carlo cơ bản"
   ]
  },
  {
   "cell_type": "markdown",
   "metadata": {},
   "source": [
    "## Variance & Efficiency "
   ]
  },
  {
   "cell_type": "markdown",
   "metadata": {},
   "source": [
    "# Variance Reduction "
   ]
  },
  {
   "cell_type": "markdown",
   "metadata": {},
   "source": [
    "# Antithetic Variables"
   ]
  },
  {
   "cell_type": "markdown",
   "metadata": {},
   "source": [
    "# Control Variates"
   ]
  },
  {
   "cell_type": "markdown",
   "metadata": {},
   "source": [
    "# Importance Sampling"
   ]
  },
  {
   "cell_type": "markdown",
   "metadata": {},
   "source": [
    "# Stratified Sampling"
   ]
  },
  {
   "cell_type": "markdown",
   "metadata": {},
   "source": [
    "## Eg 6.12: "
   ]
  },
  {
   "cell_type": "code",
   "execution_count": 1,
   "metadata": {
    "vscode": {
     "languageId": "r"
    }
   },
   "outputs": [],
   "source": [
    "M <- 20\n",
    "# number of replicates\n",
    "T2 <- numeric(4)\n",
    "estimates <- matrix(0, 10, 2)\n",
    "g <- function(x) {\n",
    "    exp(-x - log(1 + x^2)) * (x > 0) * (x < 1)\n",
    "}\n",
    "for (i in 1:10) {\n",
    "    estimates[i, 1] <- mean(g(runif(M)))\n",
    "    T2[1] <- mean(g(runif(M / 4, 0, .25)))\n",
    "    T2[2] <- mean(g(runif(M / 4, .25, .5)))\n",
    "    T2[3] <- mean(g(runif(M / 4, .5, .75)))\n",
    "    T2[4] <- mean(g(runif(M / 4, .75, 1)))\n",
    "    estimates[i, 2] <- mean(T2)\n",
    "}"
   ]
  },
  {
   "cell_type": "code",
   "execution_count": 2,
   "metadata": {
    "vscode": {
     "languageId": "r"
    }
   },
   "outputs": [
    {
     "data": {
      "text/html": [
       "<table class=\"dataframe\">\n",
       "<caption>A matrix: 10 × 2 of type dbl</caption>\n",
       "<tbody>\n",
       "\t<tr><td>0.4904588</td><td>0.5294457</td></tr>\n",
       "\t<tr><td>0.5152282</td><td>0.5170845</td></tr>\n",
       "\t<tr><td>0.4145666</td><td>0.5178987</td></tr>\n",
       "\t<tr><td>0.4247414</td><td>0.5115547</td></tr>\n",
       "\t<tr><td>0.5389822</td><td>0.5354944</td></tr>\n",
       "\t<tr><td>0.5533762</td><td>0.5175770</td></tr>\n",
       "\t<tr><td>0.5143872</td><td>0.5318624</td></tr>\n",
       "\t<tr><td>0.5209377</td><td>0.5124893</td></tr>\n",
       "\t<tr><td>0.4978380</td><td>0.5252430</td></tr>\n",
       "\t<tr><td>0.5564032</td><td>0.5017294</td></tr>\n",
       "</tbody>\n",
       "</table>\n"
      ],
      "text/latex": [
       "A matrix: 10 × 2 of type dbl\n",
       "\\begin{tabular}{ll}\n",
       "\t 0.4904588 & 0.5294457\\\\\n",
       "\t 0.5152282 & 0.5170845\\\\\n",
       "\t 0.4145666 & 0.5178987\\\\\n",
       "\t 0.4247414 & 0.5115547\\\\\n",
       "\t 0.5389822 & 0.5354944\\\\\n",
       "\t 0.5533762 & 0.5175770\\\\\n",
       "\t 0.5143872 & 0.5318624\\\\\n",
       "\t 0.5209377 & 0.5124893\\\\\n",
       "\t 0.4978380 & 0.5252430\\\\\n",
       "\t 0.5564032 & 0.5017294\\\\\n",
       "\\end{tabular}\n"
      ],
      "text/markdown": [
       "\n",
       "A matrix: 10 × 2 of type dbl\n",
       "\n",
       "| 0.4904588 | 0.5294457 |\n",
       "| 0.5152282 | 0.5170845 |\n",
       "| 0.4145666 | 0.5178987 |\n",
       "| 0.4247414 | 0.5115547 |\n",
       "| 0.5389822 | 0.5354944 |\n",
       "| 0.5533762 | 0.5175770 |\n",
       "| 0.5143872 | 0.5318624 |\n",
       "| 0.5209377 | 0.5124893 |\n",
       "| 0.4978380 | 0.5252430 |\n",
       "| 0.5564032 | 0.5017294 |\n",
       "\n"
      ],
      "text/plain": [
       "      [,1]      [,2]     \n",
       " [1,] 0.4904588 0.5294457\n",
       " [2,] 0.5152282 0.5170845\n",
       " [3,] 0.4145666 0.5178987\n",
       " [4,] 0.4247414 0.5115547\n",
       " [5,] 0.5389822 0.5354944\n",
       " [6,] 0.5533762 0.5175770\n",
       " [7,] 0.5143872 0.5318624\n",
       " [8,] 0.5209377 0.5124893\n",
       " [9,] 0.4978380 0.5252430\n",
       "[10,] 0.5564032 0.5017294"
      ]
     },
     "metadata": {},
     "output_type": "display_data"
    }
   ],
   "source": [
    "estimates"
   ]
  },
  {
   "cell_type": "code",
   "execution_count": 3,
   "metadata": {
    "vscode": {
     "languageId": "r"
    }
   },
   "outputs": [
    {
     "data": {
      "text/html": [
       "<style>\n",
       ".list-inline {list-style: none; margin:0; padding: 0}\n",
       ".list-inline>li {display: inline-block}\n",
       ".list-inline>li:not(:last-child)::after {content: \"\\00b7\"; padding: 0 .5ex}\n",
       "</style>\n",
       "<ol class=list-inline><li>0.502691957952339</li><li>0.520037913474101</li></ol>\n"
      ],
      "text/latex": [
       "\\begin{enumerate*}\n",
       "\\item 0.502691957952339\n",
       "\\item 0.520037913474101\n",
       "\\end{enumerate*}\n"
      ],
      "text/markdown": [
       "1. 0.502691957952339\n",
       "2. 0.520037913474101\n",
       "\n",
       "\n"
      ],
      "text/plain": [
       "[1] 0.5026920 0.5200379"
      ]
     },
     "metadata": {},
     "output_type": "display_data"
    }
   ],
   "source": [
    "apply(estimates, 2, mean)"
   ]
  },
  {
   "cell_type": "code",
   "execution_count": 4,
   "metadata": {
    "vscode": {
     "languageId": "r"
    }
   },
   "outputs": [
    {
     "data": {
      "text/html": [
       "<style>\n",
       ".list-inline {list-style: none; margin:0; padding: 0}\n",
       ".list-inline>li {display: inline-block}\n",
       ".list-inline>li:not(:last-child)::after {content: \"\\00b7\"; padding: 0 .5ex}\n",
       "</style>\n",
       "<ol class=list-inline><li>0.00237924215298172</li><li>0.000108646922481101</li></ol>\n"
      ],
      "text/latex": [
       "\\begin{enumerate*}\n",
       "\\item 0.00237924215298172\n",
       "\\item 0.000108646922481101\n",
       "\\end{enumerate*}\n"
      ],
      "text/markdown": [
       "1. 0.00237924215298172\n",
       "2. 0.000108646922481101\n",
       "\n",
       "\n"
      ],
      "text/plain": [
       "[1] 0.0023792422 0.0001086469"
      ]
     },
     "metadata": {},
     "output_type": "display_data"
    }
   ],
   "source": [
    "apply(estimates, 2, var)"
   ]
  },
  {
   "cell_type": "markdown",
   "metadata": {},
   "source": [
    "Cách này giúp variance giảm đi 20 lần => Mục đích của phương pháp này là giúp làm giảm phương sai đi "
   ]
  },
  {
   "cell_type": "markdown",
   "metadata": {},
   "source": [
    "# Stratified Importance Sampling"
   ]
  },
  {
   "cell_type": "markdown",
   "metadata": {},
   "source": [
    "Từ Montee Carlo -> Sinh ra phân phối đều từ 0 đến 1. Rồi phân phối đều từ 0 đến x. Rồi ..."
   ]
  }
 ],
 "metadata": {
  "kernelspec": {
   "display_name": "R",
   "language": "R",
   "name": "ir"
  },
  "language_info": {
   "codemirror_mode": "r",
   "file_extension": ".r",
   "mimetype": "text/x-r-source",
   "name": "R",
   "pygments_lexer": "r",
   "version": "4.3.3"
  }
 },
 "nbformat": 4,
 "nbformat_minor": 2
}
