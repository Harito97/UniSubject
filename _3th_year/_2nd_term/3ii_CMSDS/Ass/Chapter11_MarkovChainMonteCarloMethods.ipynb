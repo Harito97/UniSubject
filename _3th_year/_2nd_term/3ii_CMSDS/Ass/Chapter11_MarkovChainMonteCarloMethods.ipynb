{
 "cells": [
  {
   "cell_type": "markdown",
   "metadata": {},
   "source": [
    "# Intro"
   ]
  },
  {
   "cell_type": "markdown",
   "metadata": {},
   "source": [
    " - **Mục tiêu**: Mong muốn sinh 1 mẫu với phân phối f nào đó.  \n",
    " - **Phương pháp sử dụng**: Sinh Markov Chain $\\rightarrow$ có phân phối dừng là hàm $f$ mong muốn.  "
   ]
  },
  {
   "cell_type": "markdown",
   "metadata": {},
   "source": [
    "## Vấn đề tích phân trong thống kê Bayesian"
   ]
  },
  {
   "cell_type": "markdown",
   "metadata": {},
   "source": [
    "Giả sử có 1 mẫu ${x_1, x_2, ..., x_n}$ ta  \n",
    "Định nghĩa ra 1 hàm likelihood $f(x_1, x_2, ..., x_n | \\theta)$"
   ]
  },
  {
   "cell_type": "markdown",
   "metadata": {},
   "source": [
    "Sử dụng công thức Bayes ta có thể tính được $f(\\theta | x)$  \n",
    "Từ đó tính được kỳ vọng $E[g(\\theta | x)]$ hay chính là $E[g(Y)]$"
   ]
  },
  {
   "cell_type": "markdown",
   "metadata": {},
   "source": [
    "## Tích phân Markov Chain Monte Carlo  "
   ]
  },
  {
   "cell_type": "markdown",
   "metadata": {},
   "source": [
    "Tính chất của chuỗi Markov "
   ]
  },
  {
   "cell_type": "markdown",
   "metadata": {},
   "source": [
    "# Phương pháp con 1. Thuật toán Metropolis-Hastings "
   ]
  },
  {
   "cell_type": "markdown",
   "metadata": {},
   "source": [
    " - **Mục tiêu**: Sinh ra 1 chuỗi Markov Chain  \n",
    " - **Cách thức**: Việc sinh mẫu. Giả thiết có 1 điểm data nào đó. Dựa trên phân phối đề xuất $g(. | X_t)$ nào đó $\\rightarrow$ Chấp nhận OR Bác bỏ điểm được sinh ra tiếp theo dựa trên phân phối $g$. Như vậy có thể gọi là sig Markov (cái tạo sau liên quan tới cái tạo trước đó)"
   ]
  },
  {
   "cell_type": "markdown",
   "metadata": {},
   "source": [
    "Điều đó đồng nghĩa $g(.|X_t)$ sẽ thay đổi liên tục tùy thuộc vào $X_t$ đang xét hiện tại."
   ]
  },
  {
   "cell_type": "markdown",
   "metadata": {},
   "source": [
    "Vấn đề là chọn phân phối đề xuất $g$ như thế nào đi nữa (phải đảm bảo điều kiện **giống họ các phân phối - class distribution**) thì sẽ đảm bảo hội tụ.  \n",
    "Tuy nhiên nếu phân phối $g$ được chọn là đủ tốt thì sẽ giúp tốc độ hội tụ (không bác bỏ liên tục) sẽ nhanh hơn. Từ đó giúp việc sinh ra mẫu $X$ nhanh, tránh mất thời gian hơn."
   ]
  },
  {
   "cell_type": "markdown",
   "metadata": {},
   "source": [
    "## Thuật toán"
   ]
  },
  {
   "cell_type": "markdown",
   "metadata": {},
   "source": [
    "Đầu tiên ta tạo $X_0$ từ phân phối $g$ đã chọn. Bây giờ liên tục lặp cho đến khi tạo đủ số điểm data cho mẫu mong muốn: "
   ]
  },
  {
   "cell_type": "markdown",
   "metadata": {},
   "source": [
    " - B1. Tạo $Y$ theo phân phối $g(.|X_t)$  \n",
    " - B2. Tạo $U$ từ phân phối Chuẩn (0, 1)  \n",
    " - B3. Nếu điều kiện $U \\leq \\frac{f(Y)g(X_t|Y)}{f(X_t)g(Y|X_t)}$ được thỏa mãn thì ta chấp nhận điểm $Y$ được tạo ra ($X_{t+1} = Y$) còn không thì $X_{t+1} = X_{t}$."
   ]
  }
 ],
 "metadata": {
  "language_info": {
   "name": "python"
  }
 },
 "nbformat": 4,
 "nbformat_minor": 2
}
