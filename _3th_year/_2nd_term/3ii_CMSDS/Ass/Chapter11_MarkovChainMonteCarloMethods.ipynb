{
 "cells": [
  {
   "cell_type": "markdown",
   "metadata": {},
   "source": [
    "# Intro"
   ]
  },
  {
   "cell_type": "markdown",
   "metadata": {},
   "source": [
    " - **Mục tiêu**: Mong muốn sinh 1 mẫu với phân phối f nào đó.  \n",
    " - **Phương pháp sử dụng**: Sinh Markov Chain $\\rightarrow$ có phân phối dừng là hàm $f$ mong muốn.  "
   ]
  },
  {
   "cell_type": "markdown",
   "metadata": {},
   "source": [
    "## Vấn đề tích phân trong thống kê Bayesian"
   ]
  },
  {
   "cell_type": "markdown",
   "metadata": {},
   "source": [
    "Giả sử có 1 mẫu ${x_1, x_2, ..., x_n}$ ta  \n",
    "Định nghĩa ra 1 hàm likelihood $f(x_1, x_2, ..., x_n | \\theta)$"
   ]
  },
  {
   "cell_type": "markdown",
   "metadata": {},
   "source": [
    "Sử dụng công thức Bayes ta có thể tính được $f(\\theta | x)$  \n",
    "Từ đó tính được kỳ vọng $E[g(\\theta | x)]$ hay chính là $E[g(Y)]$"
   ]
  },
  {
   "cell_type": "markdown",
   "metadata": {},
   "source": [
    "## Tích phân Markov Chain Monte Carlo  "
   ]
  },
  {
   "cell_type": "markdown",
   "metadata": {},
   "source": [
    "Tính chất của chuỗi Markov "
   ]
  },
  {
   "cell_type": "markdown",
   "metadata": {},
   "source": [
    "# Phương pháp con 1. Thuật toán Metropolis-Hastings "
   ]
  },
  {
   "cell_type": "markdown",
   "metadata": {},
   "source": [
    " - **Mục tiêu**: Sinh ra 1 chuỗi Markov Chain  \n",
    " - **Cách thức**: Việc sinh mẫu. Giả thiết có 1 điểm data nào đó. Dựa trên phân phối đề xuất $g(. | X_t)$ nào đó $\\rightarrow$ Chấp nhận OR Bác bỏ điểm được sinh ra tiếp theo dựa trên phân phối $g$. Như vậy có thể gọi là sig Markov (cái tạo sau liên quan tới cái tạo trước đó)"
   ]
  },
  {
   "cell_type": "markdown",
   "metadata": {},
   "source": [
    "Điều đó đồng nghĩa $g(.|X_t)$ sẽ thay đổi liên tục tùy thuộc vào $X_t$ đang xét hiện tại."
   ]
  },
  {
   "cell_type": "markdown",
   "metadata": {},
   "source": [
    "Vấn đề là chọn phân phối đề xuất $g$ như thế nào đi nữa (phải đảm bảo điều kiện **giống họ các phân phối - class distribution**) thì sẽ đảm bảo hội tụ.  \n",
    "Tuy nhiên nếu phân phối $g$ được chọn là đủ tốt thì sẽ giúp tốc độ hội tụ (không bác bỏ liên tục) sẽ nhanh hơn. Từ đó giúp việc sinh ra mẫu $X$ nhanh, tránh mất thời gian hơn."
   ]
  },
  {
   "cell_type": "markdown",
   "metadata": {},
   "source": [
    "## Thuật toán"
   ]
  },
  {
   "cell_type": "markdown",
   "metadata": {},
   "source": [
    "Đầu tiên ta tạo $X_0$ từ phân phối $g$ đã chọn. Bây giờ liên tục lặp cho đến khi tạo đủ số điểm data cho mẫu mong muốn: "
   ]
  },
  {
   "cell_type": "markdown",
   "metadata": {},
   "source": [
    " - B1. Tạo $Y$ theo phân phối $g(.|X_t)$  \n",
    " - B2. Tạo $U$ từ phân phối Chuẩn (0, 1)  \n",
    " - B3. Nếu điều kiện $U \\leq \\frac{f(Y)g(X_t|Y)}{f(X_t)g(Y|X_t)}$ được thỏa mãn thì ta chấp nhận điểm $Y$ được tạo ra ($X_{t+1} = Y$) còn không thì $X_{t+1} = X_{t}$."
   ]
  },
  {
   "cell_type": "code",
   "execution_count": 1,
   "metadata": {
    "vscode": {
     "languageId": "r"
    }
   },
   "outputs": [
    {
     "name": "stdout",
     "output_type": "stream",
     "text": [
      "[1] 4073\n"
     ]
    }
   ],
   "source": [
    "f <- function(x, sigma) {\n",
    "    if (any(x < 0)) {\n",
    "        return(0)\n",
    "    }\n",
    "    stopifnot(sigma > 0)\n",
    "    return((x / sigma^2) * exp(-x^2 / (2 * sigma^2)))\n",
    "}\n",
    "\n",
    "m <- 10000\n",
    "sigma <- 4\n",
    "x <- numeric(m)\n",
    "x[1] <- rchisq(1, df = 1)\n",
    "k <- 0\n",
    "u <- runif(m)\n",
    "for (i in 2:m) {\n",
    "    xt <- x[i - 1]\n",
    "    y <- rchisq(1, df = xt)\n",
    "    num <- f(y, sigma) * dchisq(xt, df = y) # g là hàm dchisq\n",
    "    den <- f(xt, sigma) * dchisq(y, df = xt)\n",
    "    if (u[i] <= num / den) {\n",
    "        x[i] <- y\n",
    "    } else {\n",
    "        x[i] <- xt\n",
    "        k <- k + 1\n",
    "        # y is rejected\n",
    "    }\n",
    "}\n",
    "print(k)"
   ]
  },
  {
   "cell_type": "markdown",
   "metadata": {},
   "source": [
    "Thuật toán Metropolis-Hastings là một phương pháp quan trọng trong Markov Chain Monte Carlo (MCMC) được sử dụng để lấy mẫu từ một phân phối có phân phối dư luận phức tạp. Trong thuật toán này, chúng ta sử dụng một quá trình Markov để di chuyển qua các trạng thái khác nhau của không gian mẫu, và chúng ta chấp nhận hoặc từ chối mỗi bước của quá trình Markov này dựa trên một tỷ lệ được gọi là tỷ lệ chấp nhận.\n",
    "\n",
    "Trong đoạn mã bạn đã cung cấp, chúng ta sử dụng thuật toán Metropolis-Hastings để lấy mẫu từ một phân phối chisquare bằng cách sử dụng một hàm mật độ xác suất không chuẩn. Dưới đây là ý nghĩa của mỗi phần của đoạn mã:\n",
    "\n",
    "1. Hàm f(x, sigma): Đây là hàm mật độ xác suất không chuẩn được sử dụng trong phương pháp Metropolis-Hastings để xác định tỷ lệ chấp nhận. Trong trường hợp này, hàm này được định nghĩa để trả về giá trị 0 nếu bất kỳ giá trị x nào nhỏ hơn 0, và trả về một giá trị phức tạp dựa trên x nếu x lớn hơn hoặc bằng 0.\n",
    "\n",
    "2. Mẫu ban đầu và số lần từ chối (k): Ban đầu, chúng ta chọn một giá trị ngẫu nhiên cho x từ phân phối chisquare với một độ tự do. Trong vòng lặp, chúng ta tính toán một số lượng mẫu m mới từ phân phối chisquare với một độ tự do dựa trên giá trị x hiện tại, sau đó xác định liệu chúng ta nên chấp nhận mẫu mới này hay không dựa trên tỷ lệ chấp nhận.\n",
    "\n",
    "3. Vòng lặp Metropolis-Hastings: Trong mỗi vòng lặp, chúng ta lấy mẫu một giá trị y từ phân phối chisquare với một độ tự do, sau đó tính tỷ lệ chấp nhận num/den dựa trên hàm f và hàm mật độ xác suất chisquare. Nếu giá trị của u (một biến ngẫu nhiên từ phân phối đồng nhất) nhỏ hơn tỷ lệ chấp nhận, chúng ta chấp nhận mẫu mới y; nếu không, chúng ta tiếp tục với giá trị hiện tại của x và tăng biến k để đếm số lần từ chối.\n",
    "\n",
    "4. Kết quả: Cuối cùng, chúng ta in ra số lần từ chối k, mà có thể là một chỉ số về sự hiệu quả của phương pháp Metropolis-Hastings. Đối với một phân phối phức tạp, số lần từ chối có thể cao, nhưng chúng ta vẫn có thể thu thập một chuỗi mẫu có phân phối gần với phân phối mục tiêu."
   ]
  }
 ],
 "metadata": {
  "kernelspec": {
   "display_name": "R",
   "language": "R",
   "name": "ir"
  },
  "language_info": {
   "codemirror_mode": "r",
   "file_extension": ".r",
   "mimetype": "text/x-r-source",
   "name": "R",
   "pygments_lexer": "r",
   "version": "4.3.3"
  }
 },
 "nbformat": 4,
 "nbformat_minor": 2
}
