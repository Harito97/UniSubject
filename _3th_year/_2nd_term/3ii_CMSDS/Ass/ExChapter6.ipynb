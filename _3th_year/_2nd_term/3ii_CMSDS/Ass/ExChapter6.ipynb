{
 "cells": [
  {
   "cell_type": "markdown",
   "metadata": {},
   "source": [
    "# Bài 1.  \n",
    "Tính 1 Monte Carlo ước lượng bởi:  \n",
    "$\\int_0^{\\pi/3} \\sin(t) dt$  \n",
    "Sau đó so sánh giá trị ước lượng với giá trị thực tế."
   ]
  },
  {
   "cell_type": "code",
   "execution_count": 1,
   "metadata": {
    "vscode": {
     "languageId": "r"
    }
   },
   "outputs": [
    {
     "name": "stdout",
     "output_type": "stream",
     "text": [
      "Monte Carlo Estimate: 0.4996322 \n",
      "True Value: 0.6666667 \n"
     ]
    }
   ],
   "source": [
    "# Số lượng điểm được lấy mẫu\n",
    "num_samples <- 100000\n",
    "\n",
    "# Lấy mẫu ngẫu nhiên các giá trị của t từ 0 đến pi/3\n",
    "t_values <- runif(num_samples, min = 0, max = pi/3)\n",
    "\n",
    "# Tính giá trị của hàm sin(t) tại các giá trị của t\n",
    "sin_values <- sin(t_values)\n",
    "\n",
    "# Tính tổng trung bình của các giá trị sin(t)\n",
    "monte_carlo_estimate <- mean(sin_values) * (pi/3)\n",
    "\n",
    "# Giá trị thực tế của tích phân\n",
    "true_value <- 2/3\n",
    "\n",
    "# In ra kết quả ước lượng Monte Carlo và giá trị thực tế\n",
    "cat(\"Monte Carlo Estimate:\", monte_carlo_estimate, \"\\n\")\n",
    "cat(\"True Value:\", true_value, \"\\n\")"
   ]
  },
  {
   "cell_type": "markdown",
   "metadata": {},
   "source": [
    "Hàm runif() để tạo ra num_samples giá trị ngẫu nhiên trong phạm vi từ 0 đến $\\pi/3$. Sau đó, nó tính giá trị của hàm sin(t) tại các giá trị này, tính tổng trung bình của các giá trị này và nhân với $\\pi/3$ để có ước lượng Monte Carlo. Cuối cùng, nó in ra kết quả ước lượng Monte Carlo và giá trị thực tế để so sánh."
   ]
  },
  {
   "cell_type": "markdown",
   "metadata": {},
   "source": [
    "# Bài 2.  \n",
    "Dựa trên ví dụ 6.3:  \n",
    "  \n",
    "$\\Phi(x) = \\int_{-\\infty}^{x} \\frac{1}{\\sqrt{2\\pi}} \\exp\\left(-\\frac{t^2}{2}\\right) dt$  \n",
    "\n",
    "Hãy tính 1 ước lượng Monte Carlo của standard normal cdf, bằng cách tạo từ phân phối đều Uniform(0, x).  \n",
    "So sánh giá trị ước lượng với việc sử dụng normal cdf function pnorm.  \n",
    "Tính toán giá trị ước lượng variance của ước lượng Monte Carlo tại $\\Phi(2)$ và khoảng tin cậy 95% cho $\\Phi(x)$\n"
   ]
  },
  {
   "cell_type": "code",
   "execution_count": 30,
   "metadata": {
    "vscode": {
     "languageId": "r"
    }
   },
   "outputs": [
    {
     "name": "stdout",
     "output_type": "stream",
     "text": [
      "Monte Carlo Estimate: 0.9773015 \n",
      "True Value (pnorm(2)): 0.9772499 \n",
      "Variance Estimate: 7.385724e-09 \n",
      "95% Confidence Interval: 0.9773014 0.9773015 \n"
     ]
    }
   ],
   "source": [
    "# Số lượng điểm được lấy mẫu\n",
    "num_samples <- 10000000\n",
    "def <- function(x) {\n",
    "  return(1 / sqrt(2 * pi) * exp(-x^2 / 2))\n",
    "}\n",
    "\n",
    "# Hàm ước lượng Monte Carlo cho standard normal cdf\n",
    "monte_carlo_cdf <- function(x) {\n",
    "  # Lấy mẫu ngẫu nhiên từ phân phối deu uniform(0, x)\n",
    "  samples <- runif(num_samples, min = 0, max = x)\n",
    "  # Tính giá trị trung bình của các mẫu\n",
    "  mean_value <- mean(def(samples)) * x \n",
    "  # Trả về giá trị ước lượng của standard normal cdf\n",
    "  return(mean_value)\n",
    "}\n",
    "\n",
    "# Tính ước lượng Monte Carlo của standard normal cdf tại x = 2\n",
    "monte_carlo_estimate <- monte_carlo_cdf(2) + 0.5 # = tích phân từ 0 đến x ++ tích phân từ âm vô cùng đến 0 # cái này = 0.5\n",
    "\n",
    "# Giá trị thực tế của standard normal cdf tại x = 2\n",
    "true_value <- pnorm(2)\n",
    "\n",
    "# In ra kết quả ước lượng Monte Carlo và giá trị thực tế\n",
    "cat(\"Monte Carlo Estimate:\", monte_carlo_estimate, \"\\n\")\n",
    "cat(\"True Value (pnorm(2)):\", true_value, \"\\n\")\n",
    "\n",
    "# Ước lượng phương sai: # Bây giờ phải tính đi tính lại giá trị ước lượng của Monte Carlo tầm nhiều lần (>1000) rồi tính phương sai của các giá trị này\n",
    "X = replicate(20, monte_carlo_cdf(2))   # để đến 100 lần mất tầm 1m19.5s\n",
    "variance_estimate <- var(X)\n",
    "\n",
    "# Tính khoảng tin cậy 95% cho standard normal cdf tại x = 2\n",
    "# Khoảng tin cậy được tính bằng cách sử dụng công thức (+-) 1.96 * sqrt(variance_estimate / num_samples)\n",
    "confidence_interval <- c(\n",
    "  monte_carlo_estimate - 1.96 * sqrt(variance_estimate / num_samples),\n",
    "  monte_carlo_estimate + 1.96 * sqrt(variance_estimate / num_samples)\n",
    ")\n",
    "\n",
    "# In ra giá trị ước lượng phương sai và khoảng tin cậy 95%\n",
    "cat(\"Variance Estimate:\", variance_estimate, \"\\n\")\n",
    "cat(\"95% Confidence Interval:\", confidence_interval, \"\\n\")\n"
   ]
  },
  {
   "cell_type": "markdown",
   "metadata": {},
   "source": [
    "# Bài 3.  \n",
    "Tính 1 Monte Carlo ước lượng theta mũ của:  \n",
    "$\\theta = \\int_{0}^{0.5} \\exp(-x) dx$  \n",
    "bằng mẫu từ phân phối chuẩn Uniform(0, 0.5) và ước lượng variance của theta mũ.  \n",
    "Tìm 1 ước lượng Monte Carlo khác theta * bằng mẫu từ phân phối mũ. Phương sai của cái nào nhỏ hơn (theta mũ và theta *) và tại sao."
   ]
  },
  {
   "cell_type": "code",
   "execution_count": 29,
   "metadata": {
    "vscode": {
     "languageId": "r"
    }
   },
   "outputs": [
    {
     "name": "stdout",
     "output_type": "stream",
     "text": [
      "Monte Carlo Estimate of theta: 0.3937061 \n",
      "Variance Estimate of theta: 0 \n",
      "Monte Carlo Estimate of theta*: 0.39547 \n",
      "Variance Estimate of theta*: 0 \n"
     ]
    }
   ],
   "source": [
    "# Số lượng điểm được lấy mẫu\n",
    "num_samples <- 100000\n",
    "\n",
    "# Hàm ước lượng Monte Carlo cho theta với phân phối chuẩn Uniform(0, 0.5)\n",
    "monte_carlo_theta <- function() {\n",
    "  # Lấy mẫu ngẫu nhiên từ phân phối chuẩn uniform(0, 0.5)\n",
    "  samples <- runif(num_samples, min = 0, max = 0.5)\n",
    "  # Tính giá trị trung bình của các mẫu\n",
    "  mean_value <- mean(exp(-samples)) * (0.5 - 0)\n",
    "  # Trả về giá trị ước lượng của theta\n",
    "  return(mean_value)\n",
    "}\n",
    "\n",
    "# Tính ước lượng Monte Carlo của theta\n",
    "monte_carlo_estimate_theta <- monte_carlo_theta()\n",
    "\n",
    "# Ước lượng phương sai của ước lượng Monte Carlo của theta\n",
    "esti1 = replicate(100, expr = monte_carlo_estimate_theta)\n",
    "var1 = var(esti1)\n",
    "\n",
    "# In ra kết quả ước lượng Monte Carlo và phương sai của theta\n",
    "cat(\"Monte Carlo Estimate of theta:\", monte_carlo_estimate_theta, \"\\n\")\n",
    "cat(\"Variance Estimate of theta:\", var1, \"\\n\")\n",
    "\n",
    "# Hàm ước lượng Monte Carlo cho theta* với phân phối mũ\n",
    "monte_carlo_theta_star <- function() {\n",
    "  # Lấy mẫu ngẫu nhiên từ phân phối mũ với lambda = 1\n",
    "  samples <- rexp(num_samples, rate = 1)   # gen giá trị từ 0 đến dương vô cùng \n",
    "  # Tính giá trị trung bình của các mẫu\n",
    "  mean_value <- mean(samples <= 0.5)\n",
    "  # Trả về giá trị ước lượng của theta*\n",
    "  return(mean_value)\n",
    "}\n",
    "\n",
    "# Tính ước lượng Monte Carlo của theta*\n",
    "monte_carlo_estimate_theta_star <- monte_carlo_theta_star()\n",
    "\n",
    "# Ước lượng phương sai của ước lượng Monte Carlo của theta*\n",
    "# samples_theta_star <- rexp(num_samples, rate = 1)\n",
    "# variance_estimate_theta_star <- (sum(samples_theta_star^2) / num_samples) - (monte_carlo_estimate_theta_star^2)\n",
    "esti2 = replicate(100, expr = monte_carlo_estimate_theta_star)\n",
    "var2 = var(esti2)\n",
    "\n",
    "# In ra kết quả ước lượng Monte Carlo và phương sai của theta*\n",
    "cat(\"Monte Carlo Estimate of theta*:\", monte_carlo_estimate_theta_star, \"\\n\")\n",
    "cat(\"Variance Estimate of theta*:\", var2, \"\\n\")\n"
   ]
  },
  {
   "cell_type": "markdown",
   "metadata": {},
   "source": [
    "Như vậy phương sai theo cách lấy phân phối mũ của theta* cao hơn. Lý do vì theo phân phối mũ giá trị của X tập trung nhiều vào vùng mà y(X) nhỏ, nên khi lấy kết quả trung bình không được tốt.  "
   ]
  }
 ],
 "metadata": {
  "kernelspec": {
   "display_name": "R",
   "language": "R",
   "name": "ir"
  },
  "language_info": {
   "codemirror_mode": "r",
   "file_extension": ".r",
   "mimetype": "text/x-r-source",
   "name": "R",
   "pygments_lexer": "r",
   "version": "4.3.3"
  }
 },
 "nbformat": 4,
 "nbformat_minor": 2
}
