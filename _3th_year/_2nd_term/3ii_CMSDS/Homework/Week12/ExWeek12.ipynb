{
 "cells": [
  {
   "cell_type": "markdown",
   "metadata": {},
   "source": [
    "# Homework week 12\n",
    "6.6 (Gibbs sampling for a Poisson/gamma model).  \n",
    "Suppose the vector of random variables $(X,Y)$ has the joint density function $f(x,y) = \\frac{x^{a+y−1} * e^{\\frac{−(1+b)x}{b}}} {\\Gamma(a) * y! * b^a}$ , $x > 0,y = 0,1,2,...$ and we wish to simulate from this joint density.  \n",
    "a.  Show that the conditional density $f(x|y)$ has a gamma density and identify the shape and rate parameters of this density.  \n",
    "b.  Show that the conditional density $f(y|x)$ has a Poisson density.  \n",
    "c.  Write a R function to implement Gibbs sampling when the constants are given by $a = 1$ and $b = 1$.  \n",
    "d.  Using your R function, run 1000 cycles of the Gibbs sampler and from the output, display (say, by a histogram) the marginal probability mass function of $Y$ and compute $E(Y)$.  \n"
   ]
  },
  {
   "cell_type": "markdown",
   "metadata": {},
   "source": [
    "# Bài làm  "
   ]
  },
  {
   "cell_type": "markdown",
   "metadata": {},
   "source": [
    "a. **Conditional density $f(x | y)$:**\n",
    "\n",
    "To find the conditional density $ f(x | y) $, we use the definition of conditional probability:\n",
    "\n",
    "$f(x | y) = \\frac{f(x,y)}{f_Y(y)}$\n",
    "\n",
    "where $f_Y(y)$ is the marginal density of $Y$.\n",
    "\n",
    "Given:\n",
    "$f(x,y) = \\frac{x^{a+y−1} * e^{\\frac{−(1+b)x}{b}}} {\\Gamma(a) * y! * b^a}$\n",
    "\n",
    "The marginal density of $ Y $ is found by integrating $f(x,y)$ with respect to $x$:\n",
    "\n",
    "$f_Y(y) = \\int_{0}^{\\infty} \\frac{x^{a+y−1} * e^{\\frac{−(1+b)x}{b}}} {\\Gamma(a) * y! * b^a} dx$\n",
    "\n",
    "This is the gamma distribution with shape parameter $a+y$ and rate parameter $\\frac{1+b}{b}$.\n",
    "\n",
    "Therefore, the conditional density $f(x | y)$ is a gamma density with parameters $a + y$ and $\\frac{1+b}{b}$.\n",
    "\n",
    "b. **Conditional density $f(y | x)$:**\n",
    "\n",
    "To find the conditional density $f(y | x)$, we use the definition of conditional probability:\n",
    "\n",
    "$f(y | x) = \\frac{f(x,y)}{f_X(x)}$\n",
    "\n",
    "Given:\n",
    "$f(x,y) = \\frac{x^{a+y−1} * e^{\\frac{−(1+b)x}{b}}} {\\Gamma(a) * y! * b^a}$\n",
    "\n",
    "The marginal density of $ X $ is found by integrating $f(x,y)$ with respect to $y$:\n",
    "\n",
    "$f_X(x) = \\sum_{y=0}^{\\infty} \\frac{x^{a+y−1} * e^{\\frac{−(1+b)x}{b}}} {\\Gamma(a) * y! * b^a}$\n",
    "\n",
    "$f_X(x) = \\frac{x^{a-1} * e^{\\frac{−(1+b)x}{b}}} {\\Gamma(a) * b^a} \\sum_{y=0}^{\\infty} \\frac{x^{y}} {y!}$\n",
    "\n",
    "$f_X(x) = \\frac{x^{a-1} * e^{\\frac{−(1+b)x}{b}}} {\\Gamma(a) * b^a} e^x$\n",
    "\n",
    "$f_X(x) = \\frac{x^{a-1} * e^{\\frac{−bx}{b}}} {\\Gamma(a) * b^a}$\n",
    "\n",
    "$f_X(x) = \\frac{x^{a-1} * e^{\\frac{−x}{b}}} {\\Gamma(a) * b^{a-1}}$\n",
    "\n",
    "This is the gamma distribution with shape parameter $a$ and rate parameter $\\frac{1}{b}$.\n",
    "\n",
    "Therefore, the conditional density $f(y | x)$ is a Poisson density with parameter $\\frac{x}{b}$.\n",
    "\n",
    "c. **R function for Gibbs Sampling:**\n",
    "\n",
    "```R\n",
    "gibbs_sampling <- function(n_iter, a, b) {\n",
    "  # Initializing vectors to store samples\n",
    "  x <- numeric(n_iter)\n",
    "  y <- numeric(n_iter)\n",
    "  \n",
    "  # Initialize the values of x and y\n",
    "  x[1] <- rgamma(1, shape = a + 0, rate = (1 + b)/b)\n",
    "  y[1] <- rpois(1, lambda = x[1]/b)\n",
    "  \n",
    "  for (i in 2:n_iter) {\n",
    "    # Sample x from gamma distribution\n",
    "    x[i] <- rgamma(1, shape = a + y[i-1], rate = (1 + b)/b)\n",
    "    \n",
    "    # Sample y from Poisson distribution\n",
    "    y[i] <- rpois(1, lambda = x[i]/b)\n",
    "  }\n",
    "  \n",
    "  # Return the samples\n",
    "  return(data.frame(x = x, y = y))\n",
    "}\n",
    "```\n",
    "\n",
    "d. **Running Gibbs Sampler and plotting histogram of $Y$:**\n",
    "\n",
    "```R\n",
    "# Set the constants\n",
    "a <- 1\n",
    "b <- 1\n",
    "# Run Gibbs sampler\n",
    "gibbs_samples <- gibbs_sampling(1000, a, b)\n",
    "\n",
    "# Plot histogram of Y\n",
    "hist(gibbs_samples$y, breaks = 20, main = \"Histogram of Y\", xlab = \"Y\", ylab = \"Frequency\")\n",
    "\n",
    "# Compute E(Y)\n",
    "mean_Y <- mean(gibbs_samples$y)\n",
    "print(paste(\"E(Y) =\", mean_Y))\n",
    "```\n",
    "\n",
    "This R code will run 1000 cycles of the Gibbs sampler, plot a histogram of the marginal probability mass function of $Y$, and compute $E(Y)$."
   ]
  },
  {
   "cell_type": "markdown",
   "metadata": {},
   "source": [
    "## Cụ thể kết quả code thu được là"
   ]
  },
  {
   "cell_type": "markdown",
   "metadata": {},
   "source": [
    "### c"
   ]
  },
  {
   "cell_type": "code",
   "execution_count": 13,
   "metadata": {
    "vscode": {
     "languageId": "r"
    }
   },
   "outputs": [],
   "source": [
    "gibbs_sampling <- function(n_iter, a, b) {\n",
    "    # Initializing vectors to store samples\n",
    "    x <- numeric(n_iter)\n",
    "    y <- numeric(n_iter)\n",
    "\n",
    "    # Initialize the values of x and y\n",
    "    x[1] <- rgamma(1, shape = a + 0, rate = (1 + b) / b)\n",
    "    y[1] <- rpois(1, lambda = x[1] / b)\n",
    "\n",
    "    for (i in 2:n_iter) {\n",
    "        # Sample x from gamma distribution\n",
    "        x[i] <- rgamma(1, shape = a + y[i - 1], rate = (1 + b) / b)\n",
    "\n",
    "        # Sample y from Poisson distribution\n",
    "        y[i] <- rpois(1, lambda = x[i] / b)\n",
    "    }\n",
    "\n",
    "    # Return the samples\n",
    "    return(data.frame(x = x, y = y))\n",
    "}\n"
   ]
  },
  {
   "cell_type": "markdown",
   "metadata": {},
   "source": [
    "### d"
   ]
  },
  {
   "cell_type": "code",
   "execution_count": 22,
   "metadata": {
    "vscode": {
     "languageId": "r"
    }
   },
   "outputs": [
    {
     "name": "stdout",
     "output_type": "stream",
     "text": [
      "[1] \"E(Y) = 0.999\"\n"
     ]
    },
    {
     "data": {
      "image/png": "[encoded data removed]",
      "text/plain": [
       "Plot with title “Histogram of Y”"
      ]
     },
     "metadata": {
      "image/png": {
       "height": 420,
       "width": 420
      }
     },
     "output_type": "display_data"
    }
   ],
   "source": [
    "# Set the constants\n",
    "a <- 1\n",
    "b <- 1\n",
    "# Run Gibbs sampler\n",
    "gibbs_samples <- gibbs_sampling(1000, a, b)\n",
    "\n",
    "# Plot histogram of Y\n",
    "hist(gibbs_samples$y, breaks = 12, main = \"Histogram of Y\", xlab = \"Y\", ylab = \"Frequency\")\n",
    "\n",
    "# Compute E(Y)\n",
    "mean_Y <- mean(gibbs_samples$y)\n",
    "print(paste(\"E(Y) =\", mean_Y))\n"
   ]
  },
  {
   "cell_type": "markdown",
   "metadata": {},
   "source": [
    "Cách viết hàm theo cách module hóa hơn"
   ]
  },
  {
   "cell_type": "code",
   "execution_count": 24,
   "metadata": {
    "vscode": {
     "languageId": "r"
    }
   },
   "outputs": [
    {
     "name": "stdout",
     "output_type": "stream",
     "text": [
      "[1] \"Expected value of Y: 0.984\"\n"
     ]
    },
    {
     "data": {
      "image/png": "[encoded data removed]",
      "text/plain": [
       "Plot with title “Histogram of Y samples”"
      ]
     },
     "metadata": {
      "image/png": {
       "height": 420,
       "width": 420
      }
     },
     "output_type": "display_data"
    }
   ],
   "source": [
    "# Function to perform one iteration of Gibbs sampling\n",
    "gibbs_iteration <- function(y, a, b) {\n",
    "    # Sample x from its conditional distribution\n",
    "    x <- rgamma(1, shape = a + y, rate = (1 + b)/b)\n",
    "\n",
    "    # Sample y from its conditional distribution\n",
    "    y <- rpois(1, lambda = x/b)\n",
    "\n",
    "    return(list(x = x, y = y))\n",
    "}\n",
    "\n",
    "# Function to perform Gibbs sampling for specified number of iterations\n",
    "gibbs_sampler <- function(n_iter, a, b) {\n",
    "    # Initialize storage for samples\n",
    "    samples <- matrix(0, nrow = n_iter, ncol = 2)\n",
    "\n",
    "    # Initialize y\n",
    "    y <- 0\n",
    "\n",
    "    # Perform Gibbs sampling\n",
    "    for (i in 1:n_iter) {\n",
    "        sample <- gibbs_iteration(y, a, b)\n",
    "        samples[i, ] <- unlist(sample)\n",
    "        y <- sample$y\n",
    "    }\n",
    "\n",
    "    return(samples)\n",
    "}\n",
    "\n",
    "# Set constants\n",
    "a <- 1\n",
    "b <- 1\n",
    "\n",
    "# Number of Gibbs sampler iterations\n",
    "n_iter <- 1000\n",
    "\n",
    "# Run Gibbs sampler\n",
    "samples <- gibbs_sampler(n_iter, a, b)\n",
    "\n",
    "# Extract samples of y\n",
    "y_samples <- samples[, 2]\n",
    "\n",
    "# Plot histogram of y samples\n",
    "hist(y_samples, breaks = 10, freq = FALSE, main = \"Histogram of Y samples\", xlab = \"Y\")\n",
    "\n",
    "# Compute expected value of Y\n",
    "E_Y <- mean(y_samples)\n",
    "print(paste(\"Expected value of Y:\", E_Y))\n"
   ]
  }
 ],
 "metadata": {
  "authors": [
   {
    "name": "Phạm Ngọc Hải"
   }
  ],
  "kernelspec": {
   "display_name": "R",
   "language": "R",
   "name": "ir"
  },
  "language_info": {
   "codemirror_mode": "r",
   "file_extension": ".r",
   "mimetype": "text/x-r-source",
   "name": "R",
   "pygments_lexer": "r",
   "version": "4.3.3"
  }
 },
 "nbformat": 4,
 "nbformat_minor": 2
}
