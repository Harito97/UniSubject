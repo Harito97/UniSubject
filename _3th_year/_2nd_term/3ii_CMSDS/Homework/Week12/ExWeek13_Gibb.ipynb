{
 "cells": [
  {
   "cell_type": "markdown",
   "metadata": {},
   "source": [
    "Cho $f(x, y) = Tổ hợp chập x của n * y^{x + a - 1} * (1 - y)^{n - x +b - 1}$  với $ x = số nguyên từ 0 đến n$ và $y thuộc đoạn [0, 1]$  \n",
    "Như vậy: $f(x, y) = \\frac{n!}{x! * (n - x)!} * y^{x + a - 1} * y^{n - x + b - 1}$  "
   ]
  },
  {
   "cell_type": "markdown",
   "metadata": {},
   "source": [
    "# Đầu tiên ta tính: $f(x | y) = \\frac{f(x, y)}{f_Y(y)}$"
   ]
  },
  {
   "cell_type": "markdown",
   "metadata": {},
   "source": [
    "$f_Y(y) = $ tổng các x từ 0 đến n"
   ]
  },
  {
   "cell_type": "markdown",
   "metadata": {},
   "source": [
    "# Tiếp theo tính: $f(y|x) = \\frac{f(x,y)}{f_X(x)}$"
   ]
  },
  {
   "cell_type": "markdown",
   "metadata": {},
   "source": [
    "$f_X(x) = $ tích phân từ 0 đến 1 theo y: sử dụng tích phân từng phần tính"
   ]
  }
 ],
 "metadata": {
  "language_info": {
   "name": "python"
  }
 },
 "nbformat": 4,
 "nbformat_minor": 2
}
