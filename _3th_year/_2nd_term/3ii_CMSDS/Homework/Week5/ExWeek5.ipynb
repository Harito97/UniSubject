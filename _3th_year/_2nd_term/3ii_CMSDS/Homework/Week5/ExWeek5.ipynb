{
  "cells": [
    {
      "cell_type": "markdown",
      "metadata": {},
      "source": [
        "# Bài tập trên lớp tuần 5  \n",
        "\n",
        "Suppose the travel times for a particular student from home to school are normally distributed with mean 20 minutes and standard deviation 4 minutes (phân phối chuẩn có trung bình 20p và độ lệch chuẩn là 4 phút).  \n",
        "Each day during a five-day school week she leaves home 30 minutes before class.  \n",
        "For each of the following problems, write a short Monte Carlo simulation function to compute the probability or expectation of interest.\n",
        "\n",
        "a.  Find the expected total traveling time of the student to school for a five - day week. Find the simulation estimate and give the standard error for the simulation estimate.\n",
        "\n",
        "b.  Find the probability that the student is late for at least one class in the five-day week. Find the simulation estimate of the probability and the corresponding standard error.\n",
        "\n",
        "c.  On average, what will be the longest travel time to school during the five- day week? Again find the simulation estimate and the standard error.\n"
      ]
    },
    {
      "cell_type": "markdown",
      "metadata": {},
      "source": [
        "# Viết hàm mô phỏng và khởi chạy"
      ]
    },
    {
      "cell_type": "code",
      "execution_count": 1,
      "metadata": {
        "vscode": {
          "languageId": "r"
        }
      },
      "outputs": [],
      "source": [
        "# Define the parameters\n",
        "mean_time <- 20 # Mean travel time (minutes)\n",
        "sd_time <- 4 # Standard deviation of travel time (minutes)\n",
        "leave_home <- 30 # Time before class to leave home (minutes)\n",
        "num_simulations <- 10000 # Number of simulations\n",
        "\n",
        "# Function to simulate travel time for one day\n",
        "simulate_travel_time <- function() {\n",
        "    travel_time <- rnorm(1, mean_time, sd_time)\n",
        "    return(travel_time)\n",
        "}\n",
        "\n",
        "# Function to run Monte Carlo simulation for a five-day week\n",
        "run_simulation <- function() {\n",
        "    total_time <- rep(0, num_simulations)\n",
        "    max_time <- rep(0, num_simulations)\n",
        "    late <- rep(FALSE, num_simulations)\n",
        "\n",
        "    for (i in 1:num_simulations) {\n",
        "        for (day in 1:5) {\n",
        "            travel_time <- simulate_travel_time()\n",
        "            total_time[i] <- total_time[i] + travel_time\n",
        "            max_time[i] <- max(max_time[i], travel_time)\n",
        "            if (travel_time + leave_home > mean_time) {\n",
        "                late[i] <- TRUE\n",
        "            }\n",
        "        }\n",
        "    }\n",
        "\n",
        "    return(list(total_time = total_time, late = late, max_time = max_time))\n",
        "}\n",
        "\n",
        "# Run Monte Carlo simulation\n",
        "results <- run_simulation()"
      ]
    },
    {
      "cell_type": "markdown",
      "metadata": {},
      "source": [
        "# Câu a.  \n",
        "Xác định tổng thời gian di chuyển (5 ngày trong 1 tuần) kỳ vọng.  \n",
        "Tìm 1 ước lượng mô phỏng và cho ra standard error cho ước lượng mô phỏng về tổng thời gian di chuyển đó."
      ]
    },
    {
      "cell_type": "code",
      "execution_count": 2,
      "metadata": {
        "vscode": {
          "languageId": "r"
        }
      },
      "outputs": [
        {
          "name": "stdout",
          "output_type": "stream",
          "text": [
            "Cau a. \n",
            "Expected total traveling time: 100.0616 \n",
            "Standard Error for total traveling time: 0.09085836 \n"
          ]
        }
      ],
      "source": [
        "# a. Expected total traveling time\n",
        "expected_total_time <- mean(results$total_time)\n",
        "se_total_time <- sd(results$total_time) / sqrt(num_simulations)\n",
        "\n",
        "# Print results\n",
        "cat(\"Cau a. \\n\")\n",
        "cat(\"Expected total traveling time:\", expected_total_time, \"\\n\")\n",
        "cat(\"Standard Error for total traveling time:\", se_total_time, \"\\n\")\n"
      ]
    },
    {
      "cell_type": "markdown",
      "metadata": {},
      "source": [
        "# Câu b.  \n",
        "Tìm xác suất để học sinh này đi muộn ít nhất 1 lần trong 5 ngày đi học trong tuần.  \n",
        "Tìm 1 ước lượng cho xác suất này và corresponding standard error.  "
      ]
    },
    {
      "cell_type": "code",
      "execution_count": 3,
      "metadata": {
        "vscode": {
          "languageId": "r"
        }
      },
      "outputs": [
        {
          "name": "stdout",
          "output_type": "stream",
          "text": [
            "Cau b. \n",
            "Probability of being late at least once: 1 \n",
            "Standard Error for probability of being late: 0 \n"
          ]
        }
      ],
      "source": [
        "# b. Probability of being late at least once\n",
        "prob_late <- mean(results$late)\n",
        "se_late <- sd(results$late) / sqrt(num_simulations)\n",
        "\n",
        "# Print results\n",
        "cat(\"Cau b. \\n\")\n",
        "cat(\"Probability of being late at least once:\", prob_late, \"\\n\")\n",
        "cat(\"Standard Error for probability of being late:\", se_late, \"\\n\")"
      ]
    },
    {
      "cell_type": "markdown",
      "metadata": {},
      "source": [
        "# Câu c.  \n",
        "Về trung bình mà nói, thời gian dài nhất cho việc di chuyển đến trường trong 5 ngày đi học của tuần là bao lâu.  \n",
        "Tìm giá trị mô phỏng ước lượng và standard error."
      ]
    },
    {
      "cell_type": "code",
      "execution_count": 4,
      "metadata": {
        "vscode": {
          "languageId": "r"
        }
      },
      "outputs": [
        {
          "name": "stdout",
          "output_type": "stream",
          "text": [
            "Cau c. \n",
            "Expected longest travel time: 24.66251 \n",
            "Standard Error for longest travel time: 0.02662499 \n"
          ]
        }
      ],
      "source": [
        "# c. Expected longest travel time\n",
        "expected_longest_time <- mean(results$max_time)\n",
        "se_longest_time <- sd(results$max_time) / sqrt(num_simulations)\n",
        "\n",
        "# Print results\n",
        "cat(\"Cau c. \\n\")\n",
        "cat(\"Expected longest travel time:\", expected_longest_time, \"\\n\")\n",
        "cat(\"Standard Error for longest travel time:\", se_longest_time, \"\\n\")"
      ]
    }
  ],
  "metadata": {
    "authors": [
      {
        "name": "Phạm Ngọc Hải"
      }
    ],
    "kernelspec": {
      "display_name": "R",
      "language": "R",
      "name": "ir"
    },
    "language_info": {
      "codemirror_mode": "r",
      "file_extension": ".r",
      "mimetype": "text/x-r-source",
      "name": "R",
      "pygments_lexer": "r",
      "version": "4.3.3"
    }
  },
  "nbformat": 4,
  "nbformat_minor": 2
}
