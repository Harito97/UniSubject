{
  "cells": [
    {
      "cell_type": "markdown",
      "metadata": {},
      "source": [
        "# Bài 1.  \n",
        "Name four major disadvantages of a file system to manage structured data like banking, or airline data."
      ]
    },
    {
      "cell_type": "markdown",
      "metadata": {},
      "source": [
        "Sử dụng hệ thống tệp tin truyền thống (file system) để quản lý dữ liệu có cấu trúc (structured data) như dữ liệu ngân hàng hoặc hàng không máy bay có thể gặp một số hạn chế:  \n",
        "  \n",
        "1. **Thiếu tính toàn vẹn dữ liệu**:  \n",
        "Hệ thống tệp tin thường thiếu các cơ chế tích hợp để đảm bảo tính toàn vẹn của dữ liệu. Thiếu kiểm soát đúng đắn, dữ liệu có thể bị hỏng hoặc không nhất quán, dẫn đến lỗi trong giao dịch hoặc sự quản lý không chính xác của thông tin quan trọng. Trong hệ thống ngân hàng hoặc hàng không, nơi độ chính xác là rất quan trọng, tính toàn vẹn dữ liệu là điều rất quan trọng để ngăn chặn mất mát tài chính hoặc các vấn đề an toàn.  \n",
        "  \n",
        "2. **Khả năng mở rộng hạn chế**:  \n",
        "Hệ thống tệp tin có thể không mở rộng tốt với lượng dữ liệu ngày càng tăng và sự phức tạp gia tăng. Khi lượng dữ liệu và số lượng người dùng truy cập tăng lên, hệ thống tệp tin có thể trở nên không hiệu quả và khó quản lý. Hạn chế này có thể cản trở khả năng của các hệ thống ngân hàng hoặc hàng không để xử lý một lượng lớn các giao dịch hoặc người dùng, dẫn đến những hạn chế về hiệu suất và chất lượng dịch vụ suy giảm.  \n",
        "  \n",
        "3. **Vấn đề Đồng thời**:  \n",
        "Hệ thống tệp tin thường gặp khó khăn trong việc xử lý truy cập đồng thời vào dữ liệu bởi nhiều người dùng hoặc quy trình. Thiếu các cơ chế kiểm soát đồng thời đúng đắn, dữ liệu có thể bị hỏng hoặc không nhất quán khi được truy cập đồng thời bởi nhiều người dùng. Trong các hệ thống ngân hàng hoặc hàng không nơi mà nhiều người dùng có thể cần truy cập và sửa đổi dữ liệu đồng thời, vấn đề đồng thời có thể dẫn đến lỗi dữ liệu, giao dịch thất bại hoặc vi phạm bảo mật.  \n",
        "  \n",
        "4. **Bảo mật dữ liệu hạn chế**:  \n",
        "Hệ thống tệp tin có thể thiếu các tính năng bảo mật mạnh mẽ để bảo vệ dữ liệu nhạy cảm khỏi truy cập, sửa đổi hoặc đánh cắp trái phép. Thiếu biện pháp bảo mật phù hợp như mã hóa, kiểm soát truy cập và nhật ký kiểm tra, các hệ thống ngân hàng hoặc hàng không có nguy cơ bị nhiều mối đe dọa bảo mật, bao gồm việc vi phạm dữ liệu, trộm danh tính và gian lận. Trong các ngành nơi tính bảo mật và quyền riêng tư dữ liệu là rất quan trọng, sự thiếu hụt các biện pháp bảo mật mạnh mẽ trong hệ thống tệp tin có thể tạo ra những rủi ro đáng kể đối với tổ chức và khách hàng của nó.  "
      ]
    },
    {
      "cell_type": "markdown",
      "metadata": {},
      "source": [
        "# Bài 2.  \n",
        "Is SQL a procedural language or a declarative language? Give three reasons why something like SQL is a better choice than say C++ for writing database applications."
      ]
    },
    {
      "cell_type": "markdown",
      "metadata": {},
      "source": [
        "SQL (Structured Query Language) là một ngôn ngữ mô tả (declarative language), mặc dù nó có một số yếu tố thủ tục (procedural language).  \n",
        "  \n",
        "Dưới đây là ba lý do tại sao SQL có thể là lựa chọn tốt hơn so với C++ để viết ứng dụng cơ sở dữ liệu:  \n",
        "  \n",
        "  - **Đơn giản và Dễ đọc**: SQL được thiết kế đặc biệt để truy vấn và điều chỉnh cơ sở dữ liệu, làm cho nó đơn giản và dễ đọc hơn cho các nhiệm vụ liên quan đến cơ sở dữ liệu so với các ngôn ngữ lập trình đa mục đích như C++. Cú pháp của nó là trực quan và ngắn gọn, cho phép nhà phát triển diễn đạt các hoạt động cơ sở dữ liệu phức tạp một cách rõ ràng và dễ hiểu. Sự đơn giản này có thể dẫn đến các chu kỳ phát triển nhanh hơn và bảo trì ứng dụng cơ sở dữ liệu dễ dàng hơn.  \n",
        "  \n",
        "  - **Tối ưu cho Các Hoạt động Cơ sở Dữ liệu**: SQL được tối ưu cho các hoạt động cơ sở dữ liệu, có nghĩa là nó cung cấp các cách hiệu quả để truy xuất, cập nhật và quản lý dữ liệu được lưu trữ trong cơ sở dữ liệu. Các hệ thống cơ sở dữ liệu SQL được tối ưu cao cho việc xử lý truy vấn, tạo chỉ mục và quản lý giao dịch, dẫn đến hiệu suất tốt hơn so với các hoạt động cơ sở dữ liệu tùy chỉnh được triển khai trong các ngôn ngữ như C++. Bằng cách tận dụng các khả năng tối ưu hóa tích hợp của SQL, nhà phát triển có thể tạo ra các ứng dụng cơ sở dữ liệu có khả năng mở rộng, đáng tin cậy và hiệu suất hơn.  \n",
        "  \n",
        "  - **Các Tính năng Bảo mật tích hợp**: SQL cung cấp các tính năng bảo mật tích hợp để quản lý kiểm soát truy cập, xác thực và bảo vệ dữ liệu trong các ứng dụng cơ sở dữ liệu. Các tính năng này bao gồm xác thực người dùng, kiểm soát truy cập dựa trên vai trò, mã hóa và che dấu dữ liệu, giúp các nhà phát triển triển khai các biện pháp bảo mật mạnh mẽ để bảo vệ thông tin nhạy cảm được lưu trữ trong cơ sở dữ liệu. So với C++, nơi nhà phát triển phải triển khai các tính năng bảo mật thủ công, SQL đơn giản hóa quá trình đảm bảo bảo mật dữ liệu và tuân thủ các yêu cầu quy định.  "
      ]
    },
    {
      "cell_type": "markdown",
      "metadata": {},
      "source": [
        "# Bài 3.  \n",
        "In words, describe the left natural outer join operation over two relations, R(A,B) and S(B,C)."
      ]
    },
    {
      "cell_type": "markdown",
      "metadata": {},
      "source": [
        "Phép nối bên trái tự nhiên (left natural outer join) giữa hai quan hệ R(A,B) và S(B,C) là một phép nối dữ liệu trong cơ sở dữ liệu mà **kết quả bao gồm tất cả các bản ghi từ quan hệ R và các bản ghi từ quan hệ S mà có giá trị cột B chung**. Kết quả của phép nối này bao gồm tất cả các cột từ quan hệ R và các cột từ quan hệ S (trừ cột B, vì đã có trong R).  \n",
        "  \n",
        "Trong quan hệ kết quả, mỗi bản ghi từ R sẽ được nối với các bản ghi từ S mà có giá trị cột B tương ứng với cột B trong bản ghi từ R. Nếu không có bản ghi trong S phù hợp với bản ghi từ R, các cột từ quan hệ S sẽ được điền bằng giá trị NULL. Điều này có nghĩa là kết quả của phép nối bên trái tự nhiên sẽ bao gồm tất cả các bản ghi từ quan hệ R và các bản ghi từ quan hệ S mà có giá trị cột B chung, với các cột từ quan hệ S bổ sung và các cột còn lại sẽ giữ nguyên từ quan hệ R.  "
      ]
    },
    {
      "cell_type": "markdown",
      "metadata": {},
      "source": [
        "# Bài 4.  \n",
        "Design a relational schema for a pizza delivery place. The database is to keep track of CUSTOMERs, their PREFERENCEs, and for each preference the INGREDIENTs (onions, ham, bacon, etc.). Each customer may have several preferences. Each preference CONTAINs one or more incredients. The database has to keep track of the DRIVERs delivering, dates, and money collected. Identify the primary keys, candidate keys, and foreign keys."
      ]
    },
    {
      "cell_type": "markdown",
      "metadata": {},
      "source": [
        "Dưới đây là code SQL xây dựng Schema theo yêu cầu bài toán."
      ]
    },
    {
      "cell_type": "markdown",
      "metadata": {
        "vscode": {
          "languageId": "sql"
        }
      },
      "source": [
        "```sql\n",
        "-- Create CUSTOMER table\n",
        "CREATE TABLE CUSTOMER (\n",
        "    CustomerID INT PRIMARY KEY,\n",
        "    Name VARCHAR(255),\n",
        "    Phone VARCHAR(20),\n",
        "    Address VARCHAR(255)\n",
        ");\n",
        "\n",
        "-- Create PREFERENCE table\n",
        "CREATE TABLE PREFERENCE (\n",
        "    PreferenceID INT PRIMARY KEY,\n",
        "    CustomerID INT,\n",
        "    PreferenceName VARCHAR(255),\n",
        "    FOREIGN KEY (CustomerID) REFERENCES CUSTOMER(CustomerID)\n",
        ");\n",
        "\n",
        "-- Create INGREDIENT table\n",
        "CREATE TABLE INGREDIENT (\n",
        "    IngredientID INT PRIMARY KEY,\n",
        "    IngredientName VARCHAR(255)\n",
        ");\n",
        "\n",
        "-- Create PREFERENCE_INGREDIENT table\n",
        "CREATE TABLE PREFERENCE_INGREDIENT (\n",
        "    PreferenceIngredientID INT PRIMARY KEY,\n",
        "    PreferenceID INT,\n",
        "    IngredientID INT,\n",
        "    FOREIGN KEY (PreferenceID) REFERENCES PREFERENCE(PreferenceID),\n",
        "    FOREIGN KEY (IngredientID) REFERENCES INGREDIENT(IngredientID)\n",
        ");\n",
        "\n",
        "-- Create DRIVER table\n",
        "CREATE TABLE DRIVER (\n",
        "    DriverID INT PRIMARY KEY,\n",
        "    Name VARCHAR(255),\n",
        "    Phone VARCHAR(20)\n",
        ");\n",
        "\n",
        "-- Create DELIVERY table\n",
        "CREATE TABLE DELIVERY (\n",
        "    DeliveryID INT PRIMARY KEY,\n",
        "    DriverID INT,\n",
        "    CustomerID INT,\n",
        "    DeliveryDate DATE,\n",
        "    AmountCollected DECIMAL(10, 2),\n",
        "    FOREIGN KEY (DriverID) REFERENCES DRIVER(DriverID),\n",
        "    FOREIGN KEY (CustomerID) REFERENCES CUSTOMER(CustomerID)\n",
        ");\n",
        "```"
      ]
    },
    {
      "cell_type": "markdown",
      "metadata": {},
      "source": [
        "Sau đây là hình ảnh schema thiết kế"
      ]
    },
    {
      "cell_type": "markdown",
      "metadata": {},
      "source": [
        "![image](/mnt/DataK/Univer/UniSubject/_3th_year/_2nd_term/3ii_DM/Homework_Personal/Week1/PizzaDeliveryDB.png)"
      ]
    },
    {
      "cell_type": "markdown",
      "metadata": {},
      "source": [
        "# Bài 5.  \n",
        "\n",
        "Section 2.3.3 (5th edition) or Problem 6.4 (6th edition) describe the ”division operation”. What is the result of the operation (R / S) on the following two instances?  "
      ]
    },
    {
      "cell_type": "markdown",
      "metadata": {},
      "source": [
        "Trường hợp 1:  \n",
        "Instance 1: R  \n",
        "\n",
        "|A|B|\n",
        "|---|---|\n",
        "|1|$\\alpha$|\n",
        "|2|$\\beta$|\n",
        "|3|$\\gamma$|\n",
        "|1|$\\beta$|\n",
        "|2|$\\gamma$|\n",
        "|2|$\\alpha$|\n",
        "  \n",
        "Instance 1: S   \n",
        "\n",
        "|B|\n",
        "|---|\n",
        "|$\\alpha$|\n",
        "|$\\gamma$|\n",
        "  \n",
        "For each tuple in S, we want to find all tuples in R where B matches. Then we'll take the common A values from those tuples. Let's calculate:  \n",
        "  \n",
        "  - For $B = \\alpha$:  \n",
        "    - R tuples with $B = \\alpha$: (1, $\\alpha$), (2, $\\alpha$)  \n",
        "    - A values: {1, 2}  \n",
        "  - For $B = \\gamma$:  \n",
        "    - R tuples with $B = \\gamma$: (3, $\\gamma$), (2, $\\gamma$)  \n",
        "    - A values: {2, 3}  \n",
        "  \n",
        "The result of the division operation (R / S) contains only those A values that appear in both sets: {2}.  \n",
        "  \n",
        "So, (R / S) yields:  \n",
        "  \n",
        "|A|\n",
        "|---|\n",
        "|2|\n",
        "  "
      ]
    },
    {
      "cell_type": "markdown",
      "metadata": {},
      "source": [
        "Trường hợp 2:  \n",
        "Instance 2: R  \n",
        "  \n",
        "|A|B|C|\n",
        "|---|---|---|\n",
        "|3|1|$\\alpha$|\n",
        "|3|2|$\\beta$|\n",
        "|1|3|$\\gamma$|\n",
        "|2|1|$\\alpha$|\n",
        "|3|1|$\\beta$|\n",
        "|1|2|$\\gamma$|\n",
        "|3|2|$\\alpha$|\n",
        "  \n",
        "Instance 2: S  \n",
        "  \n",
        "|B|\n",
        "|---|\n",
        "|2|\n",
        "  \n",
        "For each tuple in S, we want to find all tuples in R where B matches. Then we'll take the common A values from those tuples. Let's calculate:\n",
        "\n",
        "  - For $B = 2$:\n",
        "    - R tuples with $B = 2$: (1, 2, $\\gamma$), (3, 2, $\\beta$), (3, 2, $\\alpha$)\n",
        "    - A values: {1, 3}\n",
        "    - C values: {$\\alpha, \\beta, \\gamma$}\n",
        "\n",
        "The result of the division operation (R / S) contains only those A values that appear in both sets: {1, 3}.  \n",
        "\n",
        "So, (R / S) yields:  \n",
        "\n",
        "|A|C|\n",
        "|---|---|\n",
        "|1|$\\gamma$|\n",
        "|3|$\\beta$|\n",
        "|3|$\\alpha$|\n",
        "  "
      ]
    },
    {
      "cell_type": "markdown",
      "metadata": {},
      "source": [
        "# Bài 6.  \n",
        "Consider the two SQL queries.  \n",
        "Are these equivalent? Examine the case of p and/or r being empty.  \n"
      ]
    },
    {
      "cell_type": "markdown",
      "metadata": {
        "vscode": {
          "languageId": "sql"
        }
      },
      "source": [
        "```sql\n",
        "select p.a\n",
        "from p\n",
        "where p.b <>all (select r.b from r);\n",
        "\n",
        "-- and\n",
        "\n",
        "select p.a\n",
        "from p\n",
        "where p.b not in (select r.b from r);\n",
        "```"
      ]
    },
    {
      "cell_type": "markdown",
      "metadata": {},
      "source": [
        "Câu lệnh SQL này sử dụng toán tử so sánh để tìm các giá trị trong cột B của bảng P không xuất hiện trong bất kỳ giá trị nào của cột B trong bảng R. Tuy nhiên, có một sự khác biệt quan trọng giữa hai câu lệnh này, và nó phụ thuộc vào cách SQL xử lý các trường hợp khi bảng r hoặc bảng p trống.\n",
        "\n",
        "1. **Query 1:**  \n",
        "\n",
        "    ```sql  \n",
        "    select p.a  \n",
        "    from p  \n",
        "    where p.b <> all (select r.b from r);  \n",
        "    ```  \n",
        "\n",
        "    Điều này chọn các giá trị từ cột A của bảng P mà không bằng bất kỳ giá trị nào trong cột B của bảng R. Trong trường hợp bảng R hoặc P rỗng, câu lệnh này sẽ trả về tập hợp rỗng, không có bất kỳ giá trị nào.\n",
        "\n",
        "2. **Query 2:**\n",
        "\n",
        "    ```sql  \n",
        "    select p.a  \n",
        "    from p  \n",
        "    where p.b not in (select r.b from r);  \n",
        "    ```  \n",
        "\n",
        "    Điều này chọn các giá trị từ cột A của bảng P mà không có trong tập hợp các giá trị của cột B từ bảng R. Trong trường hợp bảng R hoặc P rỗng, câu lệnh này sẽ trả về tất cả các giá trị từ cột A của bảng P.\n",
        "\n",
        "Vì vậy, khi bảng R hoặc P là rỗng, kết quả của hai câu lệnh sẽ khác nhau. Câu lệnh đầu tiên sẽ trả về một tập hợp rỗng, trong khi câu lệnh thứ hai sẽ trả về tất cả các giá trị từ cột A của bảng P."
      ]
    },
    {
      "cell_type": "markdown",
      "metadata": {},
      "source": [
        "# Bài 7.  \n",
        "Given the following relations: R(A,B), S(B,C,D), T(D,E):  \n",
        "  - Explain the result of the following RA expression in **plain English**.  \n",
        "      $\\pi_{A}(R) - \\pi_{R2.A}(\\sigma_{R2.A < R.A}(R * \\rho_{R2}(R)))$  \n",
        "  - Write a relational algebra expression to generate a relation RESULT(A,D,E), that is a natural join of R, S, and T, followed by a projection.  \n",
        "  - Write a relational algebra expression to find those E values that do not appear in the above RESULT relation."
      ]
    },
    {
      "cell_type": "markdown",
      "metadata": {},
      "source": [
        "1. **Explanation of the RA Expression:**\n",
        "\n",
        "   The given expression involves several relational algebra operations. Let's break it down step by step:\n",
        "   \n",
        "   - $\\rho_{R2}(R)$: Renames relation R as R2.\n",
        "   - $R * \\rho_{R2}(R)$: Performs a Cartesian product between R and the renamed R2.\n",
        "   - $\\sigma_{R2.A < R.A}(R * \\rho_{R2}(R))$: Selects tuples from the Cartesian product where the value of A in R2 is less than the value of A in R.\n",
        "   - $\\pi_{R2.A}(\\sigma_{R2.A < R.A}(R * \\rho_{R2}(R)))$: Projects only the A attribute from the selected tuples.\n",
        "   - $\\pi_{A}(R)$: Projects only the A attribute from relation R.\n",
        "   - $\\pi_{A}(R) - \\pi_{R2.A}(\\sigma_{R2.A < R.A}(R * \\rho_{R2}(R)))$: Performs set difference between the result of the first projection and the result of the second projection.\n",
        "   \n",
        "   In plain English, the result of this expression is the set of values of attribute A from relation R, minus the set of values of attribute A from relation R, where there exists a tuple in R2 with a lesser value of attribute A.\n",
        "\n",
        "2. **Relational Algebra Expression for RESULT(A,D,E):**\n",
        "\n",
        "   The relational algebra expression to generate the relation RESULT(A,D,E) can be written as follows:\n",
        "   \n",
        "   $\\pi_{R.A, S.D, T.E}((R \\bowtie S) \\bowtie T)$\n",
        "   \n",
        "   This expression performs a natural join between relations R and S, followed by a natural join with relation T. Then, it projects attributes A from R, D from S, and E from T to generate the RESULT relation.\n",
        "\n",
        "3. **Relational Algebra Expression to Find E values not in RESULT:**\n",
        "\n",
        "   The relational algebra expression to find those E values that do not appear in the RESULT relation can be written as follows:\n",
        "   \n",
        "   $\\pi_{T.E} (T - (R \\bowtie S \\bowtie T))$\n",
        "   \n",
        "   This expression first performs a natural join between relations R, S, and T, then subtracts this result from relation T, and finally projects attribute E to retrieve those E values that do not appear in the RESULT relation."
      ]
    },
    {
      "cell_type": "markdown",
      "metadata": {},
      "source": [
        "# Bài 8.  \n",
        "Consider the division operation again on relations R(A,B) and S(B). You are to write R / S using SQL. As a starting point, here is the relational algebra expression for / using other operators:  \n",
        "  \n",
        "  - $R / S = \\pi_{A}(R) - \\pi_{A}((\\pi_{A}(R) * S) - R)$"
      ]
    },
    {
      "cell_type": "markdown",
      "metadata": {},
      "source": [
        "To implement the division operation R / S using SQL, we can follow the provided relational algebra expression. Here's how we can write it in SQL:\n",
        "\n",
        "```sql\n",
        "SELECT DISTINCT R.A\n",
        "FROM R\n",
        "WHERE R.A NOT IN (\n",
        "    SELECT DISTINCT R1.A\n",
        "    FROM R AS R1\n",
        "    WHERE NOT EXISTS (\n",
        "        SELECT *\n",
        "        FROM S\n",
        "        WHERE S.B = R1.B\n",
        "        )\n",
        "    );\n",
        "```\n",
        "\n",
        "Explanation:\n",
        "- We first select all distinct values of attribute A from relation R.\n",
        "- Then, we exclude those values of A from R for which there exist no corresponding tuples in S with matching values of B.\n",
        "- The NOT IN clause ensures that only those values of A from R are selected which are not associated with every value of B in S."
      ]
    }
  ],
  "metadata": {
    "authors": [
      {
        "name": "Phạm Ngọc Hải"
      }
    ],
    "kernelspec": {
      "display_name": "py",
      "language": "python",
      "name": "python3"
    },
    "language_info": {
      "codemirror_mode": {
        "name": "ipython",
        "version": 3
      },
      "file_extension": ".py",
      "mimetype": "text/x-python",
      "name": "python",
      "nbconvert_exporter": "python",
      "pygments_lexer": "ipython3",
      "version": "3.11.8"
    }
  },
  "nbformat": 4,
  "nbformat_minor": 2
}
