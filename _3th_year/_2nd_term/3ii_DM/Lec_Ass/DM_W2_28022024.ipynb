{
 "cells": [
  {
   "cell_type": "markdown",
   "metadata": {},
   "source": [
    "# Tìm hiểu và làm ví dụ về Scrapy  "
   ]
  },
  {
   "cell_type": "markdown",
   "metadata": {},
   "source": [
    "## Đáp ứng điều kiện cài đặt"
   ]
  },
  {
   "cell_type": "code",
   "execution_count": 13,
   "metadata": {},
   "outputs": [
    {
     "data": {
      "text/plain": [
       "'3.11.7'"
      ]
     },
     "execution_count": 13,
     "metadata": {},
     "output_type": "execute_result"
    }
   ],
   "source": [
    "# Xác định thông tin nền tảng\n",
    "\n",
    "# Settings for notebook\n",
    "from IPython.core.interactiveshell import InteractiveShell\n",
    "InteractiveShell.ast_node_interactivity = \"all\"\n",
    "# Show Python version\n",
    "import platform\n",
    "platform.python_version()"
   ]
  },
  {
   "cell_type": "markdown",
   "metadata": {},
   "source": [
    "## Cài đặt và import "
   ]
  },
  {
   "cell_type": "code",
   "execution_count": 2,
   "metadata": {},
   "outputs": [],
   "source": [
    "# Cài đặt và import scrapy \n",
    "\n",
    "try:\n",
    "    import scrapy\n",
    "except:\n",
    "    !pip install scrapy\n",
    "    import scrapy\n",
    "from scrapy.crawler import CrawlerProcess"
   ]
  },
  {
   "cell_type": "markdown",
   "metadata": {},
   "source": [
    "## Thiết lập một đường ống pipeline  \n",
    "  \n",
    "Lớp này tạo một đường dẫn đơn giản ghi tất cả các mục tìm thấy vào một tệp JSON, trong đó mỗi dòng chứa một phần tử JSON."
   ]
  },
  {
   "cell_type": "code",
   "execution_count": 3,
   "metadata": {},
   "outputs": [],
   "source": [
    "import json\n",
    "\n",
    "class JsonWriterPipeline(object):\n",
    "\n",
    "    def open_spider(self, spider):\n",
    "        self.file = open('quoteresult.jl', 'w')\n",
    "\n",
    "    def close_spider(self, spider):\n",
    "        self.file.close()\n",
    "\n",
    "    def process_item(self, item, spider):\n",
    "        line = json.dumps(dict(item)) + \"\\n\"\n",
    "        self.file.write(line)\n",
    "        return item"
   ]
  },
  {
   "cell_type": "markdown",
   "metadata": {},
   "source": [
    "## Define the spider  \n",
    "  \n",
    "Lớp QuoteSpider xác định URL nào sẽ bắt đầu thu thập dữ liệu và giá trị nào cần truy xuất. Tôi đặt mức ghi nhật ký của trình thu thập thông tin thành cảnh báo, nếu không sổ ghi chép sẽ bị quá tải với các thông báo GỠ LỖI về dữ liệu được truy xuất."
   ]
  },
  {
   "cell_type": "code",
   "execution_count": 4,
   "metadata": {},
   "outputs": [],
   "source": [
    "import logging\n",
    "\n",
    "class QuotesSpider(scrapy.Spider):\n",
    "    name = \"quotes\"\n",
    "    start_urls = [\n",
    "        'http://quotes.toscrape.com/page/1/',\n",
    "        'http://quotes.toscrape.com/page/2/',\n",
    "    ]\n",
    "    custom_settings = {\n",
    "        'LOG_LEVEL': logging.WARNING,\n",
    "        'ITEM_PIPELINES': {'__main__.JsonWriterPipeline': 1}, # Used for pipeline 1\n",
    "        'FEED_FORMAT':'json',                                 # Used for pipeline 2\n",
    "        'FEED_URI': 'quoteresult.json'                        # Used for pipeline 2\n",
    "    }\n",
    "    \n",
    "    def parse(self, response):\n",
    "        for quote in response.css('div.quote'):\n",
    "            yield {\n",
    "                'text': quote.css('span.text::text').extract_first(),\n",
    "                'author': quote.css('span small::text').extract_first(),\n",
    "                'tags': quote.css('div.tags a.tag::text').extract(),\n",
    "            }\n",
    "\n"
   ]
  },
  {
   "cell_type": "markdown",
   "metadata": {},
   "source": [
    "## Start the crawler "
   ]
  },
  {
   "cell_type": "code",
   "execution_count": 5,
   "metadata": {},
   "outputs": [
    {
     "name": "stderr",
     "output_type": "stream",
     "text": [
      "2024-02-28 15:55:31 [scrapy.utils.log] INFO: Scrapy 2.11.1 started (bot: scrapybot)\n",
      "2024-02-28 15:55:31 [scrapy.utils.log] INFO: Versions: lxml 5.1.0.0, libxml2 2.12.3, cssselect 1.2.0, parsel 1.8.1, w3lib 2.1.2, Twisted 23.10.0, Python 3.11.7 (main, Jan 29 2024, 16:03:57) [GCC 13.2.1 20230801], pyOpenSSL 24.0.0 (OpenSSL 3.1.4 24 Oct 2023), cryptography 41.0.7, Platform Linux-6.7.4-zen1-1-zen-x86_64-with-glibc2.39\n",
      "2024-02-28 15:55:31 [py.warnings] WARNING: /home/harito/venv/py/lib/python3.11/site-packages/scrapy/utils/request.py:254: ScrapyDeprecationWarning: '2.6' is a deprecated value for the 'REQUEST_FINGERPRINTER_IMPLEMENTATION' setting.\n",
      "\n",
      "It is also the default value. In other words, it is normal to get this warning if you have not defined a value for the 'REQUEST_FINGERPRINTER_IMPLEMENTATION' setting. This is so for backward compatibility reasons, but it will change in a future version of Scrapy.\n",
      "\n",
      "See the documentation of the 'REQUEST_FINGERPRINTER_IMPLEMENTATION' setting for information on how to handle this deprecation.\n",
      "  return cls(crawler)\n",
      "\n",
      "2024-02-28 15:55:31 [py.warnings] WARNING: /home/harito/venv/py/lib/python3.11/site-packages/scrapy/extensions/feedexport.py:406: ScrapyDeprecationWarning: The `FEED_URI` and `FEED_FORMAT` settings have been deprecated in favor of the `FEEDS` setting. Please see the `FEEDS` setting docs for more details\n",
      "  exporter = cls(crawler)\n",
      "\n"
     ]
    },
    {
     "data": {
      "text/plain": [
       "<Deferred at 0x715f3c2b3d10>"
      ]
     },
     "execution_count": 5,
     "metadata": {},
     "output_type": "execute_result"
    }
   ],
   "source": [
    "process = CrawlerProcess({\n",
    "    'USER_AGENT': 'Mozilla/4.0 (compatible; MSIE 7.0; Windows NT 5.1)'\n",
    "})\n",
    "\n",
    "process.crawl(QuotesSpider)\n",
    "process.start()"
   ]
  },
  {
   "cell_type": "markdown",
   "metadata": {},
   "source": [
    "## Kiểm tra và hiện ra kết quả thu được "
   ]
  },
  {
   "cell_type": "code",
   "execution_count": 6,
   "metadata": {},
   "outputs": [
    {
     "name": "stdout",
     "output_type": "stream",
     "text": [
      "-rwxrwxrwx 1 root 5551 Feb 28 15:55 \u001b[0m\u001b[01;32mquoteresult.jl\u001b[0m*\n",
      "-rwxrwxrwx 1 root 5573 Feb 28 15:55 \u001b[01;32mquoteresult.json\u001b[0m*\n"
     ]
    }
   ],
   "source": [
    "ll quoteresult.*"
   ]
  },
  {
   "cell_type": "code",
   "execution_count": 7,
   "metadata": {},
   "outputs": [
    {
     "name": "stdout",
     "output_type": "stream",
     "text": [
      "{\"text\": \"\\u201cGood friends, good books, and a sleepy conscience: this is the ideal life.\\u201d\", \"author\": \"Mark Twain\", \"tags\": [\"books\", \"contentment\", \"friends\", \"friendship\", \"life\"]}\n",
      "{\"text\": \"\\u201cLife is what happens to us while we are making other plans.\\u201d\", \"author\": \"Allen Saunders\", \"tags\": [\"fate\", \"life\", \"misattributed-john-lennon\", \"planning\", \"plans\"]}\n"
     ]
    }
   ],
   "source": [
    "!tail -n 2 quoteresult.jl"
   ]
  },
  {
   "cell_type": "code",
   "execution_count": 8,
   "metadata": {},
   "outputs": [
    {
     "name": "stdout",
     "output_type": "stream",
     "text": [
      "{\"text\": \"\\u201cLife is what happens to us while we are making other plans.\\u201d\", \"author\": \"Allen Saunders\", \"tags\": [\"fate\", \"life\", \"misattributed-john-lennon\", \"planning\", \"plans\"]}\n",
      "]"
     ]
    }
   ],
   "source": [
    "!tail -n 2 quoteresult.json"
   ]
  },
  {
   "cell_type": "code",
   "execution_count": 9,
   "metadata": {},
   "outputs": [
    {
     "data": {
      "text/html": [
       "<div>\n",
       "<style scoped>\n",
       "    .dataframe tbody tr th:only-of-type {\n",
       "        vertical-align: middle;\n",
       "    }\n",
       "\n",
       "    .dataframe tbody tr th {\n",
       "        vertical-align: top;\n",
       "    }\n",
       "\n",
       "    .dataframe thead th {\n",
       "        text-align: right;\n",
       "    }\n",
       "</style>\n",
       "<table border=\"1\" class=\"dataframe\">\n",
       "  <thead>\n",
       "    <tr style=\"text-align: right;\">\n",
       "      <th></th>\n",
       "      <th>text</th>\n",
       "      <th>author</th>\n",
       "      <th>tags</th>\n",
       "    </tr>\n",
       "  </thead>\n",
       "  <tbody>\n",
       "    <tr>\n",
       "      <th>0</th>\n",
       "      <td>“The world as we have created it is a process ...</td>\n",
       "      <td>Albert Einstein</td>\n",
       "      <td>[change, deep-thoughts, thinking, world]</td>\n",
       "    </tr>\n",
       "    <tr>\n",
       "      <th>1</th>\n",
       "      <td>“It is our choices, Harry, that show what we t...</td>\n",
       "      <td>J.K. Rowling</td>\n",
       "      <td>[abilities, choices]</td>\n",
       "    </tr>\n",
       "    <tr>\n",
       "      <th>2</th>\n",
       "      <td>“There are only two ways to live your life. On...</td>\n",
       "      <td>Albert Einstein</td>\n",
       "      <td>[inspirational, life, live, miracle, miracles]</td>\n",
       "    </tr>\n",
       "    <tr>\n",
       "      <th>3</th>\n",
       "      <td>“The person, be it gentleman or lady, who has ...</td>\n",
       "      <td>Jane Austen</td>\n",
       "      <td>[aliteracy, books, classic, humor]</td>\n",
       "    </tr>\n",
       "    <tr>\n",
       "      <th>4</th>\n",
       "      <td>“Imperfection is beauty, madness is genius and...</td>\n",
       "      <td>Marilyn Monroe</td>\n",
       "      <td>[be-yourself, inspirational]</td>\n",
       "    </tr>\n",
       "    <tr>\n",
       "      <th>5</th>\n",
       "      <td>“Try not to become a man of success. Rather be...</td>\n",
       "      <td>Albert Einstein</td>\n",
       "      <td>[adulthood, success, value]</td>\n",
       "    </tr>\n",
       "    <tr>\n",
       "      <th>6</th>\n",
       "      <td>“It is better to be hated for what you are tha...</td>\n",
       "      <td>André Gide</td>\n",
       "      <td>[life, love]</td>\n",
       "    </tr>\n",
       "    <tr>\n",
       "      <th>7</th>\n",
       "      <td>“I have not failed. I've just found 10,000 way...</td>\n",
       "      <td>Thomas A. Edison</td>\n",
       "      <td>[edison, failure, inspirational, paraphrased]</td>\n",
       "    </tr>\n",
       "    <tr>\n",
       "      <th>8</th>\n",
       "      <td>“A woman is like a tea bag; you never know how...</td>\n",
       "      <td>Eleanor Roosevelt</td>\n",
       "      <td>[misattributed-eleanor-roosevelt]</td>\n",
       "    </tr>\n",
       "    <tr>\n",
       "      <th>9</th>\n",
       "      <td>“A day without sunshine is like, you know, nig...</td>\n",
       "      <td>Steve Martin</td>\n",
       "      <td>[humor, obvious, simile]</td>\n",
       "    </tr>\n",
       "    <tr>\n",
       "      <th>10</th>\n",
       "      <td>“This life is what you make it. No matter what...</td>\n",
       "      <td>Marilyn Monroe</td>\n",
       "      <td>[friends, heartbreak, inspirational, life, lov...</td>\n",
       "    </tr>\n",
       "    <tr>\n",
       "      <th>11</th>\n",
       "      <td>“It takes a great deal of bravery to stand up ...</td>\n",
       "      <td>J.K. Rowling</td>\n",
       "      <td>[courage, friends]</td>\n",
       "    </tr>\n",
       "    <tr>\n",
       "      <th>12</th>\n",
       "      <td>“If you can't explain it to a six year old, yo...</td>\n",
       "      <td>Albert Einstein</td>\n",
       "      <td>[simplicity, understand]</td>\n",
       "    </tr>\n",
       "    <tr>\n",
       "      <th>13</th>\n",
       "      <td>“You may not be her first, her last, or her on...</td>\n",
       "      <td>Bob Marley</td>\n",
       "      <td>[love]</td>\n",
       "    </tr>\n",
       "    <tr>\n",
       "      <th>14</th>\n",
       "      <td>“I like nonsense, it wakes up the brain cells....</td>\n",
       "      <td>Dr. Seuss</td>\n",
       "      <td>[fantasy]</td>\n",
       "    </tr>\n",
       "    <tr>\n",
       "      <th>15</th>\n",
       "      <td>“I may not have gone where I intended to go, b...</td>\n",
       "      <td>Douglas Adams</td>\n",
       "      <td>[life, navigation]</td>\n",
       "    </tr>\n",
       "    <tr>\n",
       "      <th>16</th>\n",
       "      <td>“The opposite of love is not hate, it's indiff...</td>\n",
       "      <td>Elie Wiesel</td>\n",
       "      <td>[activism, apathy, hate, indifference, inspira...</td>\n",
       "    </tr>\n",
       "    <tr>\n",
       "      <th>17</th>\n",
       "      <td>“It is not a lack of love, but a lack of frien...</td>\n",
       "      <td>Friedrich Nietzsche</td>\n",
       "      <td>[friendship, lack-of-friendship, lack-of-love,...</td>\n",
       "    </tr>\n",
       "    <tr>\n",
       "      <th>18</th>\n",
       "      <td>“Good friends, good books, and a sleepy consci...</td>\n",
       "      <td>Mark Twain</td>\n",
       "      <td>[books, contentment, friends, friendship, life]</td>\n",
       "    </tr>\n",
       "    <tr>\n",
       "      <th>19</th>\n",
       "      <td>“Life is what happens to us while we are makin...</td>\n",
       "      <td>Allen Saunders</td>\n",
       "      <td>[fate, life, misattributed-john-lennon, planni...</td>\n",
       "    </tr>\n",
       "  </tbody>\n",
       "</table>\n",
       "</div>"
      ],
      "text/plain": [
       "                                                 text               author  \\\n",
       "0   “The world as we have created it is a process ...      Albert Einstein   \n",
       "1   “It is our choices, Harry, that show what we t...         J.K. Rowling   \n",
       "2   “There are only two ways to live your life. On...      Albert Einstein   \n",
       "3   “The person, be it gentleman or lady, who has ...          Jane Austen   \n",
       "4   “Imperfection is beauty, madness is genius and...       Marilyn Monroe   \n",
       "5   “Try not to become a man of success. Rather be...      Albert Einstein   \n",
       "6   “It is better to be hated for what you are tha...           André Gide   \n",
       "7   “I have not failed. I've just found 10,000 way...     Thomas A. Edison   \n",
       "8   “A woman is like a tea bag; you never know how...    Eleanor Roosevelt   \n",
       "9   “A day without sunshine is like, you know, nig...         Steve Martin   \n",
       "10  “This life is what you make it. No matter what...       Marilyn Monroe   \n",
       "11  “It takes a great deal of bravery to stand up ...         J.K. Rowling   \n",
       "12  “If you can't explain it to a six year old, yo...      Albert Einstein   \n",
       "13  “You may not be her first, her last, or her on...           Bob Marley   \n",
       "14  “I like nonsense, it wakes up the brain cells....            Dr. Seuss   \n",
       "15  “I may not have gone where I intended to go, b...        Douglas Adams   \n",
       "16  “The opposite of love is not hate, it's indiff...          Elie Wiesel   \n",
       "17  “It is not a lack of love, but a lack of frien...  Friedrich Nietzsche   \n",
       "18  “Good friends, good books, and a sleepy consci...           Mark Twain   \n",
       "19  “Life is what happens to us while we are makin...       Allen Saunders   \n",
       "\n",
       "                                                 tags  \n",
       "0            [change, deep-thoughts, thinking, world]  \n",
       "1                                [abilities, choices]  \n",
       "2      [inspirational, life, live, miracle, miracles]  \n",
       "3                  [aliteracy, books, classic, humor]  \n",
       "4                        [be-yourself, inspirational]  \n",
       "5                         [adulthood, success, value]  \n",
       "6                                        [life, love]  \n",
       "7       [edison, failure, inspirational, paraphrased]  \n",
       "8                   [misattributed-eleanor-roosevelt]  \n",
       "9                            [humor, obvious, simile]  \n",
       "10  [friends, heartbreak, inspirational, life, lov...  \n",
       "11                                 [courage, friends]  \n",
       "12                           [simplicity, understand]  \n",
       "13                                             [love]  \n",
       "14                                          [fantasy]  \n",
       "15                                 [life, navigation]  \n",
       "16  [activism, apathy, hate, indifference, inspira...  \n",
       "17  [friendship, lack-of-friendship, lack-of-love,...  \n",
       "18    [books, contentment, friends, friendship, life]  \n",
       "19  [fate, life, misattributed-john-lennon, planni...  "
      ]
     },
     "execution_count": 9,
     "metadata": {},
     "output_type": "execute_result"
    }
   ],
   "source": [
    "import pandas as pd\n",
    "dfjson = pd.read_json('quoteresult.json')\n",
    "dfjson"
   ]
  },
  {
   "cell_type": "code",
   "execution_count": 10,
   "metadata": {},
   "outputs": [
    {
     "data": {
      "text/html": [
       "<div>\n",
       "<style scoped>\n",
       "    .dataframe tbody tr th:only-of-type {\n",
       "        vertical-align: middle;\n",
       "    }\n",
       "\n",
       "    .dataframe tbody tr th {\n",
       "        vertical-align: top;\n",
       "    }\n",
       "\n",
       "    .dataframe thead th {\n",
       "        text-align: right;\n",
       "    }\n",
       "</style>\n",
       "<table border=\"1\" class=\"dataframe\">\n",
       "  <thead>\n",
       "    <tr style=\"text-align: right;\">\n",
       "      <th></th>\n",
       "      <th>text</th>\n",
       "      <th>author</th>\n",
       "      <th>tags</th>\n",
       "    </tr>\n",
       "  </thead>\n",
       "  <tbody>\n",
       "    <tr>\n",
       "      <th>0</th>\n",
       "      <td>“The world as we have created it is a process ...</td>\n",
       "      <td>Albert Einstein</td>\n",
       "      <td>[change, deep-thoughts, thinking, world]</td>\n",
       "    </tr>\n",
       "    <tr>\n",
       "      <th>1</th>\n",
       "      <td>“It is our choices, Harry, that show what we t...</td>\n",
       "      <td>J.K. Rowling</td>\n",
       "      <td>[abilities, choices]</td>\n",
       "    </tr>\n",
       "    <tr>\n",
       "      <th>2</th>\n",
       "      <td>“There are only two ways to live your life. On...</td>\n",
       "      <td>Albert Einstein</td>\n",
       "      <td>[inspirational, life, live, miracle, miracles]</td>\n",
       "    </tr>\n",
       "    <tr>\n",
       "      <th>3</th>\n",
       "      <td>“The person, be it gentleman or lady, who has ...</td>\n",
       "      <td>Jane Austen</td>\n",
       "      <td>[aliteracy, books, classic, humor]</td>\n",
       "    </tr>\n",
       "    <tr>\n",
       "      <th>4</th>\n",
       "      <td>“Imperfection is beauty, madness is genius and...</td>\n",
       "      <td>Marilyn Monroe</td>\n",
       "      <td>[be-yourself, inspirational]</td>\n",
       "    </tr>\n",
       "    <tr>\n",
       "      <th>5</th>\n",
       "      <td>“Try not to become a man of success. Rather be...</td>\n",
       "      <td>Albert Einstein</td>\n",
       "      <td>[adulthood, success, value]</td>\n",
       "    </tr>\n",
       "    <tr>\n",
       "      <th>6</th>\n",
       "      <td>“It is better to be hated for what you are tha...</td>\n",
       "      <td>André Gide</td>\n",
       "      <td>[life, love]</td>\n",
       "    </tr>\n",
       "    <tr>\n",
       "      <th>7</th>\n",
       "      <td>“I have not failed. I've just found 10,000 way...</td>\n",
       "      <td>Thomas A. Edison</td>\n",
       "      <td>[edison, failure, inspirational, paraphrased]</td>\n",
       "    </tr>\n",
       "    <tr>\n",
       "      <th>8</th>\n",
       "      <td>“A woman is like a tea bag; you never know how...</td>\n",
       "      <td>Eleanor Roosevelt</td>\n",
       "      <td>[misattributed-eleanor-roosevelt]</td>\n",
       "    </tr>\n",
       "    <tr>\n",
       "      <th>9</th>\n",
       "      <td>“A day without sunshine is like, you know, nig...</td>\n",
       "      <td>Steve Martin</td>\n",
       "      <td>[humor, obvious, simile]</td>\n",
       "    </tr>\n",
       "    <tr>\n",
       "      <th>10</th>\n",
       "      <td>“This life is what you make it. No matter what...</td>\n",
       "      <td>Marilyn Monroe</td>\n",
       "      <td>[friends, heartbreak, inspirational, life, lov...</td>\n",
       "    </tr>\n",
       "    <tr>\n",
       "      <th>11</th>\n",
       "      <td>“It takes a great deal of bravery to stand up ...</td>\n",
       "      <td>J.K. Rowling</td>\n",
       "      <td>[courage, friends]</td>\n",
       "    </tr>\n",
       "    <tr>\n",
       "      <th>12</th>\n",
       "      <td>“If you can't explain it to a six year old, yo...</td>\n",
       "      <td>Albert Einstein</td>\n",
       "      <td>[simplicity, understand]</td>\n",
       "    </tr>\n",
       "    <tr>\n",
       "      <th>13</th>\n",
       "      <td>“You may not be her first, her last, or her on...</td>\n",
       "      <td>Bob Marley</td>\n",
       "      <td>[love]</td>\n",
       "    </tr>\n",
       "    <tr>\n",
       "      <th>14</th>\n",
       "      <td>“I like nonsense, it wakes up the brain cells....</td>\n",
       "      <td>Dr. Seuss</td>\n",
       "      <td>[fantasy]</td>\n",
       "    </tr>\n",
       "    <tr>\n",
       "      <th>15</th>\n",
       "      <td>“I may not have gone where I intended to go, b...</td>\n",
       "      <td>Douglas Adams</td>\n",
       "      <td>[life, navigation]</td>\n",
       "    </tr>\n",
       "    <tr>\n",
       "      <th>16</th>\n",
       "      <td>“The opposite of love is not hate, it's indiff...</td>\n",
       "      <td>Elie Wiesel</td>\n",
       "      <td>[activism, apathy, hate, indifference, inspira...</td>\n",
       "    </tr>\n",
       "    <tr>\n",
       "      <th>17</th>\n",
       "      <td>“It is not a lack of love, but a lack of frien...</td>\n",
       "      <td>Friedrich Nietzsche</td>\n",
       "      <td>[friendship, lack-of-friendship, lack-of-love,...</td>\n",
       "    </tr>\n",
       "    <tr>\n",
       "      <th>18</th>\n",
       "      <td>“Good friends, good books, and a sleepy consci...</td>\n",
       "      <td>Mark Twain</td>\n",
       "      <td>[books, contentment, friends, friendship, life]</td>\n",
       "    </tr>\n",
       "    <tr>\n",
       "      <th>19</th>\n",
       "      <td>“Life is what happens to us while we are makin...</td>\n",
       "      <td>Allen Saunders</td>\n",
       "      <td>[fate, life, misattributed-john-lennon, planni...</td>\n",
       "    </tr>\n",
       "  </tbody>\n",
       "</table>\n",
       "</div>"
      ],
      "text/plain": [
       "                                                 text               author  \\\n",
       "0   “The world as we have created it is a process ...      Albert Einstein   \n",
       "1   “It is our choices, Harry, that show what we t...         J.K. Rowling   \n",
       "2   “There are only two ways to live your life. On...      Albert Einstein   \n",
       "3   “The person, be it gentleman or lady, who has ...          Jane Austen   \n",
       "4   “Imperfection is beauty, madness is genius and...       Marilyn Monroe   \n",
       "5   “Try not to become a man of success. Rather be...      Albert Einstein   \n",
       "6   “It is better to be hated for what you are tha...           André Gide   \n",
       "7   “I have not failed. I've just found 10,000 way...     Thomas A. Edison   \n",
       "8   “A woman is like a tea bag; you never know how...    Eleanor Roosevelt   \n",
       "9   “A day without sunshine is like, you know, nig...         Steve Martin   \n",
       "10  “This life is what you make it. No matter what...       Marilyn Monroe   \n",
       "11  “It takes a great deal of bravery to stand up ...         J.K. Rowling   \n",
       "12  “If you can't explain it to a six year old, yo...      Albert Einstein   \n",
       "13  “You may not be her first, her last, or her on...           Bob Marley   \n",
       "14  “I like nonsense, it wakes up the brain cells....            Dr. Seuss   \n",
       "15  “I may not have gone where I intended to go, b...        Douglas Adams   \n",
       "16  “The opposite of love is not hate, it's indiff...          Elie Wiesel   \n",
       "17  “It is not a lack of love, but a lack of frien...  Friedrich Nietzsche   \n",
       "18  “Good friends, good books, and a sleepy consci...           Mark Twain   \n",
       "19  “Life is what happens to us while we are makin...       Allen Saunders   \n",
       "\n",
       "                                                 tags  \n",
       "0            [change, deep-thoughts, thinking, world]  \n",
       "1                                [abilities, choices]  \n",
       "2      [inspirational, life, live, miracle, miracles]  \n",
       "3                  [aliteracy, books, classic, humor]  \n",
       "4                        [be-yourself, inspirational]  \n",
       "5                         [adulthood, success, value]  \n",
       "6                                        [life, love]  \n",
       "7       [edison, failure, inspirational, paraphrased]  \n",
       "8                   [misattributed-eleanor-roosevelt]  \n",
       "9                            [humor, obvious, simile]  \n",
       "10  [friends, heartbreak, inspirational, life, lov...  \n",
       "11                                 [courage, friends]  \n",
       "12                           [simplicity, understand]  \n",
       "13                                             [love]  \n",
       "14                                          [fantasy]  \n",
       "15                                 [life, navigation]  \n",
       "16  [activism, apathy, hate, indifference, inspira...  \n",
       "17  [friendship, lack-of-friendship, lack-of-love,...  \n",
       "18    [books, contentment, friends, friendship, life]  \n",
       "19  [fate, life, misattributed-john-lennon, planni...  "
      ]
     },
     "execution_count": 10,
     "metadata": {},
     "output_type": "execute_result"
    }
   ],
   "source": [
    "dfjl = pd.read_json('quoteresult.jl', lines=True)\n",
    "dfjl"
   ]
  },
  {
   "cell_type": "code",
   "execution_count": 11,
   "metadata": {},
   "outputs": [],
   "source": [
    "dfjson.to_pickle('quotejson.pickle')\n",
    "dfjl.to_pickle('quotejl.pickle')"
   ]
  },
  {
   "cell_type": "code",
   "execution_count": 12,
   "metadata": {},
   "outputs": [
    {
     "name": "stdout",
     "output_type": "stream",
     "text": [
      "-rwxrwxrwx 1 root 5454 Feb 28 15:57 \u001b[0m\u001b[01;32mquotejl.pickle\u001b[0m*\n",
      "-rwxrwxrwx 1 root 5454 Feb 28 15:57 \u001b[01;32mquotejson.pickle\u001b[0m*\n"
     ]
    }
   ],
   "source": [
    "ll *pickle"
   ]
  },
  {
   "cell_type": "markdown",
   "metadata": {},
   "source": [
    "# Thử nghiệm việc sử dụng Scraper để crawl data làm project nhóm"
   ]
  },
  {
   "cell_type": "markdown",
   "metadata": {},
   "source": [
    "Do nhóm em đã có nguồn dữ liệu tải được từ trước nên định hướng sẽ không sử dụng Scraper.  \n",
    "Tuy nhiên trong khuôn khổ nội dung bài thực hành, nhóm em sẽ sử dụng crawl ảnh (nguồn dữ liệu dự án nhóm em sẽ sử dụng)."
   ]
  },
  {
   "cell_type": "markdown",
   "metadata": {},
   "source": [
    "### Cách 1."
   ]
  },
  {
   "cell_type": "code",
   "execution_count": 14,
   "metadata": {},
   "outputs": [
    {
     "name": "stdout",
     "output_type": "stream",
     "text": [
      "Requirement already satisfied: ImageScraper in /home/harito/venv/py/lib/python3.11/site-packages (2.0.7)\n",
      "Requirement already satisfied: lxml>=3.2.3 in /home/harito/venv/py/lib/python3.11/site-packages (from ImageScraper) (5.1.0)\n",
      "Requirement already satisfied: requests>=2.1.0 in /home/harito/venv/py/lib/python3.11/site-packages (from ImageScraper) (2.31.0)\n",
      "Requirement already satisfied: future>=0.14.3 in /home/harito/venv/py/lib/python3.11/site-packages (from ImageScraper) (1.0.0)\n",
      "Requirement already satisfied: setproctitle>=1.1.8 in /home/harito/venv/py/lib/python3.11/site-packages (from ImageScraper) (1.3.3)\n",
      "Requirement already satisfied: SimplePool in /home/harito/venv/py/lib/python3.11/site-packages (from ImageScraper) (0.1)\n",
      "Requirement already satisfied: charset-normalizer<4,>=2 in /home/harito/venv/py/lib/python3.11/site-packages (from requests>=2.1.0->ImageScraper) (3.3.2)\n",
      "Requirement already satisfied: idna<4,>=2.5 in /home/harito/venv/py/lib/python3.11/site-packages (from requests>=2.1.0->ImageScraper) (2.10)\n",
      "Requirement already satisfied: urllib3<3,>=1.21.1 in /home/harito/venv/py/lib/python3.11/site-packages (from requests>=2.1.0->ImageScraper) (2.0.7)\n",
      "Requirement already satisfied: certifi>=2017.4.17 in /home/harito/venv/py/lib/python3.11/site-packages (from requests>=2.1.0->ImageScraper) (2023.7.22)\n"
     ]
    }
   ],
   "source": [
    "!pip install ImageScraper"
   ]
  },
  {
   "cell_type": "code",
   "execution_count": 15,
   "metadata": {},
   "outputs": [
    {
     "name": "stdout",
     "output_type": "stream",
     "text": [
      "\n",
      "ImageScraper\n",
      "============\n",
      "Requesting page....\n",
      "\n",
      "Found 2 images: \n",
      "Progress: 100% ||||||||||||||||||||||||||||||||||||||| Time: 00:00:00   1.82 K/s\n",
      "\n",
      "Done!\n",
      "Downloaded 2 images\n",
      "Failed: 0\n",
      "\n"
     ]
    }
   ],
   "source": [
    "!image-scraper --max-images 10 'https://vnexpress.net/'"
   ]
  },
  {
   "cell_type": "markdown",
   "metadata": {},
   "source": [
    "Vậy là đã download được 2 ảnh có từ web "
   ]
  },
  {
   "cell_type": "markdown",
   "metadata": {},
   "source": [
    "### Cách 2. Vấn dùng Scraper"
   ]
  },
  {
   "cell_type": "code",
   "execution_count": 16,
   "metadata": {},
   "outputs": [
    {
     "name": "stdout",
     "output_type": "stream",
     "text": [
      "New Scrapy project 'oral_cancer_images', using template directory '/home/harito/venv/py/lib/python3.11/site-packages/scrapy/templates/project', created in:\n",
      "    /mnt/DataK/Univer/UniSubject/_3th_year/_2nd_term/3ii_DM/Lec_Ass/oral_cancer_images\n",
      "\n",
      "You can start your first spider with:\n",
      "    cd oral_cancer_images\n",
      "    scrapy genspider example example.com\n"
     ]
    }
   ],
   "source": [
    "!scrapy startproject oral_cancer_images"
   ]
  },
  {
   "cell_type": "code",
   "execution_count": 17,
   "metadata": {},
   "outputs": [
    {
     "name": "stderr",
     "output_type": "stream",
     "text": [
      "2024-02-28 16:27:08 [py.warnings] WARNING: /home/harito/venv/py/lib/python3.11/site-packages/IPython/core/magics/osm.py:417: UserWarning: using dhist requires you to install the `pickleshare` library.\n",
      "  self.shell.db['dhist'] = compress_dhist(dhist)[-100:]\n",
      "\n"
     ]
    },
    {
     "name": "stdout",
     "output_type": "stream",
     "text": [
      "/mnt/DataK/Univer/UniSubject/_3th_year/_2nd_term/3ii_DM/Lec_Ass/oral_cancer_images/oral_cancer_images/spiders\n"
     ]
    }
   ],
   "source": [
    "%cd oral_cancer_images/oral_cancer_images/spiders/"
   ]
  },
  {
   "cell_type": "code",
   "execution_count": 18,
   "metadata": {},
   "outputs": [
    {
     "name": "stdout",
     "output_type": "stream",
     "text": [
      "Created spider 'images_spider' using template 'basic' in module:\n",
      "  oral_cancer_images.spiders.images_spider\n"
     ]
    }
   ],
   "source": [
    "!scrapy genspider images_spider \"https://oralcancerfoundation.org/dental/oral-cancer-images\""
   ]
  },
  {
   "cell_type": "code",
   "execution_count": 19,
   "metadata": {},
   "outputs": [
    {
     "name": "stdout",
     "output_type": "stream",
     "text": [
      "2024-02-28 16:27:51 [scrapy.utils.log] INFO: Scrapy 2.11.1 started (bot: oral_cancer_images)\n",
      "2024-02-28 16:27:51 [scrapy.utils.log] INFO: Versions: lxml 5.1.0.0, libxml2 2.12.3, cssselect 1.2.0, parsel 1.8.1, w3lib 2.1.2, Twisted 23.10.0, Python 3.11.7 (main, Jan 29 2024, 16:03:57) [GCC 13.2.1 20230801], pyOpenSSL 24.0.0 (OpenSSL 3.1.4 24 Oct 2023), cryptography 41.0.7, Platform Linux-6.7.4-zen1-1-zen-x86_64-with-glibc2.39\n",
      "2024-02-28 16:27:51 [scrapy.addons] INFO: Enabled addons:\n",
      "[]\n",
      "2024-02-28 16:27:51 [asyncio] DEBUG: Using selector: EpollSelector\n",
      "2024-02-28 16:27:51 [scrapy.utils.log] DEBUG: Using reactor: twisted.internet.asyncioreactor.AsyncioSelectorReactor\n",
      "2024-02-28 16:27:51 [scrapy.utils.log] DEBUG: Using asyncio event loop: asyncio.unix_events._UnixSelectorEventLoop\n",
      "2024-02-28 16:27:51 [scrapy.extensions.telnet] INFO: Telnet Password: d51179d5211b3bbd\n",
      "2024-02-28 16:27:52 [scrapy.middleware] INFO: Enabled extensions:\n",
      "['scrapy.extensions.corestats.CoreStats',\n",
      " 'scrapy.extensions.telnet.TelnetConsole',\n",
      " 'scrapy.extensions.memusage.MemoryUsage',\n",
      " 'scrapy.extensions.feedexport.FeedExporter',\n",
      " 'scrapy.extensions.logstats.LogStats']\n",
      "2024-02-28 16:27:52 [scrapy.crawler] INFO: Overridden settings:\n",
      "{'BOT_NAME': 'oral_cancer_images',\n",
      " 'FEED_EXPORT_ENCODING': 'utf-8',\n",
      " 'NEWSPIDER_MODULE': 'oral_cancer_images.spiders',\n",
      " 'REQUEST_FINGERPRINTER_IMPLEMENTATION': '2.7',\n",
      " 'ROBOTSTXT_OBEY': True,\n",
      " 'SPIDER_MODULES': ['oral_cancer_images.spiders'],\n",
      " 'TWISTED_REACTOR': 'twisted.internet.asyncioreactor.AsyncioSelectorReactor'}\n",
      "2024-02-28 16:27:52 [scrapy.middleware] INFO: Enabled downloader middlewares:\n",
      "['scrapy.downloadermiddlewares.robotstxt.RobotsTxtMiddleware',\n",
      " 'scrapy.downloadermiddlewares.httpauth.HttpAuthMiddleware',\n",
      " 'scrapy.downloadermiddlewares.downloadtimeout.DownloadTimeoutMiddleware',\n",
      " 'scrapy.downloadermiddlewares.defaultheaders.DefaultHeadersMiddleware',\n",
      " 'scrapy.downloadermiddlewares.useragent.UserAgentMiddleware',\n",
      " 'scrapy.downloadermiddlewares.retry.RetryMiddleware',\n",
      " 'scrapy.downloadermiddlewares.redirect.MetaRefreshMiddleware',\n",
      " 'scrapy.downloadermiddlewares.httpcompression.HttpCompressionMiddleware',\n",
      " 'scrapy.downloadermiddlewares.redirect.RedirectMiddleware',\n",
      " 'scrapy.downloadermiddlewares.cookies.CookiesMiddleware',\n",
      " 'scrapy.downloadermiddlewares.httpproxy.HttpProxyMiddleware',\n",
      " 'scrapy.downloadermiddlewares.stats.DownloaderStats']\n",
      "2024-02-28 16:27:52 [scrapy.middleware] INFO: Enabled spider middlewares:\n",
      "['scrapy.spidermiddlewares.httperror.HttpErrorMiddleware',\n",
      " 'scrapy.spidermiddlewares.offsite.OffsiteMiddleware',\n",
      " 'scrapy.spidermiddlewares.referer.RefererMiddleware',\n",
      " 'scrapy.spidermiddlewares.urllength.UrlLengthMiddleware',\n",
      " 'scrapy.spidermiddlewares.depth.DepthMiddleware']\n",
      "2024-02-28 16:27:52 [scrapy.middleware] INFO: Enabled item pipelines:\n",
      "[]\n",
      "2024-02-28 16:27:52 [scrapy.core.engine] INFO: Spider opened\n",
      "2024-02-28 16:27:52 [scrapy.extensions.logstats] INFO: Crawled 0 pages (at 0 pages/min), scraped 0 items (at 0 items/min)\n",
      "2024-02-28 16:27:52 [scrapy.extensions.telnet] INFO: Telnet console listening on 127.0.0.1:6023\n",
      "2024-02-28 16:27:53 [scrapy.core.engine] DEBUG: Crawled (200) <GET https://oralcancerfoundation.org/robots.txt> (referer: None)\n",
      "2024-02-28 16:27:53 [scrapy.downloadermiddlewares.redirect] DEBUG: Redirecting (301) to <GET https://oralcancerfoundation.org/dental/oral-cancer-images/> from <GET https://oralcancerfoundation.org/dental/oral-cancer-images>\n",
      "2024-02-28 16:27:55 [scrapy.core.engine] DEBUG: Crawled (200) <GET https://oralcancerfoundation.org/dental/oral-cancer-images/> (referer: None)\n",
      "2024-02-28 16:27:55 [scrapy.core.engine] INFO: Closing spider (finished)\n",
      "2024-02-28 16:27:55 [scrapy.extensions.feedexport] INFO: Stored json feed (0 items) in: output.json\n",
      "2024-02-28 16:27:55 [scrapy.statscollectors] INFO: Dumping Scrapy stats:\n",
      "{'downloader/request_bytes': 748,\n",
      " 'downloader/request_count': 3,\n",
      " 'downloader/request_method_count/GET': 3,\n",
      " 'downloader/response_bytes': 159070,\n",
      " 'downloader/response_count': 3,\n",
      " 'downloader/response_status_count/200': 2,\n",
      " 'downloader/response_status_count/301': 1,\n",
      " 'elapsed_time_seconds': 3.296637,\n",
      " 'feedexport/success_count/FileFeedStorage': 1,\n",
      " 'finish_reason': 'finished',\n",
      " 'finish_time': datetime.datetime(2024, 2, 28, 9, 27, 55, 593668, tzinfo=datetime.timezone.utc),\n",
      " 'httpcompression/response_bytes': 1109061,\n",
      " 'httpcompression/response_count': 2,\n",
      " 'log_count/DEBUG': 6,\n",
      " 'log_count/INFO': 11,\n",
      " 'memusage/max': 141742080,\n",
      " 'memusage/startup': 141742080,\n",
      " 'response_received_count': 2,\n",
      " 'robotstxt/request_count': 1,\n",
      " 'robotstxt/response_count': 1,\n",
      " 'robotstxt/response_status_count/200': 1,\n",
      " 'scheduler/dequeued': 2,\n",
      " 'scheduler/dequeued/memory': 2,\n",
      " 'scheduler/enqueued': 2,\n",
      " 'scheduler/enqueued/memory': 2,\n",
      " 'start_time': datetime.datetime(2024, 2, 28, 9, 27, 52, 297031, tzinfo=datetime.timezone.utc)}\n",
      "2024-02-28 16:27:55 [scrapy.core.engine] INFO: Spider closed (finished)\n"
     ]
    }
   ],
   "source": [
    "!scrapy crawl images_spider -o output.json"
   ]
  }
 ],
 "metadata": {
  "authors": [
   {
    "name": "Phạm Ngọc Hải"
   },
   {
    "name": "Lê Thị Minh Anh"
   },
   {
    "name": "Lương Đức Anh"
   },
   {
    "name": "Cao Diệu Ly"
   }
  ],
  "kernelspec": {
   "display_name": "py",
   "language": "python",
   "name": "python3"
  },
  "language_info": {
   "codemirror_mode": {
    "name": "ipython",
    "version": 3
   },
   "file_extension": ".py",
   "mimetype": "text/x-python",
   "name": "python",
   "nbconvert_exporter": "python",
   "pygments_lexer": "ipython3",
   "version": "3.11.7"
  },
  "title": "Thực hành Data Mining lab 2"
 },
 "nbformat": 4,
 "nbformat_minor": 2
}
