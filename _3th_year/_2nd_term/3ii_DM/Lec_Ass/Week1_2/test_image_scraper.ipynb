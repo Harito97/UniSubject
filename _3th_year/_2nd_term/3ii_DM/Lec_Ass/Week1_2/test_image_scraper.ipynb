{
 "cells": [
  {
   "cell_type": "code",
   "execution_count": 1,
   "metadata": {},
   "outputs": [
    {
     "name": "stdout",
     "output_type": "stream",
     "text": [
      "Collecting ImageScraper\n",
      "  Downloading ImageScraper-2.0.7-py2.py3-none-any.whl (10 kB)\n",
      "Requirement already satisfied: lxml>=3.2.3 in /home/harito/venv/py/lib/python3.11/site-packages (from ImageScraper) (5.1.0)\n",
      "Requirement already satisfied: requests>=2.1.0 in /home/harito/venv/py/lib/python3.11/site-packages (from ImageScraper) (2.31.0)\n",
      "Collecting future>=0.14.3 (from ImageScraper)\n",
      "  Downloading future-1.0.0-py3-none-any.whl.metadata (4.0 kB)\n",
      "Collecting setproctitle>=1.1.8 (from ImageScraper)\n",
      "  Downloading setproctitle-1.3.3-cp311-cp311-manylinux_2_5_x86_64.manylinux1_x86_64.manylinux_2_17_x86_64.manylinux2014_x86_64.whl.metadata (9.9 kB)\n",
      "Collecting SimplePool (from ImageScraper)\n",
      "  Downloading SimplePool-0.1.tar.gz (36 kB)\n",
      "  Preparing metadata (setup.py) ... \u001b[?25ldone\n",
      "\u001b[?25hRequirement already satisfied: charset-normalizer<4,>=2 in /home/harito/venv/py/lib/python3.11/site-packages (from requests>=2.1.0->ImageScraper) (3.3.2)\n",
      "Requirement already satisfied: idna<4,>=2.5 in /home/harito/venv/py/lib/python3.11/site-packages (from requests>=2.1.0->ImageScraper) (2.10)\n",
      "Requirement already satisfied: urllib3<3,>=1.21.1 in /home/harito/venv/py/lib/python3.11/site-packages (from requests>=2.1.0->ImageScraper) (2.0.7)\n",
      "Requirement already satisfied: certifi>=2017.4.17 in /home/harito/venv/py/lib/python3.11/site-packages (from requests>=2.1.0->ImageScraper) (2023.7.22)\n",
      "Downloading future-1.0.0-py3-none-any.whl (491 kB)\n",
      "\u001b[2K   \u001b[90m━━━━━━━━━━━━━━━━━━━━━━━━━━━━━━━━━━━━━━━━\u001b[0m \u001b[32m491.3/491.3 kB\u001b[0m \u001b[31m4.3 MB/s\u001b[0m eta \u001b[36m0:00:00\u001b[0ma \u001b[36m0:00:01\u001b[0m\n",
      "\u001b[?25hDownloading setproctitle-1.3.3-cp311-cp311-manylinux_2_5_x86_64.manylinux1_x86_64.manylinux_2_17_x86_64.manylinux2014_x86_64.whl (31 kB)\n",
      "Building wheels for collected packages: SimplePool\n",
      "  Building wheel for SimplePool (setup.py) ... \u001b[?25ldone\n",
      "\u001b[?25h  Created wheel for SimplePool: filename=SimplePool-0.1-py3-none-any.whl size=26679 sha256=8b96293af6a6494796bc669e41f717880f2657ee831ef8108b6d63977088bb5d\n",
      "  Stored in directory: /home/harito/.cache/pip/wheels/68/64/dc/8f4b0f9d3a69e43c7fc11e0069801cacce90dedd3c337916d0\n",
      "Successfully built SimplePool\n",
      "Installing collected packages: SimplePool, setproctitle, future, ImageScraper\n",
      "Successfully installed ImageScraper-2.0.7 SimplePool-0.1 future-1.0.0 setproctitle-1.3.3\n"
     ]
    }
   ],
   "source": [
    "!pip install ImageScraper"
   ]
  },
  {
   "cell_type": "code",
   "execution_count": 3,
   "metadata": {},
   "outputs": [
    {
     "data": {
      "text/plain": [
       "(0, 0)"
      ]
     },
     "execution_count": 3,
     "metadata": {},
     "output_type": "execute_result"
    }
   ],
   "source": [
    "# import image_scraper\n",
    "# URL = 'https://www.google.com/search?client=firefox-b-d&sca_esv=f1fcaf6411aede3e&q=python&tbm=isch&source=lnms&sa=X&ved=2ahUKEwi0hdrt2M2EAxX0mVYBHdt2B6QQ0pQJegQIDBAB&biw=1346&bih=663&dpr=1'\n",
    "# image_scraper.scrape_images(URL)"
   ]
  },
  {
   "cell_type": "code",
   "execution_count": 4,
   "metadata": {},
   "outputs": [
    {
     "name": "stdout",
     "output_type": "stream",
     "text": [
      "\n",
      "ImageScraper\n",
      "============\n",
      "Requesting page....\n",
      "\n",
      "Found 2 images: \n",
      "Progress: 100% ||||||||||||||||||||||||||||||||||||||| Time: 00:00:00   1.57 K/s\n",
      "\n",
      "Done!\n",
      "Downloaded 2 images\n",
      "Failed: 0\n",
      "\n"
     ]
    }
   ],
   "source": [
    "!image-scraper --max-images 10 'https://vnexpress.net/'"
   ]
  }
 ],
 "metadata": {
  "kernelspec": {
   "display_name": "py",
   "language": "python",
   "name": "python3"
  },
  "language_info": {
   "codemirror_mode": {
    "name": "ipython",
    "version": 3
   },
   "file_extension": ".py",
   "mimetype": "text/x-python",
   "name": "python",
   "nbconvert_exporter": "python",
   "pygments_lexer": "ipython3",
   "version": "3.11.7"
  }
 },
 "nbformat": 4,
 "nbformat_minor": 2
}
