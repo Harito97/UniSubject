{
 "cells": [
  {
   "cell_type": "markdown",
   "metadata": {},
   "source": [
    "# Nội dung thực hành"
   ]
  },
  {
   "cell_type": "markdown",
   "metadata": {},
   "source": [
    "## 1. Google Colab là gì?"
   ]
  },
  {
   "cell_type": "markdown",
   "metadata": {},
   "source": [
    "Google Colab là một dịch vụ cung cấp môi trường máy tính mạnh mẽ và miễn phí dựa trên đám mây, cho phép người dùng chạy mã Python trong trình duyệt web mà không cần cài đặt bất kỳ phần mềm nào. Nó tích hợp sẵn với Google Drive, cho phép chia sẻ và làm việc cộng tác trên các notebook Jupyter. Được sử dụng rộng rãi trong việc phân tích dữ liệu, học máy, và nghiên cứu khoa học."
   ]
  },
  {
   "cell_type": "markdown",
   "metadata": {},
   "source": [
    "## 2. Google Colab hỗ trợ những ngôn ngữ lập trình nào?"
   ]
  },
  {
   "cell_type": "markdown",
   "metadata": {},
   "source": [
    "Python, R, Swift"
   ]
  },
  {
   "cell_type": "markdown",
   "metadata": {},
   "source": [
    "## 3. Có cần cài đặt phần mềm để sử dụng Google Colab không?"
   ]
  },
  {
   "cell_type": "markdown",
   "metadata": {},
   "source": [
    "Không, không cần cài đặt phần mềm nào để sử dụng Google Colab vì nó chạy trực tiếp trong trình duyệt web."
   ]
  },
  {
   "cell_type": "markdown",
   "metadata": {},
   "source": [
    "## 4. Tại sao nên sử dụng Google Colab?"
   ]
  },
  {
   "cell_type": "markdown",
   "metadata": {},
   "source": [
    "- Miễn phí và dễ truy cập: Google Colab cung cấp một môi trường phát triển có sẵn miễn phí, giúp bạn tiết kiệm chi phí và không cần lo lắng về việc cài đặt môi trường phát triển trên máy tính cá nhân.\n",
    "\n",
    "- Tích hợp với Google Drive: Bạn có thể lưu trữ, chia sẻ và làm việc cộng tác trên các notebook Colab một cách dễ dàng thông qua Google Drive.\n",
    "\n",
    "- Máy tính mạnh mẽ và linh hoạt: Colab cung cấp tài nguyên tính toán mạnh mẽ dựa trên đám mây, bao gồm cả GPU và TPU, cho phép bạn chạy các mô hình học máy phức tạp và xử lý dữ liệu lớn một cách hiệu quả.\n",
    "\n",
    "- Dễ dàng chia sẻ và cộng tác: Bạn có thể chia sẻ notebook Colab của mình với người khác một cách dễ dàng, làm việc cùng nhau trên cùng một tài liệu và xem các kết quả ngay lập tức.\n",
    "\n",
    "- Hỗ trợ các ngôn ngữ lập trình phổ biến: Ngoài Python, Colab cũng hỗ trợ R và Swift, giúp bạn linh hoạt trong việc sử dụng các ngôn ngữ khác nhau cho các dự án khác nhau.\n",
    "\n",
    "- Khả năng tương tác cao: Với notebook Jupyter tích hợp trong Colab, bạn có thể tạo và thực thi mã từng phần một, kết hợp mã, văn bản và hình ảnh một cách linh hoạt và tương tác."
   ]
  },
  {
   "cell_type": "markdown",
   "metadata": {},
   "source": [
    "## 5. Sử dụng Google Colab để làm các ví dụ!"
   ]
  },
  {
   "cell_type": "code",
   "execution_count": null,
   "metadata": {},
   "outputs": [],
   "source": [
    "!pip install google"
   ]
  },
  {
   "cell_type": "code",
   "execution_count": null,
   "metadata": {},
   "outputs": [],
   "source": [
    "from google.colab import drive\n",
    "# drive.mount('/content/drive')\n",
    "drive.mount('~/google_drive')\n",
    "!mkdir ~/google_drive/MyDrive/dataset_for_colab"
   ]
  }
 ],
 "metadata": {
  "kernelspec": {
   "display_name": "py",
   "language": "python",
   "name": "python3"
  },
  "language_info": {
   "codemirror_mode": {
    "name": "ipython",
    "version": 3
   },
   "file_extension": ".py",
   "mimetype": "text/x-python",
   "name": "python",
   "nbconvert_exporter": "python",
   "pygments_lexer": "ipython3",
   "version": "3.11.6"
  }
 },
 "nbformat": 4,
 "nbformat_minor": 2
}
