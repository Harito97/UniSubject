{
 "cells": [
  {
   "cell_type": "markdown",
   "metadata": {},
   "source": [
    "# Activity: Homework"
   ]
  },
  {
   "cell_type": "markdown",
   "metadata": {},
   "source": [
    "1. Hãy viết một đoạn mã Python để chèn một bản ghi mới vào một collection có tên là\n",
    "\"students\". Khởi tạo 10 bản ghi (Document) bao gồm các trường thông tin \"name\",\n",
    "\"age\", và \"major\""
   ]
  },
  {
   "cell_type": "code",
   "execution_count": 18,
   "metadata": {},
   "outputs": [],
   "source": [
    "# Import library\n",
    "import pymongo\n",
    "from bson import ObjectId\n",
    "# Connect to MongoDB Server\n",
    "myclinet = pymongo.MongoClient(\"mongodb://localhost:27017/\")\n",
    "# Create database\n",
    "mydb = myclinet[\"homework_lap9\"]\n",
    "# Create collection\n",
    "mycol = mydb[\"students\"]"
   ]
  },
  {
   "cell_type": "code",
   "execution_count": 19,
   "metadata": {},
   "outputs": [
    {
     "name": "stdout",
     "output_type": "stream",
     "text": [
      "['admin', 'config', 'homework_lap9', 'local', 'test']\n"
     ]
    }
   ],
   "source": [
    "# List all the database on MongoDB Server\n",
    "print(myclinet.list_database_names())"
   ]
  },
  {
   "cell_type": "code",
   "execution_count": 20,
   "metadata": {},
   "outputs": [
    {
     "name": "stdout",
     "output_type": "stream",
     "text": [
      "[ObjectId('657023ce687b99d060a47a7a'), ObjectId('657023ce687b99d060a47a7b'), ObjectId('657023ce687b99d060a47a7c'), ObjectId('657023ce687b99d060a47a7d'), ObjectId('657023ce687b99d060a47a7e'), ObjectId('657023ce687b99d060a47a7f'), ObjectId('657023ce687b99d060a47a80'), ObjectId('657023ce687b99d060a47a81'), ObjectId('657023ce687b99d060a47a82'), ObjectId('657023ce687b99d060a47a83')]\n",
      "{'_id': ObjectId('65701f46687b99d060a47a65'), 'name': 'Harito_0', 'age': 20, 'major': 'KHDL'}\n",
      "{'_id': ObjectId('65701f46687b99d060a47a66'), 'name': 'Harito_1', 'age': 21, 'major': 'KHMT&TT'}\n",
      "{'_id': ObjectId('65701f46687b99d060a47a67'), 'name': 'Harito_2', 'age': 20, 'major': 'KHDL'}\n",
      "{'_id': ObjectId('65701f46687b99d060a47a68'), 'name': 'Harito_3', 'age': 20, 'major': 'KHDL'}\n",
      "{'_id': ObjectId('65701f46687b99d060a47a69'), 'name': 'Harito_4', 'age': 20, 'major': 'KHDL'}\n",
      "{'_id': ObjectId('65701f46687b99d060a47a6b'), 'name': 'Harito_6', 'age': 20, 'major': 'KHDL'}\n",
      "{'_id': ObjectId('65701f46687b99d060a47a6c'), 'name': 'Harito_7', 'age': 20, 'major': 'KHDL'}\n",
      "{'_id': ObjectId('65701f46687b99d060a47a6d'), 'name': 'Harito_8', 'age': 20, 'major': 'KHDL'}\n",
      "{'_id': ObjectId('65701f58687b99d060a47a6f'), 'name': 'Harito_0', 'age': 20, 'major': 'KHDL'}\n",
      "{'_id': ObjectId('65701f58687b99d060a47a70'), 'name': 'Harito_1', 'age': 20, 'major': 'KHDL'}\n",
      "{'_id': ObjectId('65701f58687b99d060a47a71'), 'name': 'Harito_2', 'age': 20, 'major': 'KHDL'}\n",
      "{'_id': ObjectId('65701f58687b99d060a47a72'), 'name': 'Harito_3', 'age': 20, 'major': 'KHDL'}\n",
      "{'_id': ObjectId('65701f58687b99d060a47a73'), 'name': 'Harito_4', 'age': 20, 'major': 'KHDL'}\n",
      "{'_id': ObjectId('65701f58687b99d060a47a75'), 'name': 'Harito_6', 'age': 20, 'major': 'KHDL'}\n",
      "{'_id': ObjectId('65701f58687b99d060a47a76'), 'name': 'Harito_7', 'age': 20, 'major': 'KHDL'}\n",
      "{'_id': ObjectId('65701f58687b99d060a47a77'), 'name': 'Harito_8', 'age': 20, 'major': 'KHDL'}\n",
      "{'_id': ObjectId('657023ce687b99d060a47a7a'), 'name': 'Harito_0', 'age': 20, 'major': 'KHDL'}\n",
      "{'_id': ObjectId('657023ce687b99d060a47a7b'), 'name': 'Harito_1', 'age': 20, 'major': 'KHDL'}\n",
      "{'_id': ObjectId('657023ce687b99d060a47a7c'), 'name': 'Harito_2', 'age': 20, 'major': 'KHDL'}\n",
      "{'_id': ObjectId('657023ce687b99d060a47a7d'), 'name': 'Harito_3', 'age': 20, 'major': 'KHDL'}\n",
      "{'_id': ObjectId('657023ce687b99d060a47a7e'), 'name': 'Harito_4', 'age': 20, 'major': 'KHDL'}\n",
      "{'_id': ObjectId('657023ce687b99d060a47a7f'), 'name': 'Harito_5', 'age': 20, 'major': 'KHDL'}\n",
      "{'_id': ObjectId('657023ce687b99d060a47a80'), 'name': 'Harito_6', 'age': 20, 'major': 'KHDL'}\n",
      "{'_id': ObjectId('657023ce687b99d060a47a81'), 'name': 'Harito_7', 'age': 20, 'major': 'KHDL'}\n",
      "{'_id': ObjectId('657023ce687b99d060a47a82'), 'name': 'Harito_8', 'age': 20, 'major': 'KHDL'}\n",
      "{'_id': ObjectId('657023ce687b99d060a47a83'), 'name': 'Harito_9', 'age': 20, 'major': 'KHDL'}\n"
     ]
    }
   ],
   "source": [
    "# Insert the data\n",
    "mydict = [{\"name\": \"Harito_0\", \"age\": 20, \"major\": \"KHDL\"},\n",
    "          {\"name\": \"Harito_1\", \"age\": 20, \"major\": \"KHDL\"},\n",
    "          {\"name\": \"Harito_2\", \"age\": 20, \"major\": \"KHDL\"},\n",
    "          {\"name\": \"Harito_3\", \"age\": 20, \"major\": \"KHDL\"},\n",
    "          {\"name\": \"Harito_4\", \"age\": 20, \"major\": \"KHDL\"},\n",
    "          {\"name\": \"Harito_5\", \"age\": 20, \"major\": \"KHDL\"},\n",
    "          {\"name\": \"Harito_6\", \"age\": 20, \"major\": \"KHDL\"},\n",
    "          {\"name\": \"Harito_7\", \"age\": 20, \"major\": \"KHDL\"},\n",
    "          {\"name\": \"Harito_8\", \"age\": 20, \"major\": \"KHDL\"},\n",
    "          {\"name\": \"Harito_9\", \"age\": 20, \"major\": \"KHDL\"}\n",
    "          ]\n",
    "x = mycol.insert_many(mydict)\n",
    "\n",
    "# See the data\n",
    "print(x.inserted_ids)\n",
    "\n",
    "for x in mycol.find():\n",
    "    print(x)"
   ]
  },
  {
   "cell_type": "markdown",
   "metadata": {},
   "source": [
    "2. Hãy viết một đoạn mã để cập nhật thông tin của sinh viên có tên là \"student1\" trong\n",
    "collection \"students\". Bạn có thể cập nhật bất kỳ trường nào bạn muốn, ví dụ: thay đổi\n",
    "age hoặc major."
   ]
  },
  {
   "cell_type": "code",
   "execution_count": 21,
   "metadata": {},
   "outputs": [
    {
     "name": "stdout",
     "output_type": "stream",
     "text": [
      "{'_id': ObjectId('65701f46687b99d060a47a65'), 'name': 'Harito_0', 'age': 20, 'major': 'KHDL'}\n",
      "{'_id': ObjectId('65701f46687b99d060a47a66'), 'name': 'Harito_1', 'age': 21, 'major': 'KHMT&TT'}\n",
      "{'_id': ObjectId('65701f46687b99d060a47a67'), 'name': 'Harito_2', 'age': 20, 'major': 'KHDL'}\n",
      "{'_id': ObjectId('65701f46687b99d060a47a68'), 'name': 'Harito_3', 'age': 20, 'major': 'KHDL'}\n",
      "{'_id': ObjectId('65701f46687b99d060a47a69'), 'name': 'Harito_4', 'age': 20, 'major': 'KHDL'}\n",
      "{'_id': ObjectId('65701f46687b99d060a47a6b'), 'name': 'Harito_6', 'age': 20, 'major': 'KHDL'}\n",
      "{'_id': ObjectId('65701f46687b99d060a47a6c'), 'name': 'Harito_7', 'age': 20, 'major': 'KHDL'}\n",
      "{'_id': ObjectId('65701f46687b99d060a47a6d'), 'name': 'Harito_8', 'age': 20, 'major': 'KHDL'}\n",
      "{'_id': ObjectId('65701f58687b99d060a47a6f'), 'name': 'Harito_0', 'age': 20, 'major': 'KHDL'}\n",
      "{'_id': ObjectId('65701f58687b99d060a47a70'), 'name': 'Harito_1', 'age': 20, 'major': 'KHDL'}\n",
      "{'_id': ObjectId('65701f58687b99d060a47a71'), 'name': 'Harito_2', 'age': 20, 'major': 'KHDL'}\n",
      "{'_id': ObjectId('65701f58687b99d060a47a72'), 'name': 'Harito_3', 'age': 20, 'major': 'KHDL'}\n",
      "{'_id': ObjectId('65701f58687b99d060a47a73'), 'name': 'Harito_4', 'age': 20, 'major': 'KHDL'}\n",
      "{'_id': ObjectId('65701f58687b99d060a47a75'), 'name': 'Harito_6', 'age': 20, 'major': 'KHDL'}\n",
      "{'_id': ObjectId('65701f58687b99d060a47a76'), 'name': 'Harito_7', 'age': 20, 'major': 'KHDL'}\n",
      "{'_id': ObjectId('65701f58687b99d060a47a77'), 'name': 'Harito_8', 'age': 20, 'major': 'KHDL'}\n",
      "{'_id': ObjectId('657023ce687b99d060a47a7a'), 'name': 'Harito_0', 'age': 20, 'major': 'KHDL'}\n",
      "{'_id': ObjectId('657023ce687b99d060a47a7b'), 'name': 'Harito_1', 'age': 20, 'major': 'KHDL'}\n",
      "{'_id': ObjectId('657023ce687b99d060a47a7c'), 'name': 'Harito_2', 'age': 20, 'major': 'KHDL'}\n",
      "{'_id': ObjectId('657023ce687b99d060a47a7d'), 'name': 'Harito_3', 'age': 20, 'major': 'KHDL'}\n",
      "{'_id': ObjectId('657023ce687b99d060a47a7e'), 'name': 'Harito_4', 'age': 20, 'major': 'KHDL'}\n",
      "{'_id': ObjectId('657023ce687b99d060a47a7f'), 'name': 'Harito_5', 'age': 20, 'major': 'KHDL'}\n",
      "{'_id': ObjectId('657023ce687b99d060a47a80'), 'name': 'Harito_6', 'age': 20, 'major': 'KHDL'}\n",
      "{'_id': ObjectId('657023ce687b99d060a47a81'), 'name': 'Harito_7', 'age': 20, 'major': 'KHDL'}\n",
      "{'_id': ObjectId('657023ce687b99d060a47a82'), 'name': 'Harito_8', 'age': 20, 'major': 'KHDL'}\n",
      "{'_id': ObjectId('657023ce687b99d060a47a83'), 'name': 'Harito_9', 'age': 20, 'major': 'KHDL'}\n"
     ]
    }
   ],
   "source": [
    "myquery = {\"name\": \"Harito_1\"}\n",
    "newvalues = {\"$set\": {\"age\": 21, \"major\": \"KHMT&TT\"}}\n",
    "\n",
    "mycol.update_one(myquery, newvalues)\n",
    "\n",
    "# See the result\n",
    "for x in mycol.find():\n",
    "    print(x)"
   ]
  },
  {
   "cell_type": "markdown",
   "metadata": {},
   "source": [
    "3. Tạo một đoạn mã để xóa sinh viên có tên là \"student5\" và \"student9\" khỏi collection\n",
    "\"students\"."
   ]
  },
  {
   "cell_type": "code",
   "execution_count": 22,
   "metadata": {},
   "outputs": [
    {
     "name": "stdout",
     "output_type": "stream",
     "text": [
      "{'_id': ObjectId('65701f46687b99d060a47a65'), 'name': 'Harito_0', 'age': 20, 'major': 'KHDL'}\n",
      "{'_id': ObjectId('65701f46687b99d060a47a66'), 'name': 'Harito_1', 'age': 21, 'major': 'KHMT&TT'}\n",
      "{'_id': ObjectId('65701f46687b99d060a47a67'), 'name': 'Harito_2', 'age': 20, 'major': 'KHDL'}\n",
      "{'_id': ObjectId('65701f46687b99d060a47a68'), 'name': 'Harito_3', 'age': 20, 'major': 'KHDL'}\n",
      "{'_id': ObjectId('65701f46687b99d060a47a69'), 'name': 'Harito_4', 'age': 20, 'major': 'KHDL'}\n",
      "{'_id': ObjectId('65701f46687b99d060a47a6b'), 'name': 'Harito_6', 'age': 20, 'major': 'KHDL'}\n",
      "{'_id': ObjectId('65701f46687b99d060a47a6c'), 'name': 'Harito_7', 'age': 20, 'major': 'KHDL'}\n",
      "{'_id': ObjectId('65701f46687b99d060a47a6d'), 'name': 'Harito_8', 'age': 20, 'major': 'KHDL'}\n",
      "{'_id': ObjectId('65701f58687b99d060a47a6f'), 'name': 'Harito_0', 'age': 20, 'major': 'KHDL'}\n",
      "{'_id': ObjectId('65701f58687b99d060a47a70'), 'name': 'Harito_1', 'age': 20, 'major': 'KHDL'}\n",
      "{'_id': ObjectId('65701f58687b99d060a47a71'), 'name': 'Harito_2', 'age': 20, 'major': 'KHDL'}\n",
      "{'_id': ObjectId('65701f58687b99d060a47a72'), 'name': 'Harito_3', 'age': 20, 'major': 'KHDL'}\n",
      "{'_id': ObjectId('65701f58687b99d060a47a73'), 'name': 'Harito_4', 'age': 20, 'major': 'KHDL'}\n",
      "{'_id': ObjectId('65701f58687b99d060a47a75'), 'name': 'Harito_6', 'age': 20, 'major': 'KHDL'}\n",
      "{'_id': ObjectId('65701f58687b99d060a47a76'), 'name': 'Harito_7', 'age': 20, 'major': 'KHDL'}\n",
      "{'_id': ObjectId('65701f58687b99d060a47a77'), 'name': 'Harito_8', 'age': 20, 'major': 'KHDL'}\n",
      "{'_id': ObjectId('657023ce687b99d060a47a7a'), 'name': 'Harito_0', 'age': 20, 'major': 'KHDL'}\n",
      "{'_id': ObjectId('657023ce687b99d060a47a7b'), 'name': 'Harito_1', 'age': 20, 'major': 'KHDL'}\n",
      "{'_id': ObjectId('657023ce687b99d060a47a7c'), 'name': 'Harito_2', 'age': 20, 'major': 'KHDL'}\n",
      "{'_id': ObjectId('657023ce687b99d060a47a7d'), 'name': 'Harito_3', 'age': 20, 'major': 'KHDL'}\n",
      "{'_id': ObjectId('657023ce687b99d060a47a7e'), 'name': 'Harito_4', 'age': 20, 'major': 'KHDL'}\n",
      "{'_id': ObjectId('657023ce687b99d060a47a80'), 'name': 'Harito_6', 'age': 20, 'major': 'KHDL'}\n",
      "{'_id': ObjectId('657023ce687b99d060a47a81'), 'name': 'Harito_7', 'age': 20, 'major': 'KHDL'}\n",
      "{'_id': ObjectId('657023ce687b99d060a47a82'), 'name': 'Harito_8', 'age': 20, 'major': 'KHDL'}\n"
     ]
    }
   ],
   "source": [
    "myquery = [{'name': 'Harito_5'}, {'name': 'Harito_9'}]\n",
    "for query in myquery:\n",
    "    x = mycol.delete_one(query)\n",
    "\n",
    "# See the result\n",
    "for x in mycol.find():\n",
    "    print(x)"
   ]
  },
  {
   "cell_type": "markdown",
   "metadata": {},
   "source": [
    "4. Viết một câu truy vấn để tìm một sinh viên bằng tên (ví dụ: \"student4\") trong collection\n",
    "\"students\" và hiển thị thông tin của sinh viên đó."
   ]
  },
  {
   "cell_type": "code",
   "execution_count": 23,
   "metadata": {},
   "outputs": [
    {
     "name": "stdout",
     "output_type": "stream",
     "text": [
      "{'name': 'Harito_4', 'age': 20, 'major': 'KHDL'}\n"
     ]
    }
   ],
   "source": [
    "result = mycol.find_one({'name': 'Harito_4'}, {\"_id\": 0, \"name\": 1, \"age\": 1, \"major\": 1})\n",
    "\n",
    "print(result)"
   ]
  },
  {
   "cell_type": "markdown",
   "metadata": {},
   "source": [
    "5. Hãy viết một đoạn mã để tìm tất cả sinh viên có độ tuổi lớn hơn 20 và sắp xếp kết quả\n",
    "theo tên tăng dần. Đồng thời, giới hạn kết quả chỉ hiển thị 5 sinh viên đầu tiên."
   ]
  },
  {
   "cell_type": "code",
   "execution_count": 24,
   "metadata": {},
   "outputs": [
    {
     "name": "stdout",
     "output_type": "stream",
     "text": [
      "{'name': 'Harito_1', 'age': 21, 'major': 'KHMT&TT'}\n"
     ]
    }
   ],
   "source": [
    "result = mycol.find({'age': {'$gt': 20}}, {\"_id\": 0, \"name\": 1, \"age\": 1, \"major\": 1}).sort('age').limit(5)\n",
    "\n",
    "for x in result:\n",
    "    print(x)"
   ]
  }
 ],
 "metadata": {
  "kernelspec": {
   "display_name": "py",
   "language": "python",
   "name": "python3"
  },
  "language_info": {
   "codemirror_mode": {
    "name": "ipython",
    "version": 3
   },
   "file_extension": ".py",
   "mimetype": "text/x-python",
   "name": "python",
   "nbconvert_exporter": "python",
   "pygments_lexer": "ipython3",
   "version": "3.11.6"
  }
 },
 "nbformat": 4,
 "nbformat_minor": 2
}
