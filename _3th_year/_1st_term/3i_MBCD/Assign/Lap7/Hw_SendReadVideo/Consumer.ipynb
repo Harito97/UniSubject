{
 "cells": [
  {
   "cell_type": "code",
   "execution_count": 1,
   "metadata": {},
   "outputs": [],
   "source": [
    "# Import thư viện \n",
    "import cv2\n",
    "import numpy as np\n",
    "from kafka import KafkaConsumer"
   ]
  },
  {
   "cell_type": "code",
   "execution_count": 2,
   "metadata": {},
   "outputs": [],
   "source": [
    "# Khởi tạo consumer\n",
    "bootstrap_servers = 'localhost:9092'\n",
    "topic = 'video_frames'\n",
    "consumer = KafkaConsumer(topic, bootstrap_servers=bootstrap_servers)"
   ]
  },
  {
   "cell_type": "code",
   "execution_count": 3,
   "metadata": {},
   "outputs": [
    {
     "name": "stderr",
     "output_type": "stream",
     "text": [
      "qt.qpa.plugin: Could not find the Qt platform plugin \"wayland\" in \"/home/harito/venv/py/lib/python3.11/site-packages/cv2/qt/plugins\"\n"
     ]
    }
   ],
   "source": [
    "# Tạo cửa số nhờ OpenCV để hiện thị các frame ảnh\n",
    "cv2.namedWindow('Video', cv2.WINDOW_NORMAL)\n",
    "\n",
    "for msg in consumer:\n",
    "    img_bytes = msg.value\n",
    "\n",
    "    # Convert bytes to image\n",
    "    nparr = np.frombuffer(img_bytes, dtype=np.uint8)\n",
    "    frame = cv2.imdecode(nparr, cv2.IMREAD_COLOR)\n",
    "\n",
    "    # Display frame\n",
    "    cv2.imshow('Video', frame)\n",
    "    if cv2.waitKey(1) & 0xFF == ord('q'):\n",
    "        break\n",
    "\n",
    "cv2.destroyAllWindows()"
   ]
  }
 ],
 "metadata": {
  "kernelspec": {
   "display_name": "pyvirenv",
   "language": "python",
   "name": "python3"
  },
  "language_info": {
   "codemirror_mode": {
    "name": "ipython",
    "version": 3
   },
   "file_extension": ".py",
   "mimetype": "text/x-python",
   "name": "python",
   "nbconvert_exporter": "python",
   "pygments_lexer": "ipython3",
   "version": "3.11.6"
  }
 },
 "nbformat": 4,
 "nbformat_minor": 2
}
