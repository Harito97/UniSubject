{
 "cells": [
  {
   "cell_type": "code",
   "execution_count": null,
   "metadata": {},
   "outputs": [],
   "source": [
    "# Import các thư viện \n",
    "import cv2\n",
    "from kafka import KafkaProducer"
   ]
  },
  {
   "cell_type": "code",
   "execution_count": 2,
   "metadata": {},
   "outputs": [],
   "source": [
    "# Khởi tạo producer\n",
    "bootstrap_servers = 'localhost:9092'\n",
    "topic = 'video_frames'\n",
    "producer = KafkaProducer(bootstrap_servers=bootstrap_servers)"
   ]
  },
  {
   "cell_type": "code",
   "execution_count": 3,
   "metadata": {},
   "outputs": [],
   "source": [
    "# Dùng OpenCV để phân tách các frame ảnh \n",
    "video_path = 'VideoSend_0.mkv'\n",
    "cap = cv2.VideoCapture(video_path)\n",
    "\n",
    "while True:\n",
    "    ret, frame = cap.read()\n",
    "    if not ret:\n",
    "        break\n",
    "\n",
    "    # Chuyển frame ảnh thành kiểu byte (đảm bảo đúng kiểu dữ liệu tham số đầu vào)\n",
    "    _, img_encoded = cv2.imencode('.png', frame)\n",
    "    img_bytes = img_encoded.tobytes()\n",
    "\n",
    "    # Dùng producer send ảnh đến topic Kafka\n",
    "    producer.send(topic, value=img_bytes)\n",
    "\n",
    "cap.release()"
   ]
  }
 ],
 "metadata": {
  "kernelspec": {
   "display_name": "pyvirenv",
   "language": "python",
   "name": "python3"
  },
  "language_info": {
   "codemirror_mode": {
    "name": "ipython",
    "version": 3
   },
   "file_extension": ".py",
   "mimetype": "text/x-python",
   "name": "python",
   "nbconvert_exporter": "python",
   "pygments_lexer": "ipython3",
   "version": "3.11.6"
  }
 },
 "nbformat": 4,
 "nbformat_minor": 2
}
