{
 "cells": [
  {
   "cell_type": "markdown",
   "metadata": {},
   "source": [
    "##2.4\n",
    "\n",
    "Viết chương trình nhập vào ma trận từ bàn phím, kiểm tra xem ma trận có phải là ma phương hay không?\n",
    "Ma trận ma phương là ma trận có tổng các hàng, các cột và các đường chéo bằng nhau.\n",
    "\n",
    " Hàm isMagicSquare là hàm kiểm tra tính chất ma phương của một ma trận\n",
    "\n",
    " Hàm inputMatrix() thực hiện việc nhập và trả lại một ma trận (mảng 2 chiều)  các số nguyên.\n",
    "+ Mỗi hàng của ma trận được nhập trên 1 dòng, mỗi số cách nhau bởi 1 dấu tab ('\\t')\n",
    "+ Việc nhập kết thúc khi gặp dòng trống\n",
    "\n"
   ]
  },
  {
   "cell_type": "code",
   "execution_count": 3,
   "metadata": {},
   "outputs": [],
   "source": [
    "def isMagicSquare(m):\n",
    "    if len(m) != len(m[0]):\n",
    "        # Nếu số hàng không bằng số cột\n",
    "        return False\n",
    "    \n",
    "    n = len(m)\n",
    "    target_sum = sum(m[0])  # Tổng mục tiêu, sẽ được so sánh với tổng các hàng, cột và đường chéo\n",
    "    \n",
    "    # Kiểm tra tổng đường chéo chính\n",
    "    diagonal_sum = sum(m[i][i] for i in range(n))\n",
    "    if diagonal_sum != target_sum:\n",
    "        return False\n",
    "    \n",
    "    # Kiểm tra tổng đường chéo phụ\n",
    "    reverse_diagonal_sum = sum(m[i][n-i-1] for i in range(n))\n",
    "    if reverse_diagonal_sum != target_sum:\n",
    "        return False\n",
    "    \n",
    "    # Kiểm tra tổng các hàng và cột\n",
    "    for i in range(n):\n",
    "        row_sum = sum(m[i])\n",
    "        col_sum = sum(m[j][i] for j in range(n))\n",
    "        if row_sum != target_sum or col_sum != target_sum:\n",
    "            return False\n",
    "    \n",
    "    return True\n",
    "\n",
    "def inputMatrix():\n",
    "    m = []\n",
    "    while True:\n",
    "        row = input().strip()\n",
    "        if row == \"\":\n",
    "            break\n",
    "        numbers = row.split(\"\\t\")\n",
    "        row_numbers = [int(num) for num in numbers]\n",
    "        m.append(row_numbers)\n",
    "    return m"
   ]
  },
  {
   "cell_type": "markdown",
   "metadata": {},
   "source": [
    "##2.5\n",
    "\n",
    "Nhập vào một danh sách gồm Họ tên từ bàn phím\n",
    "\n",
    "Viết hàm tách tên và họ đệm từ một chuỗi họ tên, sắp xếp danh sách  họ tên theo tên, nếu tên trùng nhau thì sắp theo họ đệm.\n",
    "\n",
    "> Hàm inputList() thực hiện việc nhập và trả lại danh sách họ tên từ bàn phím, mỗi chuỗi họ tên trên 1 dòng, việc nhập kết thúc khi gặp dòng trống\n",
    "\n",
    "> Hàm getName(s) trả lại bộ gồm 2 chuỗi tương ứng là họ đệm và tên từ chuỗi s\n",
    "> Hàm sortNamesList(names) thực hiện sắp xếp danh sách  họ tên names theo tên, nếu tên trùng nhau thì sắp theo họ đệm, kết quả trả về một danh sách đã được sắp xếp theo Tên, họ đệm.\n",
    "\n",
    "Sinh viên tham khảo bài viết Sắp xếp tiếng Việt (https://pymi.vn) để biết cách sắp xếp xâu unicode theo ngôn ngữ.\n",
    "\n",
    "Trong requested file   NamesSort.py đã đặt locale cho tiếng Việt.\n",
    "\n",
    "Sử dụng phương thức locale.strxfrm(s) để lấy chuỗi theo đúng thứ tự trong ngôn ngữ để so sánh.\n",
    "\n",
    ">>> help(locale.strxfrm)\n",
    "\n",
    "Help on built-in function strxfrm in module _locale:\n",
    "\n",
    "strxfrm(...)\n",
    "\n",
    "    strxfrm(string) -> string.\n",
    "\n",
    "    Return a string that can be used as a key for locale-aware comparisons."
   ]
  },
  {
   "cell_type": "code",
   "execution_count": 6,
   "metadata": {},
   "outputs": [
    {
     "name": "stdout",
     "output_type": "stream",
     "text": [
      "[['Trần', 'Đại', 'Nghĩa'], ['Hoàng', 'Huy', 'Hoàng'], ['Triệu', 'Duy', 'Tân'], ['Nguyễn', 'Duy', 'Mạnh'], ['Nguyễn', 'Hoài', 'Bảo']]\n"
     ]
    }
   ],
   "source": [
    "# -*- coding: utf-8 -*-\n",
    "import locale\n",
    "\n",
    "locale.setlocale(locale.LC_ALL, 'vi_VN')\n",
    "\n",
    "def inputList():\n",
    "    names = []\n",
    "    while True:\n",
    "        name = input()\n",
    "        if name == \"\":\n",
    "            break\n",
    "        names.append(name.split(\" \"))\n",
    "    return names\n",
    "    \n",
    "def getName(s):\n",
    "    lname = s[len(s) - 1]\n",
    "    fname = s[0]\n",
    "    return (lname, fname)\n",
    "    \n",
    "def sortNamesList(names):\n",
    "    namesSorted = []\n",
    "    for i in range(len(names) - 1):\n",
    "        name_tuple1 = getName(names[i])\n",
    "        for j in range(i, len(names)):\n",
    "            name_tuple2 = getName(names[j])\n",
    "        compare = locale.strcoll(name_tuple1[0], name_tuple2[0])\n",
    "        if compare > 0:\n",
    "            swap(names[i], names[j])\n",
    "        elif compare == 0:\n",
    "            compare_lastname = locale.strcoll(name_tuple1[1], name_tuple2[1])\n",
    "            if compare_lastname > 0:\n",
    "                swap(names[i], names[j])\n",
    "    namesSorted = names\n",
    "    return namesSorted\n",
    "    \n",
    "def swap(a, b):\n",
    "    temp = a\n",
    "    a = b\n",
    "    b = temp\n",
    "\n",
    "names = inputList()\n",
    "print(sortNamesList(names))"
   ]
  }
 ],
 "metadata": {
  "kernelspec": {
   "display_name": "Python 3",
   "language": "python",
   "name": "python3"
  },
  "language_info": {
   "codemirror_mode": {
    "name": "ipython",
    "version": 3
   },
   "file_extension": ".py",
   "mimetype": "text/x-python",
   "name": "python",
   "nbconvert_exporter": "python",
   "pygments_lexer": "ipython3",
   "version": "3.11.4"
  },
  "orig_nbformat": 4
 },
 "nbformat": 4,
 "nbformat_minor": 2
}
