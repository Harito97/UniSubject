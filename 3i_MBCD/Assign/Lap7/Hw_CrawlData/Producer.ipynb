{
 "cells": [
  {
   "cell_type": "code",
   "execution_count": 1,
   "metadata": {},
   "outputs": [],
   "source": [
    "# %pip install requests\n",
    "# %pip install beautifulsoup4"
   ]
  },
  {
   "cell_type": "code",
   "execution_count": 8,
   "metadata": {},
   "outputs": [],
   "source": [
    "# Khởi tạo Producer\n",
    "from kafka import KafkaProducer\n",
    "from time import sleep \n",
    "import json\n",
    "\n",
    "producer = KafkaProducer(bootstrap_servers = ['localhost:9092'], api_version = (0,10,1))"
   ]
  },
  {
   "cell_type": "code",
   "execution_count": 6,
   "metadata": {},
   "outputs": [],
   "source": [
    "# Import \n",
    "import requests\n",
    "from bs4 import BeautifulSoup"
   ]
  },
  {
   "cell_type": "code",
   "execution_count": 21,
   "metadata": {},
   "outputs": [],
   "source": [
    "url = \"https://vnexpress.net/apple-ra-mat-iphone-14-4508267.html\"\n",
    "\n",
    "# Gửi yêu cầu GET đến trang web\n",
    "response = requests.get(url)\n",
    "\n",
    "# Kiểm tra xem yêu cầu có thành công hay không (status code 200 là thành công)\n",
    "if response.status_code == 200:\n",
    "    # Sử dụng BeautifulSoup để phân tích nội dung trang web\n",
    "    soup = BeautifulSoup(response.content, 'html.parser')\n",
    "\n",
    "    # Lấy nội dung trong thẻ <title>\n",
    "    title_tag = soup.find('title')\n",
    "\n",
    "    # Kiểm tra xem thẻ <title> có tồn tại hay không trước khi lấy nội dung\n",
    "    if title_tag:\n",
    "        title = title_tag.text\n",
    "        title_bytes = str(title).encode('utf-8')\n",
    "        producer.send('crawl_data_web', title_bytes)\n",
    "        # print(\"Tiêu đề:\", title)\n",
    "    else:\n",
    "        print(\"Không tìm thấy thẻ <title> trên trang web.\")\n",
    "\n",
    "    # Lấy tất cả các thẻ <a> trên trang web\n",
    "    all_a_tags = soup.find_all('a')\n",
    "\n",
    "    # Kiểm tra xem thẻ <a> có tồn tại hay không trước khi lấy nội dung\n",
    "    if all_a_tags:\n",
    "        for a_tag in all_a_tags:\n",
    "            a_text = a_tag.text\n",
    "            a_bytes = str(a_text).strip().replace(\"\\n\", \"\").encode('utf-8')\n",
    "            producer.send('crawl_data_web', a_bytes)\n",
    "    else:\n",
    "        print(\"Không tìm thấy thẻ <a> trên trang web.\")\n",
    "\n",
    "else:\n",
    "    print(\"Không thể kết nối đến trang web. Mã trạng thái:\", response.status_code)\n",
    "\n"
   ]
  }
 ],
 "metadata": {
  "kernelspec": {
   "display_name": "pyvirenv",
   "language": "python",
   "name": "python3"
  },
  "language_info": {
   "codemirror_mode": {
    "name": "ipython",
    "version": 3
   },
   "file_extension": ".py",
   "mimetype": "text/x-python",
   "name": "python",
   "nbconvert_exporter": "python",
   "pygments_lexer": "ipython3",
   "version": "3.11.5"
  }
 },
 "nbformat": 4,
 "nbformat_minor": 2
}
