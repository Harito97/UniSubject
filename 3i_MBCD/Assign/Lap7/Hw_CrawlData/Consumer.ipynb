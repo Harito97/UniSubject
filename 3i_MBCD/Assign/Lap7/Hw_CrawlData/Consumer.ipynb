{
 "cells": [
  {
   "cell_type": "code",
   "execution_count": 1,
   "metadata": {},
   "outputs": [],
   "source": [
    "# Khai báo thư viện sử dụng\n",
    "from kafka import KafkaConsumer \n",
    "from time import sleep\n",
    "import json \n",
    "from json import loads"
   ]
  },
  {
   "cell_type": "code",
   "execution_count": 2,
   "metadata": {},
   "outputs": [],
   "source": [
    "consumer = KafkaConsumer('crawl_data_web', bootstrap_servers = ['localhost:9092'], api_version = (0,10))"
   ]
  },
  {
   "cell_type": "code",
   "execution_count": 3,
   "metadata": {},
   "outputs": [
    {
     "name": "stdout",
     "output_type": "stream",
     "text": [
      "Apple ra mắt iPhone 14\n",
      "Số hóa\n",
      "Danh mục\n",
      "VnExpress\n",
      "iPhone 14 tại Việt Nam\n",
      "Người Việt chuộng iPhone 14\n",
      "Giá bán\n",
      "Đánh giá\n",
      "Số hóa\n",
      "Sản phẩm\n",
      "Thiết bị\n",
      "Copy link thành công\n",
      "Chi tiết\n",
      "Tổng thuật\n",
      "Mới nhất\n",
      "Cũ nhất\n",
      "iPhone 14 dự kiến có giá cao nhất 50 triệu đồng\n",
      "Trở lại Số hóaTrở lại Số hóa\n",
      "Copy link thành công\n",
      "Ý kiến\n",
      "Nội dung chính\n"
     ]
    }
   ],
   "source": [
    "for mess in consumer:\n",
    "    result = mess.value.decode('utf-8')\n",
    "    # Xử lý khoảng trắng thừa - thẻ <a> chứa nội dung thừa \n",
    "    if result != '':\n",
    "        print(result)"
   ]
  }
 ],
 "metadata": {
  "kernelspec": {
   "display_name": "pyvirenv",
   "language": "python",
   "name": "python3"
  },
  "language_info": {
   "codemirror_mode": {
    "name": "ipython",
    "version": 3
   },
   "file_extension": ".py",
   "mimetype": "text/x-python",
   "name": "python",
   "nbconvert_exporter": "python",
   "pygments_lexer": "ipython3",
   "version": "3.11.5"
  }
 },
 "nbformat": 4,
 "nbformat_minor": 2
}
