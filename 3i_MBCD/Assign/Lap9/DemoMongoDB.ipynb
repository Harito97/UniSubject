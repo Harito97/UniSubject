{
 "cells": [
  {
   "cell_type": "markdown",
   "metadata": {},
   "source": [
    "# Activity 1: Intro Pymongo"
   ]
  },
  {
   "cell_type": "code",
   "execution_count": 1,
   "metadata": {},
   "outputs": [],
   "source": [
    "# Import library\n",
    "import pymongo\n",
    "from bson import ObjectId"
   ]
  },
  {
   "cell_type": "code",
   "execution_count": 2,
   "metadata": {},
   "outputs": [],
   "source": [
    "# Connect to MongoDB Server\n",
    "myclinet = pymongo.MongoClient(\"mongodb://localhost:27017/\")"
   ]
  },
  {
   "cell_type": "code",
   "execution_count": 3,
   "metadata": {},
   "outputs": [],
   "source": [
    "# Create database\n",
    "mydb = myclinet[\"test\"]"
   ]
  },
  {
   "cell_type": "code",
   "execution_count": 4,
   "metadata": {},
   "outputs": [],
   "source": [
    "# Create collection\n",
    "mycol = mydb[\"customers\"]"
   ]
  },
  {
   "cell_type": "code",
   "execution_count": 5,
   "metadata": {},
   "outputs": [
    {
     "name": "stdout",
     "output_type": "stream",
     "text": [
      "['admin', 'config', 'homework_lap9', 'local', 'test']\n"
     ]
    }
   ],
   "source": [
    "# List all the database on MongoDB Server\n",
    "print(myclinet.list_database_names())"
   ]
  },
  {
   "cell_type": "markdown",
   "metadata": {},
   "source": [
    "# Activity 2: Work with MongoDB"
   ]
  },
  {
   "cell_type": "code",
   "execution_count": 6,
   "metadata": {},
   "outputs": [
    {
     "name": "stdout",
     "output_type": "stream",
     "text": [
      "657023be4b6d8545cda581d8\n",
      "{'_id': ObjectId('65701c190e3e126cc639df9b'), 'name': 'Harito', 'address': 'Hanoi', 'age': 20}\n",
      "{'_id': ObjectId('65701c190e3e126cc639df9c'), 'name': 'Kirito', 'address': 'Tokyo', 'age': 22}\n",
      "{'_id': ObjectId('65701c190e3e126cc639df9d'), 'name': 'Hai', 'address': 'HD', 'age': 20}\n",
      "{'_id': ObjectId('65701c190e3e126cc639df9e'), 'name': 'Hieu', 'address': 'ND', 'age': 21}\n",
      "{'_id': ObjectId('657023be4b6d8545cda581d8'), 'name': 'Harito', 'address': 'Hanoi', 'age': 20}\n"
     ]
    }
   ],
   "source": [
    "# Add 1 document into database at the same time: insert_one\n",
    "mydict = {\"name\": \"Harito\", \"address\": \"Hanoi\", \"age\": 20}\n",
    "\n",
    "x = mycol.insert_one(mydict)\n",
    "\n",
    "print(x.inserted_id)\n",
    "\n",
    "for x in mycol.find():\n",
    "    print(x)"
   ]
  },
  {
   "cell_type": "code",
   "execution_count": 7,
   "metadata": {},
   "outputs": [
    {
     "name": "stdout",
     "output_type": "stream",
     "text": [
      "[ObjectId('657023be4b6d8545cda581d9'), ObjectId('657023be4b6d8545cda581da')]\n",
      "{'_id': ObjectId('65701c190e3e126cc639df9b'), 'name': 'Harito', 'address': 'Hanoi', 'age': 20}\n",
      "{'_id': ObjectId('65701c190e3e126cc639df9c'), 'name': 'Kirito', 'address': 'Tokyo', 'age': 22}\n",
      "{'_id': ObjectId('65701c190e3e126cc639df9d'), 'name': 'Hai', 'address': 'HD', 'age': 20}\n",
      "{'_id': ObjectId('65701c190e3e126cc639df9e'), 'name': 'Hieu', 'address': 'ND', 'age': 21}\n",
      "{'_id': ObjectId('657023be4b6d8545cda581d8'), 'name': 'Harito', 'address': 'Hanoi', 'age': 20}\n",
      "{'_id': ObjectId('657023be4b6d8545cda581d9'), 'name': 'Harito', 'address': 'Hanoi', 'age': 20}\n",
      "{'_id': ObjectId('657023be4b6d8545cda581da'), 'name': 'Kirito', 'address': 'Tokyo', 'age': 22}\n"
     ]
    }
   ],
   "source": [
    "# Add many document into database at same time: insert_many\n",
    "mydict = [{\"name\": \"Harito\", \"address\": \"Hanoi\", \"age\": 20},\n",
    "          {\"name\": \"Kirito\", \"address\": \"Tokyo\", \"age\": 22}]\n",
    "\n",
    "x = mycol.insert_many(mydict)\n",
    "\n",
    "print(x.inserted_ids)\n",
    "\n",
    "for x in mycol.find():\n",
    "    print(x)"
   ]
  },
  {
   "cell_type": "code",
   "execution_count": 8,
   "metadata": {},
   "outputs": [
    {
     "name": "stdout",
     "output_type": "stream",
     "text": [
      "{'_id': ObjectId('65701c190e3e126cc639df9b'), 'name': 'Hai', 'address': 'Hanoi', 'age': 20}\n",
      "{'_id': ObjectId('65701c190e3e126cc639df9c'), 'name': 'Kirito', 'address': 'Tokyo', 'age': 22}\n",
      "{'_id': ObjectId('65701c190e3e126cc639df9d'), 'name': 'Hai', 'address': 'HD', 'age': 20}\n",
      "{'_id': ObjectId('65701c190e3e126cc639df9e'), 'name': 'Hieu', 'address': 'ND', 'age': 21}\n",
      "{'_id': ObjectId('657023be4b6d8545cda581d8'), 'name': 'Harito', 'address': 'Hanoi', 'age': 20}\n",
      "{'_id': ObjectId('657023be4b6d8545cda581d9'), 'name': 'Harito', 'address': 'Hanoi', 'age': 20}\n",
      "{'_id': ObjectId('657023be4b6d8545cda581da'), 'name': 'Kirito', 'address': 'Tokyo', 'age': 22}\n"
     ]
    }
   ],
   "source": [
    "# Update 1 document: update_one\n",
    "myquery = {\"name\": \"Harito\"}\n",
    "newvalues = {\"$set\": {\"name\": \"Hai\"}}\n",
    "\n",
    "mycol.update_one(myquery, newvalues)\n",
    "\n",
    "# print \"customers\" after the update\n",
    "for x in mycol.find():\n",
    "    print(x)"
   ]
  },
  {
   "cell_type": "code",
   "execution_count": 9,
   "metadata": {},
   "outputs": [
    {
     "name": "stdout",
     "output_type": "stream",
     "text": [
      "7 documents updated.\n",
      "{'_id': ObjectId('65701c190e3e126cc639df9b'), 'name': 'value123', 'address': 'Hanoi', 'age': 20}\n",
      "{'_id': ObjectId('65701c190e3e126cc639df9c'), 'name': 'value123', 'address': 'Tokyo', 'age': 20}\n",
      "{'_id': ObjectId('65701c190e3e126cc639df9d'), 'name': 'value123', 'address': 'HD', 'age': 20}\n",
      "{'_id': ObjectId('65701c190e3e126cc639df9e'), 'name': 'value123', 'address': 'ND', 'age': 20}\n",
      "{'_id': ObjectId('657023be4b6d8545cda581d8'), 'name': 'value123', 'address': 'Hanoi', 'age': 20}\n",
      "{'_id': ObjectId('657023be4b6d8545cda581d9'), 'name': 'value123', 'address': 'Hanoi', 'age': 20}\n",
      "{'_id': ObjectId('657023be4b6d8545cda581da'), 'name': 'value123', 'address': 'Tokyo', 'age': 20}\n"
     ]
    }
   ],
   "source": [
    "# Update many document: update_many\n",
    "myquery = {}\n",
    "newvalues = {\"$set\": {\"name\": \"value123\", \"age\": 20}}\n",
    "\n",
    "x = mycol.update_many(myquery, newvalues)\n",
    "\n",
    "print(x.modified_count, \"documents updated.\")\n",
    "# print \"customers\" after the update\n",
    "for x in mycol.find():\n",
    "    print(x)"
   ]
  },
  {
   "cell_type": "code",
   "execution_count": 10,
   "metadata": {},
   "outputs": [
    {
     "name": "stdout",
     "output_type": "stream",
     "text": [
      "0 documents updated\n",
      "{'_id': ObjectId('65701c190e3e126cc639df9b'), 'name': 'value123', 'address': 'Hanoi', 'age': 20}\n",
      "{'_id': ObjectId('65701c190e3e126cc639df9c'), 'name': 'value123', 'address': 'Tokyo', 'age': 20}\n",
      "{'_id': ObjectId('65701c190e3e126cc639df9d'), 'name': 'value123', 'address': 'HD', 'age': 20}\n",
      "{'_id': ObjectId('65701c190e3e126cc639df9e'), 'name': 'value123', 'address': 'ND', 'age': 20}\n",
      "{'_id': ObjectId('657023be4b6d8545cda581d8'), 'name': 'value123', 'address': 'Hanoi', 'age': 20}\n",
      "{'_id': ObjectId('657023be4b6d8545cda581d9'), 'name': 'value123', 'address': 'Hanoi', 'age': 20}\n",
      "{'_id': ObjectId('657023be4b6d8545cda581da'), 'name': 'value123', 'address': 'Tokyo', 'age': 20}\n"
     ]
    }
   ],
   "source": [
    "# Update have condition: update_many\n",
    "myquery = {\"_id\": {\"$in\": [ObjectId('657016c70e3e126cc639df99'), ObjectId('6570160e0e3e126cc639df97')]}}\n",
    "\n",
    "newvalues = {\"$set\": {\"name\": \"New Name\", \"age\": 25}}\n",
    "\n",
    "x = mycol.update_many(myquery, newvalues)\n",
    "\n",
    "print(x.modified_count, \"documents updated\")\n",
    "for x in mycol.find():\n",
    "    print(x)"
   ]
  },
  {
   "cell_type": "code",
   "execution_count": 11,
   "metadata": {},
   "outputs": [
    {
     "name": "stdout",
     "output_type": "stream",
     "text": [
      "0 documnets delete\n",
      "{'_id': ObjectId('65701c190e3e126cc639df9b'), 'name': 'value123', 'address': 'Hanoi', 'age': 20}\n",
      "{'_id': ObjectId('65701c190e3e126cc639df9c'), 'name': 'value123', 'address': 'Tokyo', 'age': 20}\n",
      "{'_id': ObjectId('65701c190e3e126cc639df9d'), 'name': 'value123', 'address': 'HD', 'age': 20}\n",
      "{'_id': ObjectId('65701c190e3e126cc639df9e'), 'name': 'value123', 'address': 'ND', 'age': 20}\n",
      "{'_id': ObjectId('657023be4b6d8545cda581d8'), 'name': 'value123', 'address': 'Hanoi', 'age': 20}\n",
      "{'_id': ObjectId('657023be4b6d8545cda581d9'), 'name': 'value123', 'address': 'Hanoi', 'age': 20}\n",
      "{'_id': ObjectId('657023be4b6d8545cda581da'), 'name': 'value123', 'address': 'Tokyo', 'age': 20}\n"
     ]
    }
   ],
   "source": [
    "# Delete 1 document: delete_one\n",
    "# In case have many same document then delete the first documnet\n",
    "myquery = {'name': 'New Name'}\n",
    "\n",
    "x = mycol.delete_one(myquery)\n",
    "print(x.deleted_count, \"documnets delete\")\n",
    "for x in mycol.find():\n",
    "    print(x)"
   ]
  },
  {
   "cell_type": "code",
   "execution_count": 12,
   "metadata": {},
   "outputs": [
    {
     "name": "stdout",
     "output_type": "stream",
     "text": [
      "0 documents deleted\n",
      "{'_id': ObjectId('65701c190e3e126cc639df9b'), 'name': 'value123', 'address': 'Hanoi', 'age': 20}\n",
      "{'_id': ObjectId('65701c190e3e126cc639df9c'), 'name': 'value123', 'address': 'Tokyo', 'age': 20}\n",
      "{'_id': ObjectId('65701c190e3e126cc639df9d'), 'name': 'value123', 'address': 'HD', 'age': 20}\n",
      "{'_id': ObjectId('65701c190e3e126cc639df9e'), 'name': 'value123', 'address': 'ND', 'age': 20}\n",
      "{'_id': ObjectId('657023be4b6d8545cda581d8'), 'name': 'value123', 'address': 'Hanoi', 'age': 20}\n",
      "{'_id': ObjectId('657023be4b6d8545cda581d9'), 'name': 'value123', 'address': 'Hanoi', 'age': 20}\n",
      "{'_id': ObjectId('657023be4b6d8545cda581da'), 'name': 'value123', 'address': 'Tokyo', 'age': 20}\n"
     ]
    }
   ],
   "source": [
    "# Delete many document: delete_many\n",
    "myquery = {\"name\": {\"$regex\": \"^N\"}}\n",
    "\n",
    "x = mycol.delete_many(myquery)\n",
    "\n",
    "print(x.deleted_count, \"documents deleted\")\n",
    "for x in mycol.find():\n",
    "    print(x)"
   ]
  },
  {
   "cell_type": "code",
   "execution_count": 13,
   "metadata": {},
   "outputs": [
    {
     "name": "stdout",
     "output_type": "stream",
     "text": [
      "7 document deleted\n"
     ]
    }
   ],
   "source": [
    "# Delete all document: delete_many\n",
    "x = mycol.delete_many({})\n",
    "\n",
    "print(x.deleted_count, \"document deleted\")\n",
    "for x in mycol.find():\n",
    "    print(x)"
   ]
  },
  {
   "cell_type": "code",
   "execution_count": 14,
   "metadata": {},
   "outputs": [
    {
     "name": "stdout",
     "output_type": "stream",
     "text": [
      "{'_id': ObjectId('657023be4b6d8545cda581db'), 'name': 'Harito', 'address': 'Hanoi', 'age': 20}\n",
      "{'_id': ObjectId('657023be4b6d8545cda581dc'), 'name': 'Kirito', 'address': 'Tokyo', 'age': 22}\n",
      "{'_id': ObjectId('657023be4b6d8545cda581dd'), 'name': 'Hai', 'address': 'HD', 'age': 20}\n",
      "{'_id': ObjectId('657023be4b6d8545cda581de'), 'name': 'Hieu', 'address': 'ND', 'age': 21}\n"
     ]
    }
   ],
   "source": [
    "# Recreate documents\n",
    "mydict = [{\"name\": \"Harito\", \"address\": \"Hanoi\", \"age\": 20},\n",
    "          {\"name\": \"Kirito\", \"address\": \"Tokyo\", \"age\": 22},\n",
    "          {\"name\": \"Hai\", \"address\": \"HD\", \"age\": 20},\n",
    "          {\"name\": \"Hieu\", \"address\": \"ND\", \"age\": 21}]\n",
    "\n",
    "x = mycol.insert_many(mydict)\n",
    "for x in mycol.find():\n",
    "    print(x)"
   ]
  },
  {
   "cell_type": "code",
   "execution_count": 15,
   "metadata": {},
   "outputs": [
    {
     "name": "stdout",
     "output_type": "stream",
     "text": [
      "None\n",
      "{'_id': ObjectId('657023be4b6d8545cda581db'), 'name': 'Harito', 'address': 'Hanoi', 'age': 20}\n"
     ]
    }
   ],
   "source": [
    "# Find a document: find_one\n",
    "\n",
    "# Find the document with the specified_id\n",
    "target_id = ObjectId('65701c190e3e126cc639df9b')\n",
    "result1 = mycol.find_one({\"_id\": target_id})\n",
    "\n",
    "# Find the documnet with the name\n",
    "result2 = mycol.find_one({\"name\": \"Harito\"})\n",
    "\n",
    "# Display result\n",
    "print(result1)\n",
    "print(result2)"
   ]
  },
  {
   "cell_type": "code",
   "execution_count": 16,
   "metadata": {},
   "outputs": [
    {
     "name": "stdout",
     "output_type": "stream",
     "text": [
      "{'_id': ObjectId('657023be4b6d8545cda581db'), 'name': 'Harito', 'address': 'Hanoi', 'age': 20}\n",
      "{'_id': ObjectId('657023be4b6d8545cda581dc'), 'name': 'Kirito', 'address': 'Tokyo', 'age': 22}\n",
      "{'_id': ObjectId('657023be4b6d8545cda581dd'), 'name': 'Hai', 'address': 'HD', 'age': 20}\n",
      "{'_id': ObjectId('657023be4b6d8545cda581de'), 'name': 'Hieu', 'address': 'ND', 'age': 21}\n"
     ]
    }
   ],
   "source": [
    "# Find all document: find\n",
    "# Find all\n",
    "for x in mycol.find():\n",
    "    print(x)"
   ]
  },
  {
   "cell_type": "code",
   "execution_count": 17,
   "metadata": {},
   "outputs": [
    {
     "name": "stdout",
     "output_type": "stream",
     "text": [
      "{'name': 'Harito', 'age': 20}\n",
      "{'name': 'Kirito', 'age': 22}\n",
      "{'name': 'Hai', 'age': 20}\n",
      "{'name': 'Hieu', 'age': 21}\n"
     ]
    }
   ],
   "source": [
    "# Find documents with filter\n",
    "# Filter: wanna take some fields in the query\n",
    "for x in mycol.find({}, {\"_id\": 0, \"name\": 1, \"age\": 1}):\n",
    "    print(x)"
   ]
  },
  {
   "cell_type": "code",
   "execution_count": 18,
   "metadata": {},
   "outputs": [
    {
     "name": "stdout",
     "output_type": "stream",
     "text": [
      "{'_id': ObjectId('657023be4b6d8545cda581db'), 'name': 'Harito', 'address': 'Hanoi', 'age': 20}\n",
      "{'_id': ObjectId('657023be4b6d8545cda581dd'), 'name': 'Hai', 'address': 'HD', 'age': 20}\n",
      "{'_id': ObjectId('657023be4b6d8545cda581de'), 'name': 'Hieu', 'address': 'ND', 'age': 21}\n",
      "{'_id': ObjectId('657023be4b6d8545cda581dc'), 'name': 'Kirito', 'address': 'Tokyo', 'age': 22}\n"
     ]
    }
   ],
   "source": [
    "# Sort the document follow a fields\n",
    "mydoc = mycol.find().sort('age')\n",
    "\n",
    "for x in mydoc:\n",
    "    print(x)"
   ]
  },
  {
   "cell_type": "code",
   "execution_count": 19,
   "metadata": {},
   "outputs": [
    {
     "name": "stdout",
     "output_type": "stream",
     "text": [
      "{'_id': ObjectId('657023be4b6d8545cda581db'), 'name': 'Harito', 'address': 'Hanoi', 'age': 20}\n",
      "{'_id': ObjectId('657023be4b6d8545cda581dc'), 'name': 'Kirito', 'address': 'Tokyo', 'age': 22}\n",
      "{'_id': ObjectId('657023be4b6d8545cda581dd'), 'name': 'Hai', 'address': 'HD', 'age': 20}\n"
     ]
    }
   ],
   "source": [
    "# Get document with limit number of output\n",
    "myresult = mycol.find().limit(3)\n",
    "\n",
    "for x in myresult:\n",
    "    print(x)"
   ]
  }
 ],
 "metadata": {
  "kernelspec": {
   "display_name": "py",
   "language": "python",
   "name": "python3"
  },
  "language_info": {
   "codemirror_mode": {
    "name": "ipython",
    "version": 3
   },
   "file_extension": ".py",
   "mimetype": "text/x-python",
   "name": "python",
   "nbconvert_exporter": "python",
   "pygments_lexer": "ipython3",
   "version": "3.11.6"
  }
 },
 "nbformat": 4,
 "nbformat_minor": 2
}
